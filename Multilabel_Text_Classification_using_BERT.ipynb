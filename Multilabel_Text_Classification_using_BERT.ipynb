{
  "nbformat": 4,
  "nbformat_minor": 0,
  "metadata": {
    "colab": {
      "name": "Multilabel-Text-Classification-using-BERT.ipynb",
      "provenance": [],
      "collapsed_sections": [],
      "authorship_tag": "ABX9TyN6X8vAWw/pvYg57R4S2Ev4",
      "include_colab_link": true
    },
    "kernelspec": {
      "name": "python3",
      "display_name": "Python 3"
    },
    "language_info": {
      "name": "python"
    },
    "accelerator": "GPU"
  },
  "cells": [
    {
      "cell_type": "markdown",
      "metadata": {
        "id": "view-in-github",
        "colab_type": "text"
      },
      "source": [
        "<a href=\"https://colab.research.google.com/github/kartickgupta/multilabel-text-classification-BERT/blob/main/Multilabel_Text_Classification_using_BERT.ipynb\" target=\"_parent\"><img src=\"https://colab.research.google.com/assets/colab-badge.svg\" alt=\"Open In Colab\"/></a>"
      ]
    },
    {
      "cell_type": "code",
      "metadata": {
        "id": "9LaulEtSOhds"
      },
      "source": [
        "import tensorflow as tf\n",
        "import pandas as pd\n",
        "import numpy as np\n",
        "from google.colab import drive\n",
        "from tensorflow.keras.layers import LSTM, Embedding, Dense, Flatten\n",
        "from tensorflow.keras.utils import to_categorical\n",
        "import os\n",
        "import datetime\n",
        "import re\n",
        "import nltk\n",
        "from nltk.corpus import stopwords\n",
        "# nltk.download('stopwords')\n",
        "!pip install -q tf-models-official\n",
        "!pip install -q -U tensorflow-text\n",
        "from tensorflow_text.tools.wordpiece_vocab import bert_vocab_from_dataset as bert_vocab\n",
        "import tensorflow_hub as hub\n",
        "import tensorflow_text as tf_text\n",
        "from official.nlp import optimization  # to create AdamW optimizer\n"
      ],
      "execution_count": 138,
      "outputs": []
    },
    {
      "cell_type": "code",
      "metadata": {
        "colab": {
          "base_uri": "https://localhost:8080/"
        },
        "id": "a741gSVBO1qW",
        "outputId": "b12d79b1-22ca-4443-d8c8-75aa15568fef"
      },
      "source": [
        "from google.colab import drive\n",
        "drive.mount('/content/drive')"
      ],
      "execution_count": 139,
      "outputs": [
        {
          "output_type": "stream",
          "text": [
            "Drive already mounted at /content/drive; to attempt to forcibly remount, call drive.mount(\"/content/drive\", force_remount=True).\n"
          ],
          "name": "stdout"
        }
      ]
    },
    {
      "cell_type": "code",
      "metadata": {
        "id": "hU_X8924PV09"
      },
      "source": [
        "with open('/content/drive/My Drive/India.csv', 'r') as f:\n",
        "    india_df = pd.read_csv(f, delimiter=';')\n"
      ],
      "execution_count": 140,
      "outputs": []
    },
    {
      "cell_type": "code",
      "metadata": {
        "colab": {
          "base_uri": "https://localhost:8080/",
          "height": 649
        },
        "id": "qA2A-0eN8OuW",
        "outputId": "87a9ace3-7580-4df6-8e7a-067bd7f33fea"
      },
      "source": [
        "india_df.head()"
      ],
      "execution_count": 141,
      "outputs": [
        {
          "output_type": "execute_result",
          "data": {
            "text/html": [
              "<div>\n",
              "<style scoped>\n",
              "    .dataframe tbody tr th:only-of-type {\n",
              "        vertical-align: middle;\n",
              "    }\n",
              "\n",
              "    .dataframe tbody tr th {\n",
              "        vertical-align: top;\n",
              "    }\n",
              "\n",
              "    .dataframe thead th {\n",
              "        text-align: right;\n",
              "    }\n",
              "</style>\n",
              "<table border=\"1\" class=\"dataframe\">\n",
              "  <thead>\n",
              "    <tr style=\"text-align: right;\">\n",
              "      <th></th>\n",
              "      <th>data_id</th>\n",
              "      <th>iso</th>\n",
              "      <th>event_id_cnty</th>\n",
              "      <th>event_id_no_cnty</th>\n",
              "      <th>event_date</th>\n",
              "      <th>year</th>\n",
              "      <th>time_precision</th>\n",
              "      <th>event_type</th>\n",
              "      <th>sub_event_type</th>\n",
              "      <th>actor1</th>\n",
              "      <th>assoc_actor_1</th>\n",
              "      <th>inter1</th>\n",
              "      <th>interaction</th>\n",
              "      <th>region</th>\n",
              "      <th>country</th>\n",
              "      <th>admin1</th>\n",
              "      <th>admin2</th>\n",
              "      <th>admin3</th>\n",
              "      <th>location</th>\n",
              "      <th>latitude</th>\n",
              "      <th>longitude</th>\n",
              "      <th>geo_precision</th>\n",
              "      <th>source</th>\n",
              "      <th>source_scale</th>\n",
              "      <th>notes</th>\n",
              "      <th>fatalities</th>\n",
              "      <th>timestamp</th>\n",
              "      <th>iso3</th>\n",
              "    </tr>\n",
              "  </thead>\n",
              "  <tbody>\n",
              "    <tr>\n",
              "      <th>0</th>\n",
              "      <td>8384005</td>\n",
              "      <td>356</td>\n",
              "      <td>IND96785</td>\n",
              "      <td>96785</td>\n",
              "      <td>09 July 2021</td>\n",
              "      <td>2021</td>\n",
              "      <td>1</td>\n",
              "      <td>Protests</td>\n",
              "      <td>Peaceful protest</td>\n",
              "      <td>Protesters (India)</td>\n",
              "      <td>LPF: Labour Progressive Federation; Labour Gro...</td>\n",
              "      <td>6</td>\n",
              "      <td>60</td>\n",
              "      <td>South Asia</td>\n",
              "      <td>India</td>\n",
              "      <td>Tamil Nadu</td>\n",
              "      <td>Krishnagiri</td>\n",
              "      <td>Krishnagiri</td>\n",
              "      <td>Krishnagiri</td>\n",
              "      <td>12.5192</td>\n",
              "      <td>78.2138</td>\n",
              "      <td>1</td>\n",
              "      <td>The Hindu</td>\n",
              "      <td>National</td>\n",
              "      <td>On 9 July 2021, members of the LPF and DMK hel...</td>\n",
              "      <td>0</td>\n",
              "      <td>1626212811</td>\n",
              "      <td>IND</td>\n",
              "    </tr>\n",
              "    <tr>\n",
              "      <th>1</th>\n",
              "      <td>8383761</td>\n",
              "      <td>356</td>\n",
              "      <td>IND96773</td>\n",
              "      <td>96773</td>\n",
              "      <td>09 July 2021</td>\n",
              "      <td>2021</td>\n",
              "      <td>1</td>\n",
              "      <td>Protests</td>\n",
              "      <td>Peaceful protest</td>\n",
              "      <td>Protesters (India)</td>\n",
              "      <td>Fishermen (India)</td>\n",
              "      <td>6</td>\n",
              "      <td>60</td>\n",
              "      <td>South Asia</td>\n",
              "      <td>India</td>\n",
              "      <td>Karnataka</td>\n",
              "      <td>Dakshina Kannada</td>\n",
              "      <td>Mangaluru</td>\n",
              "      <td>Mangaluru</td>\n",
              "      <td>12.9172</td>\n",
              "      <td>74.8560</td>\n",
              "      <td>1</td>\n",
              "      <td>Deccan Herald</td>\n",
              "      <td>Subnational</td>\n",
              "      <td>On 9 July 2021, fishermen held a protest in Ma...</td>\n",
              "      <td>0</td>\n",
              "      <td>1626212811</td>\n",
              "      <td>IND</td>\n",
              "    </tr>\n",
              "    <tr>\n",
              "      <th>2</th>\n",
              "      <td>8384017</td>\n",
              "      <td>356</td>\n",
              "      <td>IND96784</td>\n",
              "      <td>96784</td>\n",
              "      <td>09 July 2021</td>\n",
              "      <td>2021</td>\n",
              "      <td>1</td>\n",
              "      <td>Protests</td>\n",
              "      <td>Peaceful protest</td>\n",
              "      <td>Protesters (India)</td>\n",
              "      <td>INC: Indian National Congress</td>\n",
              "      <td>6</td>\n",
              "      <td>60</td>\n",
              "      <td>South Asia</td>\n",
              "      <td>India</td>\n",
              "      <td>Tamil Nadu</td>\n",
              "      <td>Erode</td>\n",
              "      <td>Erode</td>\n",
              "      <td>Erode</td>\n",
              "      <td>11.3428</td>\n",
              "      <td>77.7274</td>\n",
              "      <td>1</td>\n",
              "      <td>The Hindu</td>\n",
              "      <td>National</td>\n",
              "      <td>On 9 July 2021, members of the INC held a prot...</td>\n",
              "      <td>0</td>\n",
              "      <td>1626212811</td>\n",
              "      <td>IND</td>\n",
              "    </tr>\n",
              "    <tr>\n",
              "      <th>3</th>\n",
              "      <td>8383769</td>\n",
              "      <td>356</td>\n",
              "      <td>IND96763</td>\n",
              "      <td>96763</td>\n",
              "      <td>09 July 2021</td>\n",
              "      <td>2021</td>\n",
              "      <td>1</td>\n",
              "      <td>Protests</td>\n",
              "      <td>Protest with intervention</td>\n",
              "      <td>Protesters (India)</td>\n",
              "      <td>Bajrang Dal</td>\n",
              "      <td>6</td>\n",
              "      <td>16</td>\n",
              "      <td>South Asia</td>\n",
              "      <td>India</td>\n",
              "      <td>Jammu and Kashmir</td>\n",
              "      <td>Jammu</td>\n",
              "      <td>Jammu</td>\n",
              "      <td>Jammu</td>\n",
              "      <td>32.7357</td>\n",
              "      <td>74.8691</td>\n",
              "      <td>1</td>\n",
              "      <td>Greater Kashmir</td>\n",
              "      <td>Subnational</td>\n",
              "      <td>On 9 July 2021, police intervened to stop Bajr...</td>\n",
              "      <td>0</td>\n",
              "      <td>1626212811</td>\n",
              "      <td>IND</td>\n",
              "    </tr>\n",
              "    <tr>\n",
              "      <th>4</th>\n",
              "      <td>8383769</td>\n",
              "      <td>356</td>\n",
              "      <td>IND96763</td>\n",
              "      <td>96763</td>\n",
              "      <td>09 July 2021</td>\n",
              "      <td>2021</td>\n",
              "      <td>1</td>\n",
              "      <td>Protests</td>\n",
              "      <td>Protest with intervention</td>\n",
              "      <td>Police Forces of India (2014-)</td>\n",
              "      <td>NaN</td>\n",
              "      <td>1</td>\n",
              "      <td>16</td>\n",
              "      <td>South Asia</td>\n",
              "      <td>India</td>\n",
              "      <td>Jammu and Kashmir</td>\n",
              "      <td>Jammu</td>\n",
              "      <td>Jammu</td>\n",
              "      <td>Jammu</td>\n",
              "      <td>32.7357</td>\n",
              "      <td>74.8691</td>\n",
              "      <td>1</td>\n",
              "      <td>Greater Kashmir</td>\n",
              "      <td>Subnational</td>\n",
              "      <td>On 9 July 2021, police intervened to stop Bajr...</td>\n",
              "      <td>0</td>\n",
              "      <td>1626212811</td>\n",
              "      <td>IND</td>\n",
              "    </tr>\n",
              "  </tbody>\n",
              "</table>\n",
              "</div>"
            ],
            "text/plain": [
              "   data_id  iso event_id_cnty  ...  fatalities   timestamp  iso3\n",
              "0  8384005  356      IND96785  ...           0  1626212811   IND\n",
              "1  8383761  356      IND96773  ...           0  1626212811   IND\n",
              "2  8384017  356      IND96784  ...           0  1626212811   IND\n",
              "3  8383769  356      IND96763  ...           0  1626212811   IND\n",
              "4  8383769  356      IND96763  ...           0  1626212811   IND\n",
              "\n",
              "[5 rows x 28 columns]"
            ]
          },
          "metadata": {
            "tags": []
          },
          "execution_count": 141
        }
      ]
    },
    {
      "cell_type": "markdown",
      "metadata": {
        "id": "sNN2iABAqIdd"
      },
      "source": [
        "## Text Preprcessing\n",
        "\n",
        "\n",
        "*   Removing noise from the end of every headline.\n",
        "*   Removing Dates and Months.\n",
        "*   Removing Comma (,) from the begining.\n",
        "*   Stripping extra unwanted the space.\n",
        "\n",
        "\n"
      ]
    },
    {
      "cell_type": "code",
      "metadata": {
        "colab": {
          "base_uri": "https://localhost:8080/"
        },
        "id": "NYPZ0vhTp-3l",
        "outputId": "2f241b32-10f5-45d7-8362-01930d2663a8"
      },
      "source": [
        "# Remove Excess [Size:: ] from EoS\n",
        "def remove_size(text):\n",
        "\tresult = re.search(\"\\[size\", text)\n",
        "\tif result is not None:\n",
        "\t\ttext = text[:result.start()]\n",
        "\treturn text.strip()\n",
        "\n",
        "months = ['january', 'jan', 'feb', 'mar', 'apr', 'aug', 'sept', 'oct', 'nov', 'dec', 'feburary', 'february', 'march', 'april', 'may', 'june', 'july', 'august', 'september', 'october', 'november', 'december', 'on']\n",
        "def remove_months(text):\n",
        "    text = text.split()\n",
        "    text = [word for word in text if word.lower() not in set(months)]\n",
        "    text = ' '.join(text)\n",
        "    return text\n",
        "\n",
        "def remove_nums(text):\n",
        "    result = re.sub(r'[0-9+]', '', text)\n",
        "    return result\n",
        "\n",
        "def remove_comma(text):\n",
        "    result = re.sub(r',', '', text)\n",
        "    return result\n",
        "\n",
        "india_df['notes'] = india_df['notes'].apply(remove_comma)\n",
        "india_df['notes'].head()"
      ],
      "execution_count": 142,
      "outputs": [
        {
          "output_type": "execute_result",
          "data": {
            "text/plain": [
              "0    On 9 July 2021 members of the LPF and DMK held...\n",
              "1    On 9 July 2021 fishermen held a protest in Man...\n",
              "2    On 9 July 2021 members of the INC held a prote...\n",
              "3    On 9 July 2021 police intervened to stop Bajra...\n",
              "4    On 9 July 2021 police intervened to stop Bajra...\n",
              "Name: notes, dtype: object"
            ]
          },
          "metadata": {
            "tags": []
          },
          "execution_count": 142
        }
      ]
    },
    {
      "cell_type": "code",
      "metadata": {
        "id": "i_-nY0ktM08D"
      },
      "source": [
        "def text_cleaning(text):\n",
        "    text = remove_size(text)\n",
        "    text = remove_nums(text)\n",
        "    text = remove_months(text)\n",
        "    text = remove_comma(text)\n",
        "    return text.strip()\n",
        "\n",
        "india_df['notes'] = india_df['notes'].apply(text_cleaning)"
      ],
      "execution_count": 143,
      "outputs": []
    },
    {
      "cell_type": "markdown",
      "metadata": {
        "id": "2yun6bvcdg7c"
      },
      "source": [
        "### Date conversion from text to datetime (DD-MM-YYYY) format."
      ]
    },
    {
      "cell_type": "code",
      "metadata": {
        "id": "LJATAXOlp-8G"
      },
      "source": [
        "# Convert Date from to datetime format\n",
        "from datetime import datetime\n",
        "\n",
        "def text_to_date(d):\n",
        "    d = d[: -5] + ', ' + d[-4:]\n",
        "    return datetime.strptime(d, \"%d %B, %Y\").strftime('%d-%m-%Y')\n",
        "\n",
        "india_df['event_date'] = india_df['event_date'].apply(text_to_date)"
      ],
      "execution_count": 144,
      "outputs": []
    },
    {
      "cell_type": "code",
      "metadata": {
        "colab": {
          "base_uri": "https://localhost:8080/"
        },
        "id": "AFUHWX1dp_Bg",
        "outputId": "e7c96ea7-631b-4fc3-b275-b5049cdaa7ab"
      },
      "source": [
        "india_df['notes'].head()"
      ],
      "execution_count": 145,
      "outputs": [
        {
          "output_type": "execute_result",
          "data": {
            "text/plain": [
              "0    members of the LPF and DMK held a protest in K...\n",
              "1    fishermen held a protest in Mangaluru city (Ma...\n",
              "2    members of the INC held a protest in Erode cit...\n",
              "3    police intervened to stop Bajrang Dal members ...\n",
              "4    police intervened to stop Bajrang Dal members ...\n",
              "Name: notes, dtype: object"
            ]
          },
          "metadata": {
            "tags": []
          },
          "execution_count": 145
        }
      ]
    },
    {
      "cell_type": "code",
      "metadata": {
        "id": "7kRBciCrSAVo"
      },
      "source": [
        "india_df = india_df.drop_duplicates()"
      ],
      "execution_count": 146,
      "outputs": []
    },
    {
      "cell_type": "code",
      "metadata": {
        "colab": {
          "base_uri": "https://localhost:8080/"
        },
        "id": "GnVzfcABSJL7",
        "outputId": "1e5d183d-2b1f-4a87-ca7e-b1905853fb22"
      },
      "source": [
        "india_df.shape"
      ],
      "execution_count": 147,
      "outputs": [
        {
          "output_type": "execute_result",
          "data": {
            "text/plain": [
              "(77815, 28)"
            ]
          },
          "metadata": {
            "tags": []
          },
          "execution_count": 147
        }
      ]
    },
    {
      "cell_type": "code",
      "metadata": {
        "colab": {
          "base_uri": "https://localhost:8080/"
        },
        "id": "sIC-7XeeJ0gX",
        "outputId": "adf8624b-1669-4ac5-a019-7ac850fce85e"
      },
      "source": [
        "india_df.sub_event_type.unique()"
      ],
      "execution_count": 148,
      "outputs": [
        {
          "output_type": "execute_result",
          "data": {
            "text/plain": [
              "array(['Peaceful protest', 'Protest with intervention', 'Armed clash',\n",
              "       'Mob violence', 'Attack', 'Looting/property destruction',\n",
              "       'Violent demonstration', 'Grenade', 'Disrupted weapons use',\n",
              "       'Change to group/activity', 'Air/drone strike', 'Agreement',\n",
              "       'Arrests', 'Sexual violence', 'Remote explosive/landmine/IED',\n",
              "       'Excessive force against protesters', 'Other',\n",
              "       'Abduction/forced disappearance',\n",
              "       'Shelling/artillery/missile attack', 'Suicide bomb',\n",
              "       'Headquarters or base established',\n",
              "       'Non-violent transfer of territory'], dtype=object)"
            ]
          },
          "metadata": {
            "tags": []
          },
          "execution_count": 148
        }
      ]
    },
    {
      "cell_type": "code",
      "metadata": {
        "id": "xTDtTGs3KFmE"
      },
      "source": [
        "'''ABDUCT_DISSAP\n",
        "AGREEMENT\n",
        "AIR_STRIKE\n",
        "ARMED_CLASH\n",
        "ARREST\n",
        "ART_MISS_ATTACK\n",
        "ATTACK\n",
        "CHANGE_TO_GROUP_ACT\n",
        "CHEM_WEAP\n",
        "DISR_WEAP\n",
        "FORCE_AGAINST_PROTEST\n",
        "GOV_REGAINS_TERIT\n",
        "GRENADE\n",
        "HQ_ESTABLISHED\n",
        "MOB_VIOL\n",
        "NON_STATE_ACTOR_OVERTAKES_TER\n",
        "NON_VIOL_TERRIT_TRANSFER\n",
        "OTHER\n",
        "PEACE_PROTEST\n",
        "PROPERTY_DISTRUCT\n",
        "PROTEST_WITH_INTER\n",
        "REM_EXPLOS\n",
        "SEX_VIOL\n",
        "SUIC_BOMB\n",
        "VIOL_DEMONSTR''';"
      ],
      "execution_count": 149,
      "outputs": []
    },
    {
      "cell_type": "markdown",
      "metadata": {
        "id": "jUNwkkpa912T"
      },
      "source": [
        "## Target Label Prepration"
      ]
    },
    {
      "cell_type": "code",
      "metadata": {
        "colab": {
          "base_uri": "https://localhost:8080/"
        },
        "id": "5Mu6hGFlp_JQ",
        "outputId": "e4262bf6-6212-414c-a7c9-3939cdad3bdd"
      },
      "source": [
        "event_types_dict = {}\n",
        "for num, name in enumerate(list(india_df['sub_event_type'].unique())):\n",
        "    event_types_dict[name] = num\n",
        "    # print(name, \" : \", num)\n",
        "\n",
        "event_types_dict"
      ],
      "execution_count": 150,
      "outputs": [
        {
          "output_type": "execute_result",
          "data": {
            "text/plain": [
              "{'Abduction/forced disappearance': 17,\n",
              " 'Agreement': 11,\n",
              " 'Air/drone strike': 10,\n",
              " 'Armed clash': 2,\n",
              " 'Arrests': 12,\n",
              " 'Attack': 4,\n",
              " 'Change to group/activity': 9,\n",
              " 'Disrupted weapons use': 8,\n",
              " 'Excessive force against protesters': 15,\n",
              " 'Grenade': 7,\n",
              " 'Headquarters or base established': 20,\n",
              " 'Looting/property destruction': 5,\n",
              " 'Mob violence': 3,\n",
              " 'Non-violent transfer of territory': 21,\n",
              " 'Other': 16,\n",
              " 'Peaceful protest': 0,\n",
              " 'Protest with intervention': 1,\n",
              " 'Remote explosive/landmine/IED': 14,\n",
              " 'Sexual violence': 13,\n",
              " 'Shelling/artillery/missile attack': 18,\n",
              " 'Suicide bomb': 19,\n",
              " 'Violent demonstration': 6}"
            ]
          },
          "metadata": {
            "tags": []
          },
          "execution_count": 150
        }
      ]
    },
    {
      "cell_type": "markdown",
      "metadata": {
        "id": "hvNweWz8ccd9"
      },
      "source": [
        "### Text to Numerical Labeling "
      ]
    },
    {
      "cell_type": "code",
      "metadata": {
        "id": "WKaL1cqk7EB3",
        "colab": {
          "base_uri": "https://localhost:8080/"
        },
        "outputId": "e8eb36e5-da6e-49b2-84e4-e8e5b661ab72"
      },
      "source": [
        "def text_to_numerical_category(name):\n",
        "    num = event_types_dict[name]\n",
        "    return num\n",
        "\n",
        "print(text_to_numerical_category('Peaceful protest'))\n",
        "india_df['sub_event_type'] = india_df['sub_event_type'].apply(text_to_numerical_category)"
      ],
      "execution_count": 151,
      "outputs": [
        {
          "output_type": "stream",
          "text": [
            "0\n"
          ],
          "name": "stdout"
        }
      ]
    },
    {
      "cell_type": "code",
      "metadata": {
        "colab": {
          "base_uri": "https://localhost:8080/",
          "height": 649
        },
        "id": "XHRHdijN5lvj",
        "outputId": "f355b3ac-ac6d-473c-9a7f-a7ffe6523775"
      },
      "source": [
        "india_df.head()"
      ],
      "execution_count": 152,
      "outputs": [
        {
          "output_type": "execute_result",
          "data": {
            "text/html": [
              "<div>\n",
              "<style scoped>\n",
              "    .dataframe tbody tr th:only-of-type {\n",
              "        vertical-align: middle;\n",
              "    }\n",
              "\n",
              "    .dataframe tbody tr th {\n",
              "        vertical-align: top;\n",
              "    }\n",
              "\n",
              "    .dataframe thead th {\n",
              "        text-align: right;\n",
              "    }\n",
              "</style>\n",
              "<table border=\"1\" class=\"dataframe\">\n",
              "  <thead>\n",
              "    <tr style=\"text-align: right;\">\n",
              "      <th></th>\n",
              "      <th>data_id</th>\n",
              "      <th>iso</th>\n",
              "      <th>event_id_cnty</th>\n",
              "      <th>event_id_no_cnty</th>\n",
              "      <th>event_date</th>\n",
              "      <th>year</th>\n",
              "      <th>time_precision</th>\n",
              "      <th>event_type</th>\n",
              "      <th>sub_event_type</th>\n",
              "      <th>actor1</th>\n",
              "      <th>assoc_actor_1</th>\n",
              "      <th>inter1</th>\n",
              "      <th>interaction</th>\n",
              "      <th>region</th>\n",
              "      <th>country</th>\n",
              "      <th>admin1</th>\n",
              "      <th>admin2</th>\n",
              "      <th>admin3</th>\n",
              "      <th>location</th>\n",
              "      <th>latitude</th>\n",
              "      <th>longitude</th>\n",
              "      <th>geo_precision</th>\n",
              "      <th>source</th>\n",
              "      <th>source_scale</th>\n",
              "      <th>notes</th>\n",
              "      <th>fatalities</th>\n",
              "      <th>timestamp</th>\n",
              "      <th>iso3</th>\n",
              "    </tr>\n",
              "  </thead>\n",
              "  <tbody>\n",
              "    <tr>\n",
              "      <th>0</th>\n",
              "      <td>8384005</td>\n",
              "      <td>356</td>\n",
              "      <td>IND96785</td>\n",
              "      <td>96785</td>\n",
              "      <td>09-07-2021</td>\n",
              "      <td>2021</td>\n",
              "      <td>1</td>\n",
              "      <td>Protests</td>\n",
              "      <td>0</td>\n",
              "      <td>Protesters (India)</td>\n",
              "      <td>LPF: Labour Progressive Federation; Labour Gro...</td>\n",
              "      <td>6</td>\n",
              "      <td>60</td>\n",
              "      <td>South Asia</td>\n",
              "      <td>India</td>\n",
              "      <td>Tamil Nadu</td>\n",
              "      <td>Krishnagiri</td>\n",
              "      <td>Krishnagiri</td>\n",
              "      <td>Krishnagiri</td>\n",
              "      <td>12.5192</td>\n",
              "      <td>78.2138</td>\n",
              "      <td>1</td>\n",
              "      <td>The Hindu</td>\n",
              "      <td>National</td>\n",
              "      <td>members of the LPF and DMK held a protest in K...</td>\n",
              "      <td>0</td>\n",
              "      <td>1626212811</td>\n",
              "      <td>IND</td>\n",
              "    </tr>\n",
              "    <tr>\n",
              "      <th>1</th>\n",
              "      <td>8383761</td>\n",
              "      <td>356</td>\n",
              "      <td>IND96773</td>\n",
              "      <td>96773</td>\n",
              "      <td>09-07-2021</td>\n",
              "      <td>2021</td>\n",
              "      <td>1</td>\n",
              "      <td>Protests</td>\n",
              "      <td>0</td>\n",
              "      <td>Protesters (India)</td>\n",
              "      <td>Fishermen (India)</td>\n",
              "      <td>6</td>\n",
              "      <td>60</td>\n",
              "      <td>South Asia</td>\n",
              "      <td>India</td>\n",
              "      <td>Karnataka</td>\n",
              "      <td>Dakshina Kannada</td>\n",
              "      <td>Mangaluru</td>\n",
              "      <td>Mangaluru</td>\n",
              "      <td>12.9172</td>\n",
              "      <td>74.8560</td>\n",
              "      <td>1</td>\n",
              "      <td>Deccan Herald</td>\n",
              "      <td>Subnational</td>\n",
              "      <td>fishermen held a protest in Mangaluru city (Ma...</td>\n",
              "      <td>0</td>\n",
              "      <td>1626212811</td>\n",
              "      <td>IND</td>\n",
              "    </tr>\n",
              "    <tr>\n",
              "      <th>2</th>\n",
              "      <td>8384017</td>\n",
              "      <td>356</td>\n",
              "      <td>IND96784</td>\n",
              "      <td>96784</td>\n",
              "      <td>09-07-2021</td>\n",
              "      <td>2021</td>\n",
              "      <td>1</td>\n",
              "      <td>Protests</td>\n",
              "      <td>0</td>\n",
              "      <td>Protesters (India)</td>\n",
              "      <td>INC: Indian National Congress</td>\n",
              "      <td>6</td>\n",
              "      <td>60</td>\n",
              "      <td>South Asia</td>\n",
              "      <td>India</td>\n",
              "      <td>Tamil Nadu</td>\n",
              "      <td>Erode</td>\n",
              "      <td>Erode</td>\n",
              "      <td>Erode</td>\n",
              "      <td>11.3428</td>\n",
              "      <td>77.7274</td>\n",
              "      <td>1</td>\n",
              "      <td>The Hindu</td>\n",
              "      <td>National</td>\n",
              "      <td>members of the INC held a protest in Erode cit...</td>\n",
              "      <td>0</td>\n",
              "      <td>1626212811</td>\n",
              "      <td>IND</td>\n",
              "    </tr>\n",
              "    <tr>\n",
              "      <th>3</th>\n",
              "      <td>8383769</td>\n",
              "      <td>356</td>\n",
              "      <td>IND96763</td>\n",
              "      <td>96763</td>\n",
              "      <td>09-07-2021</td>\n",
              "      <td>2021</td>\n",
              "      <td>1</td>\n",
              "      <td>Protests</td>\n",
              "      <td>1</td>\n",
              "      <td>Protesters (India)</td>\n",
              "      <td>Bajrang Dal</td>\n",
              "      <td>6</td>\n",
              "      <td>16</td>\n",
              "      <td>South Asia</td>\n",
              "      <td>India</td>\n",
              "      <td>Jammu and Kashmir</td>\n",
              "      <td>Jammu</td>\n",
              "      <td>Jammu</td>\n",
              "      <td>Jammu</td>\n",
              "      <td>32.7357</td>\n",
              "      <td>74.8691</td>\n",
              "      <td>1</td>\n",
              "      <td>Greater Kashmir</td>\n",
              "      <td>Subnational</td>\n",
              "      <td>police intervened to stop Bajrang Dal members ...</td>\n",
              "      <td>0</td>\n",
              "      <td>1626212811</td>\n",
              "      <td>IND</td>\n",
              "    </tr>\n",
              "    <tr>\n",
              "      <th>4</th>\n",
              "      <td>8383769</td>\n",
              "      <td>356</td>\n",
              "      <td>IND96763</td>\n",
              "      <td>96763</td>\n",
              "      <td>09-07-2021</td>\n",
              "      <td>2021</td>\n",
              "      <td>1</td>\n",
              "      <td>Protests</td>\n",
              "      <td>1</td>\n",
              "      <td>Police Forces of India (2014-)</td>\n",
              "      <td>NaN</td>\n",
              "      <td>1</td>\n",
              "      <td>16</td>\n",
              "      <td>South Asia</td>\n",
              "      <td>India</td>\n",
              "      <td>Jammu and Kashmir</td>\n",
              "      <td>Jammu</td>\n",
              "      <td>Jammu</td>\n",
              "      <td>Jammu</td>\n",
              "      <td>32.7357</td>\n",
              "      <td>74.8691</td>\n",
              "      <td>1</td>\n",
              "      <td>Greater Kashmir</td>\n",
              "      <td>Subnational</td>\n",
              "      <td>police intervened to stop Bajrang Dal members ...</td>\n",
              "      <td>0</td>\n",
              "      <td>1626212811</td>\n",
              "      <td>IND</td>\n",
              "    </tr>\n",
              "  </tbody>\n",
              "</table>\n",
              "</div>"
            ],
            "text/plain": [
              "   data_id  iso event_id_cnty  ...  fatalities   timestamp  iso3\n",
              "0  8384005  356      IND96785  ...           0  1626212811   IND\n",
              "1  8383761  356      IND96773  ...           0  1626212811   IND\n",
              "2  8384017  356      IND96784  ...           0  1626212811   IND\n",
              "3  8383769  356      IND96763  ...           0  1626212811   IND\n",
              "4  8383769  356      IND96763  ...           0  1626212811   IND\n",
              "\n",
              "[5 rows x 28 columns]"
            ]
          },
          "metadata": {
            "tags": []
          },
          "execution_count": 152
        }
      ]
    },
    {
      "cell_type": "code",
      "metadata": {
        "colab": {
          "base_uri": "https://localhost:8080/"
        },
        "id": "KEK-FOxpaanw",
        "outputId": "83fc2cd9-5e69-46a6-9412-3d33e310822a"
      },
      "source": [
        "india_df.notes.shape"
      ],
      "execution_count": 154,
      "outputs": [
        {
          "output_type": "execute_result",
          "data": {
            "text/plain": [
              "(77815,)"
            ]
          },
          "metadata": {
            "tags": []
          },
          "execution_count": 154
        }
      ]
    },
    {
      "cell_type": "markdown",
      "metadata": {
        "id": "Sa9R5LEZcpYK"
      },
      "source": [
        "### One Hot Encoding the Target Labels"
      ]
    },
    {
      "cell_type": "code",
      "metadata": {
        "colab": {
          "base_uri": "https://localhost:8080/"
        },
        "id": "rtotM10_f_jy",
        "outputId": "306a2eb2-87f7-450a-d0e5-46f6cdfa1ca8"
      },
      "source": [
        "encoded_events = to_categorical(india_df.sub_event_type, num_classes = len(event_types_dict))\n",
        "encoded_events.shape"
      ],
      "execution_count": 155,
      "outputs": [
        {
          "output_type": "execute_result",
          "data": {
            "text/plain": [
              "(77815, 22)"
            ]
          },
          "metadata": {
            "tags": []
          },
          "execution_count": 155
        }
      ]
    },
    {
      "cell_type": "markdown",
      "metadata": {
        "id": "5E-EsbctURFK"
      },
      "source": [
        "## Shuffle Dataset"
      ]
    },
    {
      "cell_type": "code",
      "metadata": {
        "colab": {
          "base_uri": "https://localhost:8080/",
          "height": 683
        },
        "id": "s2wIuYElTzUt",
        "outputId": "1aa16126-15ba-49d1-d71d-d009b2302641"
      },
      "source": [
        "from sklearn.utils import shuffle\n",
        "india_df = shuffle(india_df)\n",
        "india_df.head()"
      ],
      "execution_count": 153,
      "outputs": [
        {
          "output_type": "execute_result",
          "data": {
            "text/html": [
              "<div>\n",
              "<style scoped>\n",
              "    .dataframe tbody tr th:only-of-type {\n",
              "        vertical-align: middle;\n",
              "    }\n",
              "\n",
              "    .dataframe tbody tr th {\n",
              "        vertical-align: top;\n",
              "    }\n",
              "\n",
              "    .dataframe thead th {\n",
              "        text-align: right;\n",
              "    }\n",
              "</style>\n",
              "<table border=\"1\" class=\"dataframe\">\n",
              "  <thead>\n",
              "    <tr style=\"text-align: right;\">\n",
              "      <th></th>\n",
              "      <th>data_id</th>\n",
              "      <th>iso</th>\n",
              "      <th>event_id_cnty</th>\n",
              "      <th>event_id_no_cnty</th>\n",
              "      <th>event_date</th>\n",
              "      <th>year</th>\n",
              "      <th>time_precision</th>\n",
              "      <th>event_type</th>\n",
              "      <th>sub_event_type</th>\n",
              "      <th>actor1</th>\n",
              "      <th>assoc_actor_1</th>\n",
              "      <th>inter1</th>\n",
              "      <th>interaction</th>\n",
              "      <th>region</th>\n",
              "      <th>country</th>\n",
              "      <th>admin1</th>\n",
              "      <th>admin2</th>\n",
              "      <th>admin3</th>\n",
              "      <th>location</th>\n",
              "      <th>latitude</th>\n",
              "      <th>longitude</th>\n",
              "      <th>geo_precision</th>\n",
              "      <th>source</th>\n",
              "      <th>source_scale</th>\n",
              "      <th>notes</th>\n",
              "      <th>fatalities</th>\n",
              "      <th>timestamp</th>\n",
              "      <th>iso3</th>\n",
              "    </tr>\n",
              "  </thead>\n",
              "  <tbody>\n",
              "    <tr>\n",
              "      <th>64057</th>\n",
              "      <td>5595965</td>\n",
              "      <td>356</td>\n",
              "      <td>IND43711</td>\n",
              "      <td>43711</td>\n",
              "      <td>13-01-2019</td>\n",
              "      <td>2019</td>\n",
              "      <td>1</td>\n",
              "      <td>Protests</td>\n",
              "      <td>0</td>\n",
              "      <td>Protesters (India)</td>\n",
              "      <td>NaN</td>\n",
              "      <td>6</td>\n",
              "      <td>60</td>\n",
              "      <td>South Asia</td>\n",
              "      <td>India</td>\n",
              "      <td>Uttar Pradesh</td>\n",
              "      <td>Lucknow</td>\n",
              "      <td>Lucknow</td>\n",
              "      <td>Lucknow</td>\n",
              "      <td>26.8392</td>\n",
              "      <td>80.9231</td>\n",
              "      <td>1</td>\n",
              "      <td>Times of India</td>\n",
              "      <td>National</td>\n",
              "      <td>family members of a cloth merchant who was fou...</td>\n",
              "      <td>0</td>\n",
              "      <td>1563366757</td>\n",
              "      <td>IND</td>\n",
              "    </tr>\n",
              "    <tr>\n",
              "      <th>48599</th>\n",
              "      <td>5549765</td>\n",
              "      <td>356</td>\n",
              "      <td>IND57090</td>\n",
              "      <td>57090</td>\n",
              "      <td>02-07-2019</td>\n",
              "      <td>2019</td>\n",
              "      <td>1</td>\n",
              "      <td>Protests</td>\n",
              "      <td>0</td>\n",
              "      <td>Protesters (India)</td>\n",
              "      <td>Farmers (India); INC: Indian National Congress</td>\n",
              "      <td>6</td>\n",
              "      <td>60</td>\n",
              "      <td>South Asia</td>\n",
              "      <td>India</td>\n",
              "      <td>Gujarat</td>\n",
              "      <td>Gandhinagar</td>\n",
              "      <td>Gandhinagar</td>\n",
              "      <td>Gandhinagar</td>\n",
              "      <td>23.2166</td>\n",
              "      <td>72.6833</td>\n",
              "      <td>2</td>\n",
              "      <td>Indian Express</td>\n",
              "      <td>National</td>\n",
              "      <td>INC and farmers with about vehicles reached Ga...</td>\n",
              "      <td>0</td>\n",
              "      <td>1562671722</td>\n",
              "      <td>IND</td>\n",
              "    </tr>\n",
              "    <tr>\n",
              "      <th>78171</th>\n",
              "      <td>7048503</td>\n",
              "      <td>356</td>\n",
              "      <td>IND33193</td>\n",
              "      <td>33193</td>\n",
              "      <td>15-07-2018</td>\n",
              "      <td>2018</td>\n",
              "      <td>1</td>\n",
              "      <td>Battles</td>\n",
              "      <td>2</td>\n",
              "      <td>CPI (Maoist): Communist Party of India (Maoist)</td>\n",
              "      <td>NaN</td>\n",
              "      <td>2</td>\n",
              "      <td>12</td>\n",
              "      <td>South Asia</td>\n",
              "      <td>India</td>\n",
              "      <td>Chhattisgarh</td>\n",
              "      <td>Kanker</td>\n",
              "      <td>Pakhanjur</td>\n",
              "      <td>Partapur</td>\n",
              "      <td>19.9470</td>\n",
              "      <td>80.7325</td>\n",
              "      <td>2</td>\n",
              "      <td>Pioneer (India)</td>\n",
              "      <td>National</td>\n",
              "      <td>near Partapaur village of Koilebeda tehsil (Ka...</td>\n",
              "      <td>2</td>\n",
              "      <td>1618534289</td>\n",
              "      <td>IND</td>\n",
              "    </tr>\n",
              "    <tr>\n",
              "      <th>4865</th>\n",
              "      <td>7802932</td>\n",
              "      <td>356</td>\n",
              "      <td>IND92135</td>\n",
              "      <td>92135</td>\n",
              "      <td>02-04-2021</td>\n",
              "      <td>2021</td>\n",
              "      <td>1</td>\n",
              "      <td>Protests</td>\n",
              "      <td>0</td>\n",
              "      <td>Protesters (India)</td>\n",
              "      <td>MP: Women Torch Bearers; Women (India)</td>\n",
              "      <td>6</td>\n",
              "      <td>60</td>\n",
              "      <td>South Asia</td>\n",
              "      <td>India</td>\n",
              "      <td>Manipur</td>\n",
              "      <td>Imphal West</td>\n",
              "      <td>Lamphelpat</td>\n",
              "      <td>Imphal</td>\n",
              "      <td>24.7908</td>\n",
              "      <td>93.9302</td>\n",
              "      <td>1</td>\n",
              "      <td>Imphal Free Press</td>\n",
              "      <td>Subnational</td>\n",
              "      <td>Meira Paibis women's groups and local clubs st...</td>\n",
              "      <td>0</td>\n",
              "      <td>1618480261</td>\n",
              "      <td>IND</td>\n",
              "    </tr>\n",
              "    <tr>\n",
              "      <th>24015</th>\n",
              "      <td>7137893</td>\n",
              "      <td>356</td>\n",
              "      <td>IND76239</td>\n",
              "      <td>76239</td>\n",
              "      <td>24-06-2020</td>\n",
              "      <td>2020</td>\n",
              "      <td>2</td>\n",
              "      <td>Riots</td>\n",
              "      <td>3</td>\n",
              "      <td>Rioters (India)</td>\n",
              "      <td>Bharatpur Communal Militia (India)</td>\n",
              "      <td>5</td>\n",
              "      <td>55</td>\n",
              "      <td>South Asia</td>\n",
              "      <td>India</td>\n",
              "      <td>Punjab</td>\n",
              "      <td>SAS Nagar</td>\n",
              "      <td>Kharar</td>\n",
              "      <td>Bharatpur</td>\n",
              "      <td>30.6597</td>\n",
              "      <td>76.6564</td>\n",
              "      <td>1</td>\n",
              "      <td>Chandigarh Tribune</td>\n",
              "      <td>Subnational</td>\n",
              "      <td>Around groups clashed in Bharatpur village SAS...</td>\n",
              "      <td>0</td>\n",
              "      <td>1618500716</td>\n",
              "      <td>IND</td>\n",
              "    </tr>\n",
              "  </tbody>\n",
              "</table>\n",
              "</div>"
            ],
            "text/plain": [
              "       data_id  iso event_id_cnty  ...  fatalities   timestamp  iso3\n",
              "64057  5595965  356      IND43711  ...           0  1563366757   IND\n",
              "48599  5549765  356      IND57090  ...           0  1562671722   IND\n",
              "78171  7048503  356      IND33193  ...           2  1618534289   IND\n",
              "4865   7802932  356      IND92135  ...           0  1618480261   IND\n",
              "24015  7137893  356      IND76239  ...           0  1618500716   IND\n",
              "\n",
              "[5 rows x 28 columns]"
            ]
          },
          "metadata": {
            "tags": []
          },
          "execution_count": 153
        }
      ]
    },
    {
      "cell_type": "markdown",
      "metadata": {
        "id": "ZC2u1fP9wlJm"
      },
      "source": [
        "## Input Pipeline"
      ]
    },
    {
      "cell_type": "code",
      "metadata": {
        "id": "ZIpTl-FIsajX"
      },
      "source": [
        "tf_dataset = tf.data.Dataset.from_tensor_slices((india_df.notes, encoded_events)).batch(32)"
      ],
      "execution_count": 156,
      "outputs": []
    },
    {
      "cell_type": "code",
      "metadata": {
        "colab": {
          "base_uri": "https://localhost:8080/"
        },
        "id": "3wzcNX7ZZtt1",
        "outputId": "94e6f5db-a091-46c3-aaa9-02d56c651cd1"
      },
      "source": [
        "tf_dataset"
      ],
      "execution_count": 157,
      "outputs": [
        {
          "output_type": "execute_result",
          "data": {
            "text/plain": [
              "<BatchDataset shapes: ((None,), (None, 22)), types: (tf.string, tf.float32)>"
            ]
          },
          "metadata": {
            "tags": []
          },
          "execution_count": 157
        }
      ]
    },
    {
      "cell_type": "markdown",
      "metadata": {
        "id": "GxC83IoxcC6B"
      },
      "source": [
        "### Train, Val, Test Split"
      ]
    },
    {
      "cell_type": "markdown",
      "metadata": {
        "id": "3qgCxYPeIdN9"
      },
      "source": [
        "**NOTE ::** Do the spiltting in terms of bache_size instead of number of training samples"
      ]
    },
    {
      "cell_type": "code",
      "metadata": {
        "colab": {
          "base_uri": "https://localhost:8080/"
        },
        "id": "ywFpfS_haly4",
        "outputId": "cbd6c8f0-f51e-457c-8f24-902290f4efbf"
      },
      "source": [
        "split_size = 0.8\n",
        "\n",
        "train_size = int( (india_df.shape[0]/32)* split_size)\n",
        "train_data = tf_dataset.take(train_size).prefetch(buffer_size=tf.data.AUTOTUNE)\n",
        "val_test_data = tf_dataset.skip(train_size).prefetch(buffer_size=tf.data.AUTOTUNE)\n",
        "\n",
        "val_data = val_test_data.take(int(len(val_test_data)/2)).prefetch(buffer_size=tf.data.AUTOTUNE)\n",
        "test_data = val_test_data.skip(int(len(val_test_data)/2)).prefetch(buffer_size=tf.data.AUTOTUNE)\n",
        "print(f\"Total Number Samples : {india_df.shape[0]}\")\n",
        "print(f\"Number of Training Samples : {len(train_data)*32}\")\n",
        "print(f\"Number of Validation Samples : {len(val_data)*32}\")\n",
        "print(f\"Number of Test Samples : {len(test_data)*32}\")\n"
      ],
      "execution_count": 158,
      "outputs": [
        {
          "output_type": "stream",
          "text": [
            "Total Number Samples : 77815\n",
            "Number of Training Samples : 62240\n",
            "Number of Validation Samples : 7776\n",
            "Number of Test Samples : 7808\n"
          ],
          "name": "stdout"
        }
      ]
    },
    {
      "cell_type": "code",
      "metadata": {
        "id": "t6YbMyENJjbh"
      },
      "source": [
        ""
      ],
      "execution_count": 158,
      "outputs": []
    },
    {
      "cell_type": "code",
      "metadata": {
        "colab": {
          "base_uri": "https://localhost:8080/"
        },
        "id": "jYljP3UPknjy",
        "outputId": "ad13405a-92b3-489b-eb65-dae6642c3d0d"
      },
      "source": [
        "train_data"
      ],
      "execution_count": 159,
      "outputs": [
        {
          "output_type": "execute_result",
          "data": {
            "text/plain": [
              "<PrefetchDataset shapes: ((None,), (None, 22)), types: (tf.string, tf.float32)>"
            ]
          },
          "metadata": {
            "tags": []
          },
          "execution_count": 159
        }
      ]
    },
    {
      "cell_type": "code",
      "metadata": {
        "colab": {
          "base_uri": "https://localhost:8080/"
        },
        "id": "A3XWZFbjSPxZ",
        "outputId": "ca3b09d4-2ab9-4071-d620-462cd85908bd"
      },
      "source": [
        "for feat, targ in train_data.take(1):\n",
        "  print ('Features: {}, Target: {}'.format(feat, targ.numpy()))"
      ],
      "execution_count": 160,
      "outputs": [
        {
          "output_type": "stream",
          "text": [
            "Features: [b'family members of a cloth merchant who was found murdered earlier in the day staged a protest and blocked Rae Bareli Rd in Lucknow city (Lucknow Uttar Pradesh) protesting against police and demanding quick action in the case.'\n",
            " b'INC and farmers with about vehicles reached Gandhinagar (Gandhinagar Gujarat) during their three-day tractor from Gandhidham to Gandhinagar against adulteration in groundnut stock.'\n",
            " b'near Partapaur village of Koilebeda tehsil (Kanker Chhattisgarh) BSF and Maoists engaged in a gun battle. Two BSF were killed and one was injured.'\n",
            " b\"Meira Paibis women's groups and local clubs staged a sit-in protest at Imphal (Manipur) to protest against a death of a local under unknown circumstances.\"\n",
            " b'Around groups clashed in Bharatpur village SAS Nagar (Punjab) over a land dispute. people injured.'\n",
            " b'about Naxalites disguised as farmers held hostage drivers of vehicles engaged in road construction work in Kirandul (Dantewada Chhattisgarh) and later torched - vehicles for an unknown reason.'\n",
            " b'unidentified militants fired at check-post manned jointly by CRPF and police at Imam Sahib town (Shopian district J&K). No casualties were inflicted in the attack.'\n",
            " b'women of Bhagomajra Colony raised slogans and held a dharna in Kharar town (Sahibzada Ajit Singh Nagar Punjab) to oppose the opening of a liquor vend in the residential area of the location.'\n",
            " b\"rioters clashed with state forces (assumed police and CRPF) at unreported locations in the Kashmir Valley (J&K) amid restrictions following the government's decision to repeal Article and bifurcate the state into two union territories. Nearly rioting events were reported in the Kashmir Valley from - resulting in injuries to CRPF troopers and around force vehicles damaged. Most stone pelting incidents were triggered by small groups of youths.\"\n",
            " b'devotees of Sidhsar Alhora Sahib Gurdwara blocked the Rohti roundabout near (assumed) Rohti Chhana village (Patiala Punjab) to oppose the decision to give the keys to the golak to another group.'\n",
            " b'in Kuttyadi in Vadakara tehsil (Kozhikode Kerala) a minor clash occurred between the LDF and UDF ahead of the general elections for unknown reasons.'\n",
            " b'BJP supporters staged a protest and blocked roads in Midnapore area (Paschim Medinipur West Bengal) against the killings of four party workers during a clash with the TMC .'\n",
            " b'Around (as reported) rioters tried to set ablaze a Mosque at Srinagar city (J&K).'\n",
            " b'farmers and BJKU (Ekta) activists staged a protest and burnt stubble in front of government officials at Takhtupura and Lohara villages in Nihal Singh Wala (Moga Punjab). They were protesting against the ban stubble burning.'\n",
            " b'in Chitradurga (Chitradurga Karnataka) members of Karnataka Rajya Raitha Sangha and Hasiru Sene staged a protest from Madakari Circle to outside the zilla panchayat office demanding fulfilment of various demands including immediate release of pending crop insurance.'\n",
            " b'truck operators staged a protest in Fazilka (Fazilka district Punjab) against the hike in prices of diesel and insurance.'\n",
            " b'local residents clashed with the police and Rapid Action Force (RAF) personnel at Andul Road in Howrah district West Bengal over the burial of a coronavirus suspect in the city.'\n",
            " b'Dalits of the Ravidassia community held a massive dharna in Mahilpur city (Hoshiarpur Punjab) to oppose the demolition of the Guru Ravidas temple in Delhi.'\n",
            " b'Jul soldiers returned fire when militants threw a grenade at a Rashtriya Rifles camp at Nader village in Tral tehsil (Pulwama J&K). No injuries were reported.'\n",
            " b'doctors from the Hindu Rao Hospital staged a protest at hospital premises in New Delhi (Delhi-New Delhi) against non-repayment of salaries. They ended their protests after three weeks after the majority of doctors got their accounts credited.'\n",
            " b'or members of the Jat community destroyed a funeral pyre of a deceased Dalit woman in Tonk (Tonk Rajasthan) in disagreement with her burial in a public crematorium.'\n",
            " b'TDP members including a former MLA held a protest in Bhimadole village (West Godavari AP) against the arrest of party leaders in the state by the TDP government.'\n",
            " b'villagers under the aegis of Baghjan Gaon Milanjyoti Yuva Sangha staged a blockade at a road to Doom Dooma town (Tinsukia district Assam) protesting against the delay over payment of compensation to the victims of the oil well blow out in the locality.'\n",
            " b'Jun in Harur tehsil (Dharmapuri TN) women residents of Kelagampatty Panchayat staged a road blockade with empty pots condemning water scarcity in the area.'\n",
            " b'bandh supporters squatted the railway tracks to block trains in Koparia station Koparia village (Saharsa district Bihar). The group was supporting a Bharat Bandh called by the Congress and opposition parties against the hike in fuel prices.'\n",
            " b'Jun the All Jammu Kashmir Panchayat Conference (AJKPC) staged a protest at Dogra Chowk in Jammu city (J&K) declaring that its members would boycott the J&K assembly elections if the government failed to incorporate the rd Amendment of Indian Constitution into the J&K Panchayati Raj Act .'\n",
            " b'in Junagadh town (Junagadh Gujarat) three groups of unidentified armed actors clashed with each other in a dispute over visiting injured people at a hospital. Four people were injured with one person injured seriously.'\n",
            " b'members of the Asom Jatiyatabadi Yuva Chatra Parishad (AJYCP) staged a protest and blocked oil wells of Oil India Limited (OIL) in Matiekhona village (Tinsukia Assam). The demonstration was against the proposed privatisation of oil wells of the State.'\n",
            " b'protests were held by activists through a rally in Mandi Ahmedgarh (Punjab) against anti-farmer policies of the central government.'\n",
            " b'RR CRPF and SoG during an operation encountered JeM militants in Kangan town (Pulwama district J&K) in which three JeM militants were killed. Rioters clashed with the security forces at the site of the encounter.'\n",
            " b'Jul Indian and Pakistani forces exchanged mortar and small arms fire across the LoC in the Krishna Ghati sector area (Poonch J&K).'\n",
            " b\"hundreds of youths in the Saksham Yuva scheme took out a protest towards the CM's office in Karnal (Karnal Haryana) but were stopped by police. The protesters then sat dharna demanding the abolition of the age requirement and job related demands.\"], Target: [[1. 0. 0. 0. 0. 0. 0. 0. 0. 0. 0. 0. 0. 0. 0. 0. 0. 0. 0. 0. 0. 0.]\n",
            " [1. 0. 0. 0. 0. 0. 0. 0. 0. 0. 0. 0. 0. 0. 0. 0. 0. 0. 0. 0. 0. 0.]\n",
            " [0. 0. 1. 0. 0. 0. 0. 0. 0. 0. 0. 0. 0. 0. 0. 0. 0. 0. 0. 0. 0. 0.]\n",
            " [1. 0. 0. 0. 0. 0. 0. 0. 0. 0. 0. 0. 0. 0. 0. 0. 0. 0. 0. 0. 0. 0.]\n",
            " [0. 0. 0. 1. 0. 0. 0. 0. 0. 0. 0. 0. 0. 0. 0. 0. 0. 0. 0. 0. 0. 0.]\n",
            " [0. 0. 0. 0. 0. 0. 0. 0. 0. 0. 0. 0. 0. 0. 0. 0. 0. 1. 0. 0. 0. 0.]\n",
            " [0. 0. 1. 0. 0. 0. 0. 0. 0. 0. 0. 0. 0. 0. 0. 0. 0. 0. 0. 0. 0. 0.]\n",
            " [1. 0. 0. 0. 0. 0. 0. 0. 0. 0. 0. 0. 0. 0. 0. 0. 0. 0. 0. 0. 0. 0.]\n",
            " [0. 0. 0. 0. 0. 0. 1. 0. 0. 0. 0. 0. 0. 0. 0. 0. 0. 0. 0. 0. 0. 0.]\n",
            " [1. 0. 0. 0. 0. 0. 0. 0. 0. 0. 0. 0. 0. 0. 0. 0. 0. 0. 0. 0. 0. 0.]\n",
            " [0. 0. 0. 1. 0. 0. 0. 0. 0. 0. 0. 0. 0. 0. 0. 0. 0. 0. 0. 0. 0. 0.]\n",
            " [1. 0. 0. 0. 0. 0. 0. 0. 0. 0. 0. 0. 0. 0. 0. 0. 0. 0. 0. 0. 0. 0.]\n",
            " [0. 0. 0. 1. 0. 0. 0. 0. 0. 0. 0. 0. 0. 0. 0. 0. 0. 0. 0. 0. 0. 0.]\n",
            " [1. 0. 0. 0. 0. 0. 0. 0. 0. 0. 0. 0. 0. 0. 0. 0. 0. 0. 0. 0. 0. 0.]\n",
            " [1. 0. 0. 0. 0. 0. 0. 0. 0. 0. 0. 0. 0. 0. 0. 0. 0. 0. 0. 0. 0. 0.]\n",
            " [1. 0. 0. 0. 0. 0. 0. 0. 0. 0. 0. 0. 0. 0. 0. 0. 0. 0. 0. 0. 0. 0.]\n",
            " [0. 0. 0. 1. 0. 0. 0. 0. 0. 0. 0. 0. 0. 0. 0. 0. 0. 0. 0. 0. 0. 0.]\n",
            " [1. 0. 0. 0. 0. 0. 0. 0. 0. 0. 0. 0. 0. 0. 0. 0. 0. 0. 0. 0. 0. 0.]\n",
            " [0. 0. 1. 0. 0. 0. 0. 0. 0. 0. 0. 0. 0. 0. 0. 0. 0. 0. 0. 0. 0. 0.]\n",
            " [1. 0. 0. 0. 0. 0. 0. 0. 0. 0. 0. 0. 0. 0. 0. 0. 0. 0. 0. 0. 0. 0.]\n",
            " [0. 0. 0. 1. 0. 0. 0. 0. 0. 0. 0. 0. 0. 0. 0. 0. 0. 0. 0. 0. 0. 0.]\n",
            " [1. 0. 0. 0. 0. 0. 0. 0. 0. 0. 0. 0. 0. 0. 0. 0. 0. 0. 0. 0. 0. 0.]\n",
            " [1. 0. 0. 0. 0. 0. 0. 0. 0. 0. 0. 0. 0. 0. 0. 0. 0. 0. 0. 0. 0. 0.]\n",
            " [1. 0. 0. 0. 0. 0. 0. 0. 0. 0. 0. 0. 0. 0. 0. 0. 0. 0. 0. 0. 0. 0.]\n",
            " [1. 0. 0. 0. 0. 0. 0. 0. 0. 0. 0. 0. 0. 0. 0. 0. 0. 0. 0. 0. 0. 0.]\n",
            " [1. 0. 0. 0. 0. 0. 0. 0. 0. 0. 0. 0. 0. 0. 0. 0. 0. 0. 0. 0. 0. 0.]\n",
            " [0. 0. 1. 0. 0. 0. 0. 0. 0. 0. 0. 0. 0. 0. 0. 0. 0. 0. 0. 0. 0. 0.]\n",
            " [1. 0. 0. 0. 0. 0. 0. 0. 0. 0. 0. 0. 0. 0. 0. 0. 0. 0. 0. 0. 0. 0.]\n",
            " [1. 0. 0. 0. 0. 0. 0. 0. 0. 0. 0. 0. 0. 0. 0. 0. 0. 0. 0. 0. 0. 0.]\n",
            " [0. 0. 1. 0. 0. 0. 0. 0. 0. 0. 0. 0. 0. 0. 0. 0. 0. 0. 0. 0. 0. 0.]\n",
            " [0. 0. 1. 0. 0. 0. 0. 0. 0. 0. 0. 0. 0. 0. 0. 0. 0. 0. 0. 0. 0. 0.]\n",
            " [0. 1. 0. 0. 0. 0. 0. 0. 0. 0. 0. 0. 0. 0. 0. 0. 0. 0. 0. 0. 0. 0.]]\n"
          ],
          "name": "stdout"
        }
      ]
    },
    {
      "cell_type": "markdown",
      "metadata": {
        "id": "iBNQXpo_vLEQ"
      },
      "source": [
        "## BERT Model : bert_multi_cased_L-12_H-768_A-12"
      ]
    },
    {
      "cell_type": "code",
      "metadata": {
        "id": "zNNVWfCuVNSu"
      },
      "source": [
        "bert_model_name = 'bert_multi_cased_L-12_H-768_A-12'\n",
        "bert_model_link = 'https://tfhub.dev/tensorflow/bert_en_cased_L-12_H-768_A-12/3'\n",
        "bert_model_preprocessing_link = 'https://tfhub.dev/tensorflow/bert_en_cased_preprocess/3'"
      ],
      "execution_count": 161,
      "outputs": []
    },
    {
      "cell_type": "markdown",
      "metadata": {
        "id": "K8OQohdhSLnj"
      },
      "source": [
        "### Bert Preprocessing"
      ]
    },
    {
      "cell_type": "code",
      "metadata": {
        "id": "n_zngp0MePrw"
      },
      "source": [
        "bert_preprocess_model = hub.KerasLayer(bert_model_preprocessing_link)"
      ],
      "execution_count": 162,
      "outputs": []
    },
    {
      "cell_type": "code",
      "metadata": {
        "colab": {
          "base_uri": "https://localhost:8080/"
        },
        "id": "nhaEr3r1eZvj",
        "outputId": "3558e15e-1049-456b-a0ca-00f5519a8374"
      },
      "source": [
        "sample_text = [india_df['notes'][0]]\n",
        "print(sample_text)\n",
        "text_preprocessed = bert_preprocess_model(sample_text)\n",
        "\n",
        "print(f'Keys       : {list(text_preprocessed.keys())}')\n",
        "print(f'Shape      : {text_preprocessed[\"input_word_ids\"].shape}')\n",
        "print(f'Word Ids   : {text_preprocessed[\"input_word_ids\"][0, :12]}')\n",
        "print(f'Input Mask : {text_preprocessed[\"input_mask\"][0, :12]}')\n",
        "print(f'Type Ids   : {text_preprocessed[\"input_type_ids\"][0, :12]}')"
      ],
      "execution_count": 163,
      "outputs": [
        {
          "output_type": "stream",
          "text": [
            "['members of the LPF and DMK held a protest in Krishnagiri city (Krishnagiri TN) against the increase in fuel prices.']\n",
            "Keys       : ['input_mask', 'input_word_ids', 'input_type_ids']\n",
            "Shape      : (1, 128)\n",
            "Word Ids   : [ 101 1484 1104 1103 6400 2271 1105  141 2107 2428 1316  170]\n",
            "Input Mask : [1 1 1 1 1 1 1 1 1 1 1 1]\n",
            "Type Ids   : [0 0 0 0 0 0 0 0 0 0 0 0]\n"
          ],
          "name": "stdout"
        }
      ]
    },
    {
      "cell_type": "code",
      "metadata": {
        "id": "c7wKA1rlf42I"
      },
      "source": [
        "bert_model = hub.KerasLayer(bert_model_link)\n"
      ],
      "execution_count": 164,
      "outputs": []
    },
    {
      "cell_type": "code",
      "metadata": {
        "colab": {
          "base_uri": "https://localhost:8080/"
        },
        "id": "D3wCUh2vSdR5",
        "outputId": "8c28b050-bbf9-4051-9110-3184aee9eeb7"
      },
      "source": [
        "bert_results = bert_model(text_preprocessed)\n",
        "\n",
        "print(f'Loaded BERT: {bert_model_link}')\n",
        "print(f'Pooled Outputs Shape:{bert_results[\"pooled_output\"].shape}')\n",
        "print(f'Pooled Outputs Values:{bert_results[\"pooled_output\"][0, :12]}')\n",
        "print(f'Sequence Outputs Shape:{bert_results[\"sequence_output\"].shape}')\n",
        "print(f'Sequence Outputs Values:{bert_results[\"sequence_output\"][0, :12]}')"
      ],
      "execution_count": 165,
      "outputs": [
        {
          "output_type": "stream",
          "text": [
            "Loaded BERT: https://tfhub.dev/tensorflow/bert_en_cased_L-12_H-768_A-12/3\n",
            "Pooled Outputs Shape:(1, 768)\n",
            "Pooled Outputs Values:[-0.48017055  0.27977386  0.9972236  -0.92582536  0.8515523   0.9136475\n",
            "  0.8063637  -0.995688   -0.78384775 -0.506987    0.83931243  0.97599435]\n",
            "Sequence Outputs Shape:(1, 128, 768)\n",
            "Sequence Outputs Values:[[ 0.07697573  0.04790553 -0.31953815 ... -0.17531687 -0.1265651\n",
            "  -0.13930571]\n",
            " [ 0.28581423 -0.34836382  0.23534177 ... -0.26433396 -0.23449574\n",
            "  -0.3981651 ]\n",
            " [-0.8126637  -0.06740195 -0.69057286 ... -0.00551546 -0.91304016\n",
            "  -0.8927016 ]\n",
            " ...\n",
            " [-0.4704089  -0.05547929 -0.3736198  ...  0.40809712 -0.50220424\n",
            "   0.07352842]\n",
            " [-0.13602102 -0.19971237 -0.02561866 ...  0.5829852  -0.4123639\n",
            "  -0.1699388 ]\n",
            " [-0.14933826  0.04764217 -0.09060752 ...  0.27990076 -0.0172012\n",
            "  -0.5347244 ]]\n"
          ],
          "name": "stdout"
        }
      ]
    },
    {
      "cell_type": "markdown",
      "metadata": {
        "id": "07okjrCw_9-q"
      },
      "source": [
        "### Building the BERT Model"
      ]
    },
    {
      "cell_type": "code",
      "metadata": {
        "id": "Klx-P2wASw3B"
      },
      "source": [
        "def build_classifier_model():\n",
        "    text_input = tf.keras.layers.Input(shape=(), dtype = tf.string, name='input-text')\n",
        "    preprocessing_layer = hub.KerasLayer(bert_model_preprocessing_link, name='bert-preprocessing')\n",
        "    encoder_inputs = preprocessing_layer(text_input)\n",
        "    encoder = hub.KerasLayer(bert_model_link, trainable=False, name='bert-encoder')\n",
        "    outputs = encoder(encoder_inputs)\n",
        "    net = outputs['pooled_output']\n",
        "    net = tf.keras.layers.Dropout(0.1)(net)\n",
        "    net = Dense(units= 512, activation='relu')(net)\n",
        "    net = tf.keras.layers.Dropout(0.1)(net)\n",
        "    net = Dense(units=len(list(india_df['sub_event_type'].unique())), activation='softmax', name='classifer')(net)\n",
        "    return tf.keras.Model(text_input, net)\n"
      ],
      "execution_count": 166,
      "outputs": []
    },
    {
      "cell_type": "code",
      "metadata": {
        "id": "J3LwdcLImIRF"
      },
      "source": [
        "classifier_model = build_classifier_model()\n",
        "bert_raw_result = classifier_model(tf.constant(sample_text))"
      ],
      "execution_count": 167,
      "outputs": []
    },
    {
      "cell_type": "code",
      "metadata": {
        "colab": {
          "base_uri": "https://localhost:8080/"
        },
        "id": "Y1eMKwRMmVbc",
        "outputId": "8880fc1b-f107-4d2a-f472-1d3ed6cb1d07"
      },
      "source": [
        "classifier_model.summary()"
      ],
      "execution_count": 168,
      "outputs": [
        {
          "output_type": "stream",
          "text": [
            "Model: \"model_5\"\n",
            "__________________________________________________________________________________________________\n",
            "Layer (type)                    Output Shape         Param #     Connected to                     \n",
            "==================================================================================================\n",
            "input-text (InputLayer)         [(None,)]            0                                            \n",
            "__________________________________________________________________________________________________\n",
            "bert-preprocessing (KerasLayer) {'input_mask': (None 0           input-text[0][0]                 \n",
            "__________________________________________________________________________________________________\n",
            "bert-encoder (KerasLayer)       {'pooled_output': (N 108310273   bert-preprocessing[0][0]         \n",
            "                                                                 bert-preprocessing[0][1]         \n",
            "                                                                 bert-preprocessing[0][2]         \n",
            "__________________________________________________________________________________________________\n",
            "dropout_8 (Dropout)             (None, 768)          0           bert-encoder[0][13]              \n",
            "__________________________________________________________________________________________________\n",
            "dense_4 (Dense)                 (None, 512)          393728      dropout_8[0][0]                  \n",
            "__________________________________________________________________________________________________\n",
            "dropout_9 (Dropout)             (None, 512)          0           dense_4[0][0]                    \n",
            "__________________________________________________________________________________________________\n",
            "classifer (Dense)               (None, 22)           11286       dropout_9[0][0]                  \n",
            "==================================================================================================\n",
            "Total params: 108,715,287\n",
            "Trainable params: 405,014\n",
            "Non-trainable params: 108,310,273\n",
            "__________________________________________________________________________________________________\n"
          ],
          "name": "stdout"
        }
      ]
    },
    {
      "cell_type": "code",
      "metadata": {
        "colab": {
          "base_uri": "https://localhost:8080/",
          "height": 661
        },
        "id": "uo4SAEurnLr3",
        "outputId": "aeedd66e-81db-4c52-bdd2-bcb4912b2e8d"
      },
      "source": [
        "tf.keras.utils.plot_model(classifier_model)"
      ],
      "execution_count": 169,
      "outputs": [
        {
          "output_type": "execute_result",
          "data": {
            "image/png": "[encoded data removed]",
            "text/plain": [
              "<IPython.core.display.Image object>"
            ]
          },
          "metadata": {
            "tags": []
          },
          "execution_count": 169
        }
      ]
    },
    {
      "cell_type": "code",
      "metadata": {
        "id": "oxIO8Wi5na8U"
      },
      "source": [
        "loss = tf.keras.losses.CategoricalCrossentropy(from_logits=False)\n",
        "metrics = tf.metrics.CategoricalAccuracy()"
      ],
      "execution_count": 170,
      "outputs": []
    },
    {
      "cell_type": "code",
      "metadata": {
        "id": "C7GOA6d7oJe0"
      },
      "source": [
        "epochs = 5\n",
        "steps_per_epoch = tf.data.experimental.cardinality(train_data).numpy()\n",
        "num_train_steps = steps_per_epoch * epochs\n",
        "num_warmup_steps = int(0.1*num_train_steps)\n",
        "\n",
        "init_lr = 3e-5\n",
        "optimizer = optimization.create_optimizer(init_lr=init_lr,\n",
        "                                          num_train_steps=num_train_steps,\n",
        "                                          num_warmup_steps=num_warmup_steps,\n",
        "                                          optimizer_type='adamw')"
      ],
      "execution_count": 171,
      "outputs": []
    },
    {
      "cell_type": "markdown",
      "metadata": {
        "id": "OEBrtFUwbXey"
      },
      "source": [
        "## Model Compilation"
      ]
    },
    {
      "cell_type": "code",
      "metadata": {
        "id": "LcdUk82LoZwV"
      },
      "source": [
        "classifier_model.compile(optimizer=optimizer,\n",
        "                         loss=loss,\n",
        "                         metrics=metrics)"
      ],
      "execution_count": 172,
      "outputs": []
    },
    {
      "cell_type": "markdown",
      "metadata": {
        "id": "4ueRzYICbcdP"
      },
      "source": [
        "## Model Training"
      ]
    },
    {
      "cell_type": "code",
      "metadata": {
        "colab": {
          "base_uri": "https://localhost:8080/"
        },
        "id": "Lcrr-RDzofCk",
        "outputId": "d46c5077-d581-4b96-d793-7cb0d306b89f"
      },
      "source": [
        "print(f'Training model with {bert_model_link}')\n",
        "history = classifier_model.fit(x= train_data,\n",
        "                               validation_data= test_data,\n",
        "                               epochs=epochs)"
      ],
      "execution_count": 173,
      "outputs": [
        {
          "output_type": "stream",
          "text": [
            "Training model with https://tfhub.dev/tensorflow/bert_en_cased_L-12_H-768_A-12/3\n",
            "Epoch 1/5\n",
            "1945/1945 [==============================] - 716s 364ms/step - loss: 1.5134 - categorical_accuracy: 0.5460 - val_loss: 1.2094 - val_categorical_accuracy: 0.5879\n",
            "Epoch 2/5\n",
            "1945/1945 [==============================] - 706s 363ms/step - loss: 1.1779 - categorical_accuracy: 0.6250 - val_loss: 1.0630 - val_categorical_accuracy: 0.6553\n",
            "Epoch 3/5\n",
            "1945/1945 [==============================] - 705s 363ms/step - loss: 1.0820 - categorical_accuracy: 0.6542 - val_loss: 0.9995 - val_categorical_accuracy: 0.6712\n",
            "Epoch 4/5\n",
            "1945/1945 [==============================] - 705s 363ms/step - loss: 1.0348 - categorical_accuracy: 0.6679 - val_loss: 0.9677 - val_categorical_accuracy: 0.6834\n",
            "Epoch 5/5\n",
            "1945/1945 [==============================] - 707s 364ms/step - loss: 1.0152 - categorical_accuracy: 0.6740 - val_loss: 0.9567 - val_categorical_accuracy: 0.6835\n"
          ],
          "name": "stdout"
        }
      ]
    },
    {
      "cell_type": "markdown",
      "metadata": {
        "id": "QQRWHdfgbhb3"
      },
      "source": [
        "### Plotting Metrics : Accuracy and Loss"
      ]
    },
    {
      "cell_type": "code",
      "metadata": {
        "colab": {
          "base_uri": "https://localhost:8080/",
          "height": 541
        },
        "id": "j2bb_cPlzOW3",
        "outputId": "feb55f49-0ed9-42ec-dd3d-55cc51d760ea"
      },
      "source": [
        "import matplotlib.pyplot as plt \n",
        "def plot_graphs(history, string):\n",
        "    plt.plot(history.history[string])\n",
        "    plt.plot(history.history['val_'+string])\n",
        "    plt.xlabel(\"Epochs\")\n",
        "    plt.ylabel(string)\n",
        "    plt.legend([string, 'val_'+string])\n",
        "    plt.show()\n",
        "\n",
        "plot_graphs(history, \"categorical_accuracy\")\n",
        "plot_graphs(history, 'loss')\n"
      ],
      "execution_count": 174,
      "outputs": [
        {
          "output_type": "display_data",
          "data": {
            "image/png": "[encoded data removed]",
            "text/plain": [
              "<Figure size 432x288 with 1 Axes>"
            ]
          },
          "metadata": {
            "tags": [],
            "needs_background": "light"
          }
        },
        {
          "output_type": "display_data",
          "data": {
            "image/png": "[encoded data removed]",
            "text/plain": [
              "<Figure size 432x288 with 1 Axes>"
            ]
          },
          "metadata": {
            "tags": [],
            "needs_background": "light"
          }
        }
      ]
    },
    {
      "cell_type": "code",
      "metadata": {
        "id": "Q7UOF3TFc3Nl"
      },
      "source": [
        ""
      ],
      "execution_count": null,
      "outputs": []
    },
    {
      "cell_type": "markdown",
      "metadata": {
        "id": "-bcO5PgSbwI2"
      },
      "source": [
        "## Exporting the Model"
      ]
    },
    {
      "cell_type": "code",
      "metadata": {
        "id": "FvCIcokUGvrx"
      },
      "source": [
        "model.save('bert-text-classifier.h5') "
      ],
      "execution_count": 176,
      "outputs": []
    },
    {
      "cell_type": "markdown",
      "metadata": {
        "id": "FRNZSOcJb0Dk"
      },
      "source": [
        "## Evaluation on Test Data"
      ]
    },
    {
      "cell_type": "code",
      "metadata": {
        "colab": {
          "base_uri": "https://localhost:8080/"
        },
        "id": "uGppChL1J1-q",
        "outputId": "be3d8af5-4e26-4ee8-8f1d-4748e5de861f"
      },
      "source": [
        "loss, acc = model.evaluate(train_data)"
      ],
      "execution_count": 177,
      "outputs": [
        {
          "output_type": "stream",
          "text": [
            "1945/1945 [==============================] - 626s 322ms/step - loss: 0.9038 - categorical_accuracy: 0.7001\n"
          ],
          "name": "stdout"
        }
      ]
    },
    {
      "cell_type": "code",
      "metadata": {
        "id": "o3vZoj1hJ2JN"
      },
      "source": [
        "test_data_list = list(test_data.unbatch().as_numpy_iterator())"
      ],
      "execution_count": 236,
      "outputs": []
    },
    {
      "cell_type": "code",
      "metadata": {
        "id": "wnEF9VF0J2Nt"
      },
      "source": [
        "test_text = []\n",
        "test_label = []\n",
        "for text, label in test_data_list:\n",
        "    test_text.append(text)\n",
        "    test_label.append(label)"
      ],
      "execution_count": 237,
      "outputs": []
    },
    {
      "cell_type": "code",
      "metadata": {
        "id": "OEbHxvugJ2GB"
      },
      "source": [
        "y_pred = model.predict(test_text)"
      ],
      "execution_count": 218,
      "outputs": []
    },
    {
      "cell_type": "code",
      "metadata": {
        "id": "WbY-RQArzObk"
      },
      "source": [
        "from sklearn.metrics import classification_report"
      ],
      "execution_count": 175,
      "outputs": []
    },
    {
      "cell_type": "code",
      "metadata": {
        "colab": {
          "base_uri": "https://localhost:8080/"
        },
        "id": "LfV3L-d8J2RU",
        "outputId": "8794b4f9-30e7-45e3-d8f4-7a6a35eba6da"
      },
      "source": [
        "inverse_dict = {v:k for k, v in sorted(event_types_dict.items(), key=lambda item: item[1])}\n",
        "list(inverse_dict.values())"
      ],
      "execution_count": 226,
      "outputs": [
        {
          "output_type": "execute_result",
          "data": {
            "text/plain": [
              "['Peaceful protest',\n",
              " 'Protest with intervention',\n",
              " 'Armed clash',\n",
              " 'Mob violence',\n",
              " 'Attack',\n",
              " 'Looting/property destruction',\n",
              " 'Violent demonstration',\n",
              " 'Grenade',\n",
              " 'Disrupted weapons use',\n",
              " 'Change to group/activity',\n",
              " 'Air/drone strike',\n",
              " 'Agreement',\n",
              " 'Arrests',\n",
              " 'Sexual violence',\n",
              " 'Remote explosive/landmine/IED',\n",
              " 'Excessive force against protesters',\n",
              " 'Other',\n",
              " 'Abduction/forced disappearance',\n",
              " 'Shelling/artillery/missile attack',\n",
              " 'Suicide bomb',\n",
              " 'Headquarters or base established',\n",
              " 'Non-violent transfer of territory']"
            ]
          },
          "metadata": {
            "tags": []
          },
          "execution_count": 226
        }
      ]
    },
    {
      "cell_type": "code",
      "metadata": {
        "colab": {
          "base_uri": "https://localhost:8080/"
        },
        "id": "rNQUDLvol-I3",
        "outputId": "e743be25-8e19-4f73-8bb1-afcd1e63ed4e"
      },
      "source": [
        "test_label = np.argmax(np.array(test_label), axis=1)\n",
        "y_preds = np.argmax(np.array(y_pred), axis=1)\n",
        "print(test_label, y_preds)"
      ],
      "execution_count": 238,
      "outputs": [
        {
          "output_type": "stream",
          "text": [
            "[0 3 0 ... 0 0 0] [0 3 0 ... 0 0 0]\n"
          ],
          "name": "stdout"
        }
      ]
    },
    {
      "cell_type": "markdown",
      "metadata": {
        "id": "EvibUAC1pOaz"
      },
      "source": [
        "### Classification Report"
      ]
    },
    {
      "cell_type": "code",
      "metadata": {
        "colab": {
          "base_uri": "https://localhost:8080/"
        },
        "id": "Z4RR1QguhM1n",
        "outputId": "2e7f42f8-0802-4b13-ee32-701ca548d27d"
      },
      "source": [
        "print(classification_report(y_true=test_label, y_pred=y_preds))"
      ],
      "execution_count": 241,
      "outputs": [
        {
          "output_type": "stream",
          "text": [
            "              precision    recall  f1-score   support\n",
            "\n",
            "           0       0.78      0.99      0.87      4250\n",
            "           1       0.80      0.05      0.10       554\n",
            "           2       0.68      0.66      0.67       549\n",
            "           3       0.45      0.67      0.54      1165\n",
            "           4       0.73      0.08      0.14       457\n",
            "           5       0.00      0.00      0.00        38\n",
            "           6       0.34      0.06      0.10       530\n",
            "           7       0.00      0.00      0.00        32\n",
            "           8       0.00      0.00      0.00        84\n",
            "           9       0.00      0.00      0.00         5\n",
            "          11       0.00      0.00      0.00         8\n",
            "          12       0.00      0.00      0.00        20\n",
            "          13       0.00      0.00      0.00        26\n",
            "          14       0.00      0.00      0.00        60\n",
            "          15       0.00      0.00      0.00         4\n",
            "          17       0.00      0.00      0.00        17\n",
            "\n",
            "    accuracy                           0.70      7799\n",
            "   macro avg       0.24      0.16      0.15      7799\n",
            "weighted avg       0.66      0.70      0.62      7799\n",
            "\n"
          ],
          "name": "stdout"
        },
        {
          "output_type": "stream",
          "text": [
            "/usr/local/lib/python3.7/dist-packages/sklearn/metrics/_classification.py:1272: UndefinedMetricWarning: Precision and F-score are ill-defined and being set to 0.0 in labels with no predicted samples. Use `zero_division` parameter to control this behavior.\n",
            "  _warn_prf(average, modifier, msg_start, len(result))\n"
          ],
          "name": "stderr"
        }
      ]
    },
    {
      "cell_type": "code",
      "metadata": {
        "colab": {
          "base_uri": "https://localhost:8080/"
        },
        "id": "AylP-qB6lTeJ",
        "outputId": "40a76543-72f6-404d-cac5-a001ab97687d"
      },
      "source": [
        "print(\"Training Accuracy :   {:.2f} %        Training Loss : {:.2f}\".format(history.history['categorical_accuracy'][-1]*100, history.history['loss'][-1]))\n",
        "print(\"Validation Accuracy : {:.2f} %      Validation Loss : {:.2f}\".format(history.history['val_categorical_accuracy'][-1]*100, history.history['val_loss'][-1]))\n",
        "print(\"Test Accuracy :       {:.2f} %            Test Loss : {:.2f}\".format(acc*100, loss))"
      ],
      "execution_count": 254,
      "outputs": [
        {
          "output_type": "stream",
          "text": [
            "Training Accuracy :   67.40 %        Training Loss : 1.02\n",
            "Validation Accuracy : 68.35 %      Validation Loss : 0.96\n",
            "Test Accuracy :       70.01 %            Test Loss : 0.90\n"
          ],
          "name": "stdout"
        }
      ]
    },
    {
      "cell_type": "code",
      "metadata": {
        "id": "ORGOBwJOlc6c"
      },
      "source": [
        ""
      ],
      "execution_count": null,
      "outputs": []
    }
  ]
}