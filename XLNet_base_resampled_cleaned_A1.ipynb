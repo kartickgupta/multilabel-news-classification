{
  "nbformat": 4,
  "nbformat_minor": 0,
  "metadata": {
    "colab": {
      "name": "XLNet-base-resampled-cleaned-A1.ipynb",
      "provenance": [],
      "collapsed_sections": [],
      "toc_visible": true,
      "machine_shape": "hm",
      "authorship_tag": "ABX9TyP1yAChXY6CdWQ3R6EEudhJ",
      "include_colab_link": true
    },
    "kernelspec": {
      "display_name": "Python 3",
      "name": "python3"
    },
    "language_info": {
      "name": "python"
    },
    "widgets": {
      "application/vnd.jupyter.widget-state+json": {
        "7eec99e46e7c4709a116f2e87bf2378f": {
          "model_module": "@jupyter-widgets/controls",
          "model_name": "HBoxModel",
          "model_module_version": "1.5.0",
          "state": {
            "_view_name": "HBoxView",
            "_dom_classes": [],
            "_model_name": "HBoxModel",
            "_view_module": "@jupyter-widgets/controls",
            "_model_module_version": "1.5.0",
            "_view_count": null,
            "_view_module_version": "1.5.0",
            "box_style": "",
            "layout": "IPY_MODEL_b12e5185da394a489d641e1a83bfcedc",
            "_model_module": "@jupyter-widgets/controls",
            "children": [
              "IPY_MODEL_736d94931ac14facb788881aa381629d",
              "IPY_MODEL_1384177eb132475984c88bcbd5bbc806",
              "IPY_MODEL_65942c84c93e4333b7d5a4fdf2b8a262"
            ]
          }
        },
        "b12e5185da394a489d641e1a83bfcedc": {
          "model_module": "@jupyter-widgets/base",
          "model_name": "LayoutModel",
          "model_module_version": "1.2.0",
          "state": {
            "_view_name": "LayoutView",
            "grid_template_rows": null,
            "right": null,
            "justify_content": null,
            "_view_module": "@jupyter-widgets/base",
            "overflow": null,
            "_model_module_version": "1.2.0",
            "_view_count": null,
            "flex_flow": null,
            "width": null,
            "min_width": null,
            "border": null,
            "align_items": null,
            "bottom": null,
            "_model_module": "@jupyter-widgets/base",
            "top": null,
            "grid_column": null,
            "overflow_y": null,
            "overflow_x": null,
            "grid_auto_flow": null,
            "grid_area": null,
            "grid_template_columns": null,
            "flex": null,
            "_model_name": "LayoutModel",
            "justify_items": null,
            "grid_row": null,
            "max_height": null,
            "align_content": null,
            "visibility": null,
            "align_self": null,
            "height": null,
            "min_height": null,
            "padding": null,
            "grid_auto_rows": null,
            "grid_gap": null,
            "max_width": null,
            "order": null,
            "_view_module_version": "1.2.0",
            "grid_template_areas": null,
            "object_position": null,
            "object_fit": null,
            "grid_auto_columns": null,
            "margin": null,
            "display": null,
            "left": null
          }
        },
        "736d94931ac14facb788881aa381629d": {
          "model_module": "@jupyter-widgets/controls",
          "model_name": "HTMLModel",
          "model_module_version": "1.5.0",
          "state": {
            "_view_name": "HTMLView",
            "style": "IPY_MODEL_1d3dfbee849241fa87649c6c06683a81",
            "_dom_classes": [],
            "description": "",
            "_model_name": "HTMLModel",
            "placeholder": "​",
            "_view_module": "@jupyter-widgets/controls",
            "_model_module_version": "1.5.0",
            "value": "Downloading: 100%",
            "_view_count": null,
            "_view_module_version": "1.5.0",
            "description_tooltip": null,
            "_model_module": "@jupyter-widgets/controls",
            "layout": "IPY_MODEL_30592c7fb0064f32a344c78f1231f2e7"
          }
        },
        "1384177eb132475984c88bcbd5bbc806": {
          "model_module": "@jupyter-widgets/controls",
          "model_name": "FloatProgressModel",
          "model_module_version": "1.5.0",
          "state": {
            "_view_name": "ProgressView",
            "style": "IPY_MODEL_53fee3253a1645cdac1c3a12389f2feb",
            "_dom_classes": [],
            "description": "",
            "_model_name": "FloatProgressModel",
            "bar_style": "success",
            "max": 760,
            "_view_module": "@jupyter-widgets/controls",
            "_model_module_version": "1.5.0",
            "value": 760,
            "_view_count": null,
            "_view_module_version": "1.5.0",
            "orientation": "horizontal",
            "min": 0,
            "description_tooltip": null,
            "_model_module": "@jupyter-widgets/controls",
            "layout": "IPY_MODEL_70fbb480b5df42bead3f90bb73a20f89"
          }
        },
        "65942c84c93e4333b7d5a4fdf2b8a262": {
          "model_module": "@jupyter-widgets/controls",
          "model_name": "HTMLModel",
          "model_module_version": "1.5.0",
          "state": {
            "_view_name": "HTMLView",
            "style": "IPY_MODEL_706677e7ef62418485f927ac5b768f86",
            "_dom_classes": [],
            "description": "",
            "_model_name": "HTMLModel",
            "placeholder": "​",
            "_view_module": "@jupyter-widgets/controls",
            "_model_module_version": "1.5.0",
            "value": " 760/760 [00:00&lt;00:00, 26.2kB/s]",
            "_view_count": null,
            "_view_module_version": "1.5.0",
            "description_tooltip": null,
            "_model_module": "@jupyter-widgets/controls",
            "layout": "IPY_MODEL_8cfaacba9c34485a9050314bb04ff8c4"
          }
        },
        "1d3dfbee849241fa87649c6c06683a81": {
          "model_module": "@jupyter-widgets/controls",
          "model_name": "DescriptionStyleModel",
          "model_module_version": "1.5.0",
          "state": {
            "_view_name": "StyleView",
            "_model_name": "DescriptionStyleModel",
            "description_width": "",
            "_view_module": "@jupyter-widgets/base",
            "_model_module_version": "1.5.0",
            "_view_count": null,
            "_view_module_version": "1.2.0",
            "_model_module": "@jupyter-widgets/controls"
          }
        },
        "30592c7fb0064f32a344c78f1231f2e7": {
          "model_module": "@jupyter-widgets/base",
          "model_name": "LayoutModel",
          "model_module_version": "1.2.0",
          "state": {
            "_view_name": "LayoutView",
            "grid_template_rows": null,
            "right": null,
            "justify_content": null,
            "_view_module": "@jupyter-widgets/base",
            "overflow": null,
            "_model_module_version": "1.2.0",
            "_view_count": null,
            "flex_flow": null,
            "width": null,
            "min_width": null,
            "border": null,
            "align_items": null,
            "bottom": null,
            "_model_module": "@jupyter-widgets/base",
            "top": null,
            "grid_column": null,
            "overflow_y": null,
            "overflow_x": null,
            "grid_auto_flow": null,
            "grid_area": null,
            "grid_template_columns": null,
            "flex": null,
            "_model_name": "LayoutModel",
            "justify_items": null,
            "grid_row": null,
            "max_height": null,
            "align_content": null,
            "visibility": null,
            "align_self": null,
            "height": null,
            "min_height": null,
            "padding": null,
            "grid_auto_rows": null,
            "grid_gap": null,
            "max_width": null,
            "order": null,
            "_view_module_version": "1.2.0",
            "grid_template_areas": null,
            "object_position": null,
            "object_fit": null,
            "grid_auto_columns": null,
            "margin": null,
            "display": null,
            "left": null
          }
        },
        "53fee3253a1645cdac1c3a12389f2feb": {
          "model_module": "@jupyter-widgets/controls",
          "model_name": "ProgressStyleModel",
          "model_module_version": "1.5.0",
          "state": {
            "_view_name": "StyleView",
            "_model_name": "ProgressStyleModel",
            "description_width": "",
            "_view_module": "@jupyter-widgets/base",
            "_model_module_version": "1.5.0",
            "_view_count": null,
            "_view_module_version": "1.2.0",
            "bar_color": null,
            "_model_module": "@jupyter-widgets/controls"
          }
        },
        "70fbb480b5df42bead3f90bb73a20f89": {
          "model_module": "@jupyter-widgets/base",
          "model_name": "LayoutModel",
          "model_module_version": "1.2.0",
          "state": {
            "_view_name": "LayoutView",
            "grid_template_rows": null,
            "right": null,
            "justify_content": null,
            "_view_module": "@jupyter-widgets/base",
            "overflow": null,
            "_model_module_version": "1.2.0",
            "_view_count": null,
            "flex_flow": null,
            "width": null,
            "min_width": null,
            "border": null,
            "align_items": null,
            "bottom": null,
            "_model_module": "@jupyter-widgets/base",
            "top": null,
            "grid_column": null,
            "overflow_y": null,
            "overflow_x": null,
            "grid_auto_flow": null,
            "grid_area": null,
            "grid_template_columns": null,
            "flex": null,
            "_model_name": "LayoutModel",
            "justify_items": null,
            "grid_row": null,
            "max_height": null,
            "align_content": null,
            "visibility": null,
            "align_self": null,
            "height": null,
            "min_height": null,
            "padding": null,
            "grid_auto_rows": null,
            "grid_gap": null,
            "max_width": null,
            "order": null,
            "_view_module_version": "1.2.0",
            "grid_template_areas": null,
            "object_position": null,
            "object_fit": null,
            "grid_auto_columns": null,
            "margin": null,
            "display": null,
            "left": null
          }
        },
        "706677e7ef62418485f927ac5b768f86": {
          "model_module": "@jupyter-widgets/controls",
          "model_name": "DescriptionStyleModel",
          "model_module_version": "1.5.0",
          "state": {
            "_view_name": "StyleView",
            "_model_name": "DescriptionStyleModel",
            "description_width": "",
            "_view_module": "@jupyter-widgets/base",
            "_model_module_version": "1.5.0",
            "_view_count": null,
            "_view_module_version": "1.2.0",
            "_model_module": "@jupyter-widgets/controls"
          }
        },
        "8cfaacba9c34485a9050314bb04ff8c4": {
          "model_module": "@jupyter-widgets/base",
          "model_name": "LayoutModel",
          "model_module_version": "1.2.0",
          "state": {
            "_view_name": "LayoutView",
            "grid_template_rows": null,
            "right": null,
            "justify_content": null,
            "_view_module": "@jupyter-widgets/base",
            "overflow": null,
            "_model_module_version": "1.2.0",
            "_view_count": null,
            "flex_flow": null,
            "width": null,
            "min_width": null,
            "border": null,
            "align_items": null,
            "bottom": null,
            "_model_module": "@jupyter-widgets/base",
            "top": null,
            "grid_column": null,
            "overflow_y": null,
            "overflow_x": null,
            "grid_auto_flow": null,
            "grid_area": null,
            "grid_template_columns": null,
            "flex": null,
            "_model_name": "LayoutModel",
            "justify_items": null,
            "grid_row": null,
            "max_height": null,
            "align_content": null,
            "visibility": null,
            "align_self": null,
            "height": null,
            "min_height": null,
            "padding": null,
            "grid_auto_rows": null,
            "grid_gap": null,
            "max_width": null,
            "order": null,
            "_view_module_version": "1.2.0",
            "grid_template_areas": null,
            "object_position": null,
            "object_fit": null,
            "grid_auto_columns": null,
            "margin": null,
            "display": null,
            "left": null
          }
        },
        "7dc53e2fdc7845578fb596cd84a0e892": {
          "model_module": "@jupyter-widgets/controls",
          "model_name": "HBoxModel",
          "model_module_version": "1.5.0",
          "state": {
            "_view_name": "HBoxView",
            "_dom_classes": [],
            "_model_name": "HBoxModel",
            "_view_module": "@jupyter-widgets/controls",
            "_model_module_version": "1.5.0",
            "_view_count": null,
            "_view_module_version": "1.5.0",
            "box_style": "",
            "layout": "IPY_MODEL_efb6ab25f00e4f61ae888e3d9ba74df1",
            "_model_module": "@jupyter-widgets/controls",
            "children": [
              "IPY_MODEL_727ade4883ba4ee29cd03fc0296e93c9",
              "IPY_MODEL_1b910973f8b14fa79d1ecf35ee5cd891",
              "IPY_MODEL_c214c602b2334d62adfeb22e0079e513"
            ]
          }
        },
        "efb6ab25f00e4f61ae888e3d9ba74df1": {
          "model_module": "@jupyter-widgets/base",
          "model_name": "LayoutModel",
          "model_module_version": "1.2.0",
          "state": {
            "_view_name": "LayoutView",
            "grid_template_rows": null,
            "right": null,
            "justify_content": null,
            "_view_module": "@jupyter-widgets/base",
            "overflow": null,
            "_model_module_version": "1.2.0",
            "_view_count": null,
            "flex_flow": null,
            "width": null,
            "min_width": null,
            "border": null,
            "align_items": null,
            "bottom": null,
            "_model_module": "@jupyter-widgets/base",
            "top": null,
            "grid_column": null,
            "overflow_y": null,
            "overflow_x": null,
            "grid_auto_flow": null,
            "grid_area": null,
            "grid_template_columns": null,
            "flex": null,
            "_model_name": "LayoutModel",
            "justify_items": null,
            "grid_row": null,
            "max_height": null,
            "align_content": null,
            "visibility": null,
            "align_self": null,
            "height": null,
            "min_height": null,
            "padding": null,
            "grid_auto_rows": null,
            "grid_gap": null,
            "max_width": null,
            "order": null,
            "_view_module_version": "1.2.0",
            "grid_template_areas": null,
            "object_position": null,
            "object_fit": null,
            "grid_auto_columns": null,
            "margin": null,
            "display": null,
            "left": null
          }
        },
        "727ade4883ba4ee29cd03fc0296e93c9": {
          "model_module": "@jupyter-widgets/controls",
          "model_name": "HTMLModel",
          "model_module_version": "1.5.0",
          "state": {
            "_view_name": "HTMLView",
            "style": "IPY_MODEL_928b01b46ea54dfdb10fc3bf213143a6",
            "_dom_classes": [],
            "description": "",
            "_model_name": "HTMLModel",
            "placeholder": "​",
            "_view_module": "@jupyter-widgets/controls",
            "_model_module_version": "1.5.0",
            "value": "Downloading: 100%",
            "_view_count": null,
            "_view_module_version": "1.5.0",
            "description_tooltip": null,
            "_model_module": "@jupyter-widgets/controls",
            "layout": "IPY_MODEL_c2ebcdb0834140c7a32379eb73634fde"
          }
        },
        "1b910973f8b14fa79d1ecf35ee5cd891": {
          "model_module": "@jupyter-widgets/controls",
          "model_name": "FloatProgressModel",
          "model_module_version": "1.5.0",
          "state": {
            "_view_name": "ProgressView",
            "style": "IPY_MODEL_6f934cb9462a41538e3ec7e873dc916a",
            "_dom_classes": [],
            "description": "",
            "_model_name": "FloatProgressModel",
            "bar_style": "success",
            "max": 798011,
            "_view_module": "@jupyter-widgets/controls",
            "_model_module_version": "1.5.0",
            "value": 798011,
            "_view_count": null,
            "_view_module_version": "1.5.0",
            "orientation": "horizontal",
            "min": 0,
            "description_tooltip": null,
            "_model_module": "@jupyter-widgets/controls",
            "layout": "IPY_MODEL_7355af8a1d3b43fb987961b8c416ab2a"
          }
        },
        "c214c602b2334d62adfeb22e0079e513": {
          "model_module": "@jupyter-widgets/controls",
          "model_name": "HTMLModel",
          "model_module_version": "1.5.0",
          "state": {
            "_view_name": "HTMLView",
            "style": "IPY_MODEL_3af84678c2a447ba83531cdac869c932",
            "_dom_classes": [],
            "description": "",
            "_model_name": "HTMLModel",
            "placeholder": "​",
            "_view_module": "@jupyter-widgets/controls",
            "_model_module_version": "1.5.0",
            "value": " 779k/779k [00:00&lt;00:00, 888kB/s]",
            "_view_count": null,
            "_view_module_version": "1.5.0",
            "description_tooltip": null,
            "_model_module": "@jupyter-widgets/controls",
            "layout": "IPY_MODEL_a9a65069f3f84294a43a116b36486317"
          }
        },
        "928b01b46ea54dfdb10fc3bf213143a6": {
          "model_module": "@jupyter-widgets/controls",
          "model_name": "DescriptionStyleModel",
          "model_module_version": "1.5.0",
          "state": {
            "_view_name": "StyleView",
            "_model_name": "DescriptionStyleModel",
            "description_width": "",
            "_view_module": "@jupyter-widgets/base",
            "_model_module_version": "1.5.0",
            "_view_count": null,
            "_view_module_version": "1.2.0",
            "_model_module": "@jupyter-widgets/controls"
          }
        },
        "c2ebcdb0834140c7a32379eb73634fde": {
          "model_module": "@jupyter-widgets/base",
          "model_name": "LayoutModel",
          "model_module_version": "1.2.0",
          "state": {
            "_view_name": "LayoutView",
            "grid_template_rows": null,
            "right": null,
            "justify_content": null,
            "_view_module": "@jupyter-widgets/base",
            "overflow": null,
            "_model_module_version": "1.2.0",
            "_view_count": null,
            "flex_flow": null,
            "width": null,
            "min_width": null,
            "border": null,
            "align_items": null,
            "bottom": null,
            "_model_module": "@jupyter-widgets/base",
            "top": null,
            "grid_column": null,
            "overflow_y": null,
            "overflow_x": null,
            "grid_auto_flow": null,
            "grid_area": null,
            "grid_template_columns": null,
            "flex": null,
            "_model_name": "LayoutModel",
            "justify_items": null,
            "grid_row": null,
            "max_height": null,
            "align_content": null,
            "visibility": null,
            "align_self": null,
            "height": null,
            "min_height": null,
            "padding": null,
            "grid_auto_rows": null,
            "grid_gap": null,
            "max_width": null,
            "order": null,
            "_view_module_version": "1.2.0",
            "grid_template_areas": null,
            "object_position": null,
            "object_fit": null,
            "grid_auto_columns": null,
            "margin": null,
            "display": null,
            "left": null
          }
        },
        "6f934cb9462a41538e3ec7e873dc916a": {
          "model_module": "@jupyter-widgets/controls",
          "model_name": "ProgressStyleModel",
          "model_module_version": "1.5.0",
          "state": {
            "_view_name": "StyleView",
            "_model_name": "ProgressStyleModel",
            "description_width": "",
            "_view_module": "@jupyter-widgets/base",
            "_model_module_version": "1.5.0",
            "_view_count": null,
            "_view_module_version": "1.2.0",
            "bar_color": null,
            "_model_module": "@jupyter-widgets/controls"
          }
        },
        "7355af8a1d3b43fb987961b8c416ab2a": {
          "model_module": "@jupyter-widgets/base",
          "model_name": "LayoutModel",
          "model_module_version": "1.2.0",
          "state": {
            "_view_name": "LayoutView",
            "grid_template_rows": null,
            "right": null,
            "justify_content": null,
            "_view_module": "@jupyter-widgets/base",
            "overflow": null,
            "_model_module_version": "1.2.0",
            "_view_count": null,
            "flex_flow": null,
            "width": null,
            "min_width": null,
            "border": null,
            "align_items": null,
            "bottom": null,
            "_model_module": "@jupyter-widgets/base",
            "top": null,
            "grid_column": null,
            "overflow_y": null,
            "overflow_x": null,
            "grid_auto_flow": null,
            "grid_area": null,
            "grid_template_columns": null,
            "flex": null,
            "_model_name": "LayoutModel",
            "justify_items": null,
            "grid_row": null,
            "max_height": null,
            "align_content": null,
            "visibility": null,
            "align_self": null,
            "height": null,
            "min_height": null,
            "padding": null,
            "grid_auto_rows": null,
            "grid_gap": null,
            "max_width": null,
            "order": null,
            "_view_module_version": "1.2.0",
            "grid_template_areas": null,
            "object_position": null,
            "object_fit": null,
            "grid_auto_columns": null,
            "margin": null,
            "display": null,
            "left": null
          }
        },
        "3af84678c2a447ba83531cdac869c932": {
          "model_module": "@jupyter-widgets/controls",
          "model_name": "DescriptionStyleModel",
          "model_module_version": "1.5.0",
          "state": {
            "_view_name": "StyleView",
            "_model_name": "DescriptionStyleModel",
            "description_width": "",
            "_view_module": "@jupyter-widgets/base",
            "_model_module_version": "1.5.0",
            "_view_count": null,
            "_view_module_version": "1.2.0",
            "_model_module": "@jupyter-widgets/controls"
          }
        },
        "a9a65069f3f84294a43a116b36486317": {
          "model_module": "@jupyter-widgets/base",
          "model_name": "LayoutModel",
          "model_module_version": "1.2.0",
          "state": {
            "_view_name": "LayoutView",
            "grid_template_rows": null,
            "right": null,
            "justify_content": null,
            "_view_module": "@jupyter-widgets/base",
            "overflow": null,
            "_model_module_version": "1.2.0",
            "_view_count": null,
            "flex_flow": null,
            "width": null,
            "min_width": null,
            "border": null,
            "align_items": null,
            "bottom": null,
            "_model_module": "@jupyter-widgets/base",
            "top": null,
            "grid_column": null,
            "overflow_y": null,
            "overflow_x": null,
            "grid_auto_flow": null,
            "grid_area": null,
            "grid_template_columns": null,
            "flex": null,
            "_model_name": "LayoutModel",
            "justify_items": null,
            "grid_row": null,
            "max_height": null,
            "align_content": null,
            "visibility": null,
            "align_self": null,
            "height": null,
            "min_height": null,
            "padding": null,
            "grid_auto_rows": null,
            "grid_gap": null,
            "max_width": null,
            "order": null,
            "_view_module_version": "1.2.0",
            "grid_template_areas": null,
            "object_position": null,
            "object_fit": null,
            "grid_auto_columns": null,
            "margin": null,
            "display": null,
            "left": null
          }
        },
        "35cc573e16c1447d9c0e334c51612836": {
          "model_module": "@jupyter-widgets/controls",
          "model_name": "HBoxModel",
          "model_module_version": "1.5.0",
          "state": {
            "_view_name": "HBoxView",
            "_dom_classes": [],
            "_model_name": "HBoxModel",
            "_view_module": "@jupyter-widgets/controls",
            "_model_module_version": "1.5.0",
            "_view_count": null,
            "_view_module_version": "1.5.0",
            "box_style": "",
            "layout": "IPY_MODEL_c813e4f30f0543d88f34d5d262d0c40e",
            "_model_module": "@jupyter-widgets/controls",
            "children": [
              "IPY_MODEL_d3e4f161ee66442987c7101e4b88eba8",
              "IPY_MODEL_1845b9304cfd41c2a3734615a060ad7d",
              "IPY_MODEL_874fb8509d34419fa68e0e6b2062f929"
            ]
          }
        },
        "c813e4f30f0543d88f34d5d262d0c40e": {
          "model_module": "@jupyter-widgets/base",
          "model_name": "LayoutModel",
          "model_module_version": "1.2.0",
          "state": {
            "_view_name": "LayoutView",
            "grid_template_rows": null,
            "right": null,
            "justify_content": null,
            "_view_module": "@jupyter-widgets/base",
            "overflow": null,
            "_model_module_version": "1.2.0",
            "_view_count": null,
            "flex_flow": null,
            "width": null,
            "min_width": null,
            "border": null,
            "align_items": null,
            "bottom": null,
            "_model_module": "@jupyter-widgets/base",
            "top": null,
            "grid_column": null,
            "overflow_y": null,
            "overflow_x": null,
            "grid_auto_flow": null,
            "grid_area": null,
            "grid_template_columns": null,
            "flex": null,
            "_model_name": "LayoutModel",
            "justify_items": null,
            "grid_row": null,
            "max_height": null,
            "align_content": null,
            "visibility": null,
            "align_self": null,
            "height": null,
            "min_height": null,
            "padding": null,
            "grid_auto_rows": null,
            "grid_gap": null,
            "max_width": null,
            "order": null,
            "_view_module_version": "1.2.0",
            "grid_template_areas": null,
            "object_position": null,
            "object_fit": null,
            "grid_auto_columns": null,
            "margin": null,
            "display": null,
            "left": null
          }
        },
        "d3e4f161ee66442987c7101e4b88eba8": {
          "model_module": "@jupyter-widgets/controls",
          "model_name": "HTMLModel",
          "model_module_version": "1.5.0",
          "state": {
            "_view_name": "HTMLView",
            "style": "IPY_MODEL_e8ddd13ea37d47d7b7bee06dbdc0938e",
            "_dom_classes": [],
            "description": "",
            "_model_name": "HTMLModel",
            "placeholder": "​",
            "_view_module": "@jupyter-widgets/controls",
            "_model_module_version": "1.5.0",
            "value": "Downloading: 100%",
            "_view_count": null,
            "_view_module_version": "1.5.0",
            "description_tooltip": null,
            "_model_module": "@jupyter-widgets/controls",
            "layout": "IPY_MODEL_a6e2a9d427af4519b69b3babaf6e0efd"
          }
        },
        "1845b9304cfd41c2a3734615a060ad7d": {
          "model_module": "@jupyter-widgets/controls",
          "model_name": "FloatProgressModel",
          "model_module_version": "1.5.0",
          "state": {
            "_view_name": "ProgressView",
            "style": "IPY_MODEL_8198978c6ec74bdbb58bb145c459501b",
            "_dom_classes": [],
            "description": "",
            "_model_name": "FloatProgressModel",
            "bar_style": "success",
            "max": 1382015,
            "_view_module": "@jupyter-widgets/controls",
            "_model_module_version": "1.5.0",
            "value": 1382015,
            "_view_count": null,
            "_view_module_version": "1.5.0",
            "orientation": "horizontal",
            "min": 0,
            "description_tooltip": null,
            "_model_module": "@jupyter-widgets/controls",
            "layout": "IPY_MODEL_9a8116cee78440b2b8fdf7cad223529d"
          }
        },
        "874fb8509d34419fa68e0e6b2062f929": {
          "model_module": "@jupyter-widgets/controls",
          "model_name": "HTMLModel",
          "model_module_version": "1.5.0",
          "state": {
            "_view_name": "HTMLView",
            "style": "IPY_MODEL_3617493c7cb64866862eddfcfa98bf4c",
            "_dom_classes": [],
            "description": "",
            "_model_name": "HTMLModel",
            "placeholder": "​",
            "_view_module": "@jupyter-widgets/controls",
            "_model_module_version": "1.5.0",
            "value": " 1.32M/1.32M [00:00&lt;00:00, 3.31MB/s]",
            "_view_count": null,
            "_view_module_version": "1.5.0",
            "description_tooltip": null,
            "_model_module": "@jupyter-widgets/controls",
            "layout": "IPY_MODEL_88fd9149343848f3b247f8cc20b9450e"
          }
        },
        "e8ddd13ea37d47d7b7bee06dbdc0938e": {
          "model_module": "@jupyter-widgets/controls",
          "model_name": "DescriptionStyleModel",
          "model_module_version": "1.5.0",
          "state": {
            "_view_name": "StyleView",
            "_model_name": "DescriptionStyleModel",
            "description_width": "",
            "_view_module": "@jupyter-widgets/base",
            "_model_module_version": "1.5.0",
            "_view_count": null,
            "_view_module_version": "1.2.0",
            "_model_module": "@jupyter-widgets/controls"
          }
        },
        "a6e2a9d427af4519b69b3babaf6e0efd": {
          "model_module": "@jupyter-widgets/base",
          "model_name": "LayoutModel",
          "model_module_version": "1.2.0",
          "state": {
            "_view_name": "LayoutView",
            "grid_template_rows": null,
            "right": null,
            "justify_content": null,
            "_view_module": "@jupyter-widgets/base",
            "overflow": null,
            "_model_module_version": "1.2.0",
            "_view_count": null,
            "flex_flow": null,
            "width": null,
            "min_width": null,
            "border": null,
            "align_items": null,
            "bottom": null,
            "_model_module": "@jupyter-widgets/base",
            "top": null,
            "grid_column": null,
            "overflow_y": null,
            "overflow_x": null,
            "grid_auto_flow": null,
            "grid_area": null,
            "grid_template_columns": null,
            "flex": null,
            "_model_name": "LayoutModel",
            "justify_items": null,
            "grid_row": null,
            "max_height": null,
            "align_content": null,
            "visibility": null,
            "align_self": null,
            "height": null,
            "min_height": null,
            "padding": null,
            "grid_auto_rows": null,
            "grid_gap": null,
            "max_width": null,
            "order": null,
            "_view_module_version": "1.2.0",
            "grid_template_areas": null,
            "object_position": null,
            "object_fit": null,
            "grid_auto_columns": null,
            "margin": null,
            "display": null,
            "left": null
          }
        },
        "8198978c6ec74bdbb58bb145c459501b": {
          "model_module": "@jupyter-widgets/controls",
          "model_name": "ProgressStyleModel",
          "model_module_version": "1.5.0",
          "state": {
            "_view_name": "StyleView",
            "_model_name": "ProgressStyleModel",
            "description_width": "",
            "_view_module": "@jupyter-widgets/base",
            "_model_module_version": "1.5.0",
            "_view_count": null,
            "_view_module_version": "1.2.0",
            "bar_color": null,
            "_model_module": "@jupyter-widgets/controls"
          }
        },
        "9a8116cee78440b2b8fdf7cad223529d": {
          "model_module": "@jupyter-widgets/base",
          "model_name": "LayoutModel",
          "model_module_version": "1.2.0",
          "state": {
            "_view_name": "LayoutView",
            "grid_template_rows": null,
            "right": null,
            "justify_content": null,
            "_view_module": "@jupyter-widgets/base",
            "overflow": null,
            "_model_module_version": "1.2.0",
            "_view_count": null,
            "flex_flow": null,
            "width": null,
            "min_width": null,
            "border": null,
            "align_items": null,
            "bottom": null,
            "_model_module": "@jupyter-widgets/base",
            "top": null,
            "grid_column": null,
            "overflow_y": null,
            "overflow_x": null,
            "grid_auto_flow": null,
            "grid_area": null,
            "grid_template_columns": null,
            "flex": null,
            "_model_name": "LayoutModel",
            "justify_items": null,
            "grid_row": null,
            "max_height": null,
            "align_content": null,
            "visibility": null,
            "align_self": null,
            "height": null,
            "min_height": null,
            "padding": null,
            "grid_auto_rows": null,
            "grid_gap": null,
            "max_width": null,
            "order": null,
            "_view_module_version": "1.2.0",
            "grid_template_areas": null,
            "object_position": null,
            "object_fit": null,
            "grid_auto_columns": null,
            "margin": null,
            "display": null,
            "left": null
          }
        },
        "3617493c7cb64866862eddfcfa98bf4c": {
          "model_module": "@jupyter-widgets/controls",
          "model_name": "DescriptionStyleModel",
          "model_module_version": "1.5.0",
          "state": {
            "_view_name": "StyleView",
            "_model_name": "DescriptionStyleModel",
            "description_width": "",
            "_view_module": "@jupyter-widgets/base",
            "_model_module_version": "1.5.0",
            "_view_count": null,
            "_view_module_version": "1.2.0",
            "_model_module": "@jupyter-widgets/controls"
          }
        },
        "88fd9149343848f3b247f8cc20b9450e": {
          "model_module": "@jupyter-widgets/base",
          "model_name": "LayoutModel",
          "model_module_version": "1.2.0",
          "state": {
            "_view_name": "LayoutView",
            "grid_template_rows": null,
            "right": null,
            "justify_content": null,
            "_view_module": "@jupyter-widgets/base",
            "overflow": null,
            "_model_module_version": "1.2.0",
            "_view_count": null,
            "flex_flow": null,
            "width": null,
            "min_width": null,
            "border": null,
            "align_items": null,
            "bottom": null,
            "_model_module": "@jupyter-widgets/base",
            "top": null,
            "grid_column": null,
            "overflow_y": null,
            "overflow_x": null,
            "grid_auto_flow": null,
            "grid_area": null,
            "grid_template_columns": null,
            "flex": null,
            "_model_name": "LayoutModel",
            "justify_items": null,
            "grid_row": null,
            "max_height": null,
            "align_content": null,
            "visibility": null,
            "align_self": null,
            "height": null,
            "min_height": null,
            "padding": null,
            "grid_auto_rows": null,
            "grid_gap": null,
            "max_width": null,
            "order": null,
            "_view_module_version": "1.2.0",
            "grid_template_areas": null,
            "object_position": null,
            "object_fit": null,
            "grid_auto_columns": null,
            "margin": null,
            "display": null,
            "left": null
          }
        },
        "7602ea5733214298993be7f5aa82c9c9": {
          "model_module": "@jupyter-widgets/controls",
          "model_name": "HBoxModel",
          "model_module_version": "1.5.0",
          "state": {
            "_view_name": "HBoxView",
            "_dom_classes": [],
            "_model_name": "HBoxModel",
            "_view_module": "@jupyter-widgets/controls",
            "_model_module_version": "1.5.0",
            "_view_count": null,
            "_view_module_version": "1.5.0",
            "box_style": "",
            "layout": "IPY_MODEL_47dd64df2c1e4ffbab266b326dfa4fda",
            "_model_module": "@jupyter-widgets/controls",
            "children": [
              "IPY_MODEL_610f943eca1d4e1dab5d362753b7d76a",
              "IPY_MODEL_6ae9a112aef1481a8050d89dfe0f2359",
              "IPY_MODEL_75cd80660a864a0cb45c6ec7b087545f"
            ]
          }
        },
        "47dd64df2c1e4ffbab266b326dfa4fda": {
          "model_module": "@jupyter-widgets/base",
          "model_name": "LayoutModel",
          "model_module_version": "1.2.0",
          "state": {
            "_view_name": "LayoutView",
            "grid_template_rows": null,
            "right": null,
            "justify_content": null,
            "_view_module": "@jupyter-widgets/base",
            "overflow": null,
            "_model_module_version": "1.2.0",
            "_view_count": null,
            "flex_flow": null,
            "width": null,
            "min_width": null,
            "border": null,
            "align_items": null,
            "bottom": null,
            "_model_module": "@jupyter-widgets/base",
            "top": null,
            "grid_column": null,
            "overflow_y": null,
            "overflow_x": null,
            "grid_auto_flow": null,
            "grid_area": null,
            "grid_template_columns": null,
            "flex": null,
            "_model_name": "LayoutModel",
            "justify_items": null,
            "grid_row": null,
            "max_height": null,
            "align_content": null,
            "visibility": null,
            "align_self": null,
            "height": null,
            "min_height": null,
            "padding": null,
            "grid_auto_rows": null,
            "grid_gap": null,
            "max_width": null,
            "order": null,
            "_view_module_version": "1.2.0",
            "grid_template_areas": null,
            "object_position": null,
            "object_fit": null,
            "grid_auto_columns": null,
            "margin": null,
            "display": null,
            "left": null
          }
        },
        "610f943eca1d4e1dab5d362753b7d76a": {
          "model_module": "@jupyter-widgets/controls",
          "model_name": "HTMLModel",
          "model_module_version": "1.5.0",
          "state": {
            "_view_name": "HTMLView",
            "style": "IPY_MODEL_2b1dff8185514786b238d6193f76daed",
            "_dom_classes": [],
            "description": "",
            "_model_name": "HTMLModel",
            "placeholder": "​",
            "_view_module": "@jupyter-widgets/controls",
            "_model_module_version": "1.5.0",
            "value": "Downloading: 100%",
            "_view_count": null,
            "_view_module_version": "1.5.0",
            "description_tooltip": null,
            "_model_module": "@jupyter-widgets/controls",
            "layout": "IPY_MODEL_a4909d928e034ab6b9ed8e4181f39c79"
          }
        },
        "6ae9a112aef1481a8050d89dfe0f2359": {
          "model_module": "@jupyter-widgets/controls",
          "model_name": "FloatProgressModel",
          "model_module_version": "1.5.0",
          "state": {
            "_view_name": "ProgressView",
            "style": "IPY_MODEL_bb85fe273f5c47c8b9e6cedf1756d00f",
            "_dom_classes": [],
            "description": "",
            "_model_name": "FloatProgressModel",
            "bar_style": "success",
            "max": 565485600,
            "_view_module": "@jupyter-widgets/controls",
            "_model_module_version": "1.5.0",
            "value": 565485600,
            "_view_count": null,
            "_view_module_version": "1.5.0",
            "orientation": "horizontal",
            "min": 0,
            "description_tooltip": null,
            "_model_module": "@jupyter-widgets/controls",
            "layout": "IPY_MODEL_3ba033182b21468cbb728dae9e55edf2"
          }
        },
        "75cd80660a864a0cb45c6ec7b087545f": {
          "model_module": "@jupyter-widgets/controls",
          "model_name": "HTMLModel",
          "model_module_version": "1.5.0",
          "state": {
            "_view_name": "HTMLView",
            "style": "IPY_MODEL_a0052a78ebed4b22b9d58a8797dddf08",
            "_dom_classes": [],
            "description": "",
            "_model_name": "HTMLModel",
            "placeholder": "​",
            "_view_module": "@jupyter-widgets/controls",
            "_model_module_version": "1.5.0",
            "value": " 539M/539M [00:09&lt;00:00, 61.2MB/s]",
            "_view_count": null,
            "_view_module_version": "1.5.0",
            "description_tooltip": null,
            "_model_module": "@jupyter-widgets/controls",
            "layout": "IPY_MODEL_cd2ba0c132dd4bed857ce2b7a9f6459b"
          }
        },
        "2b1dff8185514786b238d6193f76daed": {
          "model_module": "@jupyter-widgets/controls",
          "model_name": "DescriptionStyleModel",
          "model_module_version": "1.5.0",
          "state": {
            "_view_name": "StyleView",
            "_model_name": "DescriptionStyleModel",
            "description_width": "",
            "_view_module": "@jupyter-widgets/base",
            "_model_module_version": "1.5.0",
            "_view_count": null,
            "_view_module_version": "1.2.0",
            "_model_module": "@jupyter-widgets/controls"
          }
        },
        "a4909d928e034ab6b9ed8e4181f39c79": {
          "model_module": "@jupyter-widgets/base",
          "model_name": "LayoutModel",
          "model_module_version": "1.2.0",
          "state": {
            "_view_name": "LayoutView",
            "grid_template_rows": null,
            "right": null,
            "justify_content": null,
            "_view_module": "@jupyter-widgets/base",
            "overflow": null,
            "_model_module_version": "1.2.0",
            "_view_count": null,
            "flex_flow": null,
            "width": null,
            "min_width": null,
            "border": null,
            "align_items": null,
            "bottom": null,
            "_model_module": "@jupyter-widgets/base",
            "top": null,
            "grid_column": null,
            "overflow_y": null,
            "overflow_x": null,
            "grid_auto_flow": null,
            "grid_area": null,
            "grid_template_columns": null,
            "flex": null,
            "_model_name": "LayoutModel",
            "justify_items": null,
            "grid_row": null,
            "max_height": null,
            "align_content": null,
            "visibility": null,
            "align_self": null,
            "height": null,
            "min_height": null,
            "padding": null,
            "grid_auto_rows": null,
            "grid_gap": null,
            "max_width": null,
            "order": null,
            "_view_module_version": "1.2.0",
            "grid_template_areas": null,
            "object_position": null,
            "object_fit": null,
            "grid_auto_columns": null,
            "margin": null,
            "display": null,
            "left": null
          }
        },
        "bb85fe273f5c47c8b9e6cedf1756d00f": {
          "model_module": "@jupyter-widgets/controls",
          "model_name": "ProgressStyleModel",
          "model_module_version": "1.5.0",
          "state": {
            "_view_name": "StyleView",
            "_model_name": "ProgressStyleModel",
            "description_width": "",
            "_view_module": "@jupyter-widgets/base",
            "_model_module_version": "1.5.0",
            "_view_count": null,
            "_view_module_version": "1.2.0",
            "bar_color": null,
            "_model_module": "@jupyter-widgets/controls"
          }
        },
        "3ba033182b21468cbb728dae9e55edf2": {
          "model_module": "@jupyter-widgets/base",
          "model_name": "LayoutModel",
          "model_module_version": "1.2.0",
          "state": {
            "_view_name": "LayoutView",
            "grid_template_rows": null,
            "right": null,
            "justify_content": null,
            "_view_module": "@jupyter-widgets/base",
            "overflow": null,
            "_model_module_version": "1.2.0",
            "_view_count": null,
            "flex_flow": null,
            "width": null,
            "min_width": null,
            "border": null,
            "align_items": null,
            "bottom": null,
            "_model_module": "@jupyter-widgets/base",
            "top": null,
            "grid_column": null,
            "overflow_y": null,
            "overflow_x": null,
            "grid_auto_flow": null,
            "grid_area": null,
            "grid_template_columns": null,
            "flex": null,
            "_model_name": "LayoutModel",
            "justify_items": null,
            "grid_row": null,
            "max_height": null,
            "align_content": null,
            "visibility": null,
            "align_self": null,
            "height": null,
            "min_height": null,
            "padding": null,
            "grid_auto_rows": null,
            "grid_gap": null,
            "max_width": null,
            "order": null,
            "_view_module_version": "1.2.0",
            "grid_template_areas": null,
            "object_position": null,
            "object_fit": null,
            "grid_auto_columns": null,
            "margin": null,
            "display": null,
            "left": null
          }
        },
        "a0052a78ebed4b22b9d58a8797dddf08": {
          "model_module": "@jupyter-widgets/controls",
          "model_name": "DescriptionStyleModel",
          "model_module_version": "1.5.0",
          "state": {
            "_view_name": "StyleView",
            "_model_name": "DescriptionStyleModel",
            "description_width": "",
            "_view_module": "@jupyter-widgets/base",
            "_model_module_version": "1.5.0",
            "_view_count": null,
            "_view_module_version": "1.2.0",
            "_model_module": "@jupyter-widgets/controls"
          }
        },
        "cd2ba0c132dd4bed857ce2b7a9f6459b": {
          "model_module": "@jupyter-widgets/base",
          "model_name": "LayoutModel",
          "model_module_version": "1.2.0",
          "state": {
            "_view_name": "LayoutView",
            "grid_template_rows": null,
            "right": null,
            "justify_content": null,
            "_view_module": "@jupyter-widgets/base",
            "overflow": null,
            "_model_module_version": "1.2.0",
            "_view_count": null,
            "flex_flow": null,
            "width": null,
            "min_width": null,
            "border": null,
            "align_items": null,
            "bottom": null,
            "_model_module": "@jupyter-widgets/base",
            "top": null,
            "grid_column": null,
            "overflow_y": null,
            "overflow_x": null,
            "grid_auto_flow": null,
            "grid_area": null,
            "grid_template_columns": null,
            "flex": null,
            "_model_name": "LayoutModel",
            "justify_items": null,
            "grid_row": null,
            "max_height": null,
            "align_content": null,
            "visibility": null,
            "align_self": null,
            "height": null,
            "min_height": null,
            "padding": null,
            "grid_auto_rows": null,
            "grid_gap": null,
            "max_width": null,
            "order": null,
            "_view_module_version": "1.2.0",
            "grid_template_areas": null,
            "object_position": null,
            "object_fit": null,
            "grid_auto_columns": null,
            "margin": null,
            "display": null,
            "left": null
          }
        }
      }
    },
    "accelerator": "GPU"
  },
  "cells": [
    {
      "cell_type": "markdown",
      "metadata": {
        "id": "view-in-github",
        "colab_type": "text"
      },
      "source": [
        "<a href=\"https://colab.research.google.com/github/kartickgupta/shared-task-2021/blob/main/XLNet_base_resampled_cleaned_A1.ipynb\" target=\"_parent\"><img src=\"https://colab.research.google.com/assets/colab-badge.svg\" alt=\"Open In Colab\"/></a>"
      ]
    },
    {
      "cell_type": "markdown",
      "metadata": {
        "id": "4qNVE8PeKfdy"
      },
      "source": [
        "# Model Description:\n",
        "1. Model Used : xlnet-base-cased\n",
        "2. training Data : Cleaned \n",
        "3. Class Distribution : resampled\n",
        "4. XLNet Layers = trainable\n",
        "5. batch_size = 64"
      ]
    },
    {
      "cell_type": "code",
      "metadata": {
        "colab": {
          "base_uri": "https://localhost:8080/"
        },
        "id": "VzaW6O_8g-qK",
        "outputId": "39530cdc-905c-401f-c0b7-3b1861bd132a"
      },
      "source": [
        "gpu_info = !nvidia-smi\n",
        "gpu_info = '\\n'.join(gpu_info)\n",
        "if gpu_info.find('failed') >= 0:\n",
        "  print('Not connected to a GPU')\n",
        "else:\n",
        "  print(gpu_info)"
      ],
      "execution_count": 1,
      "outputs": [
        {
          "output_type": "stream",
          "name": "stdout",
          "text": [
            "Tue Oct  5 15:28:09 2021       \n",
            "+-----------------------------------------------------------------------------+\n",
            "| NVIDIA-SMI 470.74       Driver Version: 460.32.03    CUDA Version: 11.2     |\n",
            "|-------------------------------+----------------------+----------------------+\n",
            "| GPU  Name        Persistence-M| Bus-Id        Disp.A | Volatile Uncorr. ECC |\n",
            "| Fan  Temp  Perf  Pwr:Usage/Cap|         Memory-Usage | GPU-Util  Compute M. |\n",
            "|                               |                      |               MIG M. |\n",
            "|===============================+======================+======================|\n",
            "|   0  Tesla P100-PCIE...  Off  | 00000000:00:04.0 Off |                    0 |\n",
            "| N/A   35C    P0    29W / 250W |      0MiB / 16280MiB |      0%      Default |\n",
            "|                               |                      |                  N/A |\n",
            "+-------------------------------+----------------------+----------------------+\n",
            "                                                                               \n",
            "+-----------------------------------------------------------------------------+\n",
            "| Processes:                                                                  |\n",
            "|  GPU   GI   CI        PID   Type   Process name                  GPU Memory |\n",
            "|        ID   ID                                                   Usage      |\n",
            "|=============================================================================|\n",
            "|  No running processes found                                                 |\n",
            "+-----------------------------------------------------------------------------+\n"
          ]
        }
      ]
    },
    {
      "cell_type": "code",
      "metadata": {
        "id": "VFEymR8P3uaS"
      },
      "source": [
        "# !pip install textaugment\n",
        "# import nltk\n",
        "# nltk.download('all')"
      ],
      "execution_count": 2,
      "outputs": []
    },
    {
      "cell_type": "code",
      "metadata": {
        "id": "lU-HJJC7tvSE"
      },
      "source": [
        "import pandas as pd\n",
        "import numpy as np\n",
        "import tensorflow as tf\n",
        "from tensorflow.keras.preprocessing.text import Tokenizer\n",
        "from tensorflow.keras.layers import Embedding, Dense, Dropout, Bidirectional, LSTM\n",
        "from tensorflow.keras.preprocessing.sequence import pad_sequences\n",
        "from tensorflow.keras.utils import to_categorical\n",
        "from google.colab import drive\n",
        "# from textaugment import Wordnet, EDA, word2vec, Translate\n",
        "# from nltk import WordNetLemmatizer\n",
        "# from nltk.corpus import stopwords\n",
        "import gensim\n",
        "import re\n",
        "import matplotlib.pyplot as plt\n",
        "import seaborn as sns\n",
        "# !pip3 install tensorflow_text\n",
        "# import tensorflow_text\n",
        "# !pip install -q tf-models-official\n",
        "# !pip install -q -U tensorflow-text\n",
        "# from tensorflow_text.tools.wordpiece_vocab import bert_vocab_from_dataset as bert_vocab\n",
        "# import tensorflow_hub as hub\n",
        "# import tensorflow_text as tf_text\n",
        "from tqdm import tqdm"
      ],
      "execution_count": 3,
      "outputs": []
    },
    {
      "cell_type": "code",
      "metadata": {
        "colab": {
          "base_uri": "https://localhost:8080/"
        },
        "id": "4bBJN1FUeRop",
        "outputId": "58079f9a-98a4-49c9-d8dd-3771fab434b5"
      },
      "source": [
        "!pip3 install transformers\n",
        "!pip install sentencepiece"
      ],
      "execution_count": 4,
      "outputs": [
        {
          "output_type": "stream",
          "name": "stdout",
          "text": [
            "Collecting transformers\n",
            "  Downloading transformers-4.11.2-py3-none-any.whl (2.9 MB)\n",
            "\u001b[K     |████████████████████████████████| 2.9 MB 7.4 MB/s \n",
            "\u001b[?25hRequirement already satisfied: regex!=2019.12.17 in /usr/local/lib/python3.7/dist-packages (from transformers) (2019.12.20)\n",
            "Requirement already satisfied: filelock in /usr/local/lib/python3.7/dist-packages (from transformers) (3.0.12)\n",
            "Collecting pyyaml>=5.1\n",
            "  Downloading PyYAML-5.4.1-cp37-cp37m-manylinux1_x86_64.whl (636 kB)\n",
            "\u001b[K     |████████████████████████████████| 636 kB 76.1 MB/s \n",
            "\u001b[?25hCollecting sacremoses\n",
            "  Downloading sacremoses-0.0.46-py3-none-any.whl (895 kB)\n",
            "\u001b[K     |████████████████████████████████| 895 kB 87.5 MB/s \n",
            "\u001b[?25hCollecting tokenizers<0.11,>=0.10.1\n",
            "  Downloading tokenizers-0.10.3-cp37-cp37m-manylinux_2_5_x86_64.manylinux1_x86_64.manylinux_2_12_x86_64.manylinux2010_x86_64.whl (3.3 MB)\n",
            "\u001b[K     |████████████████████████████████| 3.3 MB 76.8 MB/s \n",
            "\u001b[?25hRequirement already satisfied: packaging>=20.0 in /usr/local/lib/python3.7/dist-packages (from transformers) (21.0)\n",
            "Requirement already satisfied: numpy>=1.17 in /usr/local/lib/python3.7/dist-packages (from transformers) (1.19.5)\n",
            "Requirement already satisfied: requests in /usr/local/lib/python3.7/dist-packages (from transformers) (2.23.0)\n",
            "Collecting huggingface-hub>=0.0.17\n",
            "  Downloading huggingface_hub-0.0.18-py3-none-any.whl (56 kB)\n",
            "\u001b[K     |████████████████████████████████| 56 kB 6.4 MB/s \n",
            "\u001b[?25hRequirement already satisfied: importlib-metadata in /usr/local/lib/python3.7/dist-packages (from transformers) (4.8.1)\n",
            "Requirement already satisfied: tqdm>=4.27 in /usr/local/lib/python3.7/dist-packages (from transformers) (4.62.3)\n",
            "Requirement already satisfied: typing-extensions in /usr/local/lib/python3.7/dist-packages (from huggingface-hub>=0.0.17->transformers) (3.7.4.3)\n",
            "Collecting ruamel.yaml==0.17.16\n",
            "  Downloading ruamel.yaml-0.17.16-py3-none-any.whl (109 kB)\n",
            "\u001b[K     |████████████████████████████████| 109 kB 88.2 MB/s \n",
            "\u001b[?25hCollecting ruamel.yaml.clib>=0.1.2\n",
            "  Downloading ruamel.yaml.clib-0.2.6-cp37-cp37m-manylinux1_x86_64.whl (546 kB)\n",
            "\u001b[K     |████████████████████████████████| 546 kB 79.6 MB/s \n",
            "\u001b[?25hRequirement already satisfied: pyparsing>=2.0.2 in /usr/local/lib/python3.7/dist-packages (from packaging>=20.0->transformers) (2.4.7)\n",
            "Requirement already satisfied: zipp>=0.5 in /usr/local/lib/python3.7/dist-packages (from importlib-metadata->transformers) (3.5.0)\n",
            "Requirement already satisfied: certifi>=2017.4.17 in /usr/local/lib/python3.7/dist-packages (from requests->transformers) (2021.5.30)\n",
            "Requirement already satisfied: idna<3,>=2.5 in /usr/local/lib/python3.7/dist-packages (from requests->transformers) (2.10)\n",
            "Requirement already satisfied: urllib3!=1.25.0,!=1.25.1,<1.26,>=1.21.1 in /usr/local/lib/python3.7/dist-packages (from requests->transformers) (1.24.3)\n",
            "Requirement already satisfied: chardet<4,>=3.0.2 in /usr/local/lib/python3.7/dist-packages (from requests->transformers) (3.0.4)\n",
            "Requirement already satisfied: six in /usr/local/lib/python3.7/dist-packages (from sacremoses->transformers) (1.15.0)\n",
            "Requirement already satisfied: click in /usr/local/lib/python3.7/dist-packages (from sacremoses->transformers) (7.1.2)\n",
            "Requirement already satisfied: joblib in /usr/local/lib/python3.7/dist-packages (from sacremoses->transformers) (1.0.1)\n",
            "Installing collected packages: ruamel.yaml.clib, ruamel.yaml, tokenizers, sacremoses, pyyaml, huggingface-hub, transformers\n",
            "  Attempting uninstall: pyyaml\n",
            "    Found existing installation: PyYAML 3.13\n",
            "    Uninstalling PyYAML-3.13:\n",
            "      Successfully uninstalled PyYAML-3.13\n",
            "Successfully installed huggingface-hub-0.0.18 pyyaml-5.4.1 ruamel.yaml-0.17.16 ruamel.yaml.clib-0.2.6 sacremoses-0.0.46 tokenizers-0.10.3 transformers-4.11.2\n",
            "Collecting sentencepiece\n",
            "  Downloading sentencepiece-0.1.96-cp37-cp37m-manylinux_2_17_x86_64.manylinux2014_x86_64.whl (1.2 MB)\n",
            "\u001b[K     |████████████████████████████████| 1.2 MB 7.3 MB/s \n",
            "\u001b[?25hInstalling collected packages: sentencepiece\n",
            "Successfully installed sentencepiece-0.1.96\n"
          ]
        }
      ]
    },
    {
      "cell_type": "code",
      "metadata": {
        "id": "qtU3_grlvTrh",
        "colab": {
          "base_uri": "https://localhost:8080/"
        },
        "outputId": "d78726ab-6230-47aa-972d-eb6da629e579"
      },
      "source": [
        "drive.mount('/content/drive')"
      ],
      "execution_count": 5,
      "outputs": [
        {
          "output_type": "stream",
          "name": "stdout",
          "text": [
            "Mounted at /content/drive\n"
          ]
        }
      ]
    },
    {
      "cell_type": "code",
      "metadata": {
        "id": "nCCsVGbfvnq6",
        "colab": {
          "base_uri": "https://localhost:8080/",
          "height": 660
        },
        "outputId": "09833fd0-3da1-4eeb-e4fc-1d6690c73a54"
      },
      "source": [
        "with open('/content/drive/MyDrive/Shared Task 2021/global-headline-only.csv', 'r') as f:\n",
        "    df = pd.read_csv(f)\n",
        "\n",
        "df.head()"
      ],
      "execution_count": 6,
      "outputs": [
        {
          "output_type": "execute_result",
          "data": {
            "text/html": [
              "<div>\n",
              "<style scoped>\n",
              "    .dataframe tbody tr th:only-of-type {\n",
              "        vertical-align: middle;\n",
              "    }\n",
              "\n",
              "    .dataframe tbody tr th {\n",
              "        vertical-align: top;\n",
              "    }\n",
              "\n",
              "    .dataframe thead th {\n",
              "        text-align: right;\n",
              "    }\n",
              "</style>\n",
              "<table border=\"1\" class=\"dataframe\">\n",
              "  <thead>\n",
              "    <tr style=\"text-align: right;\">\n",
              "      <th></th>\n",
              "      <th>data_id</th>\n",
              "      <th>event_date</th>\n",
              "      <th>year</th>\n",
              "      <th>event_type</th>\n",
              "      <th>sub_event_type</th>\n",
              "      <th>region</th>\n",
              "      <th>country</th>\n",
              "      <th>location</th>\n",
              "      <th>notes</th>\n",
              "      <th>cleaned</th>\n",
              "      <th>lemmatized</th>\n",
              "      <th>stemmed</th>\n",
              "    </tr>\n",
              "  </thead>\n",
              "  <tbody>\n",
              "    <tr>\n",
              "      <th>0</th>\n",
              "      <td>8378880</td>\n",
              "      <td>09-07-2021</td>\n",
              "      <td>2021</td>\n",
              "      <td>Explosions/Remote violence</td>\n",
              "      <td>Shelling/artillery/missile attack</td>\n",
              "      <td>Middle East</td>\n",
              "      <td>Syria</td>\n",
              "      <td>Arnaba</td>\n",
              "      <td>On 9 July 2021, regime forces shelled Arnaba t...</td>\n",
              "      <td>regime forces shelled Arnaba town in Idleb cou...</td>\n",
              "      <td>regime force shelled arnaba town idleb country...</td>\n",
              "      <td>regim forc shell arnaba town idleb countrysid ...</td>\n",
              "    </tr>\n",
              "    <tr>\n",
              "      <th>1</th>\n",
              "      <td>8378881</td>\n",
              "      <td>09-07-2021</td>\n",
              "      <td>2021</td>\n",
              "      <td>Explosions/Remote violence</td>\n",
              "      <td>Shelling/artillery/missile attack</td>\n",
              "      <td>Middle East</td>\n",
              "      <td>Syria</td>\n",
              "      <td>Balyun</td>\n",
              "      <td>On 9 July 2021, regime forces shelled Balyun t...</td>\n",
              "      <td>regime forces shelled Balyun town and its vici...</td>\n",
              "      <td>regime force shelled balyun town vicinity idle...</td>\n",
              "      <td>regim forc shell balyun town vicin idleb count...</td>\n",
              "    </tr>\n",
              "    <tr>\n",
              "      <th>2</th>\n",
              "      <td>8381441</td>\n",
              "      <td>09-07-2021</td>\n",
              "      <td>2021</td>\n",
              "      <td>Protests</td>\n",
              "      <td>Peaceful protest</td>\n",
              "      <td>East Asia</td>\n",
              "      <td>South Korea</td>\n",
              "      <td>Jinju</td>\n",
              "      <td>On 9 July 2021, local veterans' organizations,...</td>\n",
              "      <td>local veterans organizations including the Kor...</td>\n",
              "      <td>local veteran organization including korean wa...</td>\n",
              "      <td>local veteran organ includ korean war veteran ...</td>\n",
              "    </tr>\n",
              "    <tr>\n",
              "      <th>3</th>\n",
              "      <td>8383746</td>\n",
              "      <td>09-07-2021</td>\n",
              "      <td>2021</td>\n",
              "      <td>Riots</td>\n",
              "      <td>Violent demonstration</td>\n",
              "      <td>South Asia</td>\n",
              "      <td>Pakistan</td>\n",
              "      <td>Larkana</td>\n",
              "      <td>On 9 July 2021, prisoners held a demonstration...</td>\n",
              "      <td>prisoners held a demonstration and set wood an...</td>\n",
              "      <td>prisoner held demonstration set wood clothes f...</td>\n",
              "      <td>prison held demonstr set wood cloth fire larka...</td>\n",
              "    </tr>\n",
              "    <tr>\n",
              "      <th>4</th>\n",
              "      <td>8381699</td>\n",
              "      <td>09-07-2021</td>\n",
              "      <td>2021</td>\n",
              "      <td>Violence against civilians</td>\n",
              "      <td>Attack</td>\n",
              "      <td>Southeast Asia</td>\n",
              "      <td>Myanmar</td>\n",
              "      <td>Hpa Yar Gyi</td>\n",
              "      <td>On 9 July 2021, in Hpa Yar Gyi village (Thongw...</td>\n",
              "      <td>in Hpa Yar Gyi village  the village administra...</td>\n",
              "      <td>hpa yar gyi village village administrator shot...</td>\n",
              "      <td>hpa yar gyi villag villag administr shot three...</td>\n",
              "    </tr>\n",
              "  </tbody>\n",
              "</table>\n",
              "</div>"
            ],
            "text/plain": [
              "   data_id  ...                                            stemmed\n",
              "0  8378880  ...  regim forc shell arnaba town idleb countrysid ...\n",
              "1  8378881  ...  regim forc shell balyun town vicin idleb count...\n",
              "2  8381441  ...  local veteran organ includ korean war veteran ...\n",
              "3  8383746  ...  prison held demonstr set wood cloth fire larka...\n",
              "4  8381699  ...  hpa yar gyi villag villag administr shot three...\n",
              "\n",
              "[5 rows x 12 columns]"
            ]
          },
          "metadata": {},
          "execution_count": 6
        }
      ]
    },
    {
      "cell_type": "code",
      "metadata": {
        "id": "t7sHoDO39SyD"
      },
      "source": [
        "correct_format = ['ABDUCT_DISSAP',\n",
        "'AGREEMENT',\n",
        "'AIR_STRIKE',\n",
        "'ARMED_CLASH',\n",
        "'ARREST',\n",
        "'ART_MISS_ATTACK',\n",
        "'ATTACK',\n",
        "'CHANGE_TO_GROUP_ACT',\n",
        "'CHEM_WEAP',\n",
        "'DISR_WEAP',\n",
        "'FORCE_AGAINST_PROTEST',\n",
        "'GOV_REGAINS_TERIT',\n",
        "'GRENADE',\n",
        "'HQ_ESTABLISHED',\n",
        "'MOB_VIOL',\n",
        "'NON_STATE_ACTOR_OVERTAKES_TER',\n",
        "'NON_VIOL_TERRIT_TRANSFER',\n",
        "'OTHER',\n",
        "'PEACE_PROTEST',\n",
        "'PROPERTY_DISTRUCT',\n",
        "'PROTEST_WITH_INTER',\n",
        "'REM_EXPLOS',\n",
        "'SEX_VIOL',\n",
        "'SUIC_BOMB',\n",
        "'VIOL_DEMONSTR']"
      ],
      "execution_count": 7,
      "outputs": []
    },
    {
      "cell_type": "code",
      "metadata": {
        "id": "s2RFOLY8-YK6"
      },
      "source": [
        "correct_format_dict = {'Abduction/forced disappearance':'ABDUCT_DISSAP',\n",
        "                       'Agreement': 'AGREEMENT',\n",
        "                        'Air/drone strike' : 'AIR_STRIKE',\n",
        "                         'Armed clash' : 'ARMED_CLASH',\n",
        "                       'Arrests' : 'ARREST',\n",
        "                       'Attack' : 'ATTACK',\n",
        "                       'Change to group/activity' : 'CHANGE_TO_GROUP_ACT',\n",
        "                       'Chemical weapon' : 'CHEM_WEAP',\n",
        "                       'Disrupted weapons use' : 'DISR_WEAP',\n",
        "                       'Excessive force against protesters' : 'FORCE_AGAINST_PROTEST',\n",
        "                       'Government regains territory' : 'GOV_REGAINS_TERIT',\n",
        "                       'Grenade' : 'GRENADE',\n",
        "                        'Headquarters or base established' : 'HQ_ESTABLISHED',\n",
        "                       'Looting/property destruction' : 'PROPERTY_DISTRUCT',\n",
        "                       'Mob violence' : 'MOB_VIOL',\n",
        "                       'Non-state actor overtakes territory' : 'NON_STATE_ACTOR_OVERTAKES_TER',\n",
        "                       'Non-violent transfer of territory' : 'NON_VIOL_TERRIT_TRANSFER',\n",
        "                       'Other' : 'OTHER',\n",
        "                        'Peaceful protest' : 'PEACE_PROTEST',\n",
        "                       'Protest with intervention' : 'PROTEST_WITH_INTER',\n",
        "                       'Remote explosive/landmine/IED' : 'REM_EXPLOS',\n",
        "                       'Sexual violence' : 'SEX_VIOL',\n",
        "                       'Shelling/artillery/missile attack' : 'ART_MISS_ATTACK',\n",
        "                       'Suicide bomb' : 'SUIC_BOMB',\n",
        "                        'Violent demonstration' : 'VIOL_DEMONSTR'\n",
        "                       }"
      ],
      "execution_count": 8,
      "outputs": []
    },
    {
      "cell_type": "code",
      "metadata": {
        "id": "YP9LGH-M-naJ",
        "colab": {
          "base_uri": "https://localhost:8080/"
        },
        "outputId": "f778ef42-6a5b-49ed-de0a-199c07ed88d5"
      },
      "source": [
        "correct_format_dict"
      ],
      "execution_count": 9,
      "outputs": [
        {
          "output_type": "execute_result",
          "data": {
            "text/plain": [
              "{'Abduction/forced disappearance': 'ABDUCT_DISSAP',\n",
              " 'Agreement': 'AGREEMENT',\n",
              " 'Air/drone strike': 'AIR_STRIKE',\n",
              " 'Armed clash': 'ARMED_CLASH',\n",
              " 'Arrests': 'ARREST',\n",
              " 'Attack': 'ATTACK',\n",
              " 'Change to group/activity': 'CHANGE_TO_GROUP_ACT',\n",
              " 'Chemical weapon': 'CHEM_WEAP',\n",
              " 'Disrupted weapons use': 'DISR_WEAP',\n",
              " 'Excessive force against protesters': 'FORCE_AGAINST_PROTEST',\n",
              " 'Government regains territory': 'GOV_REGAINS_TERIT',\n",
              " 'Grenade': 'GRENADE',\n",
              " 'Headquarters or base established': 'HQ_ESTABLISHED',\n",
              " 'Looting/property destruction': 'PROPERTY_DISTRUCT',\n",
              " 'Mob violence': 'MOB_VIOL',\n",
              " 'Non-state actor overtakes territory': 'NON_STATE_ACTOR_OVERTAKES_TER',\n",
              " 'Non-violent transfer of territory': 'NON_VIOL_TERRIT_TRANSFER',\n",
              " 'Other': 'OTHER',\n",
              " 'Peaceful protest': 'PEACE_PROTEST',\n",
              " 'Protest with intervention': 'PROTEST_WITH_INTER',\n",
              " 'Remote explosive/landmine/IED': 'REM_EXPLOS',\n",
              " 'Sexual violence': 'SEX_VIOL',\n",
              " 'Shelling/artillery/missile attack': 'ART_MISS_ATTACK',\n",
              " 'Suicide bomb': 'SUIC_BOMB',\n",
              " 'Violent demonstration': 'VIOL_DEMONSTR'}"
            ]
          },
          "metadata": {},
          "execution_count": 9
        }
      ]
    },
    {
      "cell_type": "code",
      "metadata": {
        "id": "dc1nqcY1-zeJ"
      },
      "source": [
        "def correct_format(text):\n",
        "    correct_label = correct_format_dict[text]\n",
        "    return correct_label\n",
        "\n",
        "df['sub_event_type'] = df['sub_event_type'].apply(correct_format)"
      ],
      "execution_count": 10,
      "outputs": []
    },
    {
      "cell_type": "code",
      "metadata": {
        "id": "Z9hmpvR2so-h",
        "colab": {
          "base_uri": "https://localhost:8080/"
        },
        "outputId": "0f6a4674-5193-4cb3-83d5-d3607438b08d"
      },
      "source": [
        "df.sub_event_type.value_counts()"
      ],
      "execution_count": 11,
      "outputs": [
        {
          "output_type": "execute_result",
          "data": {
            "text/plain": [
              "PEACE_PROTEST                    329399\n",
              "ARMED_CLASH                      239828\n",
              "ATTACK                           132202\n",
              "ART_MISS_ATTACK                   64743\n",
              "MOB_VIOL                          42079\n",
              "VIOL_DEMONSTR                     41003\n",
              "AIR_STRIKE                        34020\n",
              "PROTEST_WITH_INTER                31784\n",
              "REM_EXPLOS                        30620\n",
              "PROPERTY_DISTRUCT                 24315\n",
              "ABDUCT_DISSAP                     14624\n",
              "ARREST                             8668\n",
              "CHANGE_TO_GROUP_ACT                7925\n",
              "DISR_WEAP                          7499\n",
              "GOV_REGAINS_TERIT                  6148\n",
              "OTHER                              5353\n",
              "FORCE_AGAINST_PROTEST              3098\n",
              "GRENADE                            2948\n",
              "NON_STATE_ACTOR_OVERTAKES_TER      2670\n",
              "SEX_VIOL                           2196\n",
              "AGREEMENT                          1460\n",
              "NON_VIOL_TERRIT_TRANSFER            989\n",
              "SUIC_BOMB                           635\n",
              "HQ_ESTABLISHED                      311\n",
              "CHEM_WEAP                            10\n",
              "Name: sub_event_type, dtype: int64"
            ]
          },
          "metadata": {},
          "execution_count": 11
        }
      ]
    },
    {
      "cell_type": "code",
      "metadata": {
        "id": "zySeKLkT4ACP",
        "colab": {
          "base_uri": "https://localhost:8080/"
        },
        "outputId": "fb7483a8-277d-4fac-a604-caeab6008c0d"
      },
      "source": [
        "df.drop_duplicates(['lemmatized']).sub_event_type.value_counts()"
      ],
      "execution_count": 12,
      "outputs": [
        {
          "output_type": "execute_result",
          "data": {
            "text/plain": [
              "PEACE_PROTEST                    305383\n",
              "ARMED_CLASH                       96231\n",
              "ATTACK                            65363\n",
              "ART_MISS_ATTACK                   33279\n",
              "VIOL_DEMONSTR                     24574\n",
              "MOB_VIOL                          21098\n",
              "AIR_STRIKE                        18620\n",
              "REM_EXPLOS                        16110\n",
              "PROTEST_WITH_INTER                15003\n",
              "PROPERTY_DISTRUCT                 12036\n",
              "ABDUCT_DISSAP                      7214\n",
              "CHANGE_TO_GROUP_ACT                7098\n",
              "ARREST                             4238\n",
              "DISR_WEAP                          3866\n",
              "OTHER                              3698\n",
              "GOV_REGAINS_TERIT                  2424\n",
              "GRENADE                            1530\n",
              "FORCE_AGAINST_PROTEST              1520\n",
              "NON_STATE_ACTOR_OVERTAKES_TER      1198\n",
              "SEX_VIOL                           1027\n",
              "AGREEMENT                           692\n",
              "NON_VIOL_TERRIT_TRANSFER            512\n",
              "SUIC_BOMB                           319\n",
              "HQ_ESTABLISHED                      291\n",
              "CHEM_WEAP                             4\n",
              "Name: sub_event_type, dtype: int64"
            ]
          },
          "metadata": {},
          "execution_count": 12
        }
      ]
    },
    {
      "cell_type": "code",
      "metadata": {
        "id": "5Mu6hGFlp_JQ",
        "colab": {
          "base_uri": "https://localhost:8080/"
        },
        "outputId": "d406f8f4-d503-4e5e-bf12-823decf3e07f"
      },
      "source": [
        "event_types_dict = {}\n",
        "for num, name in enumerate(list(df['sub_event_type'].unique())):\n",
        "    event_types_dict[name] = num\n",
        "    # print(name, \" : \", num)\n",
        "\n",
        "event_types_dict\n",
        "\n",
        "event_types_dict_inverse = {k:v for v,k in event_types_dict.items()}\n",
        "print(event_types_dict)\n",
        "print( event_types_dict_inverse)"
      ],
      "execution_count": 13,
      "outputs": [
        {
          "output_type": "stream",
          "name": "stdout",
          "text": [
            "{'ART_MISS_ATTACK': 0, 'PEACE_PROTEST': 1, 'VIOL_DEMONSTR': 2, 'ATTACK': 3, 'AIR_STRIKE': 4, 'ARMED_CLASH': 5, 'MOB_VIOL': 6, 'PROTEST_WITH_INTER': 7, 'FORCE_AGAINST_PROTEST': 8, 'PROPERTY_DISTRUCT': 9, 'OTHER': 10, 'REM_EXPLOS': 11, 'GOV_REGAINS_TERIT': 12, 'ABDUCT_DISSAP': 13, 'CHANGE_TO_GROUP_ACT': 14, 'NON_STATE_ACTOR_OVERTAKES_TER': 15, 'ARREST': 16, 'SEX_VIOL': 17, 'DISR_WEAP': 18, 'NON_VIOL_TERRIT_TRANSFER': 19, 'GRENADE': 20, 'HQ_ESTABLISHED': 21, 'SUIC_BOMB': 22, 'AGREEMENT': 23, 'CHEM_WEAP': 24}\n",
            "{0: 'ART_MISS_ATTACK', 1: 'PEACE_PROTEST', 2: 'VIOL_DEMONSTR', 3: 'ATTACK', 4: 'AIR_STRIKE', 5: 'ARMED_CLASH', 6: 'MOB_VIOL', 7: 'PROTEST_WITH_INTER', 8: 'FORCE_AGAINST_PROTEST', 9: 'PROPERTY_DISTRUCT', 10: 'OTHER', 11: 'REM_EXPLOS', 12: 'GOV_REGAINS_TERIT', 13: 'ABDUCT_DISSAP', 14: 'CHANGE_TO_GROUP_ACT', 15: 'NON_STATE_ACTOR_OVERTAKES_TER', 16: 'ARREST', 17: 'SEX_VIOL', 18: 'DISR_WEAP', 19: 'NON_VIOL_TERRIT_TRANSFER', 20: 'GRENADE', 21: 'HQ_ESTABLISHED', 22: 'SUIC_BOMB', 23: 'AGREEMENT', 24: 'CHEM_WEAP'}\n"
          ]
        }
      ]
    },
    {
      "cell_type": "code",
      "metadata": {
        "id": "LLd-mAd996SJ"
      },
      "source": [
        "dict_list = list(event_types_dict.keys())"
      ],
      "execution_count": 14,
      "outputs": []
    },
    {
      "cell_type": "code",
      "metadata": {
        "id": "WKaL1cqk7EB3"
      },
      "source": [
        "def text_to_numerical_category(name):\n",
        "    num = event_types_dict[name]\n",
        "    return num\n",
        "\n",
        "# print(text_to_numerical_category('Peaceful protest'))\n",
        "df['labels'] = df['sub_event_type'].apply(text_to_numerical_category)"
      ],
      "execution_count": 15,
      "outputs": []
    },
    {
      "cell_type": "code",
      "metadata": {
        "id": "s3PF6Hlh8Lc6"
      },
      "source": [
        "df.drop(columns=['data_id', 'event_date', 'year','event_type','region','country', 'location',\t'notes','lemmatized', 'stemmed'\t], inplace=True)"
      ],
      "execution_count": 16,
      "outputs": []
    },
    {
      "cell_type": "code",
      "metadata": {
        "id": "TRVDMv0_Rb1-",
        "colab": {
          "base_uri": "https://localhost:8080/",
          "height": 203
        },
        "outputId": "d953afb4-5c2d-422b-8359-99ef8dca397c"
      },
      "source": [
        "df.head()"
      ],
      "execution_count": 17,
      "outputs": [
        {
          "output_type": "execute_result",
          "data": {
            "text/html": [
              "<div>\n",
              "<style scoped>\n",
              "    .dataframe tbody tr th:only-of-type {\n",
              "        vertical-align: middle;\n",
              "    }\n",
              "\n",
              "    .dataframe tbody tr th {\n",
              "        vertical-align: top;\n",
              "    }\n",
              "\n",
              "    .dataframe thead th {\n",
              "        text-align: right;\n",
              "    }\n",
              "</style>\n",
              "<table border=\"1\" class=\"dataframe\">\n",
              "  <thead>\n",
              "    <tr style=\"text-align: right;\">\n",
              "      <th></th>\n",
              "      <th>sub_event_type</th>\n",
              "      <th>cleaned</th>\n",
              "      <th>labels</th>\n",
              "    </tr>\n",
              "  </thead>\n",
              "  <tbody>\n",
              "    <tr>\n",
              "      <th>0</th>\n",
              "      <td>ART_MISS_ATTACK</td>\n",
              "      <td>regime forces shelled Arnaba town in Idleb cou...</td>\n",
              "      <td>0</td>\n",
              "    </tr>\n",
              "    <tr>\n",
              "      <th>1</th>\n",
              "      <td>ART_MISS_ATTACK</td>\n",
              "      <td>regime forces shelled Balyun town and its vici...</td>\n",
              "      <td>0</td>\n",
              "    </tr>\n",
              "    <tr>\n",
              "      <th>2</th>\n",
              "      <td>PEACE_PROTEST</td>\n",
              "      <td>local veterans organizations including the Kor...</td>\n",
              "      <td>1</td>\n",
              "    </tr>\n",
              "    <tr>\n",
              "      <th>3</th>\n",
              "      <td>VIOL_DEMONSTR</td>\n",
              "      <td>prisoners held a demonstration and set wood an...</td>\n",
              "      <td>2</td>\n",
              "    </tr>\n",
              "    <tr>\n",
              "      <th>4</th>\n",
              "      <td>ATTACK</td>\n",
              "      <td>in Hpa Yar Gyi village  the village administra...</td>\n",
              "      <td>3</td>\n",
              "    </tr>\n",
              "  </tbody>\n",
              "</table>\n",
              "</div>"
            ],
            "text/plain": [
              "    sub_event_type                                            cleaned  labels\n",
              "0  ART_MISS_ATTACK  regime forces shelled Arnaba town in Idleb cou...       0\n",
              "1  ART_MISS_ATTACK  regime forces shelled Balyun town and its vici...       0\n",
              "2    PEACE_PROTEST  local veterans organizations including the Kor...       1\n",
              "3    VIOL_DEMONSTR  prisoners held a demonstration and set wood an...       2\n",
              "4           ATTACK  in Hpa Yar Gyi village  the village administra...       3"
            ]
          },
          "metadata": {},
          "execution_count": 17
        }
      ]
    },
    {
      "cell_type": "markdown",
      "metadata": {
        "id": "RWuVG1ftDdQ0"
      },
      "source": [
        "## Handling Imbalanced Dataset"
      ]
    },
    {
      "cell_type": "code",
      "metadata": {
        "id": "Lss93xr7hmse"
      },
      "source": [
        "from sklearn.utils import shuffle\n",
        "\n",
        "lemm = []\n",
        "labels = []\n",
        "THRESH_1 = 20000\n",
        "THRESH_2 = 10000\n",
        "THRESH_3 = 1000\n",
        "\n",
        "for group in df.sub_event_type.unique():\n",
        "    # Having More Than 20K\n",
        "    if len(df.groupby('sub_event_type').get_group(group).cleaned.unique()) > THRESH_1:\n",
        "        lemm += (list(shuffle(df.groupby('sub_event_type').get_group(group).cleaned.unique()))[:THRESH_1])\n",
        "        labels += ([group]*THRESH_1)\n",
        "     # Having Unique b/w 20K and 10K - Take top 20K from all\n",
        "    elif len(df.groupby('sub_event_type').get_group(group).cleaned.unique()) < THRESH_1 and len(df.groupby('sub_event_type').get_group(group).cleaned.unique()) > THRESH_2:\n",
        "       lemm += (list(shuffle(df.groupby('sub_event_type').get_group(group).cleaned))[:THRESH_1])\n",
        "       labels += ([group]*THRESH_1)\n",
        "    # Having b/w 20K and 5K - take all\n",
        "    elif len(df.groupby('sub_event_type').get_group(group).cleaned) < 20000 and len(df.groupby('sub_event_type').get_group(group).cleaned) > 5000:\n",
        "       lemm += list(shuffle(df.groupby('sub_event_type').get_group(group).cleaned))\n",
        "       labels += ([group]*len(list(shuffle(df.groupby('sub_event_type').get_group(group).cleaned))))\n",
        "     # Having Less Than 1K - Multipy by 6\n",
        "    elif len(df.groupby('sub_event_type').get_group(group).cleaned) < THRESH_3:\n",
        "        for i in range(6):\n",
        "            lemm += list(shuffle(df.groupby('sub_event_type').get_group(group).cleaned))\n",
        "            labels += ([group]*len(list(shuffle(df.groupby('sub_event_type').get_group(group).cleaned))))\n",
        "    # Remaining - Multiply by 2\n",
        "    else:\n",
        "         for i in range(2):\n",
        "            lemm += list(shuffle(df.groupby('sub_event_type').get_group(group).cleaned))\n",
        "            labels += ([group]*len(list(shuffle(df.groupby('sub_event_type').get_group(group).cleaned))))\n"
      ],
      "execution_count": 18,
      "outputs": []
    },
    {
      "cell_type": "code",
      "metadata": {
        "id": "dJpBVPnohm4s",
        "colab": {
          "base_uri": "https://localhost:8080/"
        },
        "outputId": "115da083-b744-4436-c56d-0fbcb0a434db"
      },
      "source": [
        "len(lemm)"
      ],
      "execution_count": 19,
      "outputs": [
        {
          "output_type": "execute_result",
          "data": {
            "text/plain": [
              "286631"
            ]
          },
          "metadata": {},
          "execution_count": 19
        }
      ]
    },
    {
      "cell_type": "code",
      "metadata": {
        "id": "YTcq-Gdlhm7P",
        "colab": {
          "base_uri": "https://localhost:8080/"
        },
        "outputId": "42af5014-660f-42db-f53b-9243cdab8154"
      },
      "source": [
        "len(labels)"
      ],
      "execution_count": 20,
      "outputs": [
        {
          "output_type": "execute_result",
          "data": {
            "text/plain": [
              "286631"
            ]
          },
          "metadata": {},
          "execution_count": 20
        }
      ]
    },
    {
      "cell_type": "code",
      "metadata": {
        "id": "RpdqzhBLhnAW"
      },
      "source": [
        "balanced_df = pd.DataFrame({'Text' : lemm, 'Labels': labels})"
      ],
      "execution_count": 21,
      "outputs": []
    },
    {
      "cell_type": "code",
      "metadata": {
        "id": "hZlHU6-rhnFl",
        "colab": {
          "base_uri": "https://localhost:8080/",
          "height": 203
        },
        "outputId": "e3bcbbdd-37cb-470b-d187-e38f98d4d168"
      },
      "source": [
        "balanced_df.head()"
      ],
      "execution_count": 22,
      "outputs": [
        {
          "output_type": "execute_result",
          "data": {
            "text/html": [
              "<div>\n",
              "<style scoped>\n",
              "    .dataframe tbody tr th:only-of-type {\n",
              "        vertical-align: middle;\n",
              "    }\n",
              "\n",
              "    .dataframe tbody tr th {\n",
              "        vertical-align: top;\n",
              "    }\n",
              "\n",
              "    .dataframe thead th {\n",
              "        text-align: right;\n",
              "    }\n",
              "</style>\n",
              "<table border=\"1\" class=\"dataframe\">\n",
              "  <thead>\n",
              "    <tr style=\"text-align: right;\">\n",
              "      <th></th>\n",
              "      <th>Text</th>\n",
              "      <th>Labels</th>\n",
              "    </tr>\n",
              "  </thead>\n",
              "  <tbody>\n",
              "    <tr>\n",
              "      <th>0</th>\n",
              "      <td>March the OSCE SMM observed a total of explosi...</td>\n",
              "      <td>ART_MISS_ATTACK</td>\n",
              "    </tr>\n",
              "    <tr>\n",
              "      <th>1</th>\n",
              "      <td>rebel fighters fired GRAD and How rockets at r...</td>\n",
              "      <td>ART_MISS_ATTACK</td>\n",
              "    </tr>\n",
              "    <tr>\n",
              "      <th>2</th>\n",
              "      <td>June  regime forces shelled Hazarin in souther...</td>\n",
              "      <td>ART_MISS_ATTACK</td>\n",
              "    </tr>\n",
              "    <tr>\n",
              "      <th>3</th>\n",
              "      <td>November the NAF rebel forces fired antiaircra...</td>\n",
              "      <td>ART_MISS_ATTACK</td>\n",
              "    </tr>\n",
              "    <tr>\n",
              "      <th>4</th>\n",
              "      <td>April the OSCE SMM observed a total of explosi...</td>\n",
              "      <td>ART_MISS_ATTACK</td>\n",
              "    </tr>\n",
              "  </tbody>\n",
              "</table>\n",
              "</div>"
            ],
            "text/plain": [
              "                                                Text           Labels\n",
              "0  March the OSCE SMM observed a total of explosi...  ART_MISS_ATTACK\n",
              "1  rebel fighters fired GRAD and How rockets at r...  ART_MISS_ATTACK\n",
              "2  June  regime forces shelled Hazarin in souther...  ART_MISS_ATTACK\n",
              "3  November the NAF rebel forces fired antiaircra...  ART_MISS_ATTACK\n",
              "4  April the OSCE SMM observed a total of explosi...  ART_MISS_ATTACK"
            ]
          },
          "metadata": {},
          "execution_count": 22
        }
      ]
    },
    {
      "cell_type": "code",
      "metadata": {
        "id": "zt0sCfi7n7BF",
        "colab": {
          "base_uri": "https://localhost:8080/"
        },
        "outputId": "33639985-5faa-4e6c-b98f-1a41b058d5f0"
      },
      "source": [
        "event_types_dict_new = {}\n",
        "for num, name in enumerate(list(balanced_df.Labels.unique())):\n",
        "    event_types_dict_new[name] = num\n",
        "    # print(name, \" : \", num)\n",
        "\n",
        "event_types_dict_new\n",
        "\n",
        "event_types_dict_inverse_new = {k:v for v,k in event_types_dict_new.items()}\n",
        "print(event_types_dict_new)\n",
        "print( event_types_dict_inverse_new)"
      ],
      "execution_count": 23,
      "outputs": [
        {
          "output_type": "stream",
          "name": "stdout",
          "text": [
            "{'ART_MISS_ATTACK': 0, 'PEACE_PROTEST': 1, 'VIOL_DEMONSTR': 2, 'ATTACK': 3, 'AIR_STRIKE': 4, 'ARMED_CLASH': 5, 'MOB_VIOL': 6, 'PROTEST_WITH_INTER': 7, 'FORCE_AGAINST_PROTEST': 8, 'PROPERTY_DISTRUCT': 9, 'OTHER': 10, 'REM_EXPLOS': 11, 'GOV_REGAINS_TERIT': 12, 'ABDUCT_DISSAP': 13, 'CHANGE_TO_GROUP_ACT': 14, 'NON_STATE_ACTOR_OVERTAKES_TER': 15, 'ARREST': 16, 'SEX_VIOL': 17, 'DISR_WEAP': 18, 'NON_VIOL_TERRIT_TRANSFER': 19, 'GRENADE': 20, 'HQ_ESTABLISHED': 21, 'SUIC_BOMB': 22, 'AGREEMENT': 23, 'CHEM_WEAP': 24}\n",
            "{0: 'ART_MISS_ATTACK', 1: 'PEACE_PROTEST', 2: 'VIOL_DEMONSTR', 3: 'ATTACK', 4: 'AIR_STRIKE', 5: 'ARMED_CLASH', 6: 'MOB_VIOL', 7: 'PROTEST_WITH_INTER', 8: 'FORCE_AGAINST_PROTEST', 9: 'PROPERTY_DISTRUCT', 10: 'OTHER', 11: 'REM_EXPLOS', 12: 'GOV_REGAINS_TERIT', 13: 'ABDUCT_DISSAP', 14: 'CHANGE_TO_GROUP_ACT', 15: 'NON_STATE_ACTOR_OVERTAKES_TER', 16: 'ARREST', 17: 'SEX_VIOL', 18: 'DISR_WEAP', 19: 'NON_VIOL_TERRIT_TRANSFER', 20: 'GRENADE', 21: 'HQ_ESTABLISHED', 22: 'SUIC_BOMB', 23: 'AGREEMENT', 24: 'CHEM_WEAP'}\n"
          ]
        }
      ]
    },
    {
      "cell_type": "code",
      "metadata": {
        "id": "yaPe1gYgn7IL"
      },
      "source": [
        ""
      ],
      "execution_count": 23,
      "outputs": []
    },
    {
      "cell_type": "markdown",
      "metadata": {
        "id": "5sESUy_KFLOR"
      },
      "source": [
        "## Event Frequency comparison w/ Original and Augmented Data."
      ]
    },
    {
      "cell_type": "code",
      "metadata": {
        "id": "39IIthC8mwWV",
        "colab": {
          "base_uri": "https://localhost:8080/"
        },
        "outputId": "244696eb-5bc0-4409-be67-8e23936bb878"
      },
      "source": [
        "df.sub_event_type.value_counts()"
      ],
      "execution_count": 24,
      "outputs": [
        {
          "output_type": "execute_result",
          "data": {
            "text/plain": [
              "PEACE_PROTEST                    329399\n",
              "ARMED_CLASH                      239828\n",
              "ATTACK                           132202\n",
              "ART_MISS_ATTACK                   64743\n",
              "MOB_VIOL                          42079\n",
              "VIOL_DEMONSTR                     41003\n",
              "AIR_STRIKE                        34020\n",
              "PROTEST_WITH_INTER                31784\n",
              "REM_EXPLOS                        30620\n",
              "PROPERTY_DISTRUCT                 24315\n",
              "ABDUCT_DISSAP                     14624\n",
              "ARREST                             8668\n",
              "CHANGE_TO_GROUP_ACT                7925\n",
              "DISR_WEAP                          7499\n",
              "GOV_REGAINS_TERIT                  6148\n",
              "OTHER                              5353\n",
              "FORCE_AGAINST_PROTEST              3098\n",
              "GRENADE                            2948\n",
              "NON_STATE_ACTOR_OVERTAKES_TER      2670\n",
              "SEX_VIOL                           2196\n",
              "AGREEMENT                          1460\n",
              "NON_VIOL_TERRIT_TRANSFER            989\n",
              "SUIC_BOMB                           635\n",
              "HQ_ESTABLISHED                      311\n",
              "CHEM_WEAP                            10\n",
              "Name: sub_event_type, dtype: int64"
            ]
          },
          "metadata": {},
          "execution_count": 24
        }
      ]
    },
    {
      "cell_type": "code",
      "metadata": {
        "id": "ZRGllXjAmwTp",
        "colab": {
          "base_uri": "https://localhost:8080/"
        },
        "outputId": "a86bec72-81e6-4562-8898-49002cce7ef2"
      },
      "source": [
        "balanced_df.Labels.value_counts()"
      ],
      "execution_count": 25,
      "outputs": [
        {
          "output_type": "execute_result",
          "data": {
            "text/plain": [
              "REM_EXPLOS                       20000\n",
              "ARMED_CLASH                      20000\n",
              "MOB_VIOL                         20000\n",
              "AIR_STRIKE                       20000\n",
              "PROTEST_WITH_INTER               20000\n",
              "ATTACK                           20000\n",
              "PEACE_PROTEST                    20000\n",
              "VIOL_DEMONSTR                    20000\n",
              "PROPERTY_DISTRUCT                20000\n",
              "ART_MISS_ATTACK                  20000\n",
              "ABDUCT_DISSAP                    14624\n",
              "ARREST                            8668\n",
              "CHANGE_TO_GROUP_ACT               7925\n",
              "DISR_WEAP                         7499\n",
              "FORCE_AGAINST_PROTEST             6196\n",
              "GOV_REGAINS_TERIT                 6148\n",
              "NON_VIOL_TERRIT_TRANSFER          5934\n",
              "GRENADE                           5896\n",
              "OTHER                             5353\n",
              "NON_STATE_ACTOR_OVERTAKES_TER     5340\n",
              "SEX_VIOL                          4392\n",
              "SUIC_BOMB                         3810\n",
              "AGREEMENT                         2920\n",
              "HQ_ESTABLISHED                    1866\n",
              "CHEM_WEAP                           60\n",
              "Name: Labels, dtype: int64"
            ]
          },
          "metadata": {},
          "execution_count": 25
        }
      ]
    },
    {
      "cell_type": "code",
      "metadata": {
        "id": "COm-MZgcmwY7",
        "colab": {
          "base_uri": "https://localhost:8080/",
          "height": 366
        },
        "outputId": "baa379c1-a7b6-46cc-ea47-d8ea26bf4f16"
      },
      "source": [
        "sns.set_theme(style=\"darkgrid\")\n",
        "x = df['sub_event_type'].value_counts()\n",
        "y = x.index\n",
        "plt.figure(figsize=(10, 5))\n",
        "g = sns.barplot(x=x, y=y)\n",
        "plt.title(\"Event Frequency Distribution [India]\", fontsize=20)\n",
        "plt.ylabel('Events', fontsize= 20)\n",
        "plt.yticks(fontsize=11)\n",
        "plt.xlabel('Frequency', fontsize=20)\n",
        "plt.xticks(fontsize=10)\n",
        "plt.show()"
      ],
      "execution_count": 26,
      "outputs": [
        {
          "output_type": "display_data",
          "data": {
            "image/png": "[encoded data removed]",
            "text/plain": [
              "<Figure size 720x360 with 1 Axes>"
            ]
          },
          "metadata": {}
        }
      ]
    },
    {
      "cell_type": "code",
      "metadata": {
        "id": "I9oHzQwImwbT",
        "colab": {
          "base_uri": "https://localhost:8080/",
          "height": 366
        },
        "outputId": "61829a55-37a2-42a0-dc77-6df39105d9be"
      },
      "source": [
        "sns.set_theme(style=\"darkgrid\")\n",
        "x = balanced_df.Labels.value_counts()\n",
        "y = x.index\n",
        "plt.figure(figsize=(10, 5))\n",
        "g = sns.barplot(x=x, y=y)\n",
        "plt.title(\"Event Frequency Distribution [India]\", fontsize=20)\n",
        "plt.ylabel('Events', fontsize= 20)\n",
        "plt.yticks(fontsize=11)\n",
        "plt.xlabel('Frequency', fontsize=20)\n",
        "plt.xticks(fontsize=10)\n",
        "plt.show()"
      ],
      "execution_count": 27,
      "outputs": [
        {
          "output_type": "display_data",
          "data": {
            "image/png": "[encoded data removed]",
            "text/plain": [
              "<Figure size 720x360 with 1 Axes>"
            ]
          },
          "metadata": {}
        }
      ]
    },
    {
      "cell_type": "code",
      "metadata": {
        "id": "RioIAAu0umuN"
      },
      "source": [
        "balanced_df['NumLabel'] = balanced_df.Labels.apply(text_to_numerical_category)"
      ],
      "execution_count": 28,
      "outputs": []
    },
    {
      "cell_type": "code",
      "metadata": {
        "id": "vdeadXrgvKBe",
        "colab": {
          "base_uri": "https://localhost:8080/",
          "height": 203
        },
        "outputId": "ab425c5a-d43e-4208-82f5-6a538b124f73"
      },
      "source": [
        "balanced_df.head()"
      ],
      "execution_count": 29,
      "outputs": [
        {
          "output_type": "execute_result",
          "data": {
            "text/html": [
              "<div>\n",
              "<style scoped>\n",
              "    .dataframe tbody tr th:only-of-type {\n",
              "        vertical-align: middle;\n",
              "    }\n",
              "\n",
              "    .dataframe tbody tr th {\n",
              "        vertical-align: top;\n",
              "    }\n",
              "\n",
              "    .dataframe thead th {\n",
              "        text-align: right;\n",
              "    }\n",
              "</style>\n",
              "<table border=\"1\" class=\"dataframe\">\n",
              "  <thead>\n",
              "    <tr style=\"text-align: right;\">\n",
              "      <th></th>\n",
              "      <th>Text</th>\n",
              "      <th>Labels</th>\n",
              "      <th>NumLabel</th>\n",
              "    </tr>\n",
              "  </thead>\n",
              "  <tbody>\n",
              "    <tr>\n",
              "      <th>0</th>\n",
              "      <td>March the OSCE SMM observed a total of explosi...</td>\n",
              "      <td>ART_MISS_ATTACK</td>\n",
              "      <td>0</td>\n",
              "    </tr>\n",
              "    <tr>\n",
              "      <th>1</th>\n",
              "      <td>rebel fighters fired GRAD and How rockets at r...</td>\n",
              "      <td>ART_MISS_ATTACK</td>\n",
              "      <td>0</td>\n",
              "    </tr>\n",
              "    <tr>\n",
              "      <th>2</th>\n",
              "      <td>June  regime forces shelled Hazarin in souther...</td>\n",
              "      <td>ART_MISS_ATTACK</td>\n",
              "      <td>0</td>\n",
              "    </tr>\n",
              "    <tr>\n",
              "      <th>3</th>\n",
              "      <td>November the NAF rebel forces fired antiaircra...</td>\n",
              "      <td>ART_MISS_ATTACK</td>\n",
              "      <td>0</td>\n",
              "    </tr>\n",
              "    <tr>\n",
              "      <th>4</th>\n",
              "      <td>April the OSCE SMM observed a total of explosi...</td>\n",
              "      <td>ART_MISS_ATTACK</td>\n",
              "      <td>0</td>\n",
              "    </tr>\n",
              "  </tbody>\n",
              "</table>\n",
              "</div>"
            ],
            "text/plain": [
              "                                                Text           Labels  NumLabel\n",
              "0  March the OSCE SMM observed a total of explosi...  ART_MISS_ATTACK         0\n",
              "1  rebel fighters fired GRAD and How rockets at r...  ART_MISS_ATTACK         0\n",
              "2  June  regime forces shelled Hazarin in souther...  ART_MISS_ATTACK         0\n",
              "3  November the NAF rebel forces fired antiaircra...  ART_MISS_ATTACK         0\n",
              "4  April the OSCE SMM observed a total of explosi...  ART_MISS_ATTACK         0"
            ]
          },
          "metadata": {},
          "execution_count": 29
        }
      ]
    },
    {
      "cell_type": "markdown",
      "metadata": {
        "id": "NmmYyLu3y7jk"
      },
      "source": [
        "# XLNet"
      ]
    },
    {
      "cell_type": "code",
      "metadata": {
        "id": "nGXO12YR7Pio"
      },
      "source": [
        "max_classes = len(balanced_df.Labels.unique())\n",
        "max_length = 128"
      ],
      "execution_count": 30,
      "outputs": []
    },
    {
      "cell_type": "code",
      "metadata": {
        "id": "LbTDnw_feFL5",
        "colab": {
          "base_uri": "https://localhost:8080/",
          "height": 113,
          "referenced_widgets": [
            "7eec99e46e7c4709a116f2e87bf2378f",
            "b12e5185da394a489d641e1a83bfcedc",
            "736d94931ac14facb788881aa381629d",
            "1384177eb132475984c88bcbd5bbc806",
            "65942c84c93e4333b7d5a4fdf2b8a262",
            "1d3dfbee849241fa87649c6c06683a81",
            "30592c7fb0064f32a344c78f1231f2e7",
            "53fee3253a1645cdac1c3a12389f2feb",
            "70fbb480b5df42bead3f90bb73a20f89",
            "706677e7ef62418485f927ac5b768f86",
            "8cfaacba9c34485a9050314bb04ff8c4",
            "7dc53e2fdc7845578fb596cd84a0e892",
            "efb6ab25f00e4f61ae888e3d9ba74df1",
            "727ade4883ba4ee29cd03fc0296e93c9",
            "1b910973f8b14fa79d1ecf35ee5cd891",
            "c214c602b2334d62adfeb22e0079e513",
            "928b01b46ea54dfdb10fc3bf213143a6",
            "c2ebcdb0834140c7a32379eb73634fde",
            "6f934cb9462a41538e3ec7e873dc916a",
            "7355af8a1d3b43fb987961b8c416ab2a",
            "3af84678c2a447ba83531cdac869c932",
            "a9a65069f3f84294a43a116b36486317",
            "35cc573e16c1447d9c0e334c51612836",
            "c813e4f30f0543d88f34d5d262d0c40e",
            "d3e4f161ee66442987c7101e4b88eba8",
            "1845b9304cfd41c2a3734615a060ad7d",
            "874fb8509d34419fa68e0e6b2062f929",
            "e8ddd13ea37d47d7b7bee06dbdc0938e",
            "a6e2a9d427af4519b69b3babaf6e0efd",
            "8198978c6ec74bdbb58bb145c459501b",
            "9a8116cee78440b2b8fdf7cad223529d",
            "3617493c7cb64866862eddfcfa98bf4c",
            "88fd9149343848f3b247f8cc20b9450e"
          ]
        },
        "outputId": "14a4b496-c3a0-4f61-ebef-4c43819c0ff1"
      },
      "source": [
        "from transformers import AutoTokenizer, TFXLNetModel\n",
        "\n",
        "# Same as before\n",
        "\n",
        "checkpoint = \"xlnet-base-cased\"\n",
        "tokenizer = AutoTokenizer.from_pretrained(checkpoint, max_length=max_length)"
      ],
      "execution_count": 31,
      "outputs": [
        {
          "output_type": "display_data",
          "data": {
            "application/vnd.jupyter.widget-view+json": {
              "model_id": "7eec99e46e7c4709a116f2e87bf2378f",
              "version_minor": 0,
              "version_major": 2
            },
            "text/plain": [
              "Downloading:   0%|          | 0.00/760 [00:00<?, ?B/s]"
            ]
          },
          "metadata": {}
        },
        {
          "output_type": "display_data",
          "data": {
            "application/vnd.jupyter.widget-view+json": {
              "model_id": "7dc53e2fdc7845578fb596cd84a0e892",
              "version_minor": 0,
              "version_major": 2
            },
            "text/plain": [
              "Downloading:   0%|          | 0.00/779k [00:00<?, ?B/s]"
            ]
          },
          "metadata": {}
        },
        {
          "output_type": "display_data",
          "data": {
            "application/vnd.jupyter.widget-view+json": {
              "model_id": "35cc573e16c1447d9c0e334c51612836",
              "version_minor": 0,
              "version_major": 2
            },
            "text/plain": [
              "Downloading:   0%|          | 0.00/1.32M [00:00<?, ?B/s]"
            ]
          },
          "metadata": {}
        }
      ]
    },
    {
      "cell_type": "markdown",
      "metadata": {
        "id": "29RpcASwkDL3"
      },
      "source": [
        "## Hyperparametrs"
      ]
    },
    {
      "cell_type": "code",
      "metadata": {
        "id": "sJO5JE9vkB9u"
      },
      "source": [
        "from tensorflow.keras.optimizers.schedules import PolynomialDecay\n",
        "\n",
        "EPOCHS = 3\n",
        "loss = tf.keras.losses.CategoricalCrossentropy(from_logits=False)\n",
        "batch_size = 64\n",
        "\n",
        "# num_train_steps =  len((balanced_df.NumLabel) // batch_size) * EPOCHS\n",
        "# lr_scheduler = PolynomialDecay(initial_learning_rate=5e-5,\n",
        "#                                end_learning_rate=0.,\n",
        "#                                decay_steps=num_train_steps\n",
        "#                                )\n",
        "\n",
        "from tensorflow.keras.optimizers import Adam\n",
        "opt = Adam(learning_rate=5e-5)"
      ],
      "execution_count": 32,
      "outputs": []
    },
    {
      "cell_type": "markdown",
      "metadata": {
        "id": "UdjV9VD8Fdbg"
      },
      "source": [
        "## Tokenization"
      ]
    },
    {
      "cell_type": "code",
      "metadata": {
        "id": "M4W8z-AUwM3a"
      },
      "source": [
        "from sklearn.utils import shuffle\n",
        "from sklearn.model_selection import train_test_split\n",
        "result_df = shuffle(balanced_df)"
      ],
      "execution_count": 33,
      "outputs": []
    },
    {
      "cell_type": "code",
      "metadata": {
        "id": "iNE_7jaknf-C",
        "colab": {
          "base_uri": "https://localhost:8080/",
          "height": 417
        },
        "outputId": "2115350b-a57f-4e4b-890a-a86d5a21720d"
      },
      "source": [
        "result_df"
      ],
      "execution_count": 34,
      "outputs": [
        {
          "output_type": "execute_result",
          "data": {
            "text/html": [
              "<div>\n",
              "<style scoped>\n",
              "    .dataframe tbody tr th:only-of-type {\n",
              "        vertical-align: middle;\n",
              "    }\n",
              "\n",
              "    .dataframe tbody tr th {\n",
              "        vertical-align: top;\n",
              "    }\n",
              "\n",
              "    .dataframe thead th {\n",
              "        text-align: right;\n",
              "    }\n",
              "</style>\n",
              "<table border=\"1\" class=\"dataframe\">\n",
              "  <thead>\n",
              "    <tr style=\"text-align: right;\">\n",
              "      <th></th>\n",
              "      <th>Text</th>\n",
              "      <th>Labels</th>\n",
              "      <th>NumLabel</th>\n",
              "    </tr>\n",
              "  </thead>\n",
              "  <tbody>\n",
              "    <tr>\n",
              "      <th>64790</th>\n",
              "      <td>a police officer beat a farmer to death at a c...</td>\n",
              "      <td>ATTACK</td>\n",
              "      <td>3</td>\n",
              "    </tr>\n",
              "    <tr>\n",
              "      <th>251120</th>\n",
              "      <td>October In response to a planned protest in Do...</td>\n",
              "      <td>ARREST</td>\n",
              "      <td>16</td>\n",
              "    </tr>\n",
              "    <tr>\n",
              "      <th>286324</th>\n",
              "      <td>July in Koui at least RRR fighters have disarm...</td>\n",
              "      <td>AGREEMENT</td>\n",
              "      <td>23</td>\n",
              "    </tr>\n",
              "    <tr>\n",
              "      <th>25950</th>\n",
              "      <td>around persons demonstrated in SaintDenis They...</td>\n",
              "      <td>PEACE_PROTEST</td>\n",
              "      <td>1</td>\n",
              "    </tr>\n",
              "    <tr>\n",
              "      <th>243745</th>\n",
              "      <td>Around  Eritrean soldiers reportedly took cont...</td>\n",
              "      <td>NON_STATE_ACTOR_OVERTAKES_TER</td>\n",
              "      <td>15</td>\n",
              "    </tr>\n",
              "    <tr>\n",
              "      <th>...</th>\n",
              "      <td>...</td>\n",
              "      <td>...</td>\n",
              "      <td>...</td>\n",
              "    </tr>\n",
              "    <tr>\n",
              "      <th>266972</th>\n",
              "      <td>Regime forces regained control of Ein Eltineh ...</td>\n",
              "      <td>NON_VIOL_TERRIT_TRANSFER</td>\n",
              "      <td>19</td>\n",
              "    </tr>\n",
              "    <tr>\n",
              "      <th>200117</th>\n",
              "      <td>unknown militants detonated an explosive devic...</td>\n",
              "      <td>REM_EXPLOS</td>\n",
              "      <td>11</td>\n",
              "    </tr>\n",
              "    <tr>\n",
              "      <th>81</th>\n",
              "      <td>November the OSCE SMM observed a total of expl...</td>\n",
              "      <td>ART_MISS_ATTACK</td>\n",
              "      <td>0</td>\n",
              "    </tr>\n",
              "    <tr>\n",
              "      <th>83262</th>\n",
              "      <td>or before   south of Sheikh Zuweiyid Egyptian ...</td>\n",
              "      <td>AIR_STRIKE</td>\n",
              "      <td>4</td>\n",
              "    </tr>\n",
              "    <tr>\n",
              "      <th>220956</th>\n",
              "      <td>Asayish QSDs intelligence and military police ...</td>\n",
              "      <td>ABDUCT_DISSAP</td>\n",
              "      <td>13</td>\n",
              "    </tr>\n",
              "  </tbody>\n",
              "</table>\n",
              "<p>286631 rows × 3 columns</p>\n",
              "</div>"
            ],
            "text/plain": [
              "                                                     Text  ... NumLabel\n",
              "64790   a police officer beat a farmer to death at a c...  ...        3\n",
              "251120  October In response to a planned protest in Do...  ...       16\n",
              "286324  July in Koui at least RRR fighters have disarm...  ...       23\n",
              "25950   around persons demonstrated in SaintDenis They...  ...        1\n",
              "243745  Around  Eritrean soldiers reportedly took cont...  ...       15\n",
              "...                                                   ...  ...      ...\n",
              "266972  Regime forces regained control of Ein Eltineh ...  ...       19\n",
              "200117  unknown militants detonated an explosive devic...  ...       11\n",
              "81      November the OSCE SMM observed a total of expl...  ...        0\n",
              "83262   or before   south of Sheikh Zuweiyid Egyptian ...  ...        4\n",
              "220956  Asayish QSDs intelligence and military police ...  ...       13\n",
              "\n",
              "[286631 rows x 3 columns]"
            ]
          },
          "metadata": {},
          "execution_count": 34
        }
      ]
    },
    {
      "cell_type": "code",
      "metadata": {
        "id": "4FExtMgrngbU"
      },
      "source": [
        "result_df.to_csv('resampled-training-data.csv', index=True)"
      ],
      "execution_count": 35,
      "outputs": []
    },
    {
      "cell_type": "code",
      "metadata": {
        "id": "YppG_1X-pOJf"
      },
      "source": [
        "# result_df = pd.read_csv('/content/drive/MyDrive/Shared-Task-2021/resampled-training-data-ggod.csv', index_col=0)\n",
        "# result_df"
      ],
      "execution_count": 36,
      "outputs": []
    },
    {
      "cell_type": "markdown",
      "metadata": {
        "id": "WXkVWSGleknE"
      },
      "source": [
        "### Train-Test-Split"
      ]
    },
    {
      "cell_type": "code",
      "metadata": {
        "id": "WsCrEBRvy_7f"
      },
      "source": [
        "X_train, X_test, Y_train, Y_test = train_test_split(result_df.Text, result_df.NumLabel, test_size = 0.1, random_state = 42, stratify =result_df.NumLabel)"
      ],
      "execution_count": 37,
      "outputs": []
    },
    {
      "cell_type": "markdown",
      "metadata": {
        "id": "ofAI7IRhY-5U"
      },
      "source": [
        "### Label Encoding"
      ]
    },
    {
      "cell_type": "code",
      "metadata": {
        "id": "cTK-eIcsxFJ4",
        "colab": {
          "base_uri": "https://localhost:8080/"
        },
        "outputId": "30a6e145-9806-4e64-ebf1-afdd8ac18fa5"
      },
      "source": [
        "max_classes = len(balanced_df.Labels.unique())\n",
        "print(max_classes)"
      ],
      "execution_count": 38,
      "outputs": [
        {
          "output_type": "stream",
          "name": "stdout",
          "text": [
            "25\n"
          ]
        }
      ]
    },
    {
      "cell_type": "code",
      "metadata": {
        "colab": {
          "base_uri": "https://localhost:8080/"
        },
        "id": "96rMhFvyZDiF",
        "outputId": "d10da399-30c0-4a7c-bbd8-3dc7fa228cb9"
      },
      "source": [
        "%%time\n",
        "encoded_labels_train = to_categorical(Y_train, num_classes=max_classes)\n",
        "encoded_labels_test = to_categorical(Y_test, num_classes=max_classes)"
      ],
      "execution_count": 39,
      "outputs": [
        {
          "output_type": "stream",
          "name": "stdout",
          "text": [
            "CPU times: user 10.7 ms, sys: 0 ns, total: 10.7 ms\n",
            "Wall time: 10.2 ms\n"
          ]
        }
      ]
    },
    {
      "cell_type": "markdown",
      "metadata": {
        "id": "-I3nP_Pge2bf"
      },
      "source": [
        "### Input-Tokenization"
      ]
    },
    {
      "cell_type": "markdown",
      "metadata": {
        "id": "xUGsPq1LBMjh"
      },
      "source": [
        "#### Defining XLNet Tokenizer"
      ]
    },
    {
      "cell_type": "code",
      "metadata": {
        "id": "l8kKl0q5dqLB"
      },
      "source": [
        "def XLNet_encode(data,maximum_length) :\n",
        "  input_ids = []\n",
        "  attention_masks = []\n",
        "  \n",
        "\n",
        "  for i in tqdm(range(len(data))):\n",
        "      encoded = tokenizer.encode_plus(\n",
        "        \n",
        "        data[i],\n",
        "        add_special_tokens=True,\n",
        "        max_length=maximum_length,\n",
        "        pad_to_max_length=True,\n",
        "        return_attention_mask=True,\n",
        "        \n",
        "      )\n",
        "      \n",
        "      input_ids.append(encoded['input_ids'])\n",
        "      attention_masks.append(encoded['attention_mask'])\n",
        "  return np.array(input_ids),np.array(attention_masks)"
      ],
      "execution_count": 40,
      "outputs": []
    },
    {
      "cell_type": "code",
      "metadata": {
        "colab": {
          "base_uri": "https://localhost:8080/"
        },
        "id": "pBWpRyRndqS7",
        "outputId": "639e8052-d513-42cf-fd33-5b2e0e672c7f"
      },
      "source": [
        "%%time\n",
        "# train_inputs,train_attention_masks = XLNet_encode(list(X_train), max_length)"
      ],
      "execution_count": 41,
      "outputs": [
        {
          "output_type": "stream",
          "name": "stdout",
          "text": [
            "CPU times: user 3 µs, sys: 0 ns, total: 3 µs\n",
            "Wall time: 5.96 µs\n"
          ]
        }
      ]
    },
    {
      "cell_type": "code",
      "metadata": {
        "id": "Wqq1aZIliQEH"
      },
      "source": [
        "# test_inputs,test_attention_masks = XLNet_encode(list(X_test), max_length)"
      ],
      "execution_count": 42,
      "outputs": []
    },
    {
      "cell_type": "code",
      "metadata": {
        "id": "jdoFDp2zxqFw"
      },
      "source": [
        "def get_inputs(tweets, tokenizer, max_len=120):\n",
        "    \"\"\" Gets tensors from text using the tokenizer provided\"\"\"\n",
        "    inps = [tokenizer.encode_plus(t, max_length=max_len, pad_to_max_length=True, add_special_tokens=True) for t in tweets]\n",
        "    inp_tok = np.array([a['input_ids'] for a in inps])\n",
        "    ids = np.array([a['attention_mask'] for a in inps])\n",
        "    segments = np.array([a['token_type_ids'] for a in inps])\n",
        "    return inp_tok, ids, segments"
      ],
      "execution_count": 43,
      "outputs": []
    },
    {
      "cell_type": "code",
      "metadata": {
        "colab": {
          "base_uri": "https://localhost:8080/"
        },
        "id": "FnpEOtt5x4PI",
        "outputId": "05f92e9c-27e9-46f1-a450-31424bf048a4"
      },
      "source": [
        "%%time\n",
        "train_inp_tok, train_attention_masks, segments = get_inputs(X_train, tokenizer)\n",
        "test_inp_tok, test_attention_masks, segments = get_inputs(X_test, tokenizer)"
      ],
      "execution_count": 44,
      "outputs": [
        {
          "output_type": "stream",
          "name": "stderr",
          "text": [
            "Truncation was not explicitly activated but `max_length` is provided a specific value, please use `truncation=True` to explicitly truncate examples to max length. Defaulting to 'longest_first' truncation strategy. If you encode pairs of sequences (GLUE-style) with the tokenizer you can select this strategy more precisely by providing a specific strategy to `truncation`.\n",
            "/usr/local/lib/python3.7/dist-packages/transformers/tokenization_utils_base.py:2217: FutureWarning: The `pad_to_max_length` argument is deprecated and will be removed in a future version, use `padding=True` or `padding='longest'` to pad to the longest sequence in the batch, or use `padding='max_length'` to pad to a max length. In this case, you can give a specific length with `max_length` (e.g. `max_length=45`) or leave max_length to None to pad to the maximal input size of the model (e.g. 512 for Bert).\n",
            "  FutureWarning,\n"
          ]
        },
        {
          "output_type": "stream",
          "name": "stdout",
          "text": [
            "CPU times: user 1min 7s, sys: 4.32 s, total: 1min 11s\n",
            "Wall time: 1min 11s\n"
          ]
        }
      ]
    },
    {
      "cell_type": "code",
      "metadata": {
        "id": "cKOObAsUx4Xu"
      },
      "source": [
        ""
      ],
      "execution_count": 44,
      "outputs": []
    },
    {
      "cell_type": "code",
      "metadata": {
        "colab": {
          "base_uri": "https://localhost:8080/"
        },
        "id": "oIyUh9Xkcajf",
        "outputId": "f53345b1-15fd-426b-d129-8ead5e47e050"
      },
      "source": [
        "print(train_inp_tok.shape, test_inp_tok.shape)"
      ],
      "execution_count": 45,
      "outputs": [
        {
          "output_type": "stream",
          "name": "stdout",
          "text": [
            "(257967, 120) (28664, 120)\n"
          ]
        }
      ]
    },
    {
      "cell_type": "code",
      "metadata": {
        "colab": {
          "base_uri": "https://localhost:8080/"
        },
        "id": "KqSTLWGNsITm",
        "outputId": "426417de-5795-490a-b5b5-9c2092e54273"
      },
      "source": [
        "print(f'Number of Samples in Training Set : {len(X_train)} Number of Samples in Validation Set: {len(X_test)} ')"
      ],
      "execution_count": 46,
      "outputs": [
        {
          "output_type": "stream",
          "name": "stdout",
          "text": [
            "Number of Samples in Training Set : 257967 Number of Samples in Validation Set: 28664 \n"
          ]
        }
      ]
    },
    {
      "cell_type": "markdown",
      "metadata": {
        "id": "ad-repjSjD7V"
      },
      "source": [
        "## Custom Callbacks"
      ]
    },
    {
      "cell_type": "code",
      "metadata": {
        "colab": {
          "base_uri": "https://localhost:8080/"
        },
        "id": "lqS4McM3eZg_",
        "outputId": "26678ac4-674a-452b-f3da-4e1095267b50"
      },
      "source": [
        "from tensorflow.keras.callbacks import ModelCheckpoint, EarlyStopping\n",
        "!mkdir checkpoints\n",
        "\n",
        "MyCheckpoint = ModelCheckpoint('XLNet-base.h5',\n",
        "                               monitor = 'val_categorical_accuracy',\n",
        "                               verbose = 1,\n",
        "                               save_best_only = True,\n",
        "                               mode='auto',\n",
        "                               save_weights_only = True)\n",
        "\n",
        "MyEarlyStopping = EarlyStopping(patience =1,\n",
        "                                monitor='val_categorical_accuracy',\n",
        "                                restore_best_weights = True,\n",
        "                                verbose = 1)\n",
        "\n",
        "import os\n",
        "os.path.exists('/content/checkpoints')"
      ],
      "execution_count": 47,
      "outputs": [
        {
          "output_type": "execute_result",
          "data": {
            "text/plain": [
              "True"
            ]
          },
          "metadata": {},
          "execution_count": 47
        }
      ]
    },
    {
      "cell_type": "markdown",
      "metadata": {
        "id": "7OwClub9p6qt"
      },
      "source": [
        "## Class Weight Balancing"
      ]
    },
    {
      "cell_type": "code",
      "metadata": {
        "colab": {
          "base_uri": "https://localhost:8080/"
        },
        "id": "9IxTfcr2p_Ct",
        "outputId": "75963e02-fedd-405b-98b3-4c73a4cf7225"
      },
      "source": [
        "from sklearn.utils import class_weight\n",
        "class_weights_array = class_weight.compute_class_weight('balanced'\n",
        "                                               ,np.unique(balanced_df.NumLabel)\n",
        "                                               ,balanced_df.NumLabel)\n",
        "\n",
        "class_weights_array"
      ],
      "execution_count": 48,
      "outputs": [
        {
          "output_type": "execute_result",
          "data": {
            "text/plain": [
              "array([  0.573262  ,   0.573262  ,   0.573262  ,   0.573262  ,\n",
              "         0.573262  ,   0.573262  ,   0.573262  ,   0.573262  ,\n",
              "         1.85042608,   0.573262  ,   2.14183449,   0.573262  ,\n",
              "         1.86487313,   0.78400164,   1.44671798,   2.14704869,\n",
              "         1.32270881,   2.6104827 ,   1.52890252,   1.93212673,\n",
              "         1.94457938,   6.14428725,   3.00924934,   3.92645205,\n",
              "       191.08733333])"
            ]
          },
          "metadata": {},
          "execution_count": 48
        }
      ]
    },
    {
      "cell_type": "code",
      "metadata": {
        "colab": {
          "base_uri": "https://localhost:8080/"
        },
        "id": "cX6T25lxp_Gq",
        "outputId": "a14efe8f-2b44-4ae8-c0c1-ca219019fe55"
      },
      "source": [
        "class_weights = {i : class_weights_array[i] for i in range(len(class_weights_array))}\n",
        "class_weights"
      ],
      "execution_count": 49,
      "outputs": [
        {
          "output_type": "execute_result",
          "data": {
            "text/plain": [
              "{0: 0.573262,\n",
              " 1: 0.573262,\n",
              " 2: 0.573262,\n",
              " 3: 0.573262,\n",
              " 4: 0.573262,\n",
              " 5: 0.573262,\n",
              " 6: 0.573262,\n",
              " 7: 0.573262,\n",
              " 8: 1.8504260813428017,\n",
              " 9: 0.573262,\n",
              " 10: 2.141834485335326,\n",
              " 11: 0.573262,\n",
              " 12: 1.8648731294729994,\n",
              " 13: 0.7840016411378555,\n",
              " 14: 1.4467179810725552,\n",
              " 15: 2.1470486891385767,\n",
              " 16: 1.322708814028611,\n",
              " 17: 2.6104826958105645,\n",
              " 18: 1.528902520336045,\n",
              " 19: 1.9321267273340075,\n",
              " 20: 1.9445793758480325,\n",
              " 21: 6.144287245444802,\n",
              " 22: 3.009249343832021,\n",
              " 23: 3.9264520547945208,\n",
              " 24: 191.08733333333333}"
            ]
          },
          "metadata": {},
          "execution_count": 49
        }
      ]
    },
    {
      "cell_type": "markdown",
      "metadata": {
        "id": "5EZGnwQUI903"
      },
      "source": [
        "## Building Model"
      ]
    },
    {
      "cell_type": "markdown",
      "metadata": {
        "id": "yfRot3lMVbhd"
      },
      "source": [
        "### Defining Model Metrics"
      ]
    },
    {
      "cell_type": "code",
      "metadata": {
        "id": "gL7Yk_xOVYP4"
      },
      "source": [
        "# !pip install tensorflow_addons\n",
        "# import tensorflow_addons as tfa\n",
        "\n",
        "# macro_f1 = tfa.metrics.F1Score(num_classes=max_classes, average='macro')\n",
        "# micro_f1 = tfa.metrics.F1Score(num_classes=max_classes, average='micro')\n",
        "# weighted_f1 = tfa.metrics.F1Score(num_classes=max_classes, average='weighted')\n",
        "precision = tf.metrics.Precision()\n",
        "recall = tf.metrics.Recall()\n",
        "categorical_accuracry = tf.metrics.CategoricalAccuracy()\n",
        "\n",
        "class F1_metric(tf.keras.metrics.Metric):\n",
        "    def __init__(self, name='f1_score', **kwargs):\n",
        "        super().__init__(name=name, **kwargs)\n",
        "        # Initialize our metric by initializing the two metrics it's based on:\n",
        "        # Precision and Recall\n",
        "        self.precision = tf.keras.metrics.Precision()\n",
        "        self.recall = tf.keras.metrics.Recall()\n",
        "\n",
        "    def update_state(self, y_true, y_pred, sample_weight=None):\n",
        "        # Update our metric by updating the two metrics it's based on\n",
        "        self.precision.update_state(y_true, y_pred, sample_weight)\n",
        "        self.recall.update_state(y_true, y_pred, sample_weight)\n",
        "\n",
        "    def reset_state(self):\n",
        "        self.precision.reset_state()\n",
        "        self.recall.reset_state()\n",
        "\n",
        "    def result(self):\n",
        "        # To get the F1 result, we compute the harmonic mean of the current\n",
        "        # precision and recall\n",
        "        return 2 / ((1 / self.precision.result()) + (1 / self.recall.result())) \n",
        "\n",
        "F1Score = F1_metric()\n",
        "metrics = [categorical_accuracry, F1Score]\n"
      ],
      "execution_count": 50,
      "outputs": []
    },
    {
      "cell_type": "markdown",
      "metadata": {
        "id": "9SScGBGIe6Uc"
      },
      "source": [
        "### Custom Model Creation"
      ]
    },
    {
      "cell_type": "code",
      "metadata": {
        "id": "Qt3tG8g2e5yG"
      },
      "source": [
        "def create_model(xlnet_model):\n",
        "  input_ids = tf.keras.Input(shape=(max_length,),dtype='int32')\n",
        "\n",
        "  attention_masks = tf.keras.Input(shape=(max_length,),dtype='int32')\n",
        "  \n",
        "#   output = xlnet_model([input_ids,attention_masks])\n",
        "  output = xlnet_model(input_ids)\n",
        "  output = output[0]\n",
        "  output = tf.squeeze(output[:, -1:, :], axis=1)\n",
        "  \n",
        "#   output = tf.keras.layers.Dense(128,activation='relu',)(output)\n",
        "#   output = tf.keras.layers.Dropout(0.2)(output)\n",
        "#   output = tf.keras.layers.BatchNormalization()(output)\n",
        "\n",
        "#   output = tf.keras.layers.Dense(64,activation='relu',)(output)\n",
        "#   output = tf.keras.layers.Dropout(0.2)(output)\n",
        "#   output = tf.keras.layers.BatchNormalization()(output)\n",
        "\n",
        "  output = tf.keras.layers.Dense(32,activation='relu')(output)\n",
        "  output = tf.keras.layers.Dropout(0.2)(output)\n",
        "  \n",
        "  output = tf.keras.layers.Dense(units=max_classes,activation='softmax')(output)\n",
        "  model = tf.keras.models.Model(inputs = input_ids,outputs = output)\n",
        "  model.compile(optimizer= opt,\n",
        "              loss= loss,\n",
        "              metrics = metrics)\n",
        "  return model"
      ],
      "execution_count": 51,
      "outputs": []
    },
    {
      "cell_type": "code",
      "metadata": {
        "id": "jvm25bgewlwz"
      },
      "source": [
        "def create_xlnet(mname):\n",
        "    \"\"\" Creates the model. It is composed of the XLNet main block and then\n",
        "    a classification head its added\n",
        "    \"\"\"\n",
        "    # Define token ids as inputs\n",
        "    word_inputs = tf.keras.Input(shape=(120,), name='word_inputs', dtype='int32')\n",
        "    attention_masks = tf.keras.Input(shape=(120,),dtype='int32')\n",
        "    # Call XLNet model\n",
        "    xlnet = TFXLNetModel.from_pretrained(mname)\n",
        "    xlnet_encodings = xlnet(word_inputs, attention_masks)[0]\n",
        "\n",
        "    # CLASSIFICATION HEAD \n",
        "    # Collect last step from last hidden state (CLS)\n",
        "    doc_encoding = tf.squeeze(xlnet_encodings[:, -1:, :], axis=1)\n",
        "    # Apply dropout for regularization\n",
        "    doc_encoding = tf.keras.layers.Dropout(.1)(doc_encoding)\n",
        "    # Final output \n",
        "    outputs = tf.keras.layers.Dense(units=max_classes,activation='softmax')(doc_encoding)\n",
        "\n",
        "    # Compile model\n",
        "    model = tf.keras.Model(inputs=[word_inputs, attention_masks], outputs=[outputs])\n",
        "    model.compile(optimizer= opt,\n",
        "              loss= loss,\n",
        "              metrics = metrics)\n",
        "\n",
        "    return model"
      ],
      "execution_count": 52,
      "outputs": []
    },
    {
      "cell_type": "markdown",
      "metadata": {
        "id": "uzyrfYpuhDI1"
      },
      "source": [
        "## Model Summary"
      ]
    },
    {
      "cell_type": "code",
      "metadata": {
        "colab": {
          "base_uri": "https://localhost:8080/",
          "height": 623,
          "referenced_widgets": [
            "7602ea5733214298993be7f5aa82c9c9",
            "47dd64df2c1e4ffbab266b326dfa4fda",
            "610f943eca1d4e1dab5d362753b7d76a",
            "6ae9a112aef1481a8050d89dfe0f2359",
            "75cd80660a864a0cb45c6ec7b087545f",
            "2b1dff8185514786b238d6193f76daed",
            "a4909d928e034ab6b9ed8e4181f39c79",
            "bb85fe273f5c47c8b9e6cedf1756d00f",
            "3ba033182b21468cbb728dae9e55edf2",
            "a0052a78ebed4b22b9d58a8797dddf08",
            "cd2ba0c132dd4bed857ce2b7a9f6459b"
          ]
        },
        "id": "IoEkHTLig_Y3",
        "outputId": "a45f0d0c-565c-424d-cfb9-edcbbe2841c5"
      },
      "source": [
        "from transformers import TFXLNetModel\n",
        "xlnet_model = TFXLNetModel.from_pretrained(checkpoint)\n",
        "# from transformers import TFAutoModelForSequenceClassification\n",
        "# model = TFAutoModelForSequenceClassification.from_pretrained(checkpoint, num_labels=max_classes)\n",
        "\n",
        "model = create_xlnet(checkpoint)\n",
        "# model.layers[2].trainable = False\n",
        "model.summary()"
      ],
      "execution_count": 53,
      "outputs": [
        {
          "output_type": "display_data",
          "data": {
            "application/vnd.jupyter.widget-view+json": {
              "model_id": "7602ea5733214298993be7f5aa82c9c9",
              "version_minor": 0,
              "version_major": 2
            },
            "text/plain": [
              "Downloading:   0%|          | 0.00/539M [00:00<?, ?B/s]"
            ]
          },
          "metadata": {}
        },
        {
          "output_type": "stream",
          "name": "stderr",
          "text": [
            "Some layers from the model checkpoint at xlnet-base-cased were not used when initializing TFXLNetModel: ['lm_loss']\n",
            "- This IS expected if you are initializing TFXLNetModel from the checkpoint of a model trained on another task or with another architecture (e.g. initializing a BertForSequenceClassification model from a BertForPreTraining model).\n",
            "- This IS NOT expected if you are initializing TFXLNetModel from the checkpoint of a model that you expect to be exactly identical (initializing a BertForSequenceClassification model from a BertForSequenceClassification model).\n",
            "All the layers of TFXLNetModel were initialized from the model checkpoint at xlnet-base-cased.\n",
            "If your task is similar to the task the model of the checkpoint was trained on, you can already use TFXLNetModel for predictions without further training.\n",
            "Some layers from the model checkpoint at xlnet-base-cased were not used when initializing TFXLNetModel: ['lm_loss']\n",
            "- This IS expected if you are initializing TFXLNetModel from the checkpoint of a model trained on another task or with another architecture (e.g. initializing a BertForSequenceClassification model from a BertForPreTraining model).\n",
            "- This IS NOT expected if you are initializing TFXLNetModel from the checkpoint of a model that you expect to be exactly identical (initializing a BertForSequenceClassification model from a BertForSequenceClassification model).\n",
            "All the layers of TFXLNetModel were initialized from the model checkpoint at xlnet-base-cased.\n",
            "If your task is similar to the task the model of the checkpoint was trained on, you can already use TFXLNetModel for predictions without further training.\n"
          ]
        },
        {
          "output_type": "stream",
          "name": "stdout",
          "text": [
            "Model: \"model\"\n",
            "__________________________________________________________________________________________________\n",
            "Layer (type)                    Output Shape         Param #     Connected to                     \n",
            "==================================================================================================\n",
            "word_inputs (InputLayer)        [(None, 120)]        0                                            \n",
            "__________________________________________________________________________________________________\n",
            "input_1 (InputLayer)            [(None, 120)]        0                                            \n",
            "__________________________________________________________________________________________________\n",
            "tfxl_net_model_1 (TFXLNetModel) TFXLNetModelOutput(l 116718336   word_inputs[0][0]                \n",
            "                                                                 input_1[0][0]                    \n",
            "__________________________________________________________________________________________________\n",
            "tf.__operators__.getitem (Slici (None, 1, 768)       0           tfxl_net_model_1[0][0]           \n",
            "__________________________________________________________________________________________________\n",
            "tf.compat.v1.squeeze (TFOpLambd (None, 768)          0           tf.__operators__.getitem[0][0]   \n",
            "__________________________________________________________________________________________________\n",
            "dropout_74 (Dropout)            (None, 768)          0           tf.compat.v1.squeeze[0][0]       \n",
            "__________________________________________________________________________________________________\n",
            "dense (Dense)                   (None, 25)           19225       dropout_74[0][0]                 \n",
            "==================================================================================================\n",
            "Total params: 116,737,561\n",
            "Trainable params: 116,737,561\n",
            "Non-trainable params: 0\n",
            "__________________________________________________________________________________________________\n"
          ]
        }
      ]
    },
    {
      "cell_type": "markdown",
      "metadata": {
        "id": "RY9z1kOBAtky"
      },
      "source": [
        "## Model Training"
      ]
    },
    {
      "cell_type": "code",
      "metadata": {
        "colab": {
          "base_uri": "https://localhost:8080/",
          "height": 642
        },
        "id": "6OUMHl_3At7R",
        "outputId": "dff37867-5888-4c87-e908-d02c50674187"
      },
      "source": [
        "%%time\n",
        "history = model.fit([train_inp_tok, train_attention_masks], encoded_labels_train, \n",
        "                    validation_data=([test_inp_tok, test_attention_masks], encoded_labels_test),\n",
        "                    epochs = EPOCHS,\n",
        "                    batch_size = 64,\n",
        "                    verbose = 1,\n",
        "                    class_weight=class_weights,\n",
        "                    callbacks = [MyCheckpoint, MyEarlyStopping]\n",
        "                    )"
      ],
      "execution_count": 54,
      "outputs": [
        {
          "output_type": "stream",
          "name": "stdout",
          "text": [
            "Epoch 1/3\n",
            "WARNING:tensorflow:Gradients do not exist for variables ['tfxl_net_model_1/transformer/mask_emb:0', 'tfxl_net_model_1/transformer/layer_._0/rel_attn/r_s_bias:0', 'tfxl_net_model_1/transformer/layer_._0/rel_attn/seg_embed:0', 'tfxl_net_model_1/transformer/layer_._1/rel_attn/r_s_bias:0', 'tfxl_net_model_1/transformer/layer_._1/rel_attn/seg_embed:0', 'tfxl_net_model_1/transformer/layer_._2/rel_attn/r_s_bias:0', 'tfxl_net_model_1/transformer/layer_._2/rel_attn/seg_embed:0', 'tfxl_net_model_1/transformer/layer_._3/rel_attn/r_s_bias:0', 'tfxl_net_model_1/transformer/layer_._3/rel_attn/seg_embed:0', 'tfxl_net_model_1/transformer/layer_._4/rel_attn/r_s_bias:0', 'tfxl_net_model_1/transformer/layer_._4/rel_attn/seg_embed:0', 'tfxl_net_model_1/transformer/layer_._5/rel_attn/r_s_bias:0', 'tfxl_net_model_1/transformer/layer_._5/rel_attn/seg_embed:0', 'tfxl_net_model_1/transformer/layer_._6/rel_attn/r_s_bias:0', 'tfxl_net_model_1/transformer/layer_._6/rel_attn/seg_embed:0', 'tfxl_net_model_1/transformer/layer_._7/rel_attn/r_s_bias:0', 'tfxl_net_model_1/transformer/layer_._7/rel_attn/seg_embed:0', 'tfxl_net_model_1/transformer/layer_._8/rel_attn/r_s_bias:0', 'tfxl_net_model_1/transformer/layer_._8/rel_attn/seg_embed:0', 'tfxl_net_model_1/transformer/layer_._9/rel_attn/r_s_bias:0', 'tfxl_net_model_1/transformer/layer_._9/rel_attn/seg_embed:0', 'tfxl_net_model_1/transformer/layer_._10/rel_attn/r_s_bias:0', 'tfxl_net_model_1/transformer/layer_._10/rel_attn/seg_embed:0', 'tfxl_net_model_1/transformer/layer_._11/rel_attn/r_s_bias:0', 'tfxl_net_model_1/transformer/layer_._11/rel_attn/seg_embed:0'] when minimizing the loss.\n",
            "WARNING:tensorflow:Gradients do not exist for variables ['tfxl_net_model_1/transformer/mask_emb:0', 'tfxl_net_model_1/transformer/layer_._0/rel_attn/r_s_bias:0', 'tfxl_net_model_1/transformer/layer_._0/rel_attn/seg_embed:0', 'tfxl_net_model_1/transformer/layer_._1/rel_attn/r_s_bias:0', 'tfxl_net_model_1/transformer/layer_._1/rel_attn/seg_embed:0', 'tfxl_net_model_1/transformer/layer_._2/rel_attn/r_s_bias:0', 'tfxl_net_model_1/transformer/layer_._2/rel_attn/seg_embed:0', 'tfxl_net_model_1/transformer/layer_._3/rel_attn/r_s_bias:0', 'tfxl_net_model_1/transformer/layer_._3/rel_attn/seg_embed:0', 'tfxl_net_model_1/transformer/layer_._4/rel_attn/r_s_bias:0', 'tfxl_net_model_1/transformer/layer_._4/rel_attn/seg_embed:0', 'tfxl_net_model_1/transformer/layer_._5/rel_attn/r_s_bias:0', 'tfxl_net_model_1/transformer/layer_._5/rel_attn/seg_embed:0', 'tfxl_net_model_1/transformer/layer_._6/rel_attn/r_s_bias:0', 'tfxl_net_model_1/transformer/layer_._6/rel_attn/seg_embed:0', 'tfxl_net_model_1/transformer/layer_._7/rel_attn/r_s_bias:0', 'tfxl_net_model_1/transformer/layer_._7/rel_attn/seg_embed:0', 'tfxl_net_model_1/transformer/layer_._8/rel_attn/r_s_bias:0', 'tfxl_net_model_1/transformer/layer_._8/rel_attn/seg_embed:0', 'tfxl_net_model_1/transformer/layer_._9/rel_attn/r_s_bias:0', 'tfxl_net_model_1/transformer/layer_._9/rel_attn/seg_embed:0', 'tfxl_net_model_1/transformer/layer_._10/rel_attn/r_s_bias:0', 'tfxl_net_model_1/transformer/layer_._10/rel_attn/seg_embed:0', 'tfxl_net_model_1/transformer/layer_._11/rel_attn/r_s_bias:0', 'tfxl_net_model_1/transformer/layer_._11/rel_attn/seg_embed:0'] when minimizing the loss.\n",
            "4031/4031 [==============================] - 4570s 1s/step - loss: 0.4128 - categorical_accuracy: 0.8746 - f1_score: 0.8805 - val_loss: 0.2299 - val_categorical_accuracy: 0.9358 - val_f1_score: 0.9359\n",
            "\n",
            "Epoch 00001: val_categorical_accuracy improved from -inf to 0.93577, saving model to XLNet-base.h5\n",
            "Epoch 2/3\n",
            "4031/4031 [==============================] - 4553s 1s/step - loss: 0.2313 - categorical_accuracy: 0.9334 - f1_score: 0.9342 - val_loss: 0.2100 - val_categorical_accuracy: 0.9459 - val_f1_score: 0.9462\n",
            "\n",
            "Epoch 00002: val_categorical_accuracy improved from 0.93577 to 0.94589, saving model to XLNet-base.h5\n",
            "Epoch 3/3\n",
            " 185/4031 [>.............................] - ETA: 1:09:54 - loss: 0.1221 - categorical_accuracy: 0.9571 - f1_score: 0.9576"
          ]
        },
        {
          "output_type": "error",
          "ename": "KeyboardInterrupt",
          "evalue": "ignored",
          "traceback": [
            "\u001b[0;31m---------------------------------------------------------------------------\u001b[0m",
            "\u001b[0;31mKeyboardInterrupt\u001b[0m                         Traceback (most recent call last)",
            "\u001b[0;32m<ipython-input-54-4dbf69f3fd32>\u001b[0m in \u001b[0;36m<module>\u001b[0;34m()\u001b[0m\n\u001b[0;32m----> 1\u001b[0;31m \u001b[0mget_ipython\u001b[0m\u001b[0;34m(\u001b[0m\u001b[0;34m)\u001b[0m\u001b[0;34m.\u001b[0m\u001b[0mrun_cell_magic\u001b[0m\u001b[0;34m(\u001b[0m\u001b[0;34m'time'\u001b[0m\u001b[0;34m,\u001b[0m \u001b[0;34m''\u001b[0m\u001b[0;34m,\u001b[0m \u001b[0;34m'history = model.fit([train_inp_tok, train_attention_masks], encoded_labels_train, \\n                    validation_data=([test_inp_tok, test_attention_masks], encoded_labels_test),\\n                    epochs = EPOCHS,\\n                    batch_size = 64,\\n                    verbose = 1,\\n                    class_weight=class_weights,\\n                    callbacks = [MyCheckpoint, MyEarlyStopping]\\n                    )'\u001b[0m\u001b[0;34m)\u001b[0m\u001b[0;34m\u001b[0m\u001b[0;34m\u001b[0m\u001b[0m\n\u001b[0m",
            "\u001b[0;32m/usr/local/lib/python3.7/dist-packages/IPython/core/interactiveshell.py\u001b[0m in \u001b[0;36mrun_cell_magic\u001b[0;34m(self, magic_name, line, cell)\u001b[0m\n\u001b[1;32m   2115\u001b[0m             \u001b[0mmagic_arg_s\u001b[0m \u001b[0;34m=\u001b[0m \u001b[0mself\u001b[0m\u001b[0;34m.\u001b[0m\u001b[0mvar_expand\u001b[0m\u001b[0;34m(\u001b[0m\u001b[0mline\u001b[0m\u001b[0;34m,\u001b[0m \u001b[0mstack_depth\u001b[0m\u001b[0;34m)\u001b[0m\u001b[0;34m\u001b[0m\u001b[0;34m\u001b[0m\u001b[0m\n\u001b[1;32m   2116\u001b[0m             \u001b[0;32mwith\u001b[0m \u001b[0mself\u001b[0m\u001b[0;34m.\u001b[0m\u001b[0mbuiltin_trap\u001b[0m\u001b[0;34m:\u001b[0m\u001b[0;34m\u001b[0m\u001b[0;34m\u001b[0m\u001b[0m\n\u001b[0;32m-> 2117\u001b[0;31m                 \u001b[0mresult\u001b[0m \u001b[0;34m=\u001b[0m \u001b[0mfn\u001b[0m\u001b[0;34m(\u001b[0m\u001b[0mmagic_arg_s\u001b[0m\u001b[0;34m,\u001b[0m \u001b[0mcell\u001b[0m\u001b[0;34m)\u001b[0m\u001b[0;34m\u001b[0m\u001b[0;34m\u001b[0m\u001b[0m\n\u001b[0m\u001b[1;32m   2118\u001b[0m             \u001b[0;32mreturn\u001b[0m \u001b[0mresult\u001b[0m\u001b[0;34m\u001b[0m\u001b[0;34m\u001b[0m\u001b[0m\n\u001b[1;32m   2119\u001b[0m \u001b[0;34m\u001b[0m\u001b[0m\n",
            "\u001b[0;32m<decorator-gen-53>\u001b[0m in \u001b[0;36mtime\u001b[0;34m(self, line, cell, local_ns)\u001b[0m\n",
            "\u001b[0;32m/usr/local/lib/python3.7/dist-packages/IPython/core/magic.py\u001b[0m in \u001b[0;36m<lambda>\u001b[0;34m(f, *a, **k)\u001b[0m\n\u001b[1;32m    186\u001b[0m     \u001b[0;31m# but it's overkill for just that one bit of state.\u001b[0m\u001b[0;34m\u001b[0m\u001b[0;34m\u001b[0m\u001b[0;34m\u001b[0m\u001b[0m\n\u001b[1;32m    187\u001b[0m     \u001b[0;32mdef\u001b[0m \u001b[0mmagic_deco\u001b[0m\u001b[0;34m(\u001b[0m\u001b[0marg\u001b[0m\u001b[0;34m)\u001b[0m\u001b[0;34m:\u001b[0m\u001b[0;34m\u001b[0m\u001b[0;34m\u001b[0m\u001b[0m\n\u001b[0;32m--> 188\u001b[0;31m         \u001b[0mcall\u001b[0m \u001b[0;34m=\u001b[0m \u001b[0;32mlambda\u001b[0m \u001b[0mf\u001b[0m\u001b[0;34m,\u001b[0m \u001b[0;34m*\u001b[0m\u001b[0ma\u001b[0m\u001b[0;34m,\u001b[0m \u001b[0;34m**\u001b[0m\u001b[0mk\u001b[0m\u001b[0;34m:\u001b[0m \u001b[0mf\u001b[0m\u001b[0;34m(\u001b[0m\u001b[0;34m*\u001b[0m\u001b[0ma\u001b[0m\u001b[0;34m,\u001b[0m \u001b[0;34m**\u001b[0m\u001b[0mk\u001b[0m\u001b[0;34m)\u001b[0m\u001b[0;34m\u001b[0m\u001b[0;34m\u001b[0m\u001b[0m\n\u001b[0m\u001b[1;32m    189\u001b[0m \u001b[0;34m\u001b[0m\u001b[0m\n\u001b[1;32m    190\u001b[0m         \u001b[0;32mif\u001b[0m \u001b[0mcallable\u001b[0m\u001b[0;34m(\u001b[0m\u001b[0marg\u001b[0m\u001b[0;34m)\u001b[0m\u001b[0;34m:\u001b[0m\u001b[0;34m\u001b[0m\u001b[0;34m\u001b[0m\u001b[0m\n",
            "\u001b[0;32m/usr/local/lib/python3.7/dist-packages/IPython/core/magics/execution.py\u001b[0m in \u001b[0;36mtime\u001b[0;34m(self, line, cell, local_ns)\u001b[0m\n\u001b[1;32m   1191\u001b[0m         \u001b[0;32melse\u001b[0m\u001b[0;34m:\u001b[0m\u001b[0;34m\u001b[0m\u001b[0;34m\u001b[0m\u001b[0m\n\u001b[1;32m   1192\u001b[0m             \u001b[0mst\u001b[0m \u001b[0;34m=\u001b[0m \u001b[0mclock2\u001b[0m\u001b[0;34m(\u001b[0m\u001b[0;34m)\u001b[0m\u001b[0;34m\u001b[0m\u001b[0;34m\u001b[0m\u001b[0m\n\u001b[0;32m-> 1193\u001b[0;31m             \u001b[0mexec\u001b[0m\u001b[0;34m(\u001b[0m\u001b[0mcode\u001b[0m\u001b[0;34m,\u001b[0m \u001b[0mglob\u001b[0m\u001b[0;34m,\u001b[0m \u001b[0mlocal_ns\u001b[0m\u001b[0;34m)\u001b[0m\u001b[0;34m\u001b[0m\u001b[0;34m\u001b[0m\u001b[0m\n\u001b[0m\u001b[1;32m   1194\u001b[0m             \u001b[0mend\u001b[0m \u001b[0;34m=\u001b[0m \u001b[0mclock2\u001b[0m\u001b[0;34m(\u001b[0m\u001b[0;34m)\u001b[0m\u001b[0;34m\u001b[0m\u001b[0;34m\u001b[0m\u001b[0m\n\u001b[1;32m   1195\u001b[0m             \u001b[0mout\u001b[0m \u001b[0;34m=\u001b[0m \u001b[0;32mNone\u001b[0m\u001b[0;34m\u001b[0m\u001b[0;34m\u001b[0m\u001b[0m\n",
            "\u001b[0;32m<timed exec>\u001b[0m in \u001b[0;36m<module>\u001b[0;34m()\u001b[0m\n",
            "\u001b[0;32m/usr/local/lib/python3.7/dist-packages/keras/engine/training.py\u001b[0m in \u001b[0;36mfit\u001b[0;34m(self, x, y, batch_size, epochs, verbose, callbacks, validation_split, validation_data, shuffle, class_weight, sample_weight, initial_epoch, steps_per_epoch, validation_steps, validation_batch_size, validation_freq, max_queue_size, workers, use_multiprocessing)\u001b[0m\n\u001b[1;32m   1182\u001b[0m                 _r=1):\n\u001b[1;32m   1183\u001b[0m               \u001b[0mcallbacks\u001b[0m\u001b[0;34m.\u001b[0m\u001b[0mon_train_batch_begin\u001b[0m\u001b[0;34m(\u001b[0m\u001b[0mstep\u001b[0m\u001b[0;34m)\u001b[0m\u001b[0;34m\u001b[0m\u001b[0;34m\u001b[0m\u001b[0m\n\u001b[0;32m-> 1184\u001b[0;31m               \u001b[0mtmp_logs\u001b[0m \u001b[0;34m=\u001b[0m \u001b[0mself\u001b[0m\u001b[0;34m.\u001b[0m\u001b[0mtrain_function\u001b[0m\u001b[0;34m(\u001b[0m\u001b[0miterator\u001b[0m\u001b[0;34m)\u001b[0m\u001b[0;34m\u001b[0m\u001b[0;34m\u001b[0m\u001b[0m\n\u001b[0m\u001b[1;32m   1185\u001b[0m               \u001b[0;32mif\u001b[0m \u001b[0mdata_handler\u001b[0m\u001b[0;34m.\u001b[0m\u001b[0mshould_sync\u001b[0m\u001b[0;34m:\u001b[0m\u001b[0;34m\u001b[0m\u001b[0;34m\u001b[0m\u001b[0m\n\u001b[1;32m   1186\u001b[0m                 \u001b[0mcontext\u001b[0m\u001b[0;34m.\u001b[0m\u001b[0masync_wait\u001b[0m\u001b[0;34m(\u001b[0m\u001b[0;34m)\u001b[0m\u001b[0;34m\u001b[0m\u001b[0;34m\u001b[0m\u001b[0m\n",
            "\u001b[0;32m/usr/local/lib/python3.7/dist-packages/tensorflow/python/eager/def_function.py\u001b[0m in \u001b[0;36m__call__\u001b[0;34m(self, *args, **kwds)\u001b[0m\n\u001b[1;32m    883\u001b[0m \u001b[0;34m\u001b[0m\u001b[0m\n\u001b[1;32m    884\u001b[0m       \u001b[0;32mwith\u001b[0m \u001b[0mOptionalXlaContext\u001b[0m\u001b[0;34m(\u001b[0m\u001b[0mself\u001b[0m\u001b[0;34m.\u001b[0m\u001b[0m_jit_compile\u001b[0m\u001b[0;34m)\u001b[0m\u001b[0;34m:\u001b[0m\u001b[0;34m\u001b[0m\u001b[0;34m\u001b[0m\u001b[0m\n\u001b[0;32m--> 885\u001b[0;31m         \u001b[0mresult\u001b[0m \u001b[0;34m=\u001b[0m \u001b[0mself\u001b[0m\u001b[0;34m.\u001b[0m\u001b[0m_call\u001b[0m\u001b[0;34m(\u001b[0m\u001b[0;34m*\u001b[0m\u001b[0margs\u001b[0m\u001b[0;34m,\u001b[0m \u001b[0;34m**\u001b[0m\u001b[0mkwds\u001b[0m\u001b[0;34m)\u001b[0m\u001b[0;34m\u001b[0m\u001b[0;34m\u001b[0m\u001b[0m\n\u001b[0m\u001b[1;32m    886\u001b[0m \u001b[0;34m\u001b[0m\u001b[0m\n\u001b[1;32m    887\u001b[0m       \u001b[0mnew_tracing_count\u001b[0m \u001b[0;34m=\u001b[0m \u001b[0mself\u001b[0m\u001b[0;34m.\u001b[0m\u001b[0mexperimental_get_tracing_count\u001b[0m\u001b[0;34m(\u001b[0m\u001b[0;34m)\u001b[0m\u001b[0;34m\u001b[0m\u001b[0;34m\u001b[0m\u001b[0m\n",
            "\u001b[0;32m/usr/local/lib/python3.7/dist-packages/tensorflow/python/eager/def_function.py\u001b[0m in \u001b[0;36m_call\u001b[0;34m(self, *args, **kwds)\u001b[0m\n\u001b[1;32m    915\u001b[0m       \u001b[0;31m# In this case we have created variables on the first call, so we run the\u001b[0m\u001b[0;34m\u001b[0m\u001b[0;34m\u001b[0m\u001b[0;34m\u001b[0m\u001b[0m\n\u001b[1;32m    916\u001b[0m       \u001b[0;31m# defunned version which is guaranteed to never create variables.\u001b[0m\u001b[0;34m\u001b[0m\u001b[0;34m\u001b[0m\u001b[0;34m\u001b[0m\u001b[0m\n\u001b[0;32m--> 917\u001b[0;31m       \u001b[0;32mreturn\u001b[0m \u001b[0mself\u001b[0m\u001b[0;34m.\u001b[0m\u001b[0m_stateless_fn\u001b[0m\u001b[0;34m(\u001b[0m\u001b[0;34m*\u001b[0m\u001b[0margs\u001b[0m\u001b[0;34m,\u001b[0m \u001b[0;34m**\u001b[0m\u001b[0mkwds\u001b[0m\u001b[0;34m)\u001b[0m  \u001b[0;31m# pylint: disable=not-callable\u001b[0m\u001b[0;34m\u001b[0m\u001b[0;34m\u001b[0m\u001b[0m\n\u001b[0m\u001b[1;32m    918\u001b[0m     \u001b[0;32melif\u001b[0m \u001b[0mself\u001b[0m\u001b[0;34m.\u001b[0m\u001b[0m_stateful_fn\u001b[0m \u001b[0;32mis\u001b[0m \u001b[0;32mnot\u001b[0m \u001b[0;32mNone\u001b[0m\u001b[0;34m:\u001b[0m\u001b[0;34m\u001b[0m\u001b[0;34m\u001b[0m\u001b[0m\n\u001b[1;32m    919\u001b[0m       \u001b[0;31m# Release the lock early so that multiple threads can perform the call\u001b[0m\u001b[0;34m\u001b[0m\u001b[0;34m\u001b[0m\u001b[0;34m\u001b[0m\u001b[0m\n",
            "\u001b[0;32m/usr/local/lib/python3.7/dist-packages/tensorflow/python/eager/function.py\u001b[0m in \u001b[0;36m__call__\u001b[0;34m(self, *args, **kwargs)\u001b[0m\n\u001b[1;32m   3038\u001b[0m        filtered_flat_args) = self._maybe_define_function(args, kwargs)\n\u001b[1;32m   3039\u001b[0m     return graph_function._call_flat(\n\u001b[0;32m-> 3040\u001b[0;31m         filtered_flat_args, captured_inputs=graph_function.captured_inputs)  # pylint: disable=protected-access\n\u001b[0m\u001b[1;32m   3041\u001b[0m \u001b[0;34m\u001b[0m\u001b[0m\n\u001b[1;32m   3042\u001b[0m   \u001b[0;34m@\u001b[0m\u001b[0mproperty\u001b[0m\u001b[0;34m\u001b[0m\u001b[0;34m\u001b[0m\u001b[0m\n",
            "\u001b[0;32m/usr/local/lib/python3.7/dist-packages/tensorflow/python/eager/function.py\u001b[0m in \u001b[0;36m_call_flat\u001b[0;34m(self, args, captured_inputs, cancellation_manager)\u001b[0m\n\u001b[1;32m   1962\u001b[0m       \u001b[0;31m# No tape is watching; skip to running the function.\u001b[0m\u001b[0;34m\u001b[0m\u001b[0;34m\u001b[0m\u001b[0;34m\u001b[0m\u001b[0m\n\u001b[1;32m   1963\u001b[0m       return self._build_call_outputs(self._inference_function.call(\n\u001b[0;32m-> 1964\u001b[0;31m           ctx, args, cancellation_manager=cancellation_manager))\n\u001b[0m\u001b[1;32m   1965\u001b[0m     forward_backward = self._select_forward_and_backward_functions(\n\u001b[1;32m   1966\u001b[0m         \u001b[0margs\u001b[0m\u001b[0;34m,\u001b[0m\u001b[0;34m\u001b[0m\u001b[0;34m\u001b[0m\u001b[0m\n",
            "\u001b[0;32m/usr/local/lib/python3.7/dist-packages/tensorflow/python/eager/function.py\u001b[0m in \u001b[0;36mcall\u001b[0;34m(self, ctx, args, cancellation_manager)\u001b[0m\n\u001b[1;32m    594\u001b[0m               \u001b[0minputs\u001b[0m\u001b[0;34m=\u001b[0m\u001b[0margs\u001b[0m\u001b[0;34m,\u001b[0m\u001b[0;34m\u001b[0m\u001b[0;34m\u001b[0m\u001b[0m\n\u001b[1;32m    595\u001b[0m               \u001b[0mattrs\u001b[0m\u001b[0;34m=\u001b[0m\u001b[0mattrs\u001b[0m\u001b[0;34m,\u001b[0m\u001b[0;34m\u001b[0m\u001b[0;34m\u001b[0m\u001b[0m\n\u001b[0;32m--> 596\u001b[0;31m               ctx=ctx)\n\u001b[0m\u001b[1;32m    597\u001b[0m         \u001b[0;32melse\u001b[0m\u001b[0;34m:\u001b[0m\u001b[0;34m\u001b[0m\u001b[0;34m\u001b[0m\u001b[0m\n\u001b[1;32m    598\u001b[0m           outputs = execute.execute_with_cancellation(\n",
            "\u001b[0;32m/usr/local/lib/python3.7/dist-packages/tensorflow/python/eager/execute.py\u001b[0m in \u001b[0;36mquick_execute\u001b[0;34m(op_name, num_outputs, inputs, attrs, ctx, name)\u001b[0m\n\u001b[1;32m     58\u001b[0m     \u001b[0mctx\u001b[0m\u001b[0;34m.\u001b[0m\u001b[0mensure_initialized\u001b[0m\u001b[0;34m(\u001b[0m\u001b[0;34m)\u001b[0m\u001b[0;34m\u001b[0m\u001b[0;34m\u001b[0m\u001b[0m\n\u001b[1;32m     59\u001b[0m     tensors = pywrap_tfe.TFE_Py_Execute(ctx._handle, device_name, op_name,\n\u001b[0;32m---> 60\u001b[0;31m                                         inputs, attrs, num_outputs)\n\u001b[0m\u001b[1;32m     61\u001b[0m   \u001b[0;32mexcept\u001b[0m \u001b[0mcore\u001b[0m\u001b[0;34m.\u001b[0m\u001b[0m_NotOkStatusException\u001b[0m \u001b[0;32mas\u001b[0m \u001b[0me\u001b[0m\u001b[0;34m:\u001b[0m\u001b[0;34m\u001b[0m\u001b[0;34m\u001b[0m\u001b[0m\n\u001b[1;32m     62\u001b[0m     \u001b[0;32mif\u001b[0m \u001b[0mname\u001b[0m \u001b[0;32mis\u001b[0m \u001b[0;32mnot\u001b[0m \u001b[0;32mNone\u001b[0m\u001b[0;34m:\u001b[0m\u001b[0;34m\u001b[0m\u001b[0;34m\u001b[0m\u001b[0m\n",
            "\u001b[0;31mKeyboardInterrupt\u001b[0m: "
          ]
        }
      ]
    },
    {
      "cell_type": "code",
      "metadata": {
        "id": "W56LD_Ax6j0B",
        "colab": {
          "base_uri": "https://localhost:8080/",
          "height": 229
        },
        "outputId": "8d8a5a93-eef8-4e22-bac8-8d4a228f70a4"
      },
      "source": [
        "import matplotlib.pyplot as plt \n",
        "def plot_graphs(history, string):\n",
        "    plt.plot(history.history[string])\n",
        "    plt.plot(history.history['val_'+string])\n",
        "    plt.xlabel(\"Epochs\")\n",
        "    plt.ylabel(string)\n",
        "    plt.legend([string, 'val_'+string])\n",
        "    plt.show()\n",
        "\n",
        "plot_graphs(history, \"categorical_accuracy\")\n",
        "plot_graphs(history, \"f1_score\")\n",
        "plot_graphs(history, 'loss')\n"
      ],
      "execution_count": 55,
      "outputs": [
        {
          "output_type": "error",
          "ename": "NameError",
          "evalue": "ignored",
          "traceback": [
            "\u001b[0;31m---------------------------------------------------------------------------\u001b[0m",
            "\u001b[0;31mNameError\u001b[0m                                 Traceback (most recent call last)",
            "\u001b[0;32m<ipython-input-55-e8b0ddd52898>\u001b[0m in \u001b[0;36m<module>\u001b[0;34m()\u001b[0m\n\u001b[1;32m      8\u001b[0m     \u001b[0mplt\u001b[0m\u001b[0;34m.\u001b[0m\u001b[0mshow\u001b[0m\u001b[0;34m(\u001b[0m\u001b[0;34m)\u001b[0m\u001b[0;34m\u001b[0m\u001b[0;34m\u001b[0m\u001b[0m\n\u001b[1;32m      9\u001b[0m \u001b[0;34m\u001b[0m\u001b[0m\n\u001b[0;32m---> 10\u001b[0;31m \u001b[0mplot_graphs\u001b[0m\u001b[0;34m(\u001b[0m\u001b[0mhistory\u001b[0m\u001b[0;34m,\u001b[0m \u001b[0;34m\"categorical_accuracy\"\u001b[0m\u001b[0;34m)\u001b[0m\u001b[0;34m\u001b[0m\u001b[0;34m\u001b[0m\u001b[0m\n\u001b[0m\u001b[1;32m     11\u001b[0m \u001b[0mplot_graphs\u001b[0m\u001b[0;34m(\u001b[0m\u001b[0mhistory\u001b[0m\u001b[0;34m,\u001b[0m \u001b[0;34m\"f1_score\"\u001b[0m\u001b[0;34m)\u001b[0m\u001b[0;34m\u001b[0m\u001b[0;34m\u001b[0m\u001b[0m\n\u001b[1;32m     12\u001b[0m \u001b[0mplot_graphs\u001b[0m\u001b[0;34m(\u001b[0m\u001b[0mhistory\u001b[0m\u001b[0;34m,\u001b[0m \u001b[0;34m'loss'\u001b[0m\u001b[0;34m)\u001b[0m\u001b[0;34m\u001b[0m\u001b[0;34m\u001b[0m\u001b[0m\n",
            "\u001b[0;31mNameError\u001b[0m: name 'history' is not defined"
          ]
        }
      ]
    },
    {
      "cell_type": "code",
      "metadata": {
        "id": "xVqdjR-oJ0lo"
      },
      "source": [
        "# model.save('BERT-Model.h5')"
      ],
      "execution_count": null,
      "outputs": []
    },
    {
      "cell_type": "markdown",
      "metadata": {
        "id": "bfa8IsjVINIp"
      },
      "source": [
        "# Epoch - 2"
      ]
    },
    {
      "cell_type": "code",
      "metadata": {
        "id": "UqtgpdJK4t_0"
      },
      "source": [
        "test_file = pd.read_csv('/content/drive/MyDrive/Shared Task 2021/test-set-with-labels-cleaned.txt', index_col=0)"
      ],
      "execution_count": 56,
      "outputs": []
    },
    {
      "cell_type": "code",
      "metadata": {
        "id": "5o09mjjJ5gPI",
        "colab": {
          "base_uri": "https://localhost:8080/",
          "height": 318
        },
        "outputId": "80f2504d-eee8-4560-b308-4ea3ec5d4716"
      },
      "source": [
        "test_file.head()"
      ],
      "execution_count": 57,
      "outputs": [
        {
          "output_type": "execute_result",
          "data": {
            "text/html": [
              "<div>\n",
              "<style scoped>\n",
              "    .dataframe tbody tr th:only-of-type {\n",
              "        vertical-align: middle;\n",
              "    }\n",
              "\n",
              "    .dataframe tbody tr th {\n",
              "        vertical-align: top;\n",
              "    }\n",
              "\n",
              "    .dataframe thead th {\n",
              "        text-align: right;\n",
              "    }\n",
              "</style>\n",
              "<table border=\"1\" class=\"dataframe\">\n",
              "  <thead>\n",
              "    <tr style=\"text-align: right;\">\n",
              "      <th></th>\n",
              "      <th>EventSnippet</th>\n",
              "      <th>SubType</th>\n",
              "      <th>processed</th>\n",
              "      <th>lemmatized</th>\n",
              "    </tr>\n",
              "    <tr>\n",
              "      <th>id</th>\n",
              "      <th></th>\n",
              "      <th></th>\n",
              "      <th></th>\n",
              "      <th></th>\n",
              "    </tr>\n",
              "  </thead>\n",
              "  <tbody>\n",
              "    <tr>\n",
              "      <th>1</th>\n",
              "      <td>The US warplanes pounded the village of Kashka...</td>\n",
              "      <td>AIR_STRIKE</td>\n",
              "      <td>the us warplanes pounded the village of kashka...</td>\n",
              "      <td>u warplane pounded village kashkash southern p...</td>\n",
              "    </tr>\n",
              "    <tr>\n",
              "      <th>3</th>\n",
              "      <td>Officers brutally attacked and injured a peace...</td>\n",
              "      <td>FORCE_AGAINST_PROTEST</td>\n",
              "      <td>officers brutally attacked and injured a peace...</td>\n",
              "      <td>officer brutally attacked injured peaceful stu...</td>\n",
              "    </tr>\n",
              "    <tr>\n",
              "      <th>4</th>\n",
              "      <td>On December 13, ISIS fighters recaptured the v...</td>\n",
              "      <td>NON_STATE_ACTOR_OVERTAKES_TER</td>\n",
              "      <td>isis fighters recaptured the village of kashma...</td>\n",
              "      <td>isi fighter recaptured village kashma syrian a...</td>\n",
              "    </tr>\n",
              "    <tr>\n",
              "      <th>5</th>\n",
              "      <td>Vice-President Mike Pence said Thursday that t...</td>\n",
              "      <td>AGREEMENT</td>\n",
              "      <td>vice-president mike pence said thursday that t...</td>\n",
              "      <td>vice-president mike penny said thursday mainly...</td>\n",
              "    </tr>\n",
              "    <tr>\n",
              "      <th>6</th>\n",
              "      <td>A helicopter on Thursday is said to have dropp...</td>\n",
              "      <td>CHEM_WEAP</td>\n",
              "      <td>a helicopter thursday is said to have dropped ...</td>\n",
              "      <td>helicopter thursday said dropped container tox...</td>\n",
              "    </tr>\n",
              "  </tbody>\n",
              "</table>\n",
              "</div>"
            ],
            "text/plain": [
              "                                         EventSnippet  ...                                         lemmatized\n",
              "id                                                     ...                                                   \n",
              "1   The US warplanes pounded the village of Kashka...  ...  u warplane pounded village kashkash southern p...\n",
              "3   Officers brutally attacked and injured a peace...  ...  officer brutally attacked injured peaceful stu...\n",
              "4   On December 13, ISIS fighters recaptured the v...  ...  isi fighter recaptured village kashma syrian a...\n",
              "5   Vice-President Mike Pence said Thursday that t...  ...  vice-president mike penny said thursday mainly...\n",
              "6   A helicopter on Thursday is said to have dropp...  ...  helicopter thursday said dropped container tox...\n",
              "\n",
              "[5 rows x 4 columns]"
            ]
          },
          "metadata": {},
          "execution_count": 57
        }
      ]
    },
    {
      "cell_type": "markdown",
      "metadata": {
        "id": "UREWiBAZE1-k"
      },
      "source": [
        "## For Cleaned Text"
      ]
    },
    {
      "cell_type": "code",
      "metadata": {
        "colab": {
          "base_uri": "https://localhost:8080/"
        },
        "id": "bUA_b6LBe8jp",
        "outputId": "53b54308-5f24-4290-b195-4204ad26bffb"
      },
      "source": [
        "final_test_inputs, final_test_attention_masks, segments = get_inputs(test_file.processed, tokenizer)"
      ],
      "execution_count": 64,
      "outputs": [
        {
          "output_type": "stream",
          "name": "stderr",
          "text": [
            "/usr/local/lib/python3.7/dist-packages/transformers/tokenization_utils_base.py:2217: FutureWarning: The `pad_to_max_length` argument is deprecated and will be removed in a future version, use `padding=True` or `padding='longest'` to pad to the longest sequence in the batch, or use `padding='max_length'` to pad to a max length. In this case, you can give a specific length with `max_length` (e.g. `max_length=45`) or leave max_length to None to pad to the maximal input size of the model (e.g. 512 for Bert).\n",
            "  FutureWarning,\n"
          ]
        }
      ]
    },
    {
      "cell_type": "code",
      "metadata": {
        "id": "hUTHeRkL5gWn"
      },
      "source": [
        "y_preds = np.argmax(model.predict([final_test_inputs, final_test_attention_masks]), axis=1)"
      ],
      "execution_count": 65,
      "outputs": []
    },
    {
      "cell_type": "code",
      "metadata": {
        "id": "QBrBVd6S5gdx",
        "colab": {
          "base_uri": "https://localhost:8080/"
        },
        "outputId": "eeba419b-c156-46bf-9dfd-e3d3e34d427b"
      },
      "source": [
        "y_preds"
      ],
      "execution_count": 66,
      "outputs": [
        {
          "output_type": "execute_result",
          "data": {
            "text/plain": [
              "array([ 4,  8, 12, 23, 24, 10,  1, 12, 12, 14, 10, 10,  1, 14, 20,  2, 18,\n",
              "        8,  6,  3,  5,  0, 20,  3, 10,  6,  2, 18,  6, 18,  5,  0, 20, 14,\n",
              "       23, 20, 23, 22, 23, 16, 11,  0, 22, 18, 18,  5, 19,  8,  3, 24, 12,\n",
              "       24, 15, 11, 19, 16, 19, 10, 24, 18, 10, 11, 13,  5, 10,  2,  5, 18,\n",
              "        6, 17,  7,  1,  4, 20, 17, 12, 15,  1,  2, 21, 20, 20,  1,  3,  0,\n",
              "        2,  2,  1, 24, 18,  3, 13,  9,  4,  2, 18,  2,  1,  2, 12,  8, 20,\n",
              "       23,  0,  1, 18,  1,  3,  7,  2, 13,  3, 23, 12, 12,  4, 20, 13,  8,\n",
              "       23,  6, 10, 18,  8,  6, 14, 13, 14,  1,  0, 21,  0, 13, 12, 23,  5,\n",
              "        0, 16, 11, 14,  1,  6,  6,  0,  4,  0, 18,  1,  3, 23,  5, 13, 23,\n",
              "       23, 16, 14, 21, 13, 12, 12, 18, 14,  3, 18,  3,  0, 11, 10, 21, 18,\n",
              "       11, 18,  5, 15, 21,  1,  1, 12, 23, 11, 18,  3, 11, 11,  2, 20, 22,\n",
              "        5, 16, 20, 10, 11, 22, 14,  6, 22,  8, 20, 14,  3, 18, 22, 22, 11,\n",
              "        7, 11, 17,  4, 15, 20, 10,  2,  1, 12, 15, 16,  7,  7, 17,  3,  1,\n",
              "        1,  1,  5, 15, 22,  5, 16, 23, 12,  3,  1, 10,  1,  1,  4, 22, 23,\n",
              "        1,  8,  7, 17, 20,  2, 23, 24, 10,  2,  7, 14, 17, 18, 16,  1, 18,\n",
              "        1,  3,  8,  1, 18, 13,  8,  8,  5,  2,  1, 15, 12, 20,  2,  0,  3,\n",
              "       22, 11, 16, 23,  5,  5,  1, 16, 20, 23, 15,  3, 23,  4,  5,  7, 15,\n",
              "       20,  0, 22, 24,  4,  0,  5, 21,  1, 23,  2, 14,  2, 16,  2,  1, 10,\n",
              "        5, 14,  4,  4,  0, 22,  1, 20, 18, 13,  9,  5, 18, 14, 23,  3, 20,\n",
              "       11, 10,  5,  6, 10, 24,  6, 22,  7, 19, 14, 13, 11, 12,  4, 15, 22,\n",
              "        1,  5,  2, 18, 18, 18,  0,  7,  2,  8,  5, 24, 21, 11, 10, 18, 11,\n",
              "        2, 10,  6,  2, 22,  8, 12, 16, 22,  2,  3, 14,  9,  6,  7, 22,  6,\n",
              "       13,  4,  2,  2, 23,  8,  1,  9, 14,  7,  1, 22,  0, 12, 18, 12,  2,\n",
              "       23,  5, 17,  0, 13,  8, 11,  9,  4,  0,  0,  1, 16, 20, 10,  0,  3,\n",
              "        5, 18, 18, 20, 22,  9, 16, 18, 17,  2,  4, 12,  1, 16, 12, 22, 20,\n",
              "       24, 20,  0, 17, 20, 22, 18, 16, 19,  0,  2,  0, 20, 18, 18, 15,  4,\n",
              "       23,  8, 23,  2,  4,  1, 14, 16, 11,  7,  1,  8,  5,  1, 15, 15,  0,\n",
              "        5,  1, 18, 18, 21,  7, 22, 23,  3,  7,  7, 19, 17,  4,  4, 21,  6,\n",
              "        3,  1,  5, 14, 11,  5, 18, 18, 20, 17,  0, 21, 21,  2, 18, 17,  5,\n",
              "       18,  2, 19,  3, 21, 14, 15,  1, 23, 13, 12, 18,  4, 11, 23,  1, 20,\n",
              "        7, 19, 12,  4,  6, 20, 15,  5, 22, 10,  7, 11, 15, 22, 18,  0,  1,\n",
              "       21, 18, 14, 17, 11, 15, 11,  5,  3, 14, 20, 22,  1,  6, 17,  3, 12,\n",
              "       20, 12, 19,  0,  3, 11, 13, 19, 20,  8, 20,  0,  2, 12,  3,  1, 11,\n",
              "       19,  8,  0, 18, 22, 12,  4, 23, 10, 12,  5,  9, 14, 21,  4, 22,  6,\n",
              "       19,  2,  8,  3, 16,  2,  3,  1,  5,  1, 14,  0, 21,  5,  0,  1, 24,\n",
              "       18, 19, 14, 21,  8, 22, 15,  8, 14,  3,  2, 15, 15,  1, 15, 23,  4,\n",
              "       20,  1, 23, 17, 20,  4,  2, 21, 15, 18, 18,  4, 16, 16, 14,  1, 22,\n",
              "       12,  1, 23, 11, 15, 22,  6,  5, 18, 22, 17, 22, 22,  5,  7, 11, 19,\n",
              "       12, 20,  4, 19, 23,  4, 21, 18, 21, 17, 20,  5,  3, 12, 22, 23,  8,\n",
              "       16, 22, 20, 12, 12, 22, 11,  4, 18, 11, 21, 20, 11, 24,  3, 16, 12,\n",
              "        5,  5, 12, 12,  1,  7, 20,  1, 11, 23, 23,  1, 19,  1, 11, 12,  1,\n",
              "        1,  5, 15,  9,  2,  1,  7,  1,  0, 11, 16, 13, 20, 15, 19, 10, 14,\n",
              "       16, 24,  5,  6,  4, 22, 12, 18, 11, 12, 20, 11,  8,  1, 21,  5,  2,\n",
              "       20, 20,  8, 12, 14, 18, 14, 11,  5,  2,  0,  1, 17,  3,  0, 12, 12,\n",
              "       12, 20,  1, 20, 22,  5, 10, 18,  4, 19, 13,  2,  8, 20,  5,  6, 13,\n",
              "        3,  9, 18,  6, 12,  9,  5,  2,  5,  7,  3,  1,  0,  3,  2,  5, 23,\n",
              "       21,  5, 11, 18,  5, 16,  0, 19, 18, 15,  4,  3,  0,  1, 20, 22,  2,\n",
              "        5, 11, 10, 14,  5,  1,  2,  1, 12, 16,  2, 23,  4, 11,  0,  1, 16,\n",
              "       17, 21,  4,  1, 13, 11, 20, 17, 13,  1,  5, 13, 15])"
            ]
          },
          "metadata": {},
          "execution_count": 66
        }
      ]
    },
    {
      "cell_type": "code",
      "metadata": {
        "id": "E8xBCXs45gja"
      },
      "source": [
        "test_file['pred-labels-cleaned'] = y_preds"
      ],
      "execution_count": 67,
      "outputs": []
    },
    {
      "cell_type": "code",
      "metadata": {
        "id": "vwNUIHoe86O6",
        "colab": {
          "base_uri": "https://localhost:8080/",
          "height": 334
        },
        "outputId": "1028e4c6-2d24-48ae-ca80-b64593d3292b"
      },
      "source": [
        "test_file.head()"
      ],
      "execution_count": 68,
      "outputs": [
        {
          "output_type": "execute_result",
          "data": {
            "text/html": [
              "<div>\n",
              "<style scoped>\n",
              "    .dataframe tbody tr th:only-of-type {\n",
              "        vertical-align: middle;\n",
              "    }\n",
              "\n",
              "    .dataframe tbody tr th {\n",
              "        vertical-align: top;\n",
              "    }\n",
              "\n",
              "    .dataframe thead th {\n",
              "        text-align: right;\n",
              "    }\n",
              "</style>\n",
              "<table border=\"1\" class=\"dataframe\">\n",
              "  <thead>\n",
              "    <tr style=\"text-align: right;\">\n",
              "      <th></th>\n",
              "      <th>EventSnippet</th>\n",
              "      <th>SubType</th>\n",
              "      <th>processed</th>\n",
              "      <th>lemmatized</th>\n",
              "      <th>pred-labels-cleaned</th>\n",
              "    </tr>\n",
              "    <tr>\n",
              "      <th>id</th>\n",
              "      <th></th>\n",
              "      <th></th>\n",
              "      <th></th>\n",
              "      <th></th>\n",
              "      <th></th>\n",
              "    </tr>\n",
              "  </thead>\n",
              "  <tbody>\n",
              "    <tr>\n",
              "      <th>1</th>\n",
              "      <td>The US warplanes pounded the village of Kashka...</td>\n",
              "      <td>AIR_STRIKE</td>\n",
              "      <td>the us warplanes pounded the village of kashka...</td>\n",
              "      <td>u warplane pounded village kashkash southern p...</td>\n",
              "      <td>4</td>\n",
              "    </tr>\n",
              "    <tr>\n",
              "      <th>3</th>\n",
              "      <td>Officers brutally attacked and injured a peace...</td>\n",
              "      <td>FORCE_AGAINST_PROTEST</td>\n",
              "      <td>officers brutally attacked and injured a peace...</td>\n",
              "      <td>officer brutally attacked injured peaceful stu...</td>\n",
              "      <td>8</td>\n",
              "    </tr>\n",
              "    <tr>\n",
              "      <th>4</th>\n",
              "      <td>On December 13, ISIS fighters recaptured the v...</td>\n",
              "      <td>NON_STATE_ACTOR_OVERTAKES_TER</td>\n",
              "      <td>isis fighters recaptured the village of kashma...</td>\n",
              "      <td>isi fighter recaptured village kashma syrian a...</td>\n",
              "      <td>12</td>\n",
              "    </tr>\n",
              "    <tr>\n",
              "      <th>5</th>\n",
              "      <td>Vice-President Mike Pence said Thursday that t...</td>\n",
              "      <td>AGREEMENT</td>\n",
              "      <td>vice-president mike pence said thursday that t...</td>\n",
              "      <td>vice-president mike penny said thursday mainly...</td>\n",
              "      <td>23</td>\n",
              "    </tr>\n",
              "    <tr>\n",
              "      <th>6</th>\n",
              "      <td>A helicopter on Thursday is said to have dropp...</td>\n",
              "      <td>CHEM_WEAP</td>\n",
              "      <td>a helicopter thursday is said to have dropped ...</td>\n",
              "      <td>helicopter thursday said dropped container tox...</td>\n",
              "      <td>24</td>\n",
              "    </tr>\n",
              "  </tbody>\n",
              "</table>\n",
              "</div>"
            ],
            "text/plain": [
              "                                         EventSnippet  ... pred-labels-cleaned\n",
              "id                                                     ...                    \n",
              "1   The US warplanes pounded the village of Kashka...  ...                   4\n",
              "3   Officers brutally attacked and injured a peace...  ...                   8\n",
              "4   On December 13, ISIS fighters recaptured the v...  ...                  12\n",
              "5   Vice-President Mike Pence said Thursday that t...  ...                  23\n",
              "6   A helicopter on Thursday is said to have dropp...  ...                  24\n",
              "\n",
              "[5 rows x 5 columns]"
            ]
          },
          "metadata": {},
          "execution_count": 68
        }
      ]
    },
    {
      "cell_type": "code",
      "metadata": {
        "id": "8ncNYlVZ88xZ"
      },
      "source": [
        "def num_to_text_labels(num):\n",
        "    text = event_types_dict_inverse[num]\n",
        "    return text\n",
        "\n",
        "test_file['text-labels-cleaned'] = test_file['pred-labels-cleaned'].apply(num_to_text_labels)"
      ],
      "execution_count": 69,
      "outputs": []
    },
    {
      "cell_type": "code",
      "metadata": {
        "id": "Dq7ieqbkBxVY",
        "colab": {
          "base_uri": "https://localhost:8080/",
          "height": 435
        },
        "outputId": "cfe293b3-c33a-4aac-88f3-109a28703e9b"
      },
      "source": [
        "test_file.head()"
      ],
      "execution_count": 70,
      "outputs": [
        {
          "output_type": "execute_result",
          "data": {
            "text/html": [
              "<div>\n",
              "<style scoped>\n",
              "    .dataframe tbody tr th:only-of-type {\n",
              "        vertical-align: middle;\n",
              "    }\n",
              "\n",
              "    .dataframe tbody tr th {\n",
              "        vertical-align: top;\n",
              "    }\n",
              "\n",
              "    .dataframe thead th {\n",
              "        text-align: right;\n",
              "    }\n",
              "</style>\n",
              "<table border=\"1\" class=\"dataframe\">\n",
              "  <thead>\n",
              "    <tr style=\"text-align: right;\">\n",
              "      <th></th>\n",
              "      <th>EventSnippet</th>\n",
              "      <th>SubType</th>\n",
              "      <th>processed</th>\n",
              "      <th>lemmatized</th>\n",
              "      <th>pred-labels-cleaned</th>\n",
              "      <th>text-labels-cleaned</th>\n",
              "    </tr>\n",
              "    <tr>\n",
              "      <th>id</th>\n",
              "      <th></th>\n",
              "      <th></th>\n",
              "      <th></th>\n",
              "      <th></th>\n",
              "      <th></th>\n",
              "      <th></th>\n",
              "    </tr>\n",
              "  </thead>\n",
              "  <tbody>\n",
              "    <tr>\n",
              "      <th>1</th>\n",
              "      <td>The US warplanes pounded the village of Kashka...</td>\n",
              "      <td>AIR_STRIKE</td>\n",
              "      <td>the us warplanes pounded the village of kashka...</td>\n",
              "      <td>u warplane pounded village kashkash southern p...</td>\n",
              "      <td>4</td>\n",
              "      <td>AIR_STRIKE</td>\n",
              "    </tr>\n",
              "    <tr>\n",
              "      <th>3</th>\n",
              "      <td>Officers brutally attacked and injured a peace...</td>\n",
              "      <td>FORCE_AGAINST_PROTEST</td>\n",
              "      <td>officers brutally attacked and injured a peace...</td>\n",
              "      <td>officer brutally attacked injured peaceful stu...</td>\n",
              "      <td>8</td>\n",
              "      <td>FORCE_AGAINST_PROTEST</td>\n",
              "    </tr>\n",
              "    <tr>\n",
              "      <th>4</th>\n",
              "      <td>On December 13, ISIS fighters recaptured the v...</td>\n",
              "      <td>NON_STATE_ACTOR_OVERTAKES_TER</td>\n",
              "      <td>isis fighters recaptured the village of kashma...</td>\n",
              "      <td>isi fighter recaptured village kashma syrian a...</td>\n",
              "      <td>12</td>\n",
              "      <td>GOV_REGAINS_TERIT</td>\n",
              "    </tr>\n",
              "    <tr>\n",
              "      <th>5</th>\n",
              "      <td>Vice-President Mike Pence said Thursday that t...</td>\n",
              "      <td>AGREEMENT</td>\n",
              "      <td>vice-president mike pence said thursday that t...</td>\n",
              "      <td>vice-president mike penny said thursday mainly...</td>\n",
              "      <td>23</td>\n",
              "      <td>AGREEMENT</td>\n",
              "    </tr>\n",
              "    <tr>\n",
              "      <th>6</th>\n",
              "      <td>A helicopter on Thursday is said to have dropp...</td>\n",
              "      <td>CHEM_WEAP</td>\n",
              "      <td>a helicopter thursday is said to have dropped ...</td>\n",
              "      <td>helicopter thursday said dropped container tox...</td>\n",
              "      <td>24</td>\n",
              "      <td>CHEM_WEAP</td>\n",
              "    </tr>\n",
              "  </tbody>\n",
              "</table>\n",
              "</div>"
            ],
            "text/plain": [
              "                                         EventSnippet  ...    text-labels-cleaned\n",
              "id                                                     ...                       \n",
              "1   The US warplanes pounded the village of Kashka...  ...             AIR_STRIKE\n",
              "3   Officers brutally attacked and injured a peace...  ...  FORCE_AGAINST_PROTEST\n",
              "4   On December 13, ISIS fighters recaptured the v...  ...      GOV_REGAINS_TERIT\n",
              "5   Vice-President Mike Pence said Thursday that t...  ...              AGREEMENT\n",
              "6   A helicopter on Thursday is said to have dropp...  ...              CHEM_WEAP\n",
              "\n",
              "[5 rows x 6 columns]"
            ]
          },
          "metadata": {},
          "execution_count": 70
        }
      ]
    },
    {
      "cell_type": "code",
      "metadata": {
        "id": "oWAP5tcxHdy7",
        "colab": {
          "base_uri": "https://localhost:8080/"
        },
        "outputId": "4c10e967-4c21-43b6-9699-3aa39ec3c7f7"
      },
      "source": [
        "\n",
        "from sklearn.metrics import classification_report\n",
        "\n",
        "print(classification_report(y_true= list(test_file.SubType), y_pred= list(test_file['text-labels-cleaned'])))"
      ],
      "execution_count": 71,
      "outputs": [
        {
          "output_type": "stream",
          "name": "stdout",
          "text": [
            "                               precision    recall  f1-score   support\n",
            "\n",
            "                ABDUCT_DISSAP       0.76      0.80      0.78        20\n",
            "                    AGREEMENT       0.81      0.97      0.88        31\n",
            "                   AIR_STRIKE       0.88      0.83      0.86        36\n",
            "                  ARMED_CLASH       0.94      0.74      0.83        66\n",
            "                       ARREST       0.96      0.76      0.85        34\n",
            "              ART_MISS_ATTACK       0.79      0.86      0.83        36\n",
            "                       ATTACK       0.68      0.93      0.78        27\n",
            "          CHANGE_TO_GROUP_ACT       0.74      0.77      0.75        30\n",
            "                    CHEM_WEAP       1.00      0.35      0.52        37\n",
            "                    DISR_WEAP       0.93      0.90      0.91        58\n",
            "        FORCE_AGAINST_PROTEST       0.65      0.74      0.69        23\n",
            "            GOV_REGAINS_TERIT       0.73      0.87      0.80        38\n",
            "                      GRENADE       0.96      0.96      0.96        48\n",
            "               HQ_ESTABLISHED       0.87      0.91      0.89        22\n",
            "                     MOB_VIOL       0.45      0.59      0.51        17\n",
            "NON_STATE_ACTOR_OVERTAKES_TER       0.56      0.62      0.59        24\n",
            "     NON_VIOL_TERRIT_TRANSFER       0.74      0.67      0.70        21\n",
            "                        OTHER       0.33      1.00      0.50         8\n",
            "                PEACE_PROTEST       0.77      0.95      0.85        57\n",
            "            PROPERTY_DISTRUCT       0.70      0.33      0.45        21\n",
            "           PROTEST_WITH_INTER       0.64      0.64      0.64        22\n",
            "                   REM_EXPLOS       0.80      0.92      0.86        36\n",
            "                     SEX_VIOL       0.95      0.83      0.88        23\n",
            "                    SUIC_BOMB       1.00      0.95      0.97        41\n",
            "                VIOL_DEMONSTR       0.72      0.62      0.67        53\n",
            "\n",
            "                     accuracy                           0.79       829\n",
            "                    macro avg       0.78      0.78      0.76       829\n",
            "                 weighted avg       0.82      0.79      0.79       829\n",
            "\n"
          ]
        }
      ]
    },
    {
      "cell_type": "code",
      "metadata": {
        "id": "r8dUzphqATjq",
        "colab": {
          "base_uri": "https://localhost:8080/",
          "height": 821
        },
        "outputId": "4795a3cf-4c29-4c46-b510-d7a16e586a85"
      },
      "source": [
        "from sklearn.metrics import confusion_matrix\n",
        "conf_mat = confusion_matrix(list(test_file.SubType), list(test_file['text-labels-cleaned']))\n",
        "fig, ax = plt.subplots(figsize=(10,10))\n",
        "sns.heatmap(conf_mat, annot=True, fmt='d',\n",
        "            xticklabels=set(test_file.SubType), yticklabels=set(test_file.SubType))\n",
        "plt.ylabel('Actual')\n",
        "plt.xlabel('Predicted')\n",
        "plt.title('XLNet-base-resampled-cleaned-allTrainable-Cleaned-e2')\n",
        "plt.show()"
      ],
      "execution_count": 72,
      "outputs": [
        {
          "output_type": "display_data",
          "data": {
            "image/png": "[encoded data removed]",
            "text/plain": [
              "<Figure size 720x720 with 2 Axes>"
            ]
          },
          "metadata": {}
        }
      ]
    },
    {
      "cell_type": "code",
      "metadata": {
        "id": "7AQfu4IRE-Gr"
      },
      "source": [
        ""
      ],
      "execution_count": 72,
      "outputs": []
    },
    {
      "cell_type": "markdown",
      "metadata": {
        "id": "LGN6NOBEE-We"
      },
      "source": [
        "## For lemmatized Text"
      ]
    },
    {
      "cell_type": "code",
      "metadata": {
        "colab": {
          "base_uri": "https://localhost:8080/"
        },
        "id": "42_lQ8qhE-We",
        "outputId": "7756fc6a-8f28-497d-a884-d47a9ec42b03"
      },
      "source": [
        "final_test_inputs, final_test_attention_masks, segments = get_inputs(test_file.lemmatized, tokenizer)"
      ],
      "execution_count": 85,
      "outputs": [
        {
          "output_type": "stream",
          "name": "stderr",
          "text": [
            "/usr/local/lib/python3.7/dist-packages/transformers/tokenization_utils_base.py:2217: FutureWarning: The `pad_to_max_length` argument is deprecated and will be removed in a future version, use `padding=True` or `padding='longest'` to pad to the longest sequence in the batch, or use `padding='max_length'` to pad to a max length. In this case, you can give a specific length with `max_length` (e.g. `max_length=45`) or leave max_length to None to pad to the maximal input size of the model (e.g. 512 for Bert).\n",
            "  FutureWarning,\n"
          ]
        }
      ]
    },
    {
      "cell_type": "code",
      "metadata": {
        "id": "ngjLfhuiE-We"
      },
      "source": [
        "y_preds = np.argmax(model.predict([final_test_inputs, final_test_attention_masks]), axis=1)"
      ],
      "execution_count": 86,
      "outputs": []
    },
    {
      "cell_type": "code",
      "metadata": {
        "colab": {
          "base_uri": "https://localhost:8080/"
        },
        "id": "3Yc1ljJ8E-Wf",
        "outputId": "1970f656-093c-4cdc-debc-5aa92d26f691"
      },
      "source": [
        "y_preds"
      ],
      "execution_count": 87,
      "outputs": [
        {
          "output_type": "execute_result",
          "data": {
            "text/plain": [
              "array([ 4,  8, 15, 23, 24, 10,  1, 12, 12, 18,  9,  3,  1, 14, 20,  2, 18,\n",
              "        8,  6,  3,  5,  0, 20,  3, 10,  6,  2, 18,  6, 18,  5,  0, 20, 14,\n",
              "       23, 20, 23, 22, 23, 16, 11,  0, 22, 18, 18,  5, 10,  8,  3, 10, 12,\n",
              "       24, 15, 11, 19, 16, 12, 10, 24, 18, 16, 10, 13,  5, 24,  8,  5, 18,\n",
              "        8,  6,  7,  1,  4, 20, 17, 12, 15,  2,  2, 21, 20, 20,  1,  3,  0,\n",
              "        2,  2,  7,  9, 18,  3, 13,  9,  4,  2, 18,  2,  1,  1, 12,  8, 20,\n",
              "       23,  0,  1,  3,  1,  3,  7,  2, 16,  3, 24, 12, 12,  4, 20, 13,  8,\n",
              "       23, 10,  6, 11,  8,  6,  0, 13, 14,  1,  5, 21,  0, 13, 14, 23,  5,\n",
              "        0, 16, 11, 14,  1,  6,  6,  0,  4,  0, 18,  1,  3, 23,  5, 13, 23,\n",
              "       23, 16, 14, 21, 13, 12, 12, 18, 14,  3, 18,  3,  0, 11, 15,  9, 18,\n",
              "       11, 18,  5, 15, 23,  1,  1, 13, 10, 11, 18,  3, 11, 11,  1, 20, 22,\n",
              "        5, 13, 20, 10, 11, 22, 15,  2, 22,  8, 20, 14,  3, 11, 22, 22, 11,\n",
              "        7, 11, 17,  0, 15, 20, 12,  7,  2,  0, 12, 16, 16,  7, 17,  3,  1,\n",
              "        1,  1,  5,  5, 22,  5, 16, 23, 12,  3, 23, 14,  2,  1,  4, 22, 13,\n",
              "        1,  8,  7, 17, 20,  2, 23, 24, 10,  2,  7, 14, 17, 18, 16,  1, 18,\n",
              "        1,  3,  2,  1, 18, 13,  8,  8,  5,  1,  9, 19, 19, 20,  2,  0,  3,\n",
              "       22, 11, 16, 23,  5,  0,  1, 16, 20, 23, 15,  3, 14,  4,  5,  2, 15,\n",
              "       20,  0, 22, 24,  4,  0,  5, 21,  1, 23,  2, 14,  2, 16,  2,  1, 10,\n",
              "        5, 18,  4,  4,  0, 22,  1, 20, 18,  3,  9,  5, 10, 14, 23,  3, 20,\n",
              "       11, 23,  5, 24,  9, 24,  6, 22,  7, 19, 14, 13, 11, 15,  4, 15, 22,\n",
              "        1,  5,  2, 18, 18, 18,  0,  7,  2,  8,  5, 24, 21, 11, 10, 18, 11,\n",
              "        2, 10,  6,  2, 22,  7, 12, 16, 22,  6,  3, 13, 10,  6, 16, 22,  2,\n",
              "       13,  0,  2,  2, 23,  8,  1,  9, 14,  7,  1, 22,  0, 12, 18, 12,  2,\n",
              "       23,  5, 17,  0, 13,  8, 11, 24,  4,  0,  4,  1, 16, 20, 16,  0,  3,\n",
              "        5, 18, 15, 20, 22,  9, 16, 18, 17,  2,  4, 15,  9, 16, 12, 22, 20,\n",
              "       24, 20,  0, 17, 20, 22, 24, 16, 19,  0,  7,  0, 20, 11, 18, 19,  4,\n",
              "       23,  8, 23,  1,  4, 10, 14, 16, 11,  7,  1,  8,  5,  1, 15, 15,  0,\n",
              "        5,  1, 10, 18, 14, 10, 22, 23,  3,  7,  7, 15, 17,  4,  4, 14,  6,\n",
              "        3,  1,  5, 14, 11,  5, 18, 18, 20, 17,  0, 21, 21,  2, 18, 17,  5,\n",
              "       18,  2, 19,  3, 21, 14, 15,  1, 23, 13, 12, 18,  4, 11, 14,  1, 20,\n",
              "        7, 14, 12, 14,  6, 20,  3,  5, 22, 18,  7, 11, 15, 22, 18,  0,  1,\n",
              "       21,  0, 14, 17,  4, 15, 11,  5, 24, 14, 20, 22,  1,  9, 17,  3, 15,\n",
              "       20, 12, 19,  0,  3, 11, 13, 19, 20,  8, 20, 12,  2, 12,  3,  1, 11,\n",
              "       19,  8,  0, 18, 22, 12,  4, 23, 10, 12,  5,  9, 14, 21,  4, 22,  6,\n",
              "        5,  8,  7,  5, 16,  2,  3, 10,  5,  1, 14,  0, 21,  5,  0,  1,  3,\n",
              "       18, 19, 14, 21,  8, 22, 15,  8, 14,  3,  2, 13, 15,  1,  3, 23,  4,\n",
              "       20,  1, 23, 17, 20,  4,  2, 21, 15, 18, 18,  4, 16, 16, 14,  1, 22,\n",
              "       12,  1, 23,  4, 15, 22,  6,  5, 18, 22, 17, 22, 11,  5, 16, 22, 15,\n",
              "       12, 20,  4, 19, 23,  4, 21, 18, 21, 17, 20, 15,  3, 12, 22, 23,  8,\n",
              "       16, 22, 20, 12, 12, 22, 11,  4, 24, 11, 21, 20, 11,  0,  5, 18,  5,\n",
              "        5,  5, 12, 19,  1, 16, 20,  1, 11, 23, 23,  1, 12,  2, 22, 12,  1,\n",
              "        1,  5, 15, 10, 22,  1,  7, 10,  0, 11,  2, 13, 20, 15, 19, 18,  2,\n",
              "       16, 24,  5,  6,  4, 22, 15, 18, 11, 12, 20, 11,  8,  1, 21,  5,  8,\n",
              "       11, 20,  2, 12, 14, 18, 14, 11,  5,  2,  5,  1, 17, 10,  0, 12, 12,\n",
              "       12, 20,  1, 20, 22,  3, 11,  9,  4, 19, 13,  2,  8, 20,  5, 16, 13,\n",
              "        3,  6, 18,  6, 12,  9,  5,  2,  5,  7,  3,  1, 20,  3,  2,  5, 23,\n",
              "       21,  5, 11, 18,  5, 16,  0, 19, 18, 15,  4,  3,  0,  3, 18, 22,  8,\n",
              "        5, 11, 10, 14,  5,  2,  2,  1, 12, 13,  2, 23,  0, 11,  0,  1, 16,\n",
              "       17, 21,  4,  1, 13, 22, 20, 17, 13,  1,  5, 13, 15])"
            ]
          },
          "metadata": {},
          "execution_count": 87
        }
      ]
    },
    {
      "cell_type": "code",
      "metadata": {
        "id": "cd7lJAnNE-Wf"
      },
      "source": [
        "test_file['pred-labels-lemmatized'] = y_preds"
      ],
      "execution_count": 88,
      "outputs": []
    },
    {
      "cell_type": "code",
      "metadata": {
        "colab": {
          "base_uri": "https://localhost:8080/",
          "height": 486
        },
        "id": "9ye1xFtZE-Wf",
        "outputId": "82aa5abe-cb05-4fe4-8f38-4b6fd8d145ab"
      },
      "source": [
        "test_file.head()"
      ],
      "execution_count": 89,
      "outputs": [
        {
          "output_type": "execute_result",
          "data": {
            "text/html": [
              "<div>\n",
              "<style scoped>\n",
              "    .dataframe tbody tr th:only-of-type {\n",
              "        vertical-align: middle;\n",
              "    }\n",
              "\n",
              "    .dataframe tbody tr th {\n",
              "        vertical-align: top;\n",
              "    }\n",
              "\n",
              "    .dataframe thead th {\n",
              "        text-align: right;\n",
              "    }\n",
              "</style>\n",
              "<table border=\"1\" class=\"dataframe\">\n",
              "  <thead>\n",
              "    <tr style=\"text-align: right;\">\n",
              "      <th></th>\n",
              "      <th>EventSnippet</th>\n",
              "      <th>SubType</th>\n",
              "      <th>processed</th>\n",
              "      <th>lemmatized</th>\n",
              "      <th>pred-labels-cleaned</th>\n",
              "      <th>text-labels-cleaned</th>\n",
              "      <th>pred-labels-lemmatized</th>\n",
              "    </tr>\n",
              "    <tr>\n",
              "      <th>id</th>\n",
              "      <th></th>\n",
              "      <th></th>\n",
              "      <th></th>\n",
              "      <th></th>\n",
              "      <th></th>\n",
              "      <th></th>\n",
              "      <th></th>\n",
              "    </tr>\n",
              "  </thead>\n",
              "  <tbody>\n",
              "    <tr>\n",
              "      <th>1</th>\n",
              "      <td>The US warplanes pounded the village of Kashka...</td>\n",
              "      <td>AIR_STRIKE</td>\n",
              "      <td>the us warplanes pounded the village of kashka...</td>\n",
              "      <td>u warplane pounded village kashkash southern p...</td>\n",
              "      <td>4</td>\n",
              "      <td>AIR_STRIKE</td>\n",
              "      <td>4</td>\n",
              "    </tr>\n",
              "    <tr>\n",
              "      <th>3</th>\n",
              "      <td>Officers brutally attacked and injured a peace...</td>\n",
              "      <td>FORCE_AGAINST_PROTEST</td>\n",
              "      <td>officers brutally attacked and injured a peace...</td>\n",
              "      <td>officer brutally attacked injured peaceful stu...</td>\n",
              "      <td>8</td>\n",
              "      <td>FORCE_AGAINST_PROTEST</td>\n",
              "      <td>8</td>\n",
              "    </tr>\n",
              "    <tr>\n",
              "      <th>4</th>\n",
              "      <td>On December 13, ISIS fighters recaptured the v...</td>\n",
              "      <td>NON_STATE_ACTOR_OVERTAKES_TER</td>\n",
              "      <td>isis fighters recaptured the village of kashma...</td>\n",
              "      <td>isi fighter recaptured village kashma syrian a...</td>\n",
              "      <td>12</td>\n",
              "      <td>GOV_REGAINS_TERIT</td>\n",
              "      <td>15</td>\n",
              "    </tr>\n",
              "    <tr>\n",
              "      <th>5</th>\n",
              "      <td>Vice-President Mike Pence said Thursday that t...</td>\n",
              "      <td>AGREEMENT</td>\n",
              "      <td>vice-president mike pence said thursday that t...</td>\n",
              "      <td>vice-president mike penny said thursday mainly...</td>\n",
              "      <td>23</td>\n",
              "      <td>AGREEMENT</td>\n",
              "      <td>23</td>\n",
              "    </tr>\n",
              "    <tr>\n",
              "      <th>6</th>\n",
              "      <td>A helicopter on Thursday is said to have dropp...</td>\n",
              "      <td>CHEM_WEAP</td>\n",
              "      <td>a helicopter thursday is said to have dropped ...</td>\n",
              "      <td>helicopter thursday said dropped container tox...</td>\n",
              "      <td>24</td>\n",
              "      <td>CHEM_WEAP</td>\n",
              "      <td>24</td>\n",
              "    </tr>\n",
              "  </tbody>\n",
              "</table>\n",
              "</div>"
            ],
            "text/plain": [
              "                                         EventSnippet  ... pred-labels-lemmatized\n",
              "id                                                     ...                       \n",
              "1   The US warplanes pounded the village of Kashka...  ...                      4\n",
              "3   Officers brutally attacked and injured a peace...  ...                      8\n",
              "4   On December 13, ISIS fighters recaptured the v...  ...                     15\n",
              "5   Vice-President Mike Pence said Thursday that t...  ...                     23\n",
              "6   A helicopter on Thursday is said to have dropp...  ...                     24\n",
              "\n",
              "[5 rows x 7 columns]"
            ]
          },
          "metadata": {},
          "execution_count": 89
        }
      ]
    },
    {
      "cell_type": "code",
      "metadata": {
        "id": "LJy7ydQME-Wf"
      },
      "source": [
        "def num_to_text_labels(num):\n",
        "    text = event_types_dict_inverse[num]\n",
        "    return text\n",
        "\n",
        "test_file['text-labels-lemmatized'] = test_file['pred-labels-lemmatized'].apply(num_to_text_labels)"
      ],
      "execution_count": 90,
      "outputs": []
    },
    {
      "cell_type": "code",
      "metadata": {
        "colab": {
          "base_uri": "https://localhost:8080/",
          "height": 707
        },
        "id": "RKc6DC6eE-Wf",
        "outputId": "18c8cce0-03ea-4451-de53-e50dea3e6106"
      },
      "source": [
        "test_file.head()"
      ],
      "execution_count": 91,
      "outputs": [
        {
          "output_type": "execute_result",
          "data": {
            "text/html": [
              "<div>\n",
              "<style scoped>\n",
              "    .dataframe tbody tr th:only-of-type {\n",
              "        vertical-align: middle;\n",
              "    }\n",
              "\n",
              "    .dataframe tbody tr th {\n",
              "        vertical-align: top;\n",
              "    }\n",
              "\n",
              "    .dataframe thead th {\n",
              "        text-align: right;\n",
              "    }\n",
              "</style>\n",
              "<table border=\"1\" class=\"dataframe\">\n",
              "  <thead>\n",
              "    <tr style=\"text-align: right;\">\n",
              "      <th></th>\n",
              "      <th>EventSnippet</th>\n",
              "      <th>SubType</th>\n",
              "      <th>processed</th>\n",
              "      <th>lemmatized</th>\n",
              "      <th>pred-labels-cleaned</th>\n",
              "      <th>text-labels-cleaned</th>\n",
              "      <th>pred-labels-lemmatized</th>\n",
              "      <th>text-labels-lemmatized</th>\n",
              "    </tr>\n",
              "    <tr>\n",
              "      <th>id</th>\n",
              "      <th></th>\n",
              "      <th></th>\n",
              "      <th></th>\n",
              "      <th></th>\n",
              "      <th></th>\n",
              "      <th></th>\n",
              "      <th></th>\n",
              "      <th></th>\n",
              "    </tr>\n",
              "  </thead>\n",
              "  <tbody>\n",
              "    <tr>\n",
              "      <th>1</th>\n",
              "      <td>The US warplanes pounded the village of Kashka...</td>\n",
              "      <td>AIR_STRIKE</td>\n",
              "      <td>the us warplanes pounded the village of kashka...</td>\n",
              "      <td>u warplane pounded village kashkash southern p...</td>\n",
              "      <td>4</td>\n",
              "      <td>AIR_STRIKE</td>\n",
              "      <td>4</td>\n",
              "      <td>AIR_STRIKE</td>\n",
              "    </tr>\n",
              "    <tr>\n",
              "      <th>3</th>\n",
              "      <td>Officers brutally attacked and injured a peace...</td>\n",
              "      <td>FORCE_AGAINST_PROTEST</td>\n",
              "      <td>officers brutally attacked and injured a peace...</td>\n",
              "      <td>officer brutally attacked injured peaceful stu...</td>\n",
              "      <td>8</td>\n",
              "      <td>FORCE_AGAINST_PROTEST</td>\n",
              "      <td>8</td>\n",
              "      <td>FORCE_AGAINST_PROTEST</td>\n",
              "    </tr>\n",
              "    <tr>\n",
              "      <th>4</th>\n",
              "      <td>On December 13, ISIS fighters recaptured the v...</td>\n",
              "      <td>NON_STATE_ACTOR_OVERTAKES_TER</td>\n",
              "      <td>isis fighters recaptured the village of kashma...</td>\n",
              "      <td>isi fighter recaptured village kashma syrian a...</td>\n",
              "      <td>12</td>\n",
              "      <td>GOV_REGAINS_TERIT</td>\n",
              "      <td>15</td>\n",
              "      <td>NON_STATE_ACTOR_OVERTAKES_TER</td>\n",
              "    </tr>\n",
              "    <tr>\n",
              "      <th>5</th>\n",
              "      <td>Vice-President Mike Pence said Thursday that t...</td>\n",
              "      <td>AGREEMENT</td>\n",
              "      <td>vice-president mike pence said thursday that t...</td>\n",
              "      <td>vice-president mike penny said thursday mainly...</td>\n",
              "      <td>23</td>\n",
              "      <td>AGREEMENT</td>\n",
              "      <td>23</td>\n",
              "      <td>AGREEMENT</td>\n",
              "    </tr>\n",
              "    <tr>\n",
              "      <th>6</th>\n",
              "      <td>A helicopter on Thursday is said to have dropp...</td>\n",
              "      <td>CHEM_WEAP</td>\n",
              "      <td>a helicopter thursday is said to have dropped ...</td>\n",
              "      <td>helicopter thursday said dropped container tox...</td>\n",
              "      <td>24</td>\n",
              "      <td>CHEM_WEAP</td>\n",
              "      <td>24</td>\n",
              "      <td>CHEM_WEAP</td>\n",
              "    </tr>\n",
              "  </tbody>\n",
              "</table>\n",
              "</div>"
            ],
            "text/plain": [
              "                                         EventSnippet  ...         text-labels-lemmatized\n",
              "id                                                     ...                               \n",
              "1   The US warplanes pounded the village of Kashka...  ...                     AIR_STRIKE\n",
              "3   Officers brutally attacked and injured a peace...  ...          FORCE_AGAINST_PROTEST\n",
              "4   On December 13, ISIS fighters recaptured the v...  ...  NON_STATE_ACTOR_OVERTAKES_TER\n",
              "5   Vice-President Mike Pence said Thursday that t...  ...                      AGREEMENT\n",
              "6   A helicopter on Thursday is said to have dropp...  ...                      CHEM_WEAP\n",
              "\n",
              "[5 rows x 8 columns]"
            ]
          },
          "metadata": {},
          "execution_count": 91
        }
      ]
    },
    {
      "cell_type": "code",
      "metadata": {
        "id": "9f0GFxGzE-Wf"
      },
      "source": [
        "test_file.to_csv('results-XLNet-trained-base-resampled-cleaned-epoch-2.csv', index=True)"
      ],
      "execution_count": 92,
      "outputs": []
    },
    {
      "cell_type": "code",
      "metadata": {
        "colab": {
          "base_uri": "https://localhost:8080/"
        },
        "id": "9hyaxd3qE-Wf",
        "outputId": "e5249c83-2d43-4ee2-ab50-d64a55591ca3"
      },
      "source": [
        "\n",
        "from sklearn.metrics import classification_report\n",
        "\n",
        "print(classification_report(y_true= list(test_file.SubType), y_pred= list(test_file['text-labels-lemmatized'])))"
      ],
      "execution_count": 93,
      "outputs": [
        {
          "output_type": "stream",
          "name": "stdout",
          "text": [
            "                               precision    recall  f1-score   support\n",
            "\n",
            "                ABDUCT_DISSAP       0.64      0.80      0.71        20\n",
            "                    AGREEMENT       0.86      0.97      0.91        31\n",
            "                   AIR_STRIKE       0.85      0.78      0.81        36\n",
            "                  ARMED_CLASH       0.84      0.71      0.77        66\n",
            "                       ARREST       0.81      0.74      0.77        34\n",
            "              ART_MISS_ATTACK       0.69      0.81      0.74        36\n",
            "                       ATTACK       0.59      0.89      0.71        27\n",
            "          CHANGE_TO_GROUP_ACT       0.79      0.87      0.83        30\n",
            "                    CHEM_WEAP       0.88      0.38      0.53        37\n",
            "                    DISR_WEAP       0.92      0.81      0.86        58\n",
            "        FORCE_AGAINST_PROTEST       0.59      0.70      0.64        23\n",
            "            GOV_REGAINS_TERIT       0.79      0.82      0.81        38\n",
            "                      GRENADE       0.96      0.94      0.95        48\n",
            "               HQ_ESTABLISHED       0.95      0.82      0.88        22\n",
            "                     MOB_VIOL       0.58      0.65      0.61        17\n",
            "NON_STATE_ACTOR_OVERTAKES_TER       0.55      0.71      0.62        24\n",
            "     NON_VIOL_TERRIT_TRANSFER       0.75      0.57      0.65        21\n",
            "                        OTHER       0.12      0.38      0.19         8\n",
            "                PEACE_PROTEST       0.80      0.86      0.83        57\n",
            "            PROPERTY_DISTRUCT       0.57      0.38      0.46        21\n",
            "           PROTEST_WITH_INTER       0.62      0.59      0.60        22\n",
            "                   REM_EXPLOS       0.80      0.92      0.86        36\n",
            "                     SEX_VIOL       0.95      0.78      0.86        23\n",
            "                    SUIC_BOMB       0.93      0.95      0.94        41\n",
            "                VIOL_DEMONSTR       0.65      0.57      0.61        53\n",
            "\n",
            "                     accuracy                           0.76       829\n",
            "                    macro avg       0.74      0.73      0.73       829\n",
            "                 weighted avg       0.78      0.76      0.76       829\n",
            "\n"
          ]
        }
      ]
    },
    {
      "cell_type": "code",
      "metadata": {
        "colab": {
          "base_uri": "https://localhost:8080/",
          "height": 821
        },
        "id": "DpqgUVE0E-Wg",
        "outputId": "e2b95b7b-3f97-4a75-ba4d-a6117e684491"
      },
      "source": [
        "from sklearn.metrics import confusion_matrix\n",
        "conf_mat = confusion_matrix( list(test_file.SubType), list(test_file['text-labels-lemmatized']))\n",
        "fig, ax = plt.subplots(figsize=(10,10))\n",
        "sns.heatmap(conf_mat, annot=True, fmt='d',\n",
        "            xticklabels=set(test_file.SubType), yticklabels=set(test_file.SubType))\n",
        "plt.ylabel('Actual')\n",
        "plt.xlabel('Predicted')\n",
        "plt.title('XLNet-base-resampled-cleaned-allTrainable-Lemmatized-e2')\n",
        "plt.show()"
      ],
      "execution_count": 94,
      "outputs": [
        {
          "output_type": "display_data",
          "data": {
            "image/png": "[encoded data removed]",
            "text/plain": [
              "<Figure size 720x720 with 2 Axes>"
            ]
          },
          "metadata": {}
        }
      ]
    },
    {
      "cell_type": "code",
      "metadata": {
        "id": "htjTSdwYGwbm"
      },
      "source": [
        ""
      ],
      "execution_count": null,
      "outputs": []
    },
    {
      "cell_type": "code",
      "metadata": {
        "id": "mH4q9uGRItWh"
      },
      "source": [
        ""
      ],
      "execution_count": null,
      "outputs": []
    },
    {
      "cell_type": "code",
      "metadata": {
        "id": "TKcUP364IzU2"
      },
      "source": [
        ""
      ],
      "execution_count": null,
      "outputs": []
    },
    {
      "cell_type": "code",
      "metadata": {
        "id": "x964cQTkIwYZ"
      },
      "source": [
        ""
      ],
      "execution_count": null,
      "outputs": []
    },
    {
      "cell_type": "markdown",
      "metadata": {
        "id": "-Dt8GZYPI2X-"
      },
      "source": [
        "# Epoch - 1"
      ]
    },
    {
      "cell_type": "code",
      "metadata": {
        "id": "c5Cl8ej2rQEb"
      },
      "source": [
        "model.load_weights('/content/drive/MyDrive/Shared Task 2021/XLNet-base.h5')"
      ],
      "execution_count": 97,
      "outputs": []
    },
    {
      "cell_type": "code",
      "metadata": {
        "id": "Pi7z78dGI2X_"
      },
      "source": [
        "test_file = pd.read_csv('/content/drive/MyDrive/Shared Task 2021/test-set-with-labels-cleaned.txt', index_col=0)"
      ],
      "execution_count": 98,
      "outputs": []
    },
    {
      "cell_type": "code",
      "metadata": {
        "colab": {
          "base_uri": "https://localhost:8080/",
          "height": 318
        },
        "id": "DUyp-pN_I2X_",
        "outputId": "60a57c70-9c8e-4aa5-a98e-760553b2ef78"
      },
      "source": [
        "test_file.head()"
      ],
      "execution_count": 99,
      "outputs": [
        {
          "output_type": "execute_result",
          "data": {
            "text/html": [
              "<div>\n",
              "<style scoped>\n",
              "    .dataframe tbody tr th:only-of-type {\n",
              "        vertical-align: middle;\n",
              "    }\n",
              "\n",
              "    .dataframe tbody tr th {\n",
              "        vertical-align: top;\n",
              "    }\n",
              "\n",
              "    .dataframe thead th {\n",
              "        text-align: right;\n",
              "    }\n",
              "</style>\n",
              "<table border=\"1\" class=\"dataframe\">\n",
              "  <thead>\n",
              "    <tr style=\"text-align: right;\">\n",
              "      <th></th>\n",
              "      <th>EventSnippet</th>\n",
              "      <th>SubType</th>\n",
              "      <th>processed</th>\n",
              "      <th>lemmatized</th>\n",
              "    </tr>\n",
              "    <tr>\n",
              "      <th>id</th>\n",
              "      <th></th>\n",
              "      <th></th>\n",
              "      <th></th>\n",
              "      <th></th>\n",
              "    </tr>\n",
              "  </thead>\n",
              "  <tbody>\n",
              "    <tr>\n",
              "      <th>1</th>\n",
              "      <td>The US warplanes pounded the village of Kashka...</td>\n",
              "      <td>AIR_STRIKE</td>\n",
              "      <td>the us warplanes pounded the village of kashka...</td>\n",
              "      <td>u warplane pounded village kashkash southern p...</td>\n",
              "    </tr>\n",
              "    <tr>\n",
              "      <th>3</th>\n",
              "      <td>Officers brutally attacked and injured a peace...</td>\n",
              "      <td>FORCE_AGAINST_PROTEST</td>\n",
              "      <td>officers brutally attacked and injured a peace...</td>\n",
              "      <td>officer brutally attacked injured peaceful stu...</td>\n",
              "    </tr>\n",
              "    <tr>\n",
              "      <th>4</th>\n",
              "      <td>On December 13, ISIS fighters recaptured the v...</td>\n",
              "      <td>NON_STATE_ACTOR_OVERTAKES_TER</td>\n",
              "      <td>isis fighters recaptured the village of kashma...</td>\n",
              "      <td>isi fighter recaptured village kashma syrian a...</td>\n",
              "    </tr>\n",
              "    <tr>\n",
              "      <th>5</th>\n",
              "      <td>Vice-President Mike Pence said Thursday that t...</td>\n",
              "      <td>AGREEMENT</td>\n",
              "      <td>vice-president mike pence said thursday that t...</td>\n",
              "      <td>vice-president mike penny said thursday mainly...</td>\n",
              "    </tr>\n",
              "    <tr>\n",
              "      <th>6</th>\n",
              "      <td>A helicopter on Thursday is said to have dropp...</td>\n",
              "      <td>CHEM_WEAP</td>\n",
              "      <td>a helicopter thursday is said to have dropped ...</td>\n",
              "      <td>helicopter thursday said dropped container tox...</td>\n",
              "    </tr>\n",
              "  </tbody>\n",
              "</table>\n",
              "</div>"
            ],
            "text/plain": [
              "                                         EventSnippet  ...                                         lemmatized\n",
              "id                                                     ...                                                   \n",
              "1   The US warplanes pounded the village of Kashka...  ...  u warplane pounded village kashkash southern p...\n",
              "3   Officers brutally attacked and injured a peace...  ...  officer brutally attacked injured peaceful stu...\n",
              "4   On December 13, ISIS fighters recaptured the v...  ...  isi fighter recaptured village kashma syrian a...\n",
              "5   Vice-President Mike Pence said Thursday that t...  ...  vice-president mike penny said thursday mainly...\n",
              "6   A helicopter on Thursday is said to have dropp...  ...  helicopter thursday said dropped container tox...\n",
              "\n",
              "[5 rows x 4 columns]"
            ]
          },
          "metadata": {},
          "execution_count": 99
        }
      ]
    },
    {
      "cell_type": "markdown",
      "metadata": {
        "id": "kdrr8NT1I2X_"
      },
      "source": [
        "## For Cleaned Text"
      ]
    },
    {
      "cell_type": "code",
      "metadata": {
        "colab": {
          "base_uri": "https://localhost:8080/"
        },
        "id": "sr_DI4ZmI2YA",
        "outputId": "f5a6b653-2d51-485d-bac2-51e5d3132604"
      },
      "source": [
        "final_test_inputs, final_test_attention_masks, segments = get_inputs(list(test_file.processed), tokenizer=tokenizer)"
      ],
      "execution_count": 101,
      "outputs": [
        {
          "output_type": "stream",
          "name": "stderr",
          "text": [
            "/usr/local/lib/python3.7/dist-packages/transformers/tokenization_utils_base.py:2217: FutureWarning: The `pad_to_max_length` argument is deprecated and will be removed in a future version, use `padding=True` or `padding='longest'` to pad to the longest sequence in the batch, or use `padding='max_length'` to pad to a max length. In this case, you can give a specific length with `max_length` (e.g. `max_length=45`) or leave max_length to None to pad to the maximal input size of the model (e.g. 512 for Bert).\n",
            "  FutureWarning,\n"
          ]
        }
      ]
    },
    {
      "cell_type": "code",
      "metadata": {
        "id": "VuRAW9o7I2YB"
      },
      "source": [
        "y_preds = np.argmax(model.predict([final_test_inputs, final_test_attention_masks]), axis=1)"
      ],
      "execution_count": 102,
      "outputs": []
    },
    {
      "cell_type": "code",
      "metadata": {
        "colab": {
          "base_uri": "https://localhost:8080/"
        },
        "id": "SgU-__bcI2YB",
        "outputId": "2ddae874-60cf-4a5e-9000-ce632ab323a1"
      },
      "source": [
        "y_preds"
      ],
      "execution_count": 103,
      "outputs": [
        {
          "output_type": "execute_result",
          "data": {
            "text/plain": [
              "array([ 4,  8, 12, 19, 14, 10,  1, 12, 12, 18, 10, 10,  1, 14, 20,  2, 18,\n",
              "        8,  6,  3,  5,  0, 20,  3, 10,  6,  2, 18,  6, 18,  5,  0, 20, 14,\n",
              "       23, 20, 14, 22, 23, 16, 11, 18, 22, 18, 18,  5, 19,  8, 17, 10, 12,\n",
              "       10, 15, 11, 19, 16, 19, 17, 24, 18, 16, 10, 13,  5,  9,  2,  5, 18,\n",
              "        6, 17,  7,  1,  4, 20, 17, 12, 15,  8,  2, 21, 20, 20,  1,  3,  5,\n",
              "        2,  2,  7, 10, 18, 17, 13,  9,  4,  8, 18,  2,  1,  2, 12,  8, 20,\n",
              "       23,  0,  2, 18,  1,  3,  7,  2, 16,  5, 19, 12, 12,  4, 20, 13,  8,\n",
              "       23,  6, 10, 18,  8,  6, 14, 13, 14,  1, 18, 21,  0, 13, 12, 10,  5,\n",
              "        0, 16, 11, 14,  1,  6,  6,  0,  4,  0,  9, 10, 11, 23,  5, 13, 23,\n",
              "       23, 16, 14, 21, 13, 12, 12, 18, 14,  3, 18,  3,  0, 11, 19,  4, 18,\n",
              "       18, 18,  5, 19, 21,  1,  1, 12, 23, 11, 18,  8, 11, 10,  2, 20, 22,\n",
              "        5, 16, 20, 10, 24, 22, 15,  6, 22,  8, 20, 14,  3, 18, 22, 22, 11,\n",
              "        8, 11, 17,  4, 15, 20, 10,  2,  1, 12, 15, 16,  7,  7, 17,  3,  1,\n",
              "        1,  1,  6,  5, 22,  5, 16, 23, 19,  3,  1, 10, 10,  1,  4, 22, 23,\n",
              "        1,  8,  7, 17, 20,  6, 23,  9, 24,  2,  7, 14, 17, 18, 16,  1, 18,\n",
              "        1,  3,  8,  1, 18, 16,  8,  8,  5,  2,  2, 12, 19, 20,  2, 10,  0,\n",
              "       22, 11, 17, 23,  5,  5,  1, 16, 20, 23, 15,  3, 10, 24,  5,  7, 15,\n",
              "       20,  4, 22, 24,  4,  0,  5, 21,  1, 23,  2, 14,  2, 16,  2,  1, 10,\n",
              "        5, 14,  4,  4,  0, 22,  1, 20, 18, 13,  9,  5, 18, 14, 23,  3, 20,\n",
              "       11, 10,  5, 24, 10, 24,  6, 22,  7, 19, 14, 16, 11, 12,  4, 15, 22,\n",
              "        1,  5,  9, 18, 18, 18, 10,  7,  2,  7,  5, 14, 21, 11, 10, 18, 11,\n",
              "        2, 10,  6,  2, 22,  8, 12, 16, 22,  2,  6, 19,  9,  6,  7, 22,  6,\n",
              "       13,  4,  2,  2, 23,  8,  1,  9, 14,  7,  1, 22,  0, 12, 18, 12,  7,\n",
              "       23,  5, 17,  0, 13,  8, 11, 11,  4,  0,  4,  1, 16, 20, 16,  0,  3,\n",
              "        5, 18,  9, 20, 22,  9, 16, 18, 17,  2,  4, 12, 10, 16, 12, 22, 20,\n",
              "       24, 20,  0, 17, 20, 22, 18, 16, 19,  0,  2,  0, 20, 18, 18, 15,  4,\n",
              "       23,  8, 10,  2,  4,  1, 14, 16, 11,  2,  1,  8, 15,  2, 15, 19,  0,\n",
              "        5, 10, 18, 18, 21,  7, 22, 23,  3,  7,  7, 19, 17,  4,  4, 21,  6,\n",
              "        3,  1,  5, 14, 11,  5, 18, 18, 20, 17,  0, 21, 21,  6, 18, 17,  5,\n",
              "       18,  7, 19,  3, 21, 10, 15,  1, 23, 13, 12, 18,  4, 18, 23,  1, 20,\n",
              "        7, 19, 12,  4,  6, 20,  5,  5, 22, 18,  7, 11, 19, 22, 18,  0,  1,\n",
              "       21, 18, 14, 17, 24, 15, 24,  5, 24, 14, 20, 22,  7,  9, 17,  3, 12,\n",
              "       20, 14, 19,  4,  3, 11, 13, 19, 20,  8, 20,  0,  2, 19,  3,  1, 11,\n",
              "       19,  8,  0, 18, 22, 19,  4, 23, 18, 12,  5,  9, 14, 21,  4, 22,  6,\n",
              "       19,  8,  7,  5, 16,  6,  5, 10,  5,  1, 14,  0, 21,  9,  0,  2, 24,\n",
              "       18, 19, 14, 21,  8, 22, 19,  8, 14,  3,  2, 19, 19,  1, 15, 23,  4,\n",
              "       20,  1, 23, 17, 20,  4,  2, 21, 15, 18, 18,  4, 16, 16, 14,  1, 22,\n",
              "       12,  1, 23, 11, 15, 22,  6,  5, 18, 22, 17, 22, 22,  5, 16, 11, 19,\n",
              "       12, 20,  4, 19, 23,  4, 21, 18, 21, 17, 20, 12,  3, 12, 22, 19,  8,\n",
              "       16, 22, 20, 12, 12, 22, 11,  4, 18, 11, 21, 20, 11,  0,  3, 16, 18,\n",
              "        5,  5, 19, 19,  1, 16, 20,  9, 11, 23, 19,  1, 19,  1, 18, 12,  1,\n",
              "        1,  5, 15, 18, 22,  1,  7,  7,  0, 11, 16, 13, 20, 15, 19, 18, 14,\n",
              "       16, 14,  5,  6,  4, 22, 19, 18, 11, 12, 20, 11,  8,  8, 21, 23,  8,\n",
              "       11, 20,  8, 12, 14, 18, 14, 11,  5,  2,  0,  1, 17, 24,  0, 19, 12,\n",
              "       12, 20,  1, 20, 22,  5, 18, 18,  4, 19, 13,  2,  8, 20,  5, 10, 13,\n",
              "        3,  5, 18,  6, 12,  9,  5,  2,  5,  7,  3,  1, 24,  3,  2,  5, 23,\n",
              "       21,  5, 11, 18,  5, 16,  0, 19, 18, 19,  4,  3,  0, 10, 20, 22, 20,\n",
              "        5, 11, 10, 14,  5,  2,  2,  1, 12, 16,  2, 23,  4, 11,  0,  1, 16,\n",
              "       17, 21,  4,  1, 16, 11, 20, 17, 16,  1,  5, 13, 15])"
            ]
          },
          "metadata": {},
          "execution_count": 103
        }
      ]
    },
    {
      "cell_type": "code",
      "metadata": {
        "id": "C2jEPYsfI2YB"
      },
      "source": [
        "test_file['pred-labels-cleaned'] = y_preds"
      ],
      "execution_count": 104,
      "outputs": []
    },
    {
      "cell_type": "code",
      "metadata": {
        "colab": {
          "base_uri": "https://localhost:8080/",
          "height": 334
        },
        "id": "QVbd80bvI2YB",
        "outputId": "17a84c64-68e1-4412-a41a-4c2a7f1bf122"
      },
      "source": [
        "test_file.head()"
      ],
      "execution_count": 105,
      "outputs": [
        {
          "output_type": "execute_result",
          "data": {
            "text/html": [
              "<div>\n",
              "<style scoped>\n",
              "    .dataframe tbody tr th:only-of-type {\n",
              "        vertical-align: middle;\n",
              "    }\n",
              "\n",
              "    .dataframe tbody tr th {\n",
              "        vertical-align: top;\n",
              "    }\n",
              "\n",
              "    .dataframe thead th {\n",
              "        text-align: right;\n",
              "    }\n",
              "</style>\n",
              "<table border=\"1\" class=\"dataframe\">\n",
              "  <thead>\n",
              "    <tr style=\"text-align: right;\">\n",
              "      <th></th>\n",
              "      <th>EventSnippet</th>\n",
              "      <th>SubType</th>\n",
              "      <th>processed</th>\n",
              "      <th>lemmatized</th>\n",
              "      <th>pred-labels-cleaned</th>\n",
              "    </tr>\n",
              "    <tr>\n",
              "      <th>id</th>\n",
              "      <th></th>\n",
              "      <th></th>\n",
              "      <th></th>\n",
              "      <th></th>\n",
              "      <th></th>\n",
              "    </tr>\n",
              "  </thead>\n",
              "  <tbody>\n",
              "    <tr>\n",
              "      <th>1</th>\n",
              "      <td>The US warplanes pounded the village of Kashka...</td>\n",
              "      <td>AIR_STRIKE</td>\n",
              "      <td>the us warplanes pounded the village of kashka...</td>\n",
              "      <td>u warplane pounded village kashkash southern p...</td>\n",
              "      <td>4</td>\n",
              "    </tr>\n",
              "    <tr>\n",
              "      <th>3</th>\n",
              "      <td>Officers brutally attacked and injured a peace...</td>\n",
              "      <td>FORCE_AGAINST_PROTEST</td>\n",
              "      <td>officers brutally attacked and injured a peace...</td>\n",
              "      <td>officer brutally attacked injured peaceful stu...</td>\n",
              "      <td>8</td>\n",
              "    </tr>\n",
              "    <tr>\n",
              "      <th>4</th>\n",
              "      <td>On December 13, ISIS fighters recaptured the v...</td>\n",
              "      <td>NON_STATE_ACTOR_OVERTAKES_TER</td>\n",
              "      <td>isis fighters recaptured the village of kashma...</td>\n",
              "      <td>isi fighter recaptured village kashma syrian a...</td>\n",
              "      <td>12</td>\n",
              "    </tr>\n",
              "    <tr>\n",
              "      <th>5</th>\n",
              "      <td>Vice-President Mike Pence said Thursday that t...</td>\n",
              "      <td>AGREEMENT</td>\n",
              "      <td>vice-president mike pence said thursday that t...</td>\n",
              "      <td>vice-president mike penny said thursday mainly...</td>\n",
              "      <td>19</td>\n",
              "    </tr>\n",
              "    <tr>\n",
              "      <th>6</th>\n",
              "      <td>A helicopter on Thursday is said to have dropp...</td>\n",
              "      <td>CHEM_WEAP</td>\n",
              "      <td>a helicopter thursday is said to have dropped ...</td>\n",
              "      <td>helicopter thursday said dropped container tox...</td>\n",
              "      <td>14</td>\n",
              "    </tr>\n",
              "  </tbody>\n",
              "</table>\n",
              "</div>"
            ],
            "text/plain": [
              "                                         EventSnippet  ... pred-labels-cleaned\n",
              "id                                                     ...                    \n",
              "1   The US warplanes pounded the village of Kashka...  ...                   4\n",
              "3   Officers brutally attacked and injured a peace...  ...                   8\n",
              "4   On December 13, ISIS fighters recaptured the v...  ...                  12\n",
              "5   Vice-President Mike Pence said Thursday that t...  ...                  19\n",
              "6   A helicopter on Thursday is said to have dropp...  ...                  14\n",
              "\n",
              "[5 rows x 5 columns]"
            ]
          },
          "metadata": {},
          "execution_count": 105
        }
      ]
    },
    {
      "cell_type": "code",
      "metadata": {
        "id": "1MK4z7MzI2YB"
      },
      "source": [
        "def num_to_text_labels(num):\n",
        "    text = event_types_dict_inverse[num]\n",
        "    return text\n",
        "\n",
        "test_file['text-labels-cleaned'] = test_file['pred-labels-cleaned'].apply(num_to_text_labels)"
      ],
      "execution_count": 106,
      "outputs": []
    },
    {
      "cell_type": "code",
      "metadata": {
        "colab": {
          "base_uri": "https://localhost:8080/",
          "height": 435
        },
        "id": "FNo9KNZHI2YB",
        "outputId": "f66f99de-f2b6-42e4-a722-46ed940b9585"
      },
      "source": [
        "test_file.head()"
      ],
      "execution_count": 107,
      "outputs": [
        {
          "output_type": "execute_result",
          "data": {
            "text/html": [
              "<div>\n",
              "<style scoped>\n",
              "    .dataframe tbody tr th:only-of-type {\n",
              "        vertical-align: middle;\n",
              "    }\n",
              "\n",
              "    .dataframe tbody tr th {\n",
              "        vertical-align: top;\n",
              "    }\n",
              "\n",
              "    .dataframe thead th {\n",
              "        text-align: right;\n",
              "    }\n",
              "</style>\n",
              "<table border=\"1\" class=\"dataframe\">\n",
              "  <thead>\n",
              "    <tr style=\"text-align: right;\">\n",
              "      <th></th>\n",
              "      <th>EventSnippet</th>\n",
              "      <th>SubType</th>\n",
              "      <th>processed</th>\n",
              "      <th>lemmatized</th>\n",
              "      <th>pred-labels-cleaned</th>\n",
              "      <th>text-labels-cleaned</th>\n",
              "    </tr>\n",
              "    <tr>\n",
              "      <th>id</th>\n",
              "      <th></th>\n",
              "      <th></th>\n",
              "      <th></th>\n",
              "      <th></th>\n",
              "      <th></th>\n",
              "      <th></th>\n",
              "    </tr>\n",
              "  </thead>\n",
              "  <tbody>\n",
              "    <tr>\n",
              "      <th>1</th>\n",
              "      <td>The US warplanes pounded the village of Kashka...</td>\n",
              "      <td>AIR_STRIKE</td>\n",
              "      <td>the us warplanes pounded the village of kashka...</td>\n",
              "      <td>u warplane pounded village kashkash southern p...</td>\n",
              "      <td>4</td>\n",
              "      <td>AIR_STRIKE</td>\n",
              "    </tr>\n",
              "    <tr>\n",
              "      <th>3</th>\n",
              "      <td>Officers brutally attacked and injured a peace...</td>\n",
              "      <td>FORCE_AGAINST_PROTEST</td>\n",
              "      <td>officers brutally attacked and injured a peace...</td>\n",
              "      <td>officer brutally attacked injured peaceful stu...</td>\n",
              "      <td>8</td>\n",
              "      <td>FORCE_AGAINST_PROTEST</td>\n",
              "    </tr>\n",
              "    <tr>\n",
              "      <th>4</th>\n",
              "      <td>On December 13, ISIS fighters recaptured the v...</td>\n",
              "      <td>NON_STATE_ACTOR_OVERTAKES_TER</td>\n",
              "      <td>isis fighters recaptured the village of kashma...</td>\n",
              "      <td>isi fighter recaptured village kashma syrian a...</td>\n",
              "      <td>12</td>\n",
              "      <td>GOV_REGAINS_TERIT</td>\n",
              "    </tr>\n",
              "    <tr>\n",
              "      <th>5</th>\n",
              "      <td>Vice-President Mike Pence said Thursday that t...</td>\n",
              "      <td>AGREEMENT</td>\n",
              "      <td>vice-president mike pence said thursday that t...</td>\n",
              "      <td>vice-president mike penny said thursday mainly...</td>\n",
              "      <td>19</td>\n",
              "      <td>NON_VIOL_TERRIT_TRANSFER</td>\n",
              "    </tr>\n",
              "    <tr>\n",
              "      <th>6</th>\n",
              "      <td>A helicopter on Thursday is said to have dropp...</td>\n",
              "      <td>CHEM_WEAP</td>\n",
              "      <td>a helicopter thursday is said to have dropped ...</td>\n",
              "      <td>helicopter thursday said dropped container tox...</td>\n",
              "      <td>14</td>\n",
              "      <td>CHANGE_TO_GROUP_ACT</td>\n",
              "    </tr>\n",
              "  </tbody>\n",
              "</table>\n",
              "</div>"
            ],
            "text/plain": [
              "                                         EventSnippet  ...       text-labels-cleaned\n",
              "id                                                     ...                          \n",
              "1   The US warplanes pounded the village of Kashka...  ...                AIR_STRIKE\n",
              "3   Officers brutally attacked and injured a peace...  ...     FORCE_AGAINST_PROTEST\n",
              "4   On December 13, ISIS fighters recaptured the v...  ...         GOV_REGAINS_TERIT\n",
              "5   Vice-President Mike Pence said Thursday that t...  ...  NON_VIOL_TERRIT_TRANSFER\n",
              "6   A helicopter on Thursday is said to have dropp...  ...       CHANGE_TO_GROUP_ACT\n",
              "\n",
              "[5 rows x 6 columns]"
            ]
          },
          "metadata": {},
          "execution_count": 107
        }
      ]
    },
    {
      "cell_type": "markdown",
      "metadata": {
        "id": "ypuegdJmJv_E"
      },
      "source": [
        "### **classification_report**"
      ]
    },
    {
      "cell_type": "code",
      "metadata": {
        "colab": {
          "base_uri": "https://localhost:8080/"
        },
        "id": "WOsfPi-CI2YB",
        "outputId": "9bc76c0a-07bc-4249-b0c5-1347d995c518"
      },
      "source": [
        "\n",
        "from sklearn.metrics import classification_report\n",
        "\n",
        "print(classification_report(y_true= list(test_file.SubType), y_pred= list(test_file['text-labels-cleaned'])))"
      ],
      "execution_count": 108,
      "outputs": [
        {
          "output_type": "stream",
          "name": "stdout",
          "text": [
            "                               precision    recall  f1-score   support\n",
            "\n",
            "                ABDUCT_DISSAP       0.94      0.75      0.83        20\n",
            "                    AGREEMENT       0.90      0.87      0.89        31\n",
            "                   AIR_STRIKE       0.89      0.92      0.90        36\n",
            "                  ARMED_CLASH       0.89      0.73      0.80        66\n",
            "                       ARREST       0.91      0.94      0.93        34\n",
            "              ART_MISS_ATTACK       0.91      0.81      0.85        36\n",
            "                       ATTACK       0.81      0.78      0.79        27\n",
            "          CHANGE_TO_GROUP_ACT       0.75      0.80      0.77        30\n",
            "                    CHEM_WEAP       1.00      0.38      0.55        37\n",
            "                    DISR_WEAP       0.83      0.95      0.89        58\n",
            "        FORCE_AGAINST_PROTEST       0.55      0.74      0.63        23\n",
            "            GOV_REGAINS_TERIT       0.73      0.71      0.72        38\n",
            "                      GRENADE       0.98      0.98      0.98        48\n",
            "               HQ_ESTABLISHED       0.91      0.91      0.91        22\n",
            "                     MOB_VIOL       0.46      0.65      0.54        17\n",
            "NON_STATE_ACTOR_OVERTAKES_TER       0.53      0.42      0.47        24\n",
            "     NON_VIOL_TERRIT_TRANSFER       0.47      0.90      0.62        21\n",
            "                        OTHER       0.19      0.75      0.30         8\n",
            "                PEACE_PROTEST       0.85      0.79      0.82        57\n",
            "            PROPERTY_DISTRUCT       0.60      0.43      0.50        21\n",
            "           PROTEST_WITH_INTER       0.68      0.77      0.72        22\n",
            "                   REM_EXPLOS       0.81      0.81      0.81        36\n",
            "                     SEX_VIOL       0.96      1.00      0.98        23\n",
            "                    SUIC_BOMB       1.00      0.98      0.99        41\n",
            "                VIOL_DEMONSTR       0.76      0.58      0.66        53\n",
            "\n",
            "                     accuracy                           0.78       829\n",
            "                    macro avg       0.77      0.77      0.75       829\n",
            "                 weighted avg       0.82      0.78      0.79       829\n",
            "\n"
          ]
        }
      ]
    },
    {
      "cell_type": "code",
      "metadata": {
        "colab": {
          "base_uri": "https://localhost:8080/",
          "height": 821
        },
        "id": "xmGbDcSdI2YC",
        "outputId": "bb5781ed-bf8c-4acd-e547-7fcd5e229720"
      },
      "source": [
        "from sklearn.metrics import confusion_matrix\n",
        "conf_mat = confusion_matrix(list(test_file.SubType), list(test_file['text-labels-cleaned']))\n",
        "fig, ax = plt.subplots(figsize=(10,10))\n",
        "sns.heatmap(conf_mat, annot=True, fmt='d',\n",
        "            xticklabels=set(test_file.SubType), yticklabels=set(test_file.SubType))\n",
        "plt.ylabel('Actual')\n",
        "plt.xlabel('Predicted')\n",
        "plt.title('XLNet-base-resampled-cleaned-allTrainable-Cleaned-e1')\n",
        "plt.show()"
      ],
      "execution_count": 109,
      "outputs": [
        {
          "output_type": "display_data",
          "data": {
            "image/png": "[encoded data removed]",
            "text/plain": [
              "<Figure size 720x720 with 2 Axes>"
            ]
          },
          "metadata": {}
        }
      ]
    },
    {
      "cell_type": "code",
      "metadata": {
        "id": "doBZpPz8I2YC"
      },
      "source": [
        ""
      ],
      "execution_count": 109,
      "outputs": []
    },
    {
      "cell_type": "markdown",
      "metadata": {
        "id": "-mTSWsOvI2YC"
      },
      "source": [
        "## For lemmatized Text"
      ]
    },
    {
      "cell_type": "code",
      "metadata": {
        "colab": {
          "base_uri": "https://localhost:8080/"
        },
        "id": "SVz4JDRcI2YC",
        "outputId": "3ab62705-6ade-4c0d-ad07-bbcffeba479d"
      },
      "source": [
        "final_test_inputs, final_test_attention_masks, segments = get_inputs(list(test_file.lemmatized), tokenizer)"
      ],
      "execution_count": 111,
      "outputs": [
        {
          "output_type": "stream",
          "name": "stderr",
          "text": [
            "/usr/local/lib/python3.7/dist-packages/transformers/tokenization_utils_base.py:2217: FutureWarning: The `pad_to_max_length` argument is deprecated and will be removed in a future version, use `padding=True` or `padding='longest'` to pad to the longest sequence in the batch, or use `padding='max_length'` to pad to a max length. In this case, you can give a specific length with `max_length` (e.g. `max_length=45`) or leave max_length to None to pad to the maximal input size of the model (e.g. 512 for Bert).\n",
            "  FutureWarning,\n"
          ]
        }
      ]
    },
    {
      "cell_type": "code",
      "metadata": {
        "id": "lToIqaMFI2YC"
      },
      "source": [
        "y_preds = np.argmax(model.predict([final_test_inputs, final_test_attention_masks]), axis=1)"
      ],
      "execution_count": 112,
      "outputs": []
    },
    {
      "cell_type": "code",
      "metadata": {
        "colab": {
          "base_uri": "https://localhost:8080/"
        },
        "id": "nY8FQnQmI2YC",
        "outputId": "79de64b9-b2e3-41e4-ed0a-37756f1d3f42"
      },
      "source": [
        "y_preds"
      ],
      "execution_count": 113,
      "outputs": [
        {
          "output_type": "execute_result",
          "data": {
            "text/plain": [
              "array([ 4,  8, 12, 23, 24, 18,  1, 12, 12, 18,  9,  3,  1, 14, 20,  2, 18,\n",
              "        8,  6,  3,  5,  0, 20,  3, 10, 17,  7, 18,  6, 18,  5,  0, 20, 14,\n",
              "       23, 20, 14, 22, 23, 16, 11, 11, 22, 18, 18,  5, 19,  8, 17, 14, 12,\n",
              "       10, 15, 11, 19, 16, 19, 17, 24, 18, 16, 10, 13,  5,  9,  8,  5, 18,\n",
              "        6, 17,  7,  1,  4, 20, 17, 12, 15,  7,  8, 21, 20, 20,  1,  3,  0,\n",
              "        2,  2,  7, 10, 18,  3, 13,  9,  4,  2, 18,  7,  7,  2, 12,  8, 20,\n",
              "       23,  0,  1,  9,  1,  3,  7,  2, 16,  5, 10, 12, 12,  4, 20,  5,  8,\n",
              "       23,  9,  6, 18,  8,  6,  0, 13, 14,  1,  5, 21,  0, 13, 12, 10,  5,\n",
              "        0, 16, 11, 14,  1,  6,  6,  0,  4,  0, 18, 10,  3, 23,  5, 13, 23,\n",
              "       23, 16, 14, 21, 13, 12, 19, 18, 14,  3, 18,  3,  0, 11, 19,  4, 18,\n",
              "       11, 18,  5, 15, 21,  1,  7, 12, 10, 11, 18,  3, 11,  9,  1, 20, 22,\n",
              "        5, 16, 20, 10, 24, 22, 19,  2, 22,  8, 20, 14, 15, 18, 22, 22, 11,\n",
              "        7, 11, 17,  4, 15, 20, 12,  7,  2, 12, 15, 16,  7,  7, 17,  3,  1,\n",
              "        1,  1,  5,  5, 22,  5, 16, 23, 19,  3, 23, 14,  2,  1,  4, 22, 13,\n",
              "        1,  8,  7, 17, 20,  7, 23, 20, 24,  2,  7, 14, 17, 18, 16,  1, 18,\n",
              "        1,  3,  8,  1, 18,  9,  8,  8,  0,  2,  9, 19, 19, 20,  2,  0,  0,\n",
              "       22, 11, 17, 10,  5,  5,  1, 16, 20, 23, 15,  3, 14, 24,  5,  7, 15,\n",
              "       20,  0, 22, 24,  4,  0,  5, 21,  1, 23,  2,  9,  2, 16,  2,  1, 10,\n",
              "        5, 18,  4,  4,  0, 22,  1, 20, 18, 13,  9,  5, 18, 14, 23,  3, 20,\n",
              "       11, 23,  5, 24,  0, 10,  6, 22,  7, 19, 14, 16, 11, 15,  4, 15, 22,\n",
              "        1,  5,  9, 18, 18, 18, 14,  7, 10,  8,  5, 14, 21, 11, 10, 18, 11,\n",
              "        2, 10,  6,  2, 22,  8, 12, 16, 22, 20,  3, 19,  9,  6,  7, 22,  6,\n",
              "       13,  4,  2,  2, 23,  8,  1,  9, 14,  7,  1, 22,  0, 12, 18, 12,  7,\n",
              "       23,  5, 17,  0, 16,  8, 11, 11,  4,  0,  4,  1, 16, 20, 16,  0,  3,\n",
              "        5, 18, 19, 20, 22,  9, 16, 18, 17,  2,  4, 15,  9, 16, 12, 22, 20,\n",
              "       24, 20,  0, 17, 20, 22, 14, 16, 19,  0,  2,  0, 20, 18, 18, 15,  4,\n",
              "       23,  8, 23,  2,  4, 10, 14, 16, 11,  2,  1,  8,  5,  2, 15, 19,  0,\n",
              "        5,  7, 10, 18, 14,  7, 22, 23,  3,  7,  7, 19, 17,  4,  4, 21,  6,\n",
              "        3,  7,  5, 14, 11,  5, 18, 18, 20, 17,  0, 21, 21,  2, 18, 17,  5,\n",
              "       18,  7, 19,  3, 21, 14, 15,  1, 23, 13, 12, 18,  4, 11, 14,  1, 20,\n",
              "        7, 19, 12, 14,  6, 20,  9,  5, 22, 18,  7, 11, 19, 22, 18,  0,  1,\n",
              "       21, 12, 14, 17,  4, 15, 24,  5, 24, 14, 20, 22,  7,  9, 17,  3, 15,\n",
              "       20, 12, 19,  0,  3, 11, 13, 19, 20,  8, 20, 12,  2, 19,  3,  1, 11,\n",
              "       19,  8,  0, 18, 22, 19,  4, 23, 11, 12,  5,  9,  4, 21,  4, 22,  6,\n",
              "       12,  8,  7,  5, 12,  2,  3,  6,  5,  1, 14,  0,  4,  5,  0,  2, 24,\n",
              "       18, 19, 14, 21,  8, 22, 15,  8, 14,  3,  2, 19, 19,  1, 22, 23,  4,\n",
              "       20,  1, 23, 17, 20,  4,  2, 21, 15, 18, 18,  4, 16, 16, 14,  1, 22,\n",
              "       12,  2, 23,  0, 15, 22,  6,  5, 18, 22, 17, 22, 11,  5, 16, 22, 19,\n",
              "       12, 20,  4, 19, 23,  4, 21, 18, 21, 17, 20, 15,  3, 12, 22, 19,  8,\n",
              "       16, 22, 20, 12, 12, 22, 11,  4, 10, 11, 21, 20, 11,  0,  5, 18, 12,\n",
              "        5,  5, 12, 19,  1,  7, 20,  2, 11, 23, 19,  1, 19,  2, 11, 19,  8,\n",
              "        1,  5, 15, 18, 22,  1,  7, 10,  0, 11, 16, 13, 20, 15, 19, 18,  2,\n",
              "       16, 10,  5,  6,  4, 22, 19, 18,  4, 15, 20, 11,  8,  1, 21,  5,  8,\n",
              "       11, 20,  8, 19, 14, 18, 14, 11,  5,  2,  0,  1, 17, 24,  0, 12, 12,\n",
              "       12,  0,  1, 20, 22,  5, 11, 18,  4, 19, 13,  2,  8, 20,  5,  9, 13,\n",
              "        3,  5, 18,  6, 12,  9,  5,  7,  5,  7,  5,  1, 11,  3,  2,  5, 23,\n",
              "       21,  5, 11, 18,  5, 16,  0, 19, 18, 19,  4,  3,  0,  3, 20, 22, 20,\n",
              "        5, 11, 10, 14,  5,  7,  2,  1, 12, 16,  2, 23,  0, 11,  0,  1, 16,\n",
              "       17, 21,  4,  1, 16, 20, 20, 17, 16,  1,  5, 13, 19])"
            ]
          },
          "metadata": {},
          "execution_count": 113
        }
      ]
    },
    {
      "cell_type": "code",
      "metadata": {
        "id": "0Sp2zIQ-I2YC"
      },
      "source": [
        "test_file['pred-labels-lemmatized'] = y_preds"
      ],
      "execution_count": 114,
      "outputs": []
    },
    {
      "cell_type": "code",
      "metadata": {
        "colab": {
          "base_uri": "https://localhost:8080/",
          "height": 502
        },
        "id": "5BaUO4W1I2YD",
        "outputId": "0e01c039-5afe-4051-d089-4ba38f952501"
      },
      "source": [
        "test_file.head()"
      ],
      "execution_count": 115,
      "outputs": [
        {
          "output_type": "execute_result",
          "data": {
            "text/html": [
              "<div>\n",
              "<style scoped>\n",
              "    .dataframe tbody tr th:only-of-type {\n",
              "        vertical-align: middle;\n",
              "    }\n",
              "\n",
              "    .dataframe tbody tr th {\n",
              "        vertical-align: top;\n",
              "    }\n",
              "\n",
              "    .dataframe thead th {\n",
              "        text-align: right;\n",
              "    }\n",
              "</style>\n",
              "<table border=\"1\" class=\"dataframe\">\n",
              "  <thead>\n",
              "    <tr style=\"text-align: right;\">\n",
              "      <th></th>\n",
              "      <th>EventSnippet</th>\n",
              "      <th>SubType</th>\n",
              "      <th>processed</th>\n",
              "      <th>lemmatized</th>\n",
              "      <th>pred-labels-cleaned</th>\n",
              "      <th>text-labels-cleaned</th>\n",
              "      <th>pred-labels-lemmatized</th>\n",
              "    </tr>\n",
              "    <tr>\n",
              "      <th>id</th>\n",
              "      <th></th>\n",
              "      <th></th>\n",
              "      <th></th>\n",
              "      <th></th>\n",
              "      <th></th>\n",
              "      <th></th>\n",
              "      <th></th>\n",
              "    </tr>\n",
              "  </thead>\n",
              "  <tbody>\n",
              "    <tr>\n",
              "      <th>1</th>\n",
              "      <td>The US warplanes pounded the village of Kashka...</td>\n",
              "      <td>AIR_STRIKE</td>\n",
              "      <td>the us warplanes pounded the village of kashka...</td>\n",
              "      <td>u warplane pounded village kashkash southern p...</td>\n",
              "      <td>4</td>\n",
              "      <td>AIR_STRIKE</td>\n",
              "      <td>4</td>\n",
              "    </tr>\n",
              "    <tr>\n",
              "      <th>3</th>\n",
              "      <td>Officers brutally attacked and injured a peace...</td>\n",
              "      <td>FORCE_AGAINST_PROTEST</td>\n",
              "      <td>officers brutally attacked and injured a peace...</td>\n",
              "      <td>officer brutally attacked injured peaceful stu...</td>\n",
              "      <td>8</td>\n",
              "      <td>FORCE_AGAINST_PROTEST</td>\n",
              "      <td>8</td>\n",
              "    </tr>\n",
              "    <tr>\n",
              "      <th>4</th>\n",
              "      <td>On December 13, ISIS fighters recaptured the v...</td>\n",
              "      <td>NON_STATE_ACTOR_OVERTAKES_TER</td>\n",
              "      <td>isis fighters recaptured the village of kashma...</td>\n",
              "      <td>isi fighter recaptured village kashma syrian a...</td>\n",
              "      <td>12</td>\n",
              "      <td>GOV_REGAINS_TERIT</td>\n",
              "      <td>12</td>\n",
              "    </tr>\n",
              "    <tr>\n",
              "      <th>5</th>\n",
              "      <td>Vice-President Mike Pence said Thursday that t...</td>\n",
              "      <td>AGREEMENT</td>\n",
              "      <td>vice-president mike pence said thursday that t...</td>\n",
              "      <td>vice-president mike penny said thursday mainly...</td>\n",
              "      <td>19</td>\n",
              "      <td>NON_VIOL_TERRIT_TRANSFER</td>\n",
              "      <td>23</td>\n",
              "    </tr>\n",
              "    <tr>\n",
              "      <th>6</th>\n",
              "      <td>A helicopter on Thursday is said to have dropp...</td>\n",
              "      <td>CHEM_WEAP</td>\n",
              "      <td>a helicopter thursday is said to have dropped ...</td>\n",
              "      <td>helicopter thursday said dropped container tox...</td>\n",
              "      <td>14</td>\n",
              "      <td>CHANGE_TO_GROUP_ACT</td>\n",
              "      <td>24</td>\n",
              "    </tr>\n",
              "  </tbody>\n",
              "</table>\n",
              "</div>"
            ],
            "text/plain": [
              "                                         EventSnippet  ... pred-labels-lemmatized\n",
              "id                                                     ...                       \n",
              "1   The US warplanes pounded the village of Kashka...  ...                      4\n",
              "3   Officers brutally attacked and injured a peace...  ...                      8\n",
              "4   On December 13, ISIS fighters recaptured the v...  ...                     12\n",
              "5   Vice-President Mike Pence said Thursday that t...  ...                     23\n",
              "6   A helicopter on Thursday is said to have dropp...  ...                     24\n",
              "\n",
              "[5 rows x 7 columns]"
            ]
          },
          "metadata": {},
          "execution_count": 115
        }
      ]
    },
    {
      "cell_type": "code",
      "metadata": {
        "id": "GNJFbDJKI2YD"
      },
      "source": [
        "def num_to_text_labels(num):\n",
        "    text = event_types_dict_inverse[num]\n",
        "    return text\n",
        "\n",
        "test_file['text-labels-lemmatized'] = test_file['pred-labels-lemmatized'].apply(num_to_text_labels)"
      ],
      "execution_count": 116,
      "outputs": []
    },
    {
      "cell_type": "code",
      "metadata": {
        "colab": {
          "base_uri": "https://localhost:8080/",
          "height": 707
        },
        "id": "_ka8JhJuI2YD",
        "outputId": "7bd9c5d7-fafe-4344-85af-ff6ffbd28273"
      },
      "source": [
        "test_file.head()"
      ],
      "execution_count": 117,
      "outputs": [
        {
          "output_type": "execute_result",
          "data": {
            "text/html": [
              "<div>\n",
              "<style scoped>\n",
              "    .dataframe tbody tr th:only-of-type {\n",
              "        vertical-align: middle;\n",
              "    }\n",
              "\n",
              "    .dataframe tbody tr th {\n",
              "        vertical-align: top;\n",
              "    }\n",
              "\n",
              "    .dataframe thead th {\n",
              "        text-align: right;\n",
              "    }\n",
              "</style>\n",
              "<table border=\"1\" class=\"dataframe\">\n",
              "  <thead>\n",
              "    <tr style=\"text-align: right;\">\n",
              "      <th></th>\n",
              "      <th>EventSnippet</th>\n",
              "      <th>SubType</th>\n",
              "      <th>processed</th>\n",
              "      <th>lemmatized</th>\n",
              "      <th>pred-labels-cleaned</th>\n",
              "      <th>text-labels-cleaned</th>\n",
              "      <th>pred-labels-lemmatized</th>\n",
              "      <th>text-labels-lemmatized</th>\n",
              "    </tr>\n",
              "    <tr>\n",
              "      <th>id</th>\n",
              "      <th></th>\n",
              "      <th></th>\n",
              "      <th></th>\n",
              "      <th></th>\n",
              "      <th></th>\n",
              "      <th></th>\n",
              "      <th></th>\n",
              "      <th></th>\n",
              "    </tr>\n",
              "  </thead>\n",
              "  <tbody>\n",
              "    <tr>\n",
              "      <th>1</th>\n",
              "      <td>The US warplanes pounded the village of Kashka...</td>\n",
              "      <td>AIR_STRIKE</td>\n",
              "      <td>the us warplanes pounded the village of kashka...</td>\n",
              "      <td>u warplane pounded village kashkash southern p...</td>\n",
              "      <td>4</td>\n",
              "      <td>AIR_STRIKE</td>\n",
              "      <td>4</td>\n",
              "      <td>AIR_STRIKE</td>\n",
              "    </tr>\n",
              "    <tr>\n",
              "      <th>3</th>\n",
              "      <td>Officers brutally attacked and injured a peace...</td>\n",
              "      <td>FORCE_AGAINST_PROTEST</td>\n",
              "      <td>officers brutally attacked and injured a peace...</td>\n",
              "      <td>officer brutally attacked injured peaceful stu...</td>\n",
              "      <td>8</td>\n",
              "      <td>FORCE_AGAINST_PROTEST</td>\n",
              "      <td>8</td>\n",
              "      <td>FORCE_AGAINST_PROTEST</td>\n",
              "    </tr>\n",
              "    <tr>\n",
              "      <th>4</th>\n",
              "      <td>On December 13, ISIS fighters recaptured the v...</td>\n",
              "      <td>NON_STATE_ACTOR_OVERTAKES_TER</td>\n",
              "      <td>isis fighters recaptured the village of kashma...</td>\n",
              "      <td>isi fighter recaptured village kashma syrian a...</td>\n",
              "      <td>12</td>\n",
              "      <td>GOV_REGAINS_TERIT</td>\n",
              "      <td>12</td>\n",
              "      <td>GOV_REGAINS_TERIT</td>\n",
              "    </tr>\n",
              "    <tr>\n",
              "      <th>5</th>\n",
              "      <td>Vice-President Mike Pence said Thursday that t...</td>\n",
              "      <td>AGREEMENT</td>\n",
              "      <td>vice-president mike pence said thursday that t...</td>\n",
              "      <td>vice-president mike penny said thursday mainly...</td>\n",
              "      <td>19</td>\n",
              "      <td>NON_VIOL_TERRIT_TRANSFER</td>\n",
              "      <td>23</td>\n",
              "      <td>AGREEMENT</td>\n",
              "    </tr>\n",
              "    <tr>\n",
              "      <th>6</th>\n",
              "      <td>A helicopter on Thursday is said to have dropp...</td>\n",
              "      <td>CHEM_WEAP</td>\n",
              "      <td>a helicopter thursday is said to have dropped ...</td>\n",
              "      <td>helicopter thursday said dropped container tox...</td>\n",
              "      <td>14</td>\n",
              "      <td>CHANGE_TO_GROUP_ACT</td>\n",
              "      <td>24</td>\n",
              "      <td>CHEM_WEAP</td>\n",
              "    </tr>\n",
              "  </tbody>\n",
              "</table>\n",
              "</div>"
            ],
            "text/plain": [
              "                                         EventSnippet  ... text-labels-lemmatized\n",
              "id                                                     ...                       \n",
              "1   The US warplanes pounded the village of Kashka...  ...             AIR_STRIKE\n",
              "3   Officers brutally attacked and injured a peace...  ...  FORCE_AGAINST_PROTEST\n",
              "4   On December 13, ISIS fighters recaptured the v...  ...      GOV_REGAINS_TERIT\n",
              "5   Vice-President Mike Pence said Thursday that t...  ...              AGREEMENT\n",
              "6   A helicopter on Thursday is said to have dropp...  ...              CHEM_WEAP\n",
              "\n",
              "[5 rows x 8 columns]"
            ]
          },
          "metadata": {},
          "execution_count": 117
        }
      ]
    },
    {
      "cell_type": "code",
      "metadata": {
        "id": "JzEusuKeI2YD"
      },
      "source": [
        "test_file.to_csv('results-XLNet-trained-base-resampled-cleaned-epoch-1.csv', index=True)"
      ],
      "execution_count": 118,
      "outputs": []
    },
    {
      "cell_type": "markdown",
      "metadata": {
        "id": "GpuskYVLJ6l8"
      },
      "source": [
        "### **classification_report**"
      ]
    },
    {
      "cell_type": "code",
      "metadata": {
        "colab": {
          "base_uri": "https://localhost:8080/"
        },
        "id": "xFt2hZAuI2YE",
        "outputId": "d8885ff8-4efe-4fb3-d01a-7e0ace9c10b3"
      },
      "source": [
        "\n",
        "from sklearn.metrics import classification_report\n",
        "\n",
        "print(classification_report(y_true= list(test_file.SubType), y_pred= list(test_file['text-labels-lemmatized'])))"
      ],
      "execution_count": 119,
      "outputs": [
        {
          "output_type": "stream",
          "name": "stdout",
          "text": [
            "                               precision    recall  f1-score   support\n",
            "\n",
            "                ABDUCT_DISSAP       1.00      0.75      0.86        20\n",
            "                    AGREEMENT       0.97      0.90      0.93        31\n",
            "                   AIR_STRIKE       0.81      0.83      0.82        36\n",
            "                  ARMED_CLASH       0.84      0.74      0.79        66\n",
            "                       ARREST       0.91      0.85      0.88        34\n",
            "              ART_MISS_ATTACK       0.78      0.89      0.83        36\n",
            "                       ATTACK       0.77      0.85      0.81        27\n",
            "          CHANGE_TO_GROUP_ACT       0.73      0.80      0.76        30\n",
            "                    CHEM_WEAP       1.00      0.32      0.49        37\n",
            "                    DISR_WEAP       0.91      0.90      0.90        58\n",
            "        FORCE_AGAINST_PROTEST       0.57      0.74      0.64        23\n",
            "            GOV_REGAINS_TERIT       0.62      0.61      0.61        38\n",
            "                      GRENADE       0.94      0.98      0.96        48\n",
            "               HQ_ESTABLISHED       1.00      0.91      0.95        22\n",
            "                     MOB_VIOL       0.56      0.59      0.57        17\n",
            "NON_STATE_ACTOR_OVERTAKES_TER       0.43      0.42      0.43        24\n",
            "     NON_VIOL_TERRIT_TRANSFER       0.45      0.86      0.59        21\n",
            "                        OTHER       0.14      0.38      0.21         8\n",
            "                PEACE_PROTEST       0.87      0.72      0.79        57\n",
            "            PROPERTY_DISTRUCT       0.65      0.62      0.63        21\n",
            "           PROTEST_WITH_INTER       0.47      0.77      0.59        22\n",
            "                   REM_EXPLOS       0.85      0.92      0.88        36\n",
            "                     SEX_VIOL       0.92      0.96      0.94        23\n",
            "                    SUIC_BOMB       0.95      0.95      0.95        41\n",
            "                VIOL_DEMONSTR       0.74      0.55      0.63        53\n",
            "\n",
            "                     accuracy                           0.77       829\n",
            "                    macro avg       0.76      0.75      0.74       829\n",
            "                 weighted avg       0.80      0.77      0.77       829\n",
            "\n"
          ]
        }
      ]
    },
    {
      "cell_type": "code",
      "metadata": {
        "colab": {
          "base_uri": "https://localhost:8080/",
          "height": 821
        },
        "id": "cHVPFe2xI2YE",
        "outputId": "fbadc74c-e898-48ab-ba8a-1c800b8e72c3"
      },
      "source": [
        "from sklearn.metrics import confusion_matrix\n",
        "conf_mat = confusion_matrix( list(test_file.SubType), list(test_file['text-labels-lemmatized']))\n",
        "fig, ax = plt.subplots(figsize=(10,10))\n",
        "sns.heatmap(conf_mat, annot=True, fmt='d',\n",
        "            xticklabels=set(test_file.SubType), yticklabels=set(test_file.SubType))\n",
        "plt.ylabel('Actual')\n",
        "plt.xlabel('Predicted')\n",
        "plt.title('XLNet-base-resampled-cleaned-allTrainable-Lemmatized-e1')\n",
        "plt.show()"
      ],
      "execution_count": 120,
      "outputs": [
        {
          "output_type": "display_data",
          "data": {
            "image/png": "[encoded data removed]",
            "text/plain": [
              "<Figure size 720x720 with 2 Axes>"
            ]
          },
          "metadata": {}
        }
      ]
    },
    {
      "cell_type": "code",
      "metadata": {
        "id": "f_7PKMKlI2YE"
      },
      "source": [
        ""
      ],
      "execution_count": null,
      "outputs": []
    },
    {
      "cell_type": "code",
      "metadata": {
        "id": "Mu0loB1xI2YE"
      },
      "source": [
        ""
      ],
      "execution_count": null,
      "outputs": []
    },
    {
      "cell_type": "code",
      "metadata": {
        "id": "CntcEJekI2YE"
      },
      "source": [
        ""
      ],
      "execution_count": null,
      "outputs": []
    }
  ]
}