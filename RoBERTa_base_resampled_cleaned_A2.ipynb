{
  "nbformat": 4,
  "nbformat_minor": 0,
  "metadata": {
    "accelerator": "GPU",
    "colab": {
      "name": "RoBERTa-base-resampled-cleaned-A2.ipynb",
      "provenance": [],
      "collapsed_sections": [],
      "toc_visible": true,
      "machine_shape": "hm",
      "authorship_tag": "ABX9TyNBx/9QfpdUXeiTm+o7Hj1y",
      "include_colab_link": true
    },
    "kernelspec": {
      "display_name": "Python 3",
      "name": "python3"
    },
    "language_info": {
      "name": "python"
    },
    "widgets": {
      "application/vnd.jupyter.widget-state+json": {
        "afcc1eb6183a45f387a402ea5ef651bb": {
          "model_module": "@jupyter-widgets/controls",
          "model_name": "HBoxModel",
          "model_module_version": "1.5.0",
          "state": {
            "_view_name": "HBoxView",
            "_dom_classes": [],
            "_model_name": "HBoxModel",
            "_view_module": "@jupyter-widgets/controls",
            "_model_module_version": "1.5.0",
            "_view_count": null,
            "_view_module_version": "1.5.0",
            "box_style": "",
            "layout": "IPY_MODEL_0950046fda7840ddac96ee0150c95b39",
            "_model_module": "@jupyter-widgets/controls",
            "children": [
              "IPY_MODEL_ba327c83373d4b159395f424f75443a0",
              "IPY_MODEL_2e5ee4bf7c4540e787b2fe9870cd0136",
              "IPY_MODEL_46ab10de38684a0e9a767caf90daabab"
            ]
          }
        },
        "0950046fda7840ddac96ee0150c95b39": {
          "model_module": "@jupyter-widgets/base",
          "model_name": "LayoutModel",
          "model_module_version": "1.2.0",
          "state": {
            "_view_name": "LayoutView",
            "grid_template_rows": null,
            "right": null,
            "justify_content": null,
            "_view_module": "@jupyter-widgets/base",
            "overflow": null,
            "_model_module_version": "1.2.0",
            "_view_count": null,
            "flex_flow": null,
            "width": null,
            "min_width": null,
            "border": null,
            "align_items": null,
            "bottom": null,
            "_model_module": "@jupyter-widgets/base",
            "top": null,
            "grid_column": null,
            "overflow_y": null,
            "overflow_x": null,
            "grid_auto_flow": null,
            "grid_area": null,
            "grid_template_columns": null,
            "flex": null,
            "_model_name": "LayoutModel",
            "justify_items": null,
            "grid_row": null,
            "max_height": null,
            "align_content": null,
            "visibility": null,
            "align_self": null,
            "height": null,
            "min_height": null,
            "padding": null,
            "grid_auto_rows": null,
            "grid_gap": null,
            "max_width": null,
            "order": null,
            "_view_module_version": "1.2.0",
            "grid_template_areas": null,
            "object_position": null,
            "object_fit": null,
            "grid_auto_columns": null,
            "margin": null,
            "display": null,
            "left": null
          }
        },
        "ba327c83373d4b159395f424f75443a0": {
          "model_module": "@jupyter-widgets/controls",
          "model_name": "HTMLModel",
          "model_module_version": "1.5.0",
          "state": {
            "_view_name": "HTMLView",
            "style": "IPY_MODEL_3fbbfc044f9a42b59b2db2a1ecd0ed02",
            "_dom_classes": [],
            "description": "",
            "_model_name": "HTMLModel",
            "placeholder": "​",
            "_view_module": "@jupyter-widgets/controls",
            "_model_module_version": "1.5.0",
            "value": "Downloading: 100%",
            "_view_count": null,
            "_view_module_version": "1.5.0",
            "description_tooltip": null,
            "_model_module": "@jupyter-widgets/controls",
            "layout": "IPY_MODEL_0eb055606ac64169a7fc06a7716ad269"
          }
        },
        "2e5ee4bf7c4540e787b2fe9870cd0136": {
          "model_module": "@jupyter-widgets/controls",
          "model_name": "FloatProgressModel",
          "model_module_version": "1.5.0",
          "state": {
            "_view_name": "ProgressView",
            "style": "IPY_MODEL_c89c92249de447c38c2f07ce9cfd60fe",
            "_dom_classes": [],
            "description": "",
            "_model_name": "FloatProgressModel",
            "bar_style": "success",
            "max": 898823,
            "_view_module": "@jupyter-widgets/controls",
            "_model_module_version": "1.5.0",
            "value": 898823,
            "_view_count": null,
            "_view_module_version": "1.5.0",
            "orientation": "horizontal",
            "min": 0,
            "description_tooltip": null,
            "_model_module": "@jupyter-widgets/controls",
            "layout": "IPY_MODEL_f4c09149f9a747f297782505236c592a"
          }
        },
        "46ab10de38684a0e9a767caf90daabab": {
          "model_module": "@jupyter-widgets/controls",
          "model_name": "HTMLModel",
          "model_module_version": "1.5.0",
          "state": {
            "_view_name": "HTMLView",
            "style": "IPY_MODEL_931947b6ca5a4324987b432b79716f4f",
            "_dom_classes": [],
            "description": "",
            "_model_name": "HTMLModel",
            "placeholder": "​",
            "_view_module": "@jupyter-widgets/controls",
            "_model_module_version": "1.5.0",
            "value": " 878k/878k [00:00&lt;00:00, 1.35MB/s]",
            "_view_count": null,
            "_view_module_version": "1.5.0",
            "description_tooltip": null,
            "_model_module": "@jupyter-widgets/controls",
            "layout": "IPY_MODEL_1fbe2876141942ba95c2c61e8b4de6dd"
          }
        },
        "3fbbfc044f9a42b59b2db2a1ecd0ed02": {
          "model_module": "@jupyter-widgets/controls",
          "model_name": "DescriptionStyleModel",
          "model_module_version": "1.5.0",
          "state": {
            "_view_name": "StyleView",
            "_model_name": "DescriptionStyleModel",
            "description_width": "",
            "_view_module": "@jupyter-widgets/base",
            "_model_module_version": "1.5.0",
            "_view_count": null,
            "_view_module_version": "1.2.0",
            "_model_module": "@jupyter-widgets/controls"
          }
        },
        "0eb055606ac64169a7fc06a7716ad269": {
          "model_module": "@jupyter-widgets/base",
          "model_name": "LayoutModel",
          "model_module_version": "1.2.0",
          "state": {
            "_view_name": "LayoutView",
            "grid_template_rows": null,
            "right": null,
            "justify_content": null,
            "_view_module": "@jupyter-widgets/base",
            "overflow": null,
            "_model_module_version": "1.2.0",
            "_view_count": null,
            "flex_flow": null,
            "width": null,
            "min_width": null,
            "border": null,
            "align_items": null,
            "bottom": null,
            "_model_module": "@jupyter-widgets/base",
            "top": null,
            "grid_column": null,
            "overflow_y": null,
            "overflow_x": null,
            "grid_auto_flow": null,
            "grid_area": null,
            "grid_template_columns": null,
            "flex": null,
            "_model_name": "LayoutModel",
            "justify_items": null,
            "grid_row": null,
            "max_height": null,
            "align_content": null,
            "visibility": null,
            "align_self": null,
            "height": null,
            "min_height": null,
            "padding": null,
            "grid_auto_rows": null,
            "grid_gap": null,
            "max_width": null,
            "order": null,
            "_view_module_version": "1.2.0",
            "grid_template_areas": null,
            "object_position": null,
            "object_fit": null,
            "grid_auto_columns": null,
            "margin": null,
            "display": null,
            "left": null
          }
        },
        "c89c92249de447c38c2f07ce9cfd60fe": {
          "model_module": "@jupyter-widgets/controls",
          "model_name": "ProgressStyleModel",
          "model_module_version": "1.5.0",
          "state": {
            "_view_name": "StyleView",
            "_model_name": "ProgressStyleModel",
            "description_width": "",
            "_view_module": "@jupyter-widgets/base",
            "_model_module_version": "1.5.0",
            "_view_count": null,
            "_view_module_version": "1.2.0",
            "bar_color": null,
            "_model_module": "@jupyter-widgets/controls"
          }
        },
        "f4c09149f9a747f297782505236c592a": {
          "model_module": "@jupyter-widgets/base",
          "model_name": "LayoutModel",
          "model_module_version": "1.2.0",
          "state": {
            "_view_name": "LayoutView",
            "grid_template_rows": null,
            "right": null,
            "justify_content": null,
            "_view_module": "@jupyter-widgets/base",
            "overflow": null,
            "_model_module_version": "1.2.0",
            "_view_count": null,
            "flex_flow": null,
            "width": null,
            "min_width": null,
            "border": null,
            "align_items": null,
            "bottom": null,
            "_model_module": "@jupyter-widgets/base",
            "top": null,
            "grid_column": null,
            "overflow_y": null,
            "overflow_x": null,
            "grid_auto_flow": null,
            "grid_area": null,
            "grid_template_columns": null,
            "flex": null,
            "_model_name": "LayoutModel",
            "justify_items": null,
            "grid_row": null,
            "max_height": null,
            "align_content": null,
            "visibility": null,
            "align_self": null,
            "height": null,
            "min_height": null,
            "padding": null,
            "grid_auto_rows": null,
            "grid_gap": null,
            "max_width": null,
            "order": null,
            "_view_module_version": "1.2.0",
            "grid_template_areas": null,
            "object_position": null,
            "object_fit": null,
            "grid_auto_columns": null,
            "margin": null,
            "display": null,
            "left": null
          }
        },
        "931947b6ca5a4324987b432b79716f4f": {
          "model_module": "@jupyter-widgets/controls",
          "model_name": "DescriptionStyleModel",
          "model_module_version": "1.5.0",
          "state": {
            "_view_name": "StyleView",
            "_model_name": "DescriptionStyleModel",
            "description_width": "",
            "_view_module": "@jupyter-widgets/base",
            "_model_module_version": "1.5.0",
            "_view_count": null,
            "_view_module_version": "1.2.0",
            "_model_module": "@jupyter-widgets/controls"
          }
        },
        "1fbe2876141942ba95c2c61e8b4de6dd": {
          "model_module": "@jupyter-widgets/base",
          "model_name": "LayoutModel",
          "model_module_version": "1.2.0",
          "state": {
            "_view_name": "LayoutView",
            "grid_template_rows": null,
            "right": null,
            "justify_content": null,
            "_view_module": "@jupyter-widgets/base",
            "overflow": null,
            "_model_module_version": "1.2.0",
            "_view_count": null,
            "flex_flow": null,
            "width": null,
            "min_width": null,
            "border": null,
            "align_items": null,
            "bottom": null,
            "_model_module": "@jupyter-widgets/base",
            "top": null,
            "grid_column": null,
            "overflow_y": null,
            "overflow_x": null,
            "grid_auto_flow": null,
            "grid_area": null,
            "grid_template_columns": null,
            "flex": null,
            "_model_name": "LayoutModel",
            "justify_items": null,
            "grid_row": null,
            "max_height": null,
            "align_content": null,
            "visibility": null,
            "align_self": null,
            "height": null,
            "min_height": null,
            "padding": null,
            "grid_auto_rows": null,
            "grid_gap": null,
            "max_width": null,
            "order": null,
            "_view_module_version": "1.2.0",
            "grid_template_areas": null,
            "object_position": null,
            "object_fit": null,
            "grid_auto_columns": null,
            "margin": null,
            "display": null,
            "left": null
          }
        },
        "b996c5a79c5d402a95c3ff97dff4fe13": {
          "model_module": "@jupyter-widgets/controls",
          "model_name": "HBoxModel",
          "model_module_version": "1.5.0",
          "state": {
            "_view_name": "HBoxView",
            "_dom_classes": [],
            "_model_name": "HBoxModel",
            "_view_module": "@jupyter-widgets/controls",
            "_model_module_version": "1.5.0",
            "_view_count": null,
            "_view_module_version": "1.5.0",
            "box_style": "",
            "layout": "IPY_MODEL_ae5fe2d427fb4601a8fa66105cb23c7a",
            "_model_module": "@jupyter-widgets/controls",
            "children": [
              "IPY_MODEL_39a9e71082a242eca09e680bd16ea2ee",
              "IPY_MODEL_aee6a695177345c3b19d112527497438",
              "IPY_MODEL_058f5b469889484f8e08b207c82aed2f"
            ]
          }
        },
        "ae5fe2d427fb4601a8fa66105cb23c7a": {
          "model_module": "@jupyter-widgets/base",
          "model_name": "LayoutModel",
          "model_module_version": "1.2.0",
          "state": {
            "_view_name": "LayoutView",
            "grid_template_rows": null,
            "right": null,
            "justify_content": null,
            "_view_module": "@jupyter-widgets/base",
            "overflow": null,
            "_model_module_version": "1.2.0",
            "_view_count": null,
            "flex_flow": null,
            "width": null,
            "min_width": null,
            "border": null,
            "align_items": null,
            "bottom": null,
            "_model_module": "@jupyter-widgets/base",
            "top": null,
            "grid_column": null,
            "overflow_y": null,
            "overflow_x": null,
            "grid_auto_flow": null,
            "grid_area": null,
            "grid_template_columns": null,
            "flex": null,
            "_model_name": "LayoutModel",
            "justify_items": null,
            "grid_row": null,
            "max_height": null,
            "align_content": null,
            "visibility": null,
            "align_self": null,
            "height": null,
            "min_height": null,
            "padding": null,
            "grid_auto_rows": null,
            "grid_gap": null,
            "max_width": null,
            "order": null,
            "_view_module_version": "1.2.0",
            "grid_template_areas": null,
            "object_position": null,
            "object_fit": null,
            "grid_auto_columns": null,
            "margin": null,
            "display": null,
            "left": null
          }
        },
        "39a9e71082a242eca09e680bd16ea2ee": {
          "model_module": "@jupyter-widgets/controls",
          "model_name": "HTMLModel",
          "model_module_version": "1.5.0",
          "state": {
            "_view_name": "HTMLView",
            "style": "IPY_MODEL_57acb23f26364f1196fdb1cf745a19f8",
            "_dom_classes": [],
            "description": "",
            "_model_name": "HTMLModel",
            "placeholder": "​",
            "_view_module": "@jupyter-widgets/controls",
            "_model_module_version": "1.5.0",
            "value": "Downloading: 100%",
            "_view_count": null,
            "_view_module_version": "1.5.0",
            "description_tooltip": null,
            "_model_module": "@jupyter-widgets/controls",
            "layout": "IPY_MODEL_435dbc0225ef49f0a2bb2971372a3b6b"
          }
        },
        "aee6a695177345c3b19d112527497438": {
          "model_module": "@jupyter-widgets/controls",
          "model_name": "FloatProgressModel",
          "model_module_version": "1.5.0",
          "state": {
            "_view_name": "ProgressView",
            "style": "IPY_MODEL_5f4c2738290b4d96aa5baba7af48275e",
            "_dom_classes": [],
            "description": "",
            "_model_name": "FloatProgressModel",
            "bar_style": "success",
            "max": 456318,
            "_view_module": "@jupyter-widgets/controls",
            "_model_module_version": "1.5.0",
            "value": 456318,
            "_view_count": null,
            "_view_module_version": "1.5.0",
            "orientation": "horizontal",
            "min": 0,
            "description_tooltip": null,
            "_model_module": "@jupyter-widgets/controls",
            "layout": "IPY_MODEL_afd28617925346e79d92ca8ebac06b99"
          }
        },
        "058f5b469889484f8e08b207c82aed2f": {
          "model_module": "@jupyter-widgets/controls",
          "model_name": "HTMLModel",
          "model_module_version": "1.5.0",
          "state": {
            "_view_name": "HTMLView",
            "style": "IPY_MODEL_c59594a9c4f344dea87b9523cecf7d54",
            "_dom_classes": [],
            "description": "",
            "_model_name": "HTMLModel",
            "placeholder": "​",
            "_view_module": "@jupyter-widgets/controls",
            "_model_module_version": "1.5.0",
            "value": " 446k/446k [00:00&lt;00:00, 853kB/s]",
            "_view_count": null,
            "_view_module_version": "1.5.0",
            "description_tooltip": null,
            "_model_module": "@jupyter-widgets/controls",
            "layout": "IPY_MODEL_885a26e114e54455b27952801538ef40"
          }
        },
        "57acb23f26364f1196fdb1cf745a19f8": {
          "model_module": "@jupyter-widgets/controls",
          "model_name": "DescriptionStyleModel",
          "model_module_version": "1.5.0",
          "state": {
            "_view_name": "StyleView",
            "_model_name": "DescriptionStyleModel",
            "description_width": "",
            "_view_module": "@jupyter-widgets/base",
            "_model_module_version": "1.5.0",
            "_view_count": null,
            "_view_module_version": "1.2.0",
            "_model_module": "@jupyter-widgets/controls"
          }
        },
        "435dbc0225ef49f0a2bb2971372a3b6b": {
          "model_module": "@jupyter-widgets/base",
          "model_name": "LayoutModel",
          "model_module_version": "1.2.0",
          "state": {
            "_view_name": "LayoutView",
            "grid_template_rows": null,
            "right": null,
            "justify_content": null,
            "_view_module": "@jupyter-widgets/base",
            "overflow": null,
            "_model_module_version": "1.2.0",
            "_view_count": null,
            "flex_flow": null,
            "width": null,
            "min_width": null,
            "border": null,
            "align_items": null,
            "bottom": null,
            "_model_module": "@jupyter-widgets/base",
            "top": null,
            "grid_column": null,
            "overflow_y": null,
            "overflow_x": null,
            "grid_auto_flow": null,
            "grid_area": null,
            "grid_template_columns": null,
            "flex": null,
            "_model_name": "LayoutModel",
            "justify_items": null,
            "grid_row": null,
            "max_height": null,
            "align_content": null,
            "visibility": null,
            "align_self": null,
            "height": null,
            "min_height": null,
            "padding": null,
            "grid_auto_rows": null,
            "grid_gap": null,
            "max_width": null,
            "order": null,
            "_view_module_version": "1.2.0",
            "grid_template_areas": null,
            "object_position": null,
            "object_fit": null,
            "grid_auto_columns": null,
            "margin": null,
            "display": null,
            "left": null
          }
        },
        "5f4c2738290b4d96aa5baba7af48275e": {
          "model_module": "@jupyter-widgets/controls",
          "model_name": "ProgressStyleModel",
          "model_module_version": "1.5.0",
          "state": {
            "_view_name": "StyleView",
            "_model_name": "ProgressStyleModel",
            "description_width": "",
            "_view_module": "@jupyter-widgets/base",
            "_model_module_version": "1.5.0",
            "_view_count": null,
            "_view_module_version": "1.2.0",
            "bar_color": null,
            "_model_module": "@jupyter-widgets/controls"
          }
        },
        "afd28617925346e79d92ca8ebac06b99": {
          "model_module": "@jupyter-widgets/base",
          "model_name": "LayoutModel",
          "model_module_version": "1.2.0",
          "state": {
            "_view_name": "LayoutView",
            "grid_template_rows": null,
            "right": null,
            "justify_content": null,
            "_view_module": "@jupyter-widgets/base",
            "overflow": null,
            "_model_module_version": "1.2.0",
            "_view_count": null,
            "flex_flow": null,
            "width": null,
            "min_width": null,
            "border": null,
            "align_items": null,
            "bottom": null,
            "_model_module": "@jupyter-widgets/base",
            "top": null,
            "grid_column": null,
            "overflow_y": null,
            "overflow_x": null,
            "grid_auto_flow": null,
            "grid_area": null,
            "grid_template_columns": null,
            "flex": null,
            "_model_name": "LayoutModel",
            "justify_items": null,
            "grid_row": null,
            "max_height": null,
            "align_content": null,
            "visibility": null,
            "align_self": null,
            "height": null,
            "min_height": null,
            "padding": null,
            "grid_auto_rows": null,
            "grid_gap": null,
            "max_width": null,
            "order": null,
            "_view_module_version": "1.2.0",
            "grid_template_areas": null,
            "object_position": null,
            "object_fit": null,
            "grid_auto_columns": null,
            "margin": null,
            "display": null,
            "left": null
          }
        },
        "c59594a9c4f344dea87b9523cecf7d54": {
          "model_module": "@jupyter-widgets/controls",
          "model_name": "DescriptionStyleModel",
          "model_module_version": "1.5.0",
          "state": {
            "_view_name": "StyleView",
            "_model_name": "DescriptionStyleModel",
            "description_width": "",
            "_view_module": "@jupyter-widgets/base",
            "_model_module_version": "1.5.0",
            "_view_count": null,
            "_view_module_version": "1.2.0",
            "_model_module": "@jupyter-widgets/controls"
          }
        },
        "885a26e114e54455b27952801538ef40": {
          "model_module": "@jupyter-widgets/base",
          "model_name": "LayoutModel",
          "model_module_version": "1.2.0",
          "state": {
            "_view_name": "LayoutView",
            "grid_template_rows": null,
            "right": null,
            "justify_content": null,
            "_view_module": "@jupyter-widgets/base",
            "overflow": null,
            "_model_module_version": "1.2.0",
            "_view_count": null,
            "flex_flow": null,
            "width": null,
            "min_width": null,
            "border": null,
            "align_items": null,
            "bottom": null,
            "_model_module": "@jupyter-widgets/base",
            "top": null,
            "grid_column": null,
            "overflow_y": null,
            "overflow_x": null,
            "grid_auto_flow": null,
            "grid_area": null,
            "grid_template_columns": null,
            "flex": null,
            "_model_name": "LayoutModel",
            "justify_items": null,
            "grid_row": null,
            "max_height": null,
            "align_content": null,
            "visibility": null,
            "align_self": null,
            "height": null,
            "min_height": null,
            "padding": null,
            "grid_auto_rows": null,
            "grid_gap": null,
            "max_width": null,
            "order": null,
            "_view_module_version": "1.2.0",
            "grid_template_areas": null,
            "object_position": null,
            "object_fit": null,
            "grid_auto_columns": null,
            "margin": null,
            "display": null,
            "left": null
          }
        },
        "6f5b079b4f2e4470b6fac5b777610f2f": {
          "model_module": "@jupyter-widgets/controls",
          "model_name": "HBoxModel",
          "model_module_version": "1.5.0",
          "state": {
            "_view_name": "HBoxView",
            "_dom_classes": [],
            "_model_name": "HBoxModel",
            "_view_module": "@jupyter-widgets/controls",
            "_model_module_version": "1.5.0",
            "_view_count": null,
            "_view_module_version": "1.5.0",
            "box_style": "",
            "layout": "IPY_MODEL_fc48a333d80d414fa1a91825c0409b12",
            "_model_module": "@jupyter-widgets/controls",
            "children": [
              "IPY_MODEL_6197b485666b465e86164a1c4e995eb4",
              "IPY_MODEL_7a9b5ba3ef0f46d1a4af9f59a0f4933f",
              "IPY_MODEL_5333bc8d28b548d2a751c2e51ea504f1"
            ]
          }
        },
        "fc48a333d80d414fa1a91825c0409b12": {
          "model_module": "@jupyter-widgets/base",
          "model_name": "LayoutModel",
          "model_module_version": "1.2.0",
          "state": {
            "_view_name": "LayoutView",
            "grid_template_rows": null,
            "right": null,
            "justify_content": null,
            "_view_module": "@jupyter-widgets/base",
            "overflow": null,
            "_model_module_version": "1.2.0",
            "_view_count": null,
            "flex_flow": null,
            "width": null,
            "min_width": null,
            "border": null,
            "align_items": null,
            "bottom": null,
            "_model_module": "@jupyter-widgets/base",
            "top": null,
            "grid_column": null,
            "overflow_y": null,
            "overflow_x": null,
            "grid_auto_flow": null,
            "grid_area": null,
            "grid_template_columns": null,
            "flex": null,
            "_model_name": "LayoutModel",
            "justify_items": null,
            "grid_row": null,
            "max_height": null,
            "align_content": null,
            "visibility": null,
            "align_self": null,
            "height": null,
            "min_height": null,
            "padding": null,
            "grid_auto_rows": null,
            "grid_gap": null,
            "max_width": null,
            "order": null,
            "_view_module_version": "1.2.0",
            "grid_template_areas": null,
            "object_position": null,
            "object_fit": null,
            "grid_auto_columns": null,
            "margin": null,
            "display": null,
            "left": null
          }
        },
        "6197b485666b465e86164a1c4e995eb4": {
          "model_module": "@jupyter-widgets/controls",
          "model_name": "HTMLModel",
          "model_module_version": "1.5.0",
          "state": {
            "_view_name": "HTMLView",
            "style": "IPY_MODEL_22a647349491450aa9de57d41b064582",
            "_dom_classes": [],
            "description": "",
            "_model_name": "HTMLModel",
            "placeholder": "​",
            "_view_module": "@jupyter-widgets/controls",
            "_model_module_version": "1.5.0",
            "value": "Downloading: 100%",
            "_view_count": null,
            "_view_module_version": "1.5.0",
            "description_tooltip": null,
            "_model_module": "@jupyter-widgets/controls",
            "layout": "IPY_MODEL_c38d41cf13cd47ce8ee056abfeffbb98"
          }
        },
        "7a9b5ba3ef0f46d1a4af9f59a0f4933f": {
          "model_module": "@jupyter-widgets/controls",
          "model_name": "FloatProgressModel",
          "model_module_version": "1.5.0",
          "state": {
            "_view_name": "ProgressView",
            "style": "IPY_MODEL_7d5dedeb7e3f44158a8fd5885aff418d",
            "_dom_classes": [],
            "description": "",
            "_model_name": "FloatProgressModel",
            "bar_style": "success",
            "max": 1355863,
            "_view_module": "@jupyter-widgets/controls",
            "_model_module_version": "1.5.0",
            "value": 1355863,
            "_view_count": null,
            "_view_module_version": "1.5.0",
            "orientation": "horizontal",
            "min": 0,
            "description_tooltip": null,
            "_model_module": "@jupyter-widgets/controls",
            "layout": "IPY_MODEL_bca4e89ab6244c6e84b616e4166a049f"
          }
        },
        "5333bc8d28b548d2a751c2e51ea504f1": {
          "model_module": "@jupyter-widgets/controls",
          "model_name": "HTMLModel",
          "model_module_version": "1.5.0",
          "state": {
            "_view_name": "HTMLView",
            "style": "IPY_MODEL_02030603c32842319f95120500098cee",
            "_dom_classes": [],
            "description": "",
            "_model_name": "HTMLModel",
            "placeholder": "​",
            "_view_module": "@jupyter-widgets/controls",
            "_model_module_version": "1.5.0",
            "value": " 1.29M/1.29M [00:00&lt;00:00, 2.92MB/s]",
            "_view_count": null,
            "_view_module_version": "1.5.0",
            "description_tooltip": null,
            "_model_module": "@jupyter-widgets/controls",
            "layout": "IPY_MODEL_7d4f1206217846208898a43c81e8d33f"
          }
        },
        "22a647349491450aa9de57d41b064582": {
          "model_module": "@jupyter-widgets/controls",
          "model_name": "DescriptionStyleModel",
          "model_module_version": "1.5.0",
          "state": {
            "_view_name": "StyleView",
            "_model_name": "DescriptionStyleModel",
            "description_width": "",
            "_view_module": "@jupyter-widgets/base",
            "_model_module_version": "1.5.0",
            "_view_count": null,
            "_view_module_version": "1.2.0",
            "_model_module": "@jupyter-widgets/controls"
          }
        },
        "c38d41cf13cd47ce8ee056abfeffbb98": {
          "model_module": "@jupyter-widgets/base",
          "model_name": "LayoutModel",
          "model_module_version": "1.2.0",
          "state": {
            "_view_name": "LayoutView",
            "grid_template_rows": null,
            "right": null,
            "justify_content": null,
            "_view_module": "@jupyter-widgets/base",
            "overflow": null,
            "_model_module_version": "1.2.0",
            "_view_count": null,
            "flex_flow": null,
            "width": null,
            "min_width": null,
            "border": null,
            "align_items": null,
            "bottom": null,
            "_model_module": "@jupyter-widgets/base",
            "top": null,
            "grid_column": null,
            "overflow_y": null,
            "overflow_x": null,
            "grid_auto_flow": null,
            "grid_area": null,
            "grid_template_columns": null,
            "flex": null,
            "_model_name": "LayoutModel",
            "justify_items": null,
            "grid_row": null,
            "max_height": null,
            "align_content": null,
            "visibility": null,
            "align_self": null,
            "height": null,
            "min_height": null,
            "padding": null,
            "grid_auto_rows": null,
            "grid_gap": null,
            "max_width": null,
            "order": null,
            "_view_module_version": "1.2.0",
            "grid_template_areas": null,
            "object_position": null,
            "object_fit": null,
            "grid_auto_columns": null,
            "margin": null,
            "display": null,
            "left": null
          }
        },
        "7d5dedeb7e3f44158a8fd5885aff418d": {
          "model_module": "@jupyter-widgets/controls",
          "model_name": "ProgressStyleModel",
          "model_module_version": "1.5.0",
          "state": {
            "_view_name": "StyleView",
            "_model_name": "ProgressStyleModel",
            "description_width": "",
            "_view_module": "@jupyter-widgets/base",
            "_model_module_version": "1.5.0",
            "_view_count": null,
            "_view_module_version": "1.2.0",
            "bar_color": null,
            "_model_module": "@jupyter-widgets/controls"
          }
        },
        "bca4e89ab6244c6e84b616e4166a049f": {
          "model_module": "@jupyter-widgets/base",
          "model_name": "LayoutModel",
          "model_module_version": "1.2.0",
          "state": {
            "_view_name": "LayoutView",
            "grid_template_rows": null,
            "right": null,
            "justify_content": null,
            "_view_module": "@jupyter-widgets/base",
            "overflow": null,
            "_model_module_version": "1.2.0",
            "_view_count": null,
            "flex_flow": null,
            "width": null,
            "min_width": null,
            "border": null,
            "align_items": null,
            "bottom": null,
            "_model_module": "@jupyter-widgets/base",
            "top": null,
            "grid_column": null,
            "overflow_y": null,
            "overflow_x": null,
            "grid_auto_flow": null,
            "grid_area": null,
            "grid_template_columns": null,
            "flex": null,
            "_model_name": "LayoutModel",
            "justify_items": null,
            "grid_row": null,
            "max_height": null,
            "align_content": null,
            "visibility": null,
            "align_self": null,
            "height": null,
            "min_height": null,
            "padding": null,
            "grid_auto_rows": null,
            "grid_gap": null,
            "max_width": null,
            "order": null,
            "_view_module_version": "1.2.0",
            "grid_template_areas": null,
            "object_position": null,
            "object_fit": null,
            "grid_auto_columns": null,
            "margin": null,
            "display": null,
            "left": null
          }
        },
        "02030603c32842319f95120500098cee": {
          "model_module": "@jupyter-widgets/controls",
          "model_name": "DescriptionStyleModel",
          "model_module_version": "1.5.0",
          "state": {
            "_view_name": "StyleView",
            "_model_name": "DescriptionStyleModel",
            "description_width": "",
            "_view_module": "@jupyter-widgets/base",
            "_model_module_version": "1.5.0",
            "_view_count": null,
            "_view_module_version": "1.2.0",
            "_model_module": "@jupyter-widgets/controls"
          }
        },
        "7d4f1206217846208898a43c81e8d33f": {
          "model_module": "@jupyter-widgets/base",
          "model_name": "LayoutModel",
          "model_module_version": "1.2.0",
          "state": {
            "_view_name": "LayoutView",
            "grid_template_rows": null,
            "right": null,
            "justify_content": null,
            "_view_module": "@jupyter-widgets/base",
            "overflow": null,
            "_model_module_version": "1.2.0",
            "_view_count": null,
            "flex_flow": null,
            "width": null,
            "min_width": null,
            "border": null,
            "align_items": null,
            "bottom": null,
            "_model_module": "@jupyter-widgets/base",
            "top": null,
            "grid_column": null,
            "overflow_y": null,
            "overflow_x": null,
            "grid_auto_flow": null,
            "grid_area": null,
            "grid_template_columns": null,
            "flex": null,
            "_model_name": "LayoutModel",
            "justify_items": null,
            "grid_row": null,
            "max_height": null,
            "align_content": null,
            "visibility": null,
            "align_self": null,
            "height": null,
            "min_height": null,
            "padding": null,
            "grid_auto_rows": null,
            "grid_gap": null,
            "max_width": null,
            "order": null,
            "_view_module_version": "1.2.0",
            "grid_template_areas": null,
            "object_position": null,
            "object_fit": null,
            "grid_auto_columns": null,
            "margin": null,
            "display": null,
            "left": null
          }
        },
        "8fa1b866216a4a1eadfce5ed44ca010a": {
          "model_module": "@jupyter-widgets/controls",
          "model_name": "HBoxModel",
          "model_module_version": "1.5.0",
          "state": {
            "_view_name": "HBoxView",
            "_dom_classes": [],
            "_model_name": "HBoxModel",
            "_view_module": "@jupyter-widgets/controls",
            "_model_module_version": "1.5.0",
            "_view_count": null,
            "_view_module_version": "1.5.0",
            "box_style": "",
            "layout": "IPY_MODEL_f6a86f27a135421da5a25d2e14583245",
            "_model_module": "@jupyter-widgets/controls",
            "children": [
              "IPY_MODEL_35df4be2b9de43b6aa1de0034213e294",
              "IPY_MODEL_712903ef38b44c5bb34f4173f865b6a9",
              "IPY_MODEL_b0ec5af9e7504f15bd83f41419f4c3dc"
            ]
          }
        },
        "f6a86f27a135421da5a25d2e14583245": {
          "model_module": "@jupyter-widgets/base",
          "model_name": "LayoutModel",
          "model_module_version": "1.2.0",
          "state": {
            "_view_name": "LayoutView",
            "grid_template_rows": null,
            "right": null,
            "justify_content": null,
            "_view_module": "@jupyter-widgets/base",
            "overflow": null,
            "_model_module_version": "1.2.0",
            "_view_count": null,
            "flex_flow": null,
            "width": null,
            "min_width": null,
            "border": null,
            "align_items": null,
            "bottom": null,
            "_model_module": "@jupyter-widgets/base",
            "top": null,
            "grid_column": null,
            "overflow_y": null,
            "overflow_x": null,
            "grid_auto_flow": null,
            "grid_area": null,
            "grid_template_columns": null,
            "flex": null,
            "_model_name": "LayoutModel",
            "justify_items": null,
            "grid_row": null,
            "max_height": null,
            "align_content": null,
            "visibility": null,
            "align_self": null,
            "height": null,
            "min_height": null,
            "padding": null,
            "grid_auto_rows": null,
            "grid_gap": null,
            "max_width": null,
            "order": null,
            "_view_module_version": "1.2.0",
            "grid_template_areas": null,
            "object_position": null,
            "object_fit": null,
            "grid_auto_columns": null,
            "margin": null,
            "display": null,
            "left": null
          }
        },
        "35df4be2b9de43b6aa1de0034213e294": {
          "model_module": "@jupyter-widgets/controls",
          "model_name": "HTMLModel",
          "model_module_version": "1.5.0",
          "state": {
            "_view_name": "HTMLView",
            "style": "IPY_MODEL_9051e7a2115442579fe62f945fb1fe8c",
            "_dom_classes": [],
            "description": "",
            "_model_name": "HTMLModel",
            "placeholder": "​",
            "_view_module": "@jupyter-widgets/controls",
            "_model_module_version": "1.5.0",
            "value": "Downloading: 100%",
            "_view_count": null,
            "_view_module_version": "1.5.0",
            "description_tooltip": null,
            "_model_module": "@jupyter-widgets/controls",
            "layout": "IPY_MODEL_fa20c33c300148a186f5916b35f1c1b8"
          }
        },
        "712903ef38b44c5bb34f4173f865b6a9": {
          "model_module": "@jupyter-widgets/controls",
          "model_name": "FloatProgressModel",
          "model_module_version": "1.5.0",
          "state": {
            "_view_name": "ProgressView",
            "style": "IPY_MODEL_9f69e943bab643888e2e5e02835ac396",
            "_dom_classes": [],
            "description": "",
            "_model_name": "FloatProgressModel",
            "bar_style": "success",
            "max": 481,
            "_view_module": "@jupyter-widgets/controls",
            "_model_module_version": "1.5.0",
            "value": 481,
            "_view_count": null,
            "_view_module_version": "1.5.0",
            "orientation": "horizontal",
            "min": 0,
            "description_tooltip": null,
            "_model_module": "@jupyter-widgets/controls",
            "layout": "IPY_MODEL_f9f8a64ec789490c9e5ae1884a8fc434"
          }
        },
        "b0ec5af9e7504f15bd83f41419f4c3dc": {
          "model_module": "@jupyter-widgets/controls",
          "model_name": "HTMLModel",
          "model_module_version": "1.5.0",
          "state": {
            "_view_name": "HTMLView",
            "style": "IPY_MODEL_2cb8b51421fc4e98bccd42b8ac14cf33",
            "_dom_classes": [],
            "description": "",
            "_model_name": "HTMLModel",
            "placeholder": "​",
            "_view_module": "@jupyter-widgets/controls",
            "_model_module_version": "1.5.0",
            "value": " 481/481 [00:00&lt;00:00, 19.1kB/s]",
            "_view_count": null,
            "_view_module_version": "1.5.0",
            "description_tooltip": null,
            "_model_module": "@jupyter-widgets/controls",
            "layout": "IPY_MODEL_954dd44eca754f4db7de6ab2f727d4a2"
          }
        },
        "9051e7a2115442579fe62f945fb1fe8c": {
          "model_module": "@jupyter-widgets/controls",
          "model_name": "DescriptionStyleModel",
          "model_module_version": "1.5.0",
          "state": {
            "_view_name": "StyleView",
            "_model_name": "DescriptionStyleModel",
            "description_width": "",
            "_view_module": "@jupyter-widgets/base",
            "_model_module_version": "1.5.0",
            "_view_count": null,
            "_view_module_version": "1.2.0",
            "_model_module": "@jupyter-widgets/controls"
          }
        },
        "fa20c33c300148a186f5916b35f1c1b8": {
          "model_module": "@jupyter-widgets/base",
          "model_name": "LayoutModel",
          "model_module_version": "1.2.0",
          "state": {
            "_view_name": "LayoutView",
            "grid_template_rows": null,
            "right": null,
            "justify_content": null,
            "_view_module": "@jupyter-widgets/base",
            "overflow": null,
            "_model_module_version": "1.2.0",
            "_view_count": null,
            "flex_flow": null,
            "width": null,
            "min_width": null,
            "border": null,
            "align_items": null,
            "bottom": null,
            "_model_module": "@jupyter-widgets/base",
            "top": null,
            "grid_column": null,
            "overflow_y": null,
            "overflow_x": null,
            "grid_auto_flow": null,
            "grid_area": null,
            "grid_template_columns": null,
            "flex": null,
            "_model_name": "LayoutModel",
            "justify_items": null,
            "grid_row": null,
            "max_height": null,
            "align_content": null,
            "visibility": null,
            "align_self": null,
            "height": null,
            "min_height": null,
            "padding": null,
            "grid_auto_rows": null,
            "grid_gap": null,
            "max_width": null,
            "order": null,
            "_view_module_version": "1.2.0",
            "grid_template_areas": null,
            "object_position": null,
            "object_fit": null,
            "grid_auto_columns": null,
            "margin": null,
            "display": null,
            "left": null
          }
        },
        "9f69e943bab643888e2e5e02835ac396": {
          "model_module": "@jupyter-widgets/controls",
          "model_name": "ProgressStyleModel",
          "model_module_version": "1.5.0",
          "state": {
            "_view_name": "StyleView",
            "_model_name": "ProgressStyleModel",
            "description_width": "",
            "_view_module": "@jupyter-widgets/base",
            "_model_module_version": "1.5.0",
            "_view_count": null,
            "_view_module_version": "1.2.0",
            "bar_color": null,
            "_model_module": "@jupyter-widgets/controls"
          }
        },
        "f9f8a64ec789490c9e5ae1884a8fc434": {
          "model_module": "@jupyter-widgets/base",
          "model_name": "LayoutModel",
          "model_module_version": "1.2.0",
          "state": {
            "_view_name": "LayoutView",
            "grid_template_rows": null,
            "right": null,
            "justify_content": null,
            "_view_module": "@jupyter-widgets/base",
            "overflow": null,
            "_model_module_version": "1.2.0",
            "_view_count": null,
            "flex_flow": null,
            "width": null,
            "min_width": null,
            "border": null,
            "align_items": null,
            "bottom": null,
            "_model_module": "@jupyter-widgets/base",
            "top": null,
            "grid_column": null,
            "overflow_y": null,
            "overflow_x": null,
            "grid_auto_flow": null,
            "grid_area": null,
            "grid_template_columns": null,
            "flex": null,
            "_model_name": "LayoutModel",
            "justify_items": null,
            "grid_row": null,
            "max_height": null,
            "align_content": null,
            "visibility": null,
            "align_self": null,
            "height": null,
            "min_height": null,
            "padding": null,
            "grid_auto_rows": null,
            "grid_gap": null,
            "max_width": null,
            "order": null,
            "_view_module_version": "1.2.0",
            "grid_template_areas": null,
            "object_position": null,
            "object_fit": null,
            "grid_auto_columns": null,
            "margin": null,
            "display": null,
            "left": null
          }
        },
        "2cb8b51421fc4e98bccd42b8ac14cf33": {
          "model_module": "@jupyter-widgets/controls",
          "model_name": "DescriptionStyleModel",
          "model_module_version": "1.5.0",
          "state": {
            "_view_name": "StyleView",
            "_model_name": "DescriptionStyleModel",
            "description_width": "",
            "_view_module": "@jupyter-widgets/base",
            "_model_module_version": "1.5.0",
            "_view_count": null,
            "_view_module_version": "1.2.0",
            "_model_module": "@jupyter-widgets/controls"
          }
        },
        "954dd44eca754f4db7de6ab2f727d4a2": {
          "model_module": "@jupyter-widgets/base",
          "model_name": "LayoutModel",
          "model_module_version": "1.2.0",
          "state": {
            "_view_name": "LayoutView",
            "grid_template_rows": null,
            "right": null,
            "justify_content": null,
            "_view_module": "@jupyter-widgets/base",
            "overflow": null,
            "_model_module_version": "1.2.0",
            "_view_count": null,
            "flex_flow": null,
            "width": null,
            "min_width": null,
            "border": null,
            "align_items": null,
            "bottom": null,
            "_model_module": "@jupyter-widgets/base",
            "top": null,
            "grid_column": null,
            "overflow_y": null,
            "overflow_x": null,
            "grid_auto_flow": null,
            "grid_area": null,
            "grid_template_columns": null,
            "flex": null,
            "_model_name": "LayoutModel",
            "justify_items": null,
            "grid_row": null,
            "max_height": null,
            "align_content": null,
            "visibility": null,
            "align_self": null,
            "height": null,
            "min_height": null,
            "padding": null,
            "grid_auto_rows": null,
            "grid_gap": null,
            "max_width": null,
            "order": null,
            "_view_module_version": "1.2.0",
            "grid_template_areas": null,
            "object_position": null,
            "object_fit": null,
            "grid_auto_columns": null,
            "margin": null,
            "display": null,
            "left": null
          }
        },
        "1d982d34ef714f2295e03fa801f14454": {
          "model_module": "@jupyter-widgets/controls",
          "model_name": "HBoxModel",
          "model_module_version": "1.5.0",
          "state": {
            "_view_name": "HBoxView",
            "_dom_classes": [],
            "_model_name": "HBoxModel",
            "_view_module": "@jupyter-widgets/controls",
            "_model_module_version": "1.5.0",
            "_view_count": null,
            "_view_module_version": "1.5.0",
            "box_style": "",
            "layout": "IPY_MODEL_c23a66a9a04d4c72b7d34b46745e1196",
            "_model_module": "@jupyter-widgets/controls",
            "children": [
              "IPY_MODEL_ca99c723667c440d906b7280625781cd",
              "IPY_MODEL_58cddea78cea4203ae960f88b61f62b6",
              "IPY_MODEL_6946c74cf02f45f99fa0ada944b42255"
            ]
          }
        },
        "c23a66a9a04d4c72b7d34b46745e1196": {
          "model_module": "@jupyter-widgets/base",
          "model_name": "LayoutModel",
          "model_module_version": "1.2.0",
          "state": {
            "_view_name": "LayoutView",
            "grid_template_rows": null,
            "right": null,
            "justify_content": null,
            "_view_module": "@jupyter-widgets/base",
            "overflow": null,
            "_model_module_version": "1.2.0",
            "_view_count": null,
            "flex_flow": null,
            "width": null,
            "min_width": null,
            "border": null,
            "align_items": null,
            "bottom": null,
            "_model_module": "@jupyter-widgets/base",
            "top": null,
            "grid_column": null,
            "overflow_y": null,
            "overflow_x": null,
            "grid_auto_flow": null,
            "grid_area": null,
            "grid_template_columns": null,
            "flex": null,
            "_model_name": "LayoutModel",
            "justify_items": null,
            "grid_row": null,
            "max_height": null,
            "align_content": null,
            "visibility": null,
            "align_self": null,
            "height": null,
            "min_height": null,
            "padding": null,
            "grid_auto_rows": null,
            "grid_gap": null,
            "max_width": null,
            "order": null,
            "_view_module_version": "1.2.0",
            "grid_template_areas": null,
            "object_position": null,
            "object_fit": null,
            "grid_auto_columns": null,
            "margin": null,
            "display": null,
            "left": null
          }
        },
        "ca99c723667c440d906b7280625781cd": {
          "model_module": "@jupyter-widgets/controls",
          "model_name": "HTMLModel",
          "model_module_version": "1.5.0",
          "state": {
            "_view_name": "HTMLView",
            "style": "IPY_MODEL_51fea8516c824db98c423d96b8fcb79d",
            "_dom_classes": [],
            "description": "",
            "_model_name": "HTMLModel",
            "placeholder": "​",
            "_view_module": "@jupyter-widgets/controls",
            "_model_module_version": "1.5.0",
            "value": "Downloading: 100%",
            "_view_count": null,
            "_view_module_version": "1.5.0",
            "description_tooltip": null,
            "_model_module": "@jupyter-widgets/controls",
            "layout": "IPY_MODEL_790753b6d6ad47c989a65bbb332751fd"
          }
        },
        "58cddea78cea4203ae960f88b61f62b6": {
          "model_module": "@jupyter-widgets/controls",
          "model_name": "FloatProgressModel",
          "model_module_version": "1.5.0",
          "state": {
            "_view_name": "ProgressView",
            "style": "IPY_MODEL_42952e3ea20f4cfeb188ba071b4620f8",
            "_dom_classes": [],
            "description": "",
            "_model_name": "FloatProgressModel",
            "bar_style": "success",
            "max": 657434796,
            "_view_module": "@jupyter-widgets/controls",
            "_model_module_version": "1.5.0",
            "value": 657434796,
            "_view_count": null,
            "_view_module_version": "1.5.0",
            "orientation": "horizontal",
            "min": 0,
            "description_tooltip": null,
            "_model_module": "@jupyter-widgets/controls",
            "layout": "IPY_MODEL_65cb2c1c6cf04402ac24b708e324c085"
          }
        },
        "6946c74cf02f45f99fa0ada944b42255": {
          "model_module": "@jupyter-widgets/controls",
          "model_name": "HTMLModel",
          "model_module_version": "1.5.0",
          "state": {
            "_view_name": "HTMLView",
            "style": "IPY_MODEL_c8f0a6ba0b954608a8dd96ef5e9f632a",
            "_dom_classes": [],
            "description": "",
            "_model_name": "HTMLModel",
            "placeholder": "​",
            "_view_module": "@jupyter-widgets/controls",
            "_model_module_version": "1.5.0",
            "value": " 627M/627M [00:13&lt;00:00, 51.7MB/s]",
            "_view_count": null,
            "_view_module_version": "1.5.0",
            "description_tooltip": null,
            "_model_module": "@jupyter-widgets/controls",
            "layout": "IPY_MODEL_ce4a53835e4a497f87bfec5e7f194be1"
          }
        },
        "51fea8516c824db98c423d96b8fcb79d": {
          "model_module": "@jupyter-widgets/controls",
          "model_name": "DescriptionStyleModel",
          "model_module_version": "1.5.0",
          "state": {
            "_view_name": "StyleView",
            "_model_name": "DescriptionStyleModel",
            "description_width": "",
            "_view_module": "@jupyter-widgets/base",
            "_model_module_version": "1.5.0",
            "_view_count": null,
            "_view_module_version": "1.2.0",
            "_model_module": "@jupyter-widgets/controls"
          }
        },
        "790753b6d6ad47c989a65bbb332751fd": {
          "model_module": "@jupyter-widgets/base",
          "model_name": "LayoutModel",
          "model_module_version": "1.2.0",
          "state": {
            "_view_name": "LayoutView",
            "grid_template_rows": null,
            "right": null,
            "justify_content": null,
            "_view_module": "@jupyter-widgets/base",
            "overflow": null,
            "_model_module_version": "1.2.0",
            "_view_count": null,
            "flex_flow": null,
            "width": null,
            "min_width": null,
            "border": null,
            "align_items": null,
            "bottom": null,
            "_model_module": "@jupyter-widgets/base",
            "top": null,
            "grid_column": null,
            "overflow_y": null,
            "overflow_x": null,
            "grid_auto_flow": null,
            "grid_area": null,
            "grid_template_columns": null,
            "flex": null,
            "_model_name": "LayoutModel",
            "justify_items": null,
            "grid_row": null,
            "max_height": null,
            "align_content": null,
            "visibility": null,
            "align_self": null,
            "height": null,
            "min_height": null,
            "padding": null,
            "grid_auto_rows": null,
            "grid_gap": null,
            "max_width": null,
            "order": null,
            "_view_module_version": "1.2.0",
            "grid_template_areas": null,
            "object_position": null,
            "object_fit": null,
            "grid_auto_columns": null,
            "margin": null,
            "display": null,
            "left": null
          }
        },
        "42952e3ea20f4cfeb188ba071b4620f8": {
          "model_module": "@jupyter-widgets/controls",
          "model_name": "ProgressStyleModel",
          "model_module_version": "1.5.0",
          "state": {
            "_view_name": "StyleView",
            "_model_name": "ProgressStyleModel",
            "description_width": "",
            "_view_module": "@jupyter-widgets/base",
            "_model_module_version": "1.5.0",
            "_view_count": null,
            "_view_module_version": "1.2.0",
            "bar_color": null,
            "_model_module": "@jupyter-widgets/controls"
          }
        },
        "65cb2c1c6cf04402ac24b708e324c085": {
          "model_module": "@jupyter-widgets/base",
          "model_name": "LayoutModel",
          "model_module_version": "1.2.0",
          "state": {
            "_view_name": "LayoutView",
            "grid_template_rows": null,
            "right": null,
            "justify_content": null,
            "_view_module": "@jupyter-widgets/base",
            "overflow": null,
            "_model_module_version": "1.2.0",
            "_view_count": null,
            "flex_flow": null,
            "width": null,
            "min_width": null,
            "border": null,
            "align_items": null,
            "bottom": null,
            "_model_module": "@jupyter-widgets/base",
            "top": null,
            "grid_column": null,
            "overflow_y": null,
            "overflow_x": null,
            "grid_auto_flow": null,
            "grid_area": null,
            "grid_template_columns": null,
            "flex": null,
            "_model_name": "LayoutModel",
            "justify_items": null,
            "grid_row": null,
            "max_height": null,
            "align_content": null,
            "visibility": null,
            "align_self": null,
            "height": null,
            "min_height": null,
            "padding": null,
            "grid_auto_rows": null,
            "grid_gap": null,
            "max_width": null,
            "order": null,
            "_view_module_version": "1.2.0",
            "grid_template_areas": null,
            "object_position": null,
            "object_fit": null,
            "grid_auto_columns": null,
            "margin": null,
            "display": null,
            "left": null
          }
        },
        "c8f0a6ba0b954608a8dd96ef5e9f632a": {
          "model_module": "@jupyter-widgets/controls",
          "model_name": "DescriptionStyleModel",
          "model_module_version": "1.5.0",
          "state": {
            "_view_name": "StyleView",
            "_model_name": "DescriptionStyleModel",
            "description_width": "",
            "_view_module": "@jupyter-widgets/base",
            "_model_module_version": "1.5.0",
            "_view_count": null,
            "_view_module_version": "1.2.0",
            "_model_module": "@jupyter-widgets/controls"
          }
        },
        "ce4a53835e4a497f87bfec5e7f194be1": {
          "model_module": "@jupyter-widgets/base",
          "model_name": "LayoutModel",
          "model_module_version": "1.2.0",
          "state": {
            "_view_name": "LayoutView",
            "grid_template_rows": null,
            "right": null,
            "justify_content": null,
            "_view_module": "@jupyter-widgets/base",
            "overflow": null,
            "_model_module_version": "1.2.0",
            "_view_count": null,
            "flex_flow": null,
            "width": null,
            "min_width": null,
            "border": null,
            "align_items": null,
            "bottom": null,
            "_model_module": "@jupyter-widgets/base",
            "top": null,
            "grid_column": null,
            "overflow_y": null,
            "overflow_x": null,
            "grid_auto_flow": null,
            "grid_area": null,
            "grid_template_columns": null,
            "flex": null,
            "_model_name": "LayoutModel",
            "justify_items": null,
            "grid_row": null,
            "max_height": null,
            "align_content": null,
            "visibility": null,
            "align_self": null,
            "height": null,
            "min_height": null,
            "padding": null,
            "grid_auto_rows": null,
            "grid_gap": null,
            "max_width": null,
            "order": null,
            "_view_module_version": "1.2.0",
            "grid_template_areas": null,
            "object_position": null,
            "object_fit": null,
            "grid_auto_columns": null,
            "margin": null,
            "display": null,
            "left": null
          }
        }
      }
    }
  },
  "cells": [
    {
      "cell_type": "markdown",
      "metadata": {
        "id": "view-in-github",
        "colab_type": "text"
      },
      "source": [
        "<a href=\"https://colab.research.google.com/github/kartickgupta/shared-task-2021/blob/main/RoBERTa_base_resampled_cleaned_A2.ipynb\" target=\"_parent\"><img src=\"https://colab.research.google.com/assets/colab-badge.svg\" alt=\"Open In Colab\"/></a>"
      ]
    },
    {
      "cell_type": "markdown",
      "metadata": {
        "id": "4qNVE8PeKfdy"
      },
      "source": [
        "# Model Description:\n",
        "1. Model Used : RoBERTa-base\n",
        "2. training Data : Cleaned \n",
        "3. Class Distribution : resampled\n",
        "4. Roberta Layers = trainable\n",
        "5. batch_size = 32"
      ]
    },
    {
      "cell_type": "code",
      "metadata": {
        "colab": {
          "base_uri": "https://localhost:8080/"
        },
        "id": "VzaW6O_8g-qK",
        "outputId": "a43327d0-3c5a-42b5-a03f-0ec923267962"
      },
      "source": [
        "gpu_info = !nvidia-smi\n",
        "gpu_info = '\\n'.join(gpu_info)\n",
        "if gpu_info.find('failed') >= 0:\n",
        "  print('Not connected to a GPU')\n",
        "else:\n",
        "  print(gpu_info)"
      ],
      "execution_count": 1,
      "outputs": [
        {
          "output_type": "stream",
          "name": "stdout",
          "text": [
            "Mon Oct  4 09:10:01 2021       \n",
            "+-----------------------------------------------------------------------------+\n",
            "| NVIDIA-SMI 470.74       Driver Version: 460.32.03    CUDA Version: 11.2     |\n",
            "|-------------------------------+----------------------+----------------------+\n",
            "| GPU  Name        Persistence-M| Bus-Id        Disp.A | Volatile Uncorr. ECC |\n",
            "| Fan  Temp  Perf  Pwr:Usage/Cap|         Memory-Usage | GPU-Util  Compute M. |\n",
            "|                               |                      |               MIG M. |\n",
            "|===============================+======================+======================|\n",
            "|   0  Tesla P100-PCIE...  Off  | 00000000:00:04.0 Off |                    0 |\n",
            "| N/A   37C    P0    27W / 250W |      0MiB / 16280MiB |      0%      Default |\n",
            "|                               |                      |                  N/A |\n",
            "+-------------------------------+----------------------+----------------------+\n",
            "                                                                               \n",
            "+-----------------------------------------------------------------------------+\n",
            "| Processes:                                                                  |\n",
            "|  GPU   GI   CI        PID   Type   Process name                  GPU Memory |\n",
            "|        ID   ID                                                   Usage      |\n",
            "|=============================================================================|\n",
            "|  No running processes found                                                 |\n",
            "+-----------------------------------------------------------------------------+\n"
          ]
        }
      ]
    },
    {
      "cell_type": "code",
      "metadata": {
        "id": "VFEymR8P3uaS"
      },
      "source": [
        "# !pip install textaugment\n",
        "# import nltk\n",
        "# nltk.download('all')"
      ],
      "execution_count": 2,
      "outputs": []
    },
    {
      "cell_type": "code",
      "metadata": {
        "id": "lU-HJJC7tvSE"
      },
      "source": [
        "import pandas as pd\n",
        "import numpy as np\n",
        "import tensorflow as tf\n",
        "from tensorflow.keras.preprocessing.text import Tokenizer\n",
        "from tensorflow.keras.layers import Embedding, Dense, Dropout, Bidirectional, LSTM\n",
        "from tensorflow.keras.preprocessing.sequence import pad_sequences\n",
        "from tensorflow.keras.utils import to_categorical\n",
        "from google.colab import drive\n",
        "# from textaugment import Wordnet, EDA, word2vec, Translate\n",
        "# from nltk import WordNetLemmatizer\n",
        "# from nltk.corpus import stopwords\n",
        "import gensim\n",
        "import re\n",
        "import matplotlib.pyplot as plt\n",
        "import seaborn as sns\n",
        "# !pip3 install tensorflow_text\n",
        "# import tensorflow_text\n",
        "# !pip install -q tf-models-official\n",
        "# !pip install -q -U tensorflow-text\n",
        "# from tensorflow_text.tools.wordpiece_vocab import bert_vocab_from_dataset as bert_vocab\n",
        "# import tensorflow_hub as hub\n",
        "# import tensorflow_text as tf_text\n",
        "from tqdm import tqdm"
      ],
      "execution_count": 3,
      "outputs": []
    },
    {
      "cell_type": "code",
      "metadata": {
        "colab": {
          "base_uri": "https://localhost:8080/"
        },
        "id": "4bBJN1FUeRop",
        "outputId": "0d3e9d97-66b1-4e3b-a33a-93021d25ab52"
      },
      "source": [
        "!pip3 install transformers"
      ],
      "execution_count": 4,
      "outputs": [
        {
          "output_type": "stream",
          "name": "stdout",
          "text": [
            "Collecting transformers\n",
            "  Downloading transformers-4.11.2-py3-none-any.whl (2.9 MB)\n",
            "\u001b[K     |████████████████████████████████| 2.9 MB 7.9 MB/s \n",
            "\u001b[?25hRequirement already satisfied: importlib-metadata in /usr/local/lib/python3.7/dist-packages (from transformers) (4.8.1)\n",
            "Requirement already satisfied: regex!=2019.12.17 in /usr/local/lib/python3.7/dist-packages (from transformers) (2019.12.20)\n",
            "Collecting sacremoses\n",
            "  Downloading sacremoses-0.0.46-py3-none-any.whl (895 kB)\n",
            "\u001b[K     |████████████████████████████████| 895 kB 66.6 MB/s \n",
            "\u001b[?25hRequirement already satisfied: packaging>=20.0 in /usr/local/lib/python3.7/dist-packages (from transformers) (21.0)\n",
            "Requirement already satisfied: requests in /usr/local/lib/python3.7/dist-packages (from transformers) (2.23.0)\n",
            "Collecting pyyaml>=5.1\n",
            "  Downloading PyYAML-5.4.1-cp37-cp37m-manylinux1_x86_64.whl (636 kB)\n",
            "\u001b[K     |████████████████████████████████| 636 kB 73.9 MB/s \n",
            "\u001b[?25hCollecting huggingface-hub>=0.0.17\n",
            "  Downloading huggingface_hub-0.0.17-py3-none-any.whl (52 kB)\n",
            "\u001b[K     |████████████████████████████████| 52 kB 1.4 MB/s \n",
            "\u001b[?25hRequirement already satisfied: numpy>=1.17 in /usr/local/lib/python3.7/dist-packages (from transformers) (1.19.5)\n",
            "Requirement already satisfied: filelock in /usr/local/lib/python3.7/dist-packages (from transformers) (3.0.12)\n",
            "Requirement already satisfied: tqdm>=4.27 in /usr/local/lib/python3.7/dist-packages (from transformers) (4.62.3)\n",
            "Collecting tokenizers<0.11,>=0.10.1\n",
            "  Downloading tokenizers-0.10.3-cp37-cp37m-manylinux_2_5_x86_64.manylinux1_x86_64.manylinux_2_12_x86_64.manylinux2010_x86_64.whl (3.3 MB)\n",
            "\u001b[K     |████████████████████████████████| 3.3 MB 67.3 MB/s \n",
            "\u001b[?25hRequirement already satisfied: typing-extensions in /usr/local/lib/python3.7/dist-packages (from huggingface-hub>=0.0.17->transformers) (3.7.4.3)\n",
            "Requirement already satisfied: pyparsing>=2.0.2 in /usr/local/lib/python3.7/dist-packages (from packaging>=20.0->transformers) (2.4.7)\n",
            "Requirement already satisfied: zipp>=0.5 in /usr/local/lib/python3.7/dist-packages (from importlib-metadata->transformers) (3.5.0)\n",
            "Requirement already satisfied: idna<3,>=2.5 in /usr/local/lib/python3.7/dist-packages (from requests->transformers) (2.10)\n",
            "Requirement already satisfied: chardet<4,>=3.0.2 in /usr/local/lib/python3.7/dist-packages (from requests->transformers) (3.0.4)\n",
            "Requirement already satisfied: urllib3!=1.25.0,!=1.25.1,<1.26,>=1.21.1 in /usr/local/lib/python3.7/dist-packages (from requests->transformers) (1.24.3)\n",
            "Requirement already satisfied: certifi>=2017.4.17 in /usr/local/lib/python3.7/dist-packages (from requests->transformers) (2021.5.30)\n",
            "Requirement already satisfied: six in /usr/local/lib/python3.7/dist-packages (from sacremoses->transformers) (1.15.0)\n",
            "Requirement already satisfied: click in /usr/local/lib/python3.7/dist-packages (from sacremoses->transformers) (7.1.2)\n",
            "Requirement already satisfied: joblib in /usr/local/lib/python3.7/dist-packages (from sacremoses->transformers) (1.0.1)\n",
            "Installing collected packages: tokenizers, sacremoses, pyyaml, huggingface-hub, transformers\n",
            "  Attempting uninstall: pyyaml\n",
            "    Found existing installation: PyYAML 3.13\n",
            "    Uninstalling PyYAML-3.13:\n",
            "      Successfully uninstalled PyYAML-3.13\n",
            "Successfully installed huggingface-hub-0.0.17 pyyaml-5.4.1 sacremoses-0.0.46 tokenizers-0.10.3 transformers-4.11.2\n"
          ]
        }
      ]
    },
    {
      "cell_type": "code",
      "metadata": {
        "colab": {
          "base_uri": "https://localhost:8080/"
        },
        "id": "qtU3_grlvTrh",
        "outputId": "938b6946-8db5-45d9-8da5-524817cd8eea"
      },
      "source": [
        "drive.mount('/content/drive')"
      ],
      "execution_count": 5,
      "outputs": [
        {
          "output_type": "stream",
          "name": "stdout",
          "text": [
            "Mounted at /content/drive\n"
          ]
        }
      ]
    },
    {
      "cell_type": "code",
      "metadata": {
        "colab": {
          "base_uri": "https://localhost:8080/",
          "height": 660
        },
        "id": "nCCsVGbfvnq6",
        "outputId": "06d0c0e0-54da-4bc1-e3b9-a55ad14b086a"
      },
      "source": [
        "with open('/content/drive/MyDrive/Shared Task 2021/global-headline-only.csv', 'r') as f:\n",
        "    df = pd.read_csv(f)\n",
        "\n",
        "df.head()"
      ],
      "execution_count": 6,
      "outputs": [
        {
          "output_type": "execute_result",
          "data": {
            "text/html": [
              "<div>\n",
              "<style scoped>\n",
              "    .dataframe tbody tr th:only-of-type {\n",
              "        vertical-align: middle;\n",
              "    }\n",
              "\n",
              "    .dataframe tbody tr th {\n",
              "        vertical-align: top;\n",
              "    }\n",
              "\n",
              "    .dataframe thead th {\n",
              "        text-align: right;\n",
              "    }\n",
              "</style>\n",
              "<table border=\"1\" class=\"dataframe\">\n",
              "  <thead>\n",
              "    <tr style=\"text-align: right;\">\n",
              "      <th></th>\n",
              "      <th>data_id</th>\n",
              "      <th>event_date</th>\n",
              "      <th>year</th>\n",
              "      <th>event_type</th>\n",
              "      <th>sub_event_type</th>\n",
              "      <th>region</th>\n",
              "      <th>country</th>\n",
              "      <th>location</th>\n",
              "      <th>notes</th>\n",
              "      <th>cleaned</th>\n",
              "      <th>lemmatized</th>\n",
              "      <th>stemmed</th>\n",
              "    </tr>\n",
              "  </thead>\n",
              "  <tbody>\n",
              "    <tr>\n",
              "      <th>0</th>\n",
              "      <td>8378880</td>\n",
              "      <td>09-07-2021</td>\n",
              "      <td>2021</td>\n",
              "      <td>Explosions/Remote violence</td>\n",
              "      <td>Shelling/artillery/missile attack</td>\n",
              "      <td>Middle East</td>\n",
              "      <td>Syria</td>\n",
              "      <td>Arnaba</td>\n",
              "      <td>On 9 July 2021, regime forces shelled Arnaba t...</td>\n",
              "      <td>regime forces shelled Arnaba town in Idleb cou...</td>\n",
              "      <td>regime force shelled arnaba town idleb country...</td>\n",
              "      <td>regim forc shell arnaba town idleb countrysid ...</td>\n",
              "    </tr>\n",
              "    <tr>\n",
              "      <th>1</th>\n",
              "      <td>8378881</td>\n",
              "      <td>09-07-2021</td>\n",
              "      <td>2021</td>\n",
              "      <td>Explosions/Remote violence</td>\n",
              "      <td>Shelling/artillery/missile attack</td>\n",
              "      <td>Middle East</td>\n",
              "      <td>Syria</td>\n",
              "      <td>Balyun</td>\n",
              "      <td>On 9 July 2021, regime forces shelled Balyun t...</td>\n",
              "      <td>regime forces shelled Balyun town and its vici...</td>\n",
              "      <td>regime force shelled balyun town vicinity idle...</td>\n",
              "      <td>regim forc shell balyun town vicin idleb count...</td>\n",
              "    </tr>\n",
              "    <tr>\n",
              "      <th>2</th>\n",
              "      <td>8381441</td>\n",
              "      <td>09-07-2021</td>\n",
              "      <td>2021</td>\n",
              "      <td>Protests</td>\n",
              "      <td>Peaceful protest</td>\n",
              "      <td>East Asia</td>\n",
              "      <td>South Korea</td>\n",
              "      <td>Jinju</td>\n",
              "      <td>On 9 July 2021, local veterans' organizations,...</td>\n",
              "      <td>local veterans organizations including the Kor...</td>\n",
              "      <td>local veteran organization including korean wa...</td>\n",
              "      <td>local veteran organ includ korean war veteran ...</td>\n",
              "    </tr>\n",
              "    <tr>\n",
              "      <th>3</th>\n",
              "      <td>8383746</td>\n",
              "      <td>09-07-2021</td>\n",
              "      <td>2021</td>\n",
              "      <td>Riots</td>\n",
              "      <td>Violent demonstration</td>\n",
              "      <td>South Asia</td>\n",
              "      <td>Pakistan</td>\n",
              "      <td>Larkana</td>\n",
              "      <td>On 9 July 2021, prisoners held a demonstration...</td>\n",
              "      <td>prisoners held a demonstration and set wood an...</td>\n",
              "      <td>prisoner held demonstration set wood clothes f...</td>\n",
              "      <td>prison held demonstr set wood cloth fire larka...</td>\n",
              "    </tr>\n",
              "    <tr>\n",
              "      <th>4</th>\n",
              "      <td>8381699</td>\n",
              "      <td>09-07-2021</td>\n",
              "      <td>2021</td>\n",
              "      <td>Violence against civilians</td>\n",
              "      <td>Attack</td>\n",
              "      <td>Southeast Asia</td>\n",
              "      <td>Myanmar</td>\n",
              "      <td>Hpa Yar Gyi</td>\n",
              "      <td>On 9 July 2021, in Hpa Yar Gyi village (Thongw...</td>\n",
              "      <td>in Hpa Yar Gyi village  the village administra...</td>\n",
              "      <td>hpa yar gyi village village administrator shot...</td>\n",
              "      <td>hpa yar gyi villag villag administr shot three...</td>\n",
              "    </tr>\n",
              "  </tbody>\n",
              "</table>\n",
              "</div>"
            ],
            "text/plain": [
              "   data_id  ...                                            stemmed\n",
              "0  8378880  ...  regim forc shell arnaba town idleb countrysid ...\n",
              "1  8378881  ...  regim forc shell balyun town vicin idleb count...\n",
              "2  8381441  ...  local veteran organ includ korean war veteran ...\n",
              "3  8383746  ...  prison held demonstr set wood cloth fire larka...\n",
              "4  8381699  ...  hpa yar gyi villag villag administr shot three...\n",
              "\n",
              "[5 rows x 12 columns]"
            ]
          },
          "metadata": {},
          "execution_count": 6
        }
      ]
    },
    {
      "cell_type": "code",
      "metadata": {
        "id": "t7sHoDO39SyD"
      },
      "source": [
        "correct_format = ['ABDUCT_DISSAP',\n",
        "'AGREEMENT',\n",
        "'AIR_STRIKE',\n",
        "'ARMED_CLASH',\n",
        "'ARREST',\n",
        "'ART_MISS_ATTACK',\n",
        "'ATTACK',\n",
        "'CHANGE_TO_GROUP_ACT',\n",
        "'CHEM_WEAP',\n",
        "'DISR_WEAP',\n",
        "'FORCE_AGAINST_PROTEST',\n",
        "'GOV_REGAINS_TERIT',\n",
        "'GRENADE',\n",
        "'HQ_ESTABLISHED',\n",
        "'MOB_VIOL',\n",
        "'NON_STATE_ACTOR_OVERTAKES_TER',\n",
        "'NON_VIOL_TERRIT_TRANSFER',\n",
        "'OTHER',\n",
        "'PEACE_PROTEST',\n",
        "'PROPERTY_DISTRUCT',\n",
        "'PROTEST_WITH_INTER',\n",
        "'REM_EXPLOS',\n",
        "'SEX_VIOL',\n",
        "'SUIC_BOMB',\n",
        "'VIOL_DEMONSTR']"
      ],
      "execution_count": 7,
      "outputs": []
    },
    {
      "cell_type": "code",
      "metadata": {
        "id": "s2RFOLY8-YK6"
      },
      "source": [
        "correct_format_dict = {'Abduction/forced disappearance':'ABDUCT_DISSAP',\n",
        "                       'Agreement': 'AGREEMENT',\n",
        "                        'Air/drone strike' : 'AIR_STRIKE',\n",
        "                         'Armed clash' : 'ARMED_CLASH',\n",
        "                       'Arrests' : 'ARREST',\n",
        "                       'Attack' : 'ATTACK',\n",
        "                       'Change to group/activity' : 'CHANGE_TO_GROUP_ACT',\n",
        "                       'Chemical weapon' : 'CHEM_WEAP',\n",
        "                       'Disrupted weapons use' : 'DISR_WEAP',\n",
        "                       'Excessive force against protesters' : 'FORCE_AGAINST_PROTEST',\n",
        "                       'Government regains territory' : 'GOV_REGAINS_TERIT',\n",
        "                       'Grenade' : 'GRENADE',\n",
        "                        'Headquarters or base established' : 'HQ_ESTABLISHED',\n",
        "                       'Looting/property destruction' : 'PROPERTY_DISTRUCT',\n",
        "                       'Mob violence' : 'MOB_VIOL',\n",
        "                       'Non-state actor overtakes territory' : 'NON_STATE_ACTOR_OVERTAKES_TER',\n",
        "                       'Non-violent transfer of territory' : 'NON_VIOL_TERRIT_TRANSFER',\n",
        "                       'Other' : 'OTHER',\n",
        "                        'Peaceful protest' : 'PEACE_PROTEST',\n",
        "                       'Protest with intervention' : 'PROTEST_WITH_INTER',\n",
        "                       'Remote explosive/landmine/IED' : 'REM_EXPLOS',\n",
        "                       'Sexual violence' : 'SEX_VIOL',\n",
        "                       'Shelling/artillery/missile attack' : 'ART_MISS_ATTACK',\n",
        "                       'Suicide bomb' : 'SUIC_BOMB',\n",
        "                        'Violent demonstration' : 'VIOL_DEMONSTR'\n",
        "                       }"
      ],
      "execution_count": 8,
      "outputs": []
    },
    {
      "cell_type": "code",
      "metadata": {
        "colab": {
          "base_uri": "https://localhost:8080/"
        },
        "id": "YP9LGH-M-naJ",
        "outputId": "b848989c-af2c-4eb3-a79a-56414641edea"
      },
      "source": [
        "correct_format_dict"
      ],
      "execution_count": 9,
      "outputs": [
        {
          "output_type": "execute_result",
          "data": {
            "text/plain": [
              "{'Abduction/forced disappearance': 'ABDUCT_DISSAP',\n",
              " 'Agreement': 'AGREEMENT',\n",
              " 'Air/drone strike': 'AIR_STRIKE',\n",
              " 'Armed clash': 'ARMED_CLASH',\n",
              " 'Arrests': 'ARREST',\n",
              " 'Attack': 'ATTACK',\n",
              " 'Change to group/activity': 'CHANGE_TO_GROUP_ACT',\n",
              " 'Chemical weapon': 'CHEM_WEAP',\n",
              " 'Disrupted weapons use': 'DISR_WEAP',\n",
              " 'Excessive force against protesters': 'FORCE_AGAINST_PROTEST',\n",
              " 'Government regains territory': 'GOV_REGAINS_TERIT',\n",
              " 'Grenade': 'GRENADE',\n",
              " 'Headquarters or base established': 'HQ_ESTABLISHED',\n",
              " 'Looting/property destruction': 'PROPERTY_DISTRUCT',\n",
              " 'Mob violence': 'MOB_VIOL',\n",
              " 'Non-state actor overtakes territory': 'NON_STATE_ACTOR_OVERTAKES_TER',\n",
              " 'Non-violent transfer of territory': 'NON_VIOL_TERRIT_TRANSFER',\n",
              " 'Other': 'OTHER',\n",
              " 'Peaceful protest': 'PEACE_PROTEST',\n",
              " 'Protest with intervention': 'PROTEST_WITH_INTER',\n",
              " 'Remote explosive/landmine/IED': 'REM_EXPLOS',\n",
              " 'Sexual violence': 'SEX_VIOL',\n",
              " 'Shelling/artillery/missile attack': 'ART_MISS_ATTACK',\n",
              " 'Suicide bomb': 'SUIC_BOMB',\n",
              " 'Violent demonstration': 'VIOL_DEMONSTR'}"
            ]
          },
          "metadata": {},
          "execution_count": 9
        }
      ]
    },
    {
      "cell_type": "code",
      "metadata": {
        "id": "dc1nqcY1-zeJ"
      },
      "source": [
        "def correct_format(text):\n",
        "    correct_label = correct_format_dict[text]\n",
        "    return correct_label\n",
        "\n",
        "df['sub_event_type'] = df['sub_event_type'].apply(correct_format)"
      ],
      "execution_count": 10,
      "outputs": []
    },
    {
      "cell_type": "code",
      "metadata": {
        "colab": {
          "base_uri": "https://localhost:8080/"
        },
        "id": "Z9hmpvR2so-h",
        "outputId": "6a6cb967-627b-40eb-bda8-1bd575c78125"
      },
      "source": [
        "df.sub_event_type.value_counts()"
      ],
      "execution_count": 11,
      "outputs": [
        {
          "output_type": "execute_result",
          "data": {
            "text/plain": [
              "PEACE_PROTEST                    329399\n",
              "ARMED_CLASH                      239828\n",
              "ATTACK                           132202\n",
              "ART_MISS_ATTACK                   64743\n",
              "MOB_VIOL                          42079\n",
              "VIOL_DEMONSTR                     41003\n",
              "AIR_STRIKE                        34020\n",
              "PROTEST_WITH_INTER                31784\n",
              "REM_EXPLOS                        30620\n",
              "PROPERTY_DISTRUCT                 24315\n",
              "ABDUCT_DISSAP                     14624\n",
              "ARREST                             8668\n",
              "CHANGE_TO_GROUP_ACT                7925\n",
              "DISR_WEAP                          7499\n",
              "GOV_REGAINS_TERIT                  6148\n",
              "OTHER                              5353\n",
              "FORCE_AGAINST_PROTEST              3098\n",
              "GRENADE                            2948\n",
              "NON_STATE_ACTOR_OVERTAKES_TER      2670\n",
              "SEX_VIOL                           2196\n",
              "AGREEMENT                          1460\n",
              "NON_VIOL_TERRIT_TRANSFER            989\n",
              "SUIC_BOMB                           635\n",
              "HQ_ESTABLISHED                      311\n",
              "CHEM_WEAP                            10\n",
              "Name: sub_event_type, dtype: int64"
            ]
          },
          "metadata": {},
          "execution_count": 11
        }
      ]
    },
    {
      "cell_type": "code",
      "metadata": {
        "id": "zySeKLkT4ACP",
        "colab": {
          "base_uri": "https://localhost:8080/"
        },
        "outputId": "48a877b5-9674-4c4b-bc73-81f3fe0e3f2d"
      },
      "source": [
        "df.drop_duplicates(['lemmatized']).sub_event_type.value_counts()"
      ],
      "execution_count": 12,
      "outputs": [
        {
          "output_type": "execute_result",
          "data": {
            "text/plain": [
              "PEACE_PROTEST                    305383\n",
              "ARMED_CLASH                       96231\n",
              "ATTACK                            65363\n",
              "ART_MISS_ATTACK                   33279\n",
              "VIOL_DEMONSTR                     24574\n",
              "MOB_VIOL                          21098\n",
              "AIR_STRIKE                        18620\n",
              "REM_EXPLOS                        16110\n",
              "PROTEST_WITH_INTER                15003\n",
              "PROPERTY_DISTRUCT                 12036\n",
              "ABDUCT_DISSAP                      7214\n",
              "CHANGE_TO_GROUP_ACT                7098\n",
              "ARREST                             4238\n",
              "DISR_WEAP                          3866\n",
              "OTHER                              3698\n",
              "GOV_REGAINS_TERIT                  2424\n",
              "GRENADE                            1530\n",
              "FORCE_AGAINST_PROTEST              1520\n",
              "NON_STATE_ACTOR_OVERTAKES_TER      1198\n",
              "SEX_VIOL                           1027\n",
              "AGREEMENT                           692\n",
              "NON_VIOL_TERRIT_TRANSFER            512\n",
              "SUIC_BOMB                           319\n",
              "HQ_ESTABLISHED                      291\n",
              "CHEM_WEAP                             4\n",
              "Name: sub_event_type, dtype: int64"
            ]
          },
          "metadata": {},
          "execution_count": 12
        }
      ]
    },
    {
      "cell_type": "code",
      "metadata": {
        "id": "5Mu6hGFlp_JQ",
        "colab": {
          "base_uri": "https://localhost:8080/"
        },
        "outputId": "cf6250f0-57cd-47e2-c04a-e3ddcb5dd17b"
      },
      "source": [
        "event_types_dict = {}\n",
        "for num, name in enumerate(list(df['sub_event_type'].unique())):\n",
        "    event_types_dict[name] = num\n",
        "    # print(name, \" : \", num)\n",
        "\n",
        "event_types_dict\n",
        "\n",
        "event_types_dict_inverse = {k:v for v,k in event_types_dict.items()}\n",
        "print(event_types_dict)\n",
        "print( event_types_dict_inverse)"
      ],
      "execution_count": 13,
      "outputs": [
        {
          "output_type": "stream",
          "name": "stdout",
          "text": [
            "{'ART_MISS_ATTACK': 0, 'PEACE_PROTEST': 1, 'VIOL_DEMONSTR': 2, 'ATTACK': 3, 'AIR_STRIKE': 4, 'ARMED_CLASH': 5, 'MOB_VIOL': 6, 'PROTEST_WITH_INTER': 7, 'FORCE_AGAINST_PROTEST': 8, 'PROPERTY_DISTRUCT': 9, 'OTHER': 10, 'REM_EXPLOS': 11, 'GOV_REGAINS_TERIT': 12, 'ABDUCT_DISSAP': 13, 'CHANGE_TO_GROUP_ACT': 14, 'NON_STATE_ACTOR_OVERTAKES_TER': 15, 'ARREST': 16, 'SEX_VIOL': 17, 'DISR_WEAP': 18, 'NON_VIOL_TERRIT_TRANSFER': 19, 'GRENADE': 20, 'HQ_ESTABLISHED': 21, 'SUIC_BOMB': 22, 'AGREEMENT': 23, 'CHEM_WEAP': 24}\n",
            "{0: 'ART_MISS_ATTACK', 1: 'PEACE_PROTEST', 2: 'VIOL_DEMONSTR', 3: 'ATTACK', 4: 'AIR_STRIKE', 5: 'ARMED_CLASH', 6: 'MOB_VIOL', 7: 'PROTEST_WITH_INTER', 8: 'FORCE_AGAINST_PROTEST', 9: 'PROPERTY_DISTRUCT', 10: 'OTHER', 11: 'REM_EXPLOS', 12: 'GOV_REGAINS_TERIT', 13: 'ABDUCT_DISSAP', 14: 'CHANGE_TO_GROUP_ACT', 15: 'NON_STATE_ACTOR_OVERTAKES_TER', 16: 'ARREST', 17: 'SEX_VIOL', 18: 'DISR_WEAP', 19: 'NON_VIOL_TERRIT_TRANSFER', 20: 'GRENADE', 21: 'HQ_ESTABLISHED', 22: 'SUIC_BOMB', 23: 'AGREEMENT', 24: 'CHEM_WEAP'}\n"
          ]
        }
      ]
    },
    {
      "cell_type": "code",
      "metadata": {
        "id": "LLd-mAd996SJ"
      },
      "source": [
        "dict_list = list(event_types_dict.keys())"
      ],
      "execution_count": 14,
      "outputs": []
    },
    {
      "cell_type": "code",
      "metadata": {
        "id": "WKaL1cqk7EB3"
      },
      "source": [
        "def text_to_numerical_category(name):\n",
        "    num = event_types_dict[name]\n",
        "    return num\n",
        "\n",
        "# print(text_to_numerical_category('Peaceful protest'))\n",
        "df['labels'] = df['sub_event_type'].apply(text_to_numerical_category)"
      ],
      "execution_count": 15,
      "outputs": []
    },
    {
      "cell_type": "code",
      "metadata": {
        "id": "s3PF6Hlh8Lc6"
      },
      "source": [
        "df.drop(columns=['data_id', 'event_date', 'year','event_type','region','country', 'location',\t'notes','lemmatized', 'stemmed'\t], inplace=True)"
      ],
      "execution_count": 16,
      "outputs": []
    },
    {
      "cell_type": "code",
      "metadata": {
        "id": "TRVDMv0_Rb1-",
        "colab": {
          "base_uri": "https://localhost:8080/",
          "height": 203
        },
        "outputId": "43195bbc-f38d-4ff0-b319-60fee14f0d8f"
      },
      "source": [
        "df.head()"
      ],
      "execution_count": 17,
      "outputs": [
        {
          "output_type": "execute_result",
          "data": {
            "text/html": [
              "<div>\n",
              "<style scoped>\n",
              "    .dataframe tbody tr th:only-of-type {\n",
              "        vertical-align: middle;\n",
              "    }\n",
              "\n",
              "    .dataframe tbody tr th {\n",
              "        vertical-align: top;\n",
              "    }\n",
              "\n",
              "    .dataframe thead th {\n",
              "        text-align: right;\n",
              "    }\n",
              "</style>\n",
              "<table border=\"1\" class=\"dataframe\">\n",
              "  <thead>\n",
              "    <tr style=\"text-align: right;\">\n",
              "      <th></th>\n",
              "      <th>sub_event_type</th>\n",
              "      <th>cleaned</th>\n",
              "      <th>labels</th>\n",
              "    </tr>\n",
              "  </thead>\n",
              "  <tbody>\n",
              "    <tr>\n",
              "      <th>0</th>\n",
              "      <td>ART_MISS_ATTACK</td>\n",
              "      <td>regime forces shelled Arnaba town in Idleb cou...</td>\n",
              "      <td>0</td>\n",
              "    </tr>\n",
              "    <tr>\n",
              "      <th>1</th>\n",
              "      <td>ART_MISS_ATTACK</td>\n",
              "      <td>regime forces shelled Balyun town and its vici...</td>\n",
              "      <td>0</td>\n",
              "    </tr>\n",
              "    <tr>\n",
              "      <th>2</th>\n",
              "      <td>PEACE_PROTEST</td>\n",
              "      <td>local veterans organizations including the Kor...</td>\n",
              "      <td>1</td>\n",
              "    </tr>\n",
              "    <tr>\n",
              "      <th>3</th>\n",
              "      <td>VIOL_DEMONSTR</td>\n",
              "      <td>prisoners held a demonstration and set wood an...</td>\n",
              "      <td>2</td>\n",
              "    </tr>\n",
              "    <tr>\n",
              "      <th>4</th>\n",
              "      <td>ATTACK</td>\n",
              "      <td>in Hpa Yar Gyi village  the village administra...</td>\n",
              "      <td>3</td>\n",
              "    </tr>\n",
              "  </tbody>\n",
              "</table>\n",
              "</div>"
            ],
            "text/plain": [
              "    sub_event_type                                            cleaned  labels\n",
              "0  ART_MISS_ATTACK  regime forces shelled Arnaba town in Idleb cou...       0\n",
              "1  ART_MISS_ATTACK  regime forces shelled Balyun town and its vici...       0\n",
              "2    PEACE_PROTEST  local veterans organizations including the Kor...       1\n",
              "3    VIOL_DEMONSTR  prisoners held a demonstration and set wood an...       2\n",
              "4           ATTACK  in Hpa Yar Gyi village  the village administra...       3"
            ]
          },
          "metadata": {},
          "execution_count": 17
        }
      ]
    },
    {
      "cell_type": "markdown",
      "metadata": {
        "id": "RWuVG1ftDdQ0"
      },
      "source": [
        "## Handling Imbalanced Dataset"
      ]
    },
    {
      "cell_type": "code",
      "metadata": {
        "id": "Lss93xr7hmse"
      },
      "source": [
        "from sklearn.utils import shuffle\n",
        "\n",
        "lemm = []\n",
        "labels = []\n",
        "THRESH_1 = 20000\n",
        "THRESH_2 = 10000\n",
        "THRESH_3 = 1000\n",
        "\n",
        "for group in df.sub_event_type.unique():\n",
        "    # Having More Than 20K\n",
        "    if len(df.groupby('sub_event_type').get_group(group).cleaned.unique()) > THRESH_1:\n",
        "        lemm += (list(shuffle(df.groupby('sub_event_type').get_group(group).cleaned.unique()))[:THRESH_1])\n",
        "        labels += ([group]*THRESH_1)\n",
        "     # Having Unique b/w 20K and 10K - Take top 20K from all\n",
        "    elif len(df.groupby('sub_event_type').get_group(group).cleaned.unique()) < THRESH_1 and len(df.groupby('sub_event_type').get_group(group).cleaned.unique()) > THRESH_2:\n",
        "       lemm += (list(shuffle(df.groupby('sub_event_type').get_group(group).cleaned))[:THRESH_1])\n",
        "       labels += ([group]*THRESH_1)\n",
        "    # Having b/w 20K and 5K - take all\n",
        "    elif len(df.groupby('sub_event_type').get_group(group).cleaned) < 20000 and len(df.groupby('sub_event_type').get_group(group).cleaned) > 5000:\n",
        "       lemm += list(shuffle(df.groupby('sub_event_type').get_group(group).cleaned))\n",
        "       labels += ([group]*len(list(shuffle(df.groupby('sub_event_type').get_group(group).cleaned))))\n",
        "     # Having Less Than 1K - Multipy by 6\n",
        "    elif len(df.groupby('sub_event_type').get_group(group).cleaned) < THRESH_3:\n",
        "        for i in range(6):\n",
        "            lemm += list(shuffle(df.groupby('sub_event_type').get_group(group).cleaned))\n",
        "            labels += ([group]*len(list(shuffle(df.groupby('sub_event_type').get_group(group).cleaned))))\n",
        "    # Remaining - Multiply by 2\n",
        "    else:\n",
        "         for i in range(2):\n",
        "            lemm += list(shuffle(df.groupby('sub_event_type').get_group(group).cleaned))\n",
        "            labels += ([group]*len(list(shuffle(df.groupby('sub_event_type').get_group(group).cleaned))))\n"
      ],
      "execution_count": 18,
      "outputs": []
    },
    {
      "cell_type": "code",
      "metadata": {
        "id": "dJpBVPnohm4s",
        "colab": {
          "base_uri": "https://localhost:8080/"
        },
        "outputId": "3bf37f39-d537-4c83-f7b2-925cffe6fd7c"
      },
      "source": [
        "len(lemm)"
      ],
      "execution_count": 19,
      "outputs": [
        {
          "output_type": "execute_result",
          "data": {
            "text/plain": [
              "286631"
            ]
          },
          "metadata": {},
          "execution_count": 19
        }
      ]
    },
    {
      "cell_type": "code",
      "metadata": {
        "id": "YTcq-Gdlhm7P",
        "colab": {
          "base_uri": "https://localhost:8080/"
        },
        "outputId": "7ad22755-b388-4ed3-8f6f-2fc78ecfe0a6"
      },
      "source": [
        "len(labels)"
      ],
      "execution_count": 20,
      "outputs": [
        {
          "output_type": "execute_result",
          "data": {
            "text/plain": [
              "286631"
            ]
          },
          "metadata": {},
          "execution_count": 20
        }
      ]
    },
    {
      "cell_type": "code",
      "metadata": {
        "id": "RpdqzhBLhnAW"
      },
      "source": [
        "balanced_df = pd.DataFrame({'Text' : lemm, 'Labels': labels})"
      ],
      "execution_count": 21,
      "outputs": []
    },
    {
      "cell_type": "code",
      "metadata": {
        "id": "hZlHU6-rhnFl",
        "colab": {
          "base_uri": "https://localhost:8080/",
          "height": 203
        },
        "outputId": "6aec0fe4-06b9-416a-936a-1f29e41b58ae"
      },
      "source": [
        "balanced_df.head()"
      ],
      "execution_count": 22,
      "outputs": [
        {
          "output_type": "execute_result",
          "data": {
            "text/html": [
              "<div>\n",
              "<style scoped>\n",
              "    .dataframe tbody tr th:only-of-type {\n",
              "        vertical-align: middle;\n",
              "    }\n",
              "\n",
              "    .dataframe tbody tr th {\n",
              "        vertical-align: top;\n",
              "    }\n",
              "\n",
              "    .dataframe thead th {\n",
              "        text-align: right;\n",
              "    }\n",
              "</style>\n",
              "<table border=\"1\" class=\"dataframe\">\n",
              "  <thead>\n",
              "    <tr style=\"text-align: right;\">\n",
              "      <th></th>\n",
              "      <th>Text</th>\n",
              "      <th>Labels</th>\n",
              "    </tr>\n",
              "  </thead>\n",
              "  <tbody>\n",
              "    <tr>\n",
              "      <th>0</th>\n",
              "      <td>the OSCE SMM observed a total of projectilesex...</td>\n",
              "      <td>ART_MISS_ATTACK</td>\n",
              "    </tr>\n",
              "    <tr>\n",
              "      <th>1</th>\n",
              "      <td>proHouthi forces reportedly shelled Al Jidham ...</td>\n",
              "      <td>ART_MISS_ATTACK</td>\n",
              "    </tr>\n",
              "    <tr>\n",
              "      <th>2</th>\n",
              "      <td>regime forces shelled Sarja town in Idleb coun...</td>\n",
              "      <td>ART_MISS_ATTACK</td>\n",
              "    </tr>\n",
              "    <tr>\n",
              "      <th>3</th>\n",
              "      <td>Regime forces shelled Um Jalal and its surroun...</td>\n",
              "      <td>ART_MISS_ATTACK</td>\n",
              "    </tr>\n",
              "    <tr>\n",
              "      <th>4</th>\n",
              "      <td>the OSCE SMM observed a total of explosions in...</td>\n",
              "      <td>ART_MISS_ATTACK</td>\n",
              "    </tr>\n",
              "  </tbody>\n",
              "</table>\n",
              "</div>"
            ],
            "text/plain": [
              "                                                Text           Labels\n",
              "0  the OSCE SMM observed a total of projectilesex...  ART_MISS_ATTACK\n",
              "1  proHouthi forces reportedly shelled Al Jidham ...  ART_MISS_ATTACK\n",
              "2  regime forces shelled Sarja town in Idleb coun...  ART_MISS_ATTACK\n",
              "3  Regime forces shelled Um Jalal and its surroun...  ART_MISS_ATTACK\n",
              "4  the OSCE SMM observed a total of explosions in...  ART_MISS_ATTACK"
            ]
          },
          "metadata": {},
          "execution_count": 22
        }
      ]
    },
    {
      "cell_type": "code",
      "metadata": {
        "id": "zt0sCfi7n7BF",
        "colab": {
          "base_uri": "https://localhost:8080/"
        },
        "outputId": "2845a6bb-9db3-495a-cf29-ae2e57975b5a"
      },
      "source": [
        "event_types_dict_new = {}\n",
        "for num, name in enumerate(list(balanced_df.Labels.unique())):\n",
        "    event_types_dict_new[name] = num\n",
        "    # print(name, \" : \", num)\n",
        "\n",
        "event_types_dict_new\n",
        "\n",
        "event_types_dict_inverse_new = {k:v for v,k in event_types_dict_new.items()}\n",
        "print(event_types_dict_new)\n",
        "print( event_types_dict_inverse_new)"
      ],
      "execution_count": 23,
      "outputs": [
        {
          "output_type": "stream",
          "name": "stdout",
          "text": [
            "{'ART_MISS_ATTACK': 0, 'PEACE_PROTEST': 1, 'VIOL_DEMONSTR': 2, 'ATTACK': 3, 'AIR_STRIKE': 4, 'ARMED_CLASH': 5, 'MOB_VIOL': 6, 'PROTEST_WITH_INTER': 7, 'FORCE_AGAINST_PROTEST': 8, 'PROPERTY_DISTRUCT': 9, 'OTHER': 10, 'REM_EXPLOS': 11, 'GOV_REGAINS_TERIT': 12, 'ABDUCT_DISSAP': 13, 'CHANGE_TO_GROUP_ACT': 14, 'NON_STATE_ACTOR_OVERTAKES_TER': 15, 'ARREST': 16, 'SEX_VIOL': 17, 'DISR_WEAP': 18, 'NON_VIOL_TERRIT_TRANSFER': 19, 'GRENADE': 20, 'HQ_ESTABLISHED': 21, 'SUIC_BOMB': 22, 'AGREEMENT': 23, 'CHEM_WEAP': 24}\n",
            "{0: 'ART_MISS_ATTACK', 1: 'PEACE_PROTEST', 2: 'VIOL_DEMONSTR', 3: 'ATTACK', 4: 'AIR_STRIKE', 5: 'ARMED_CLASH', 6: 'MOB_VIOL', 7: 'PROTEST_WITH_INTER', 8: 'FORCE_AGAINST_PROTEST', 9: 'PROPERTY_DISTRUCT', 10: 'OTHER', 11: 'REM_EXPLOS', 12: 'GOV_REGAINS_TERIT', 13: 'ABDUCT_DISSAP', 14: 'CHANGE_TO_GROUP_ACT', 15: 'NON_STATE_ACTOR_OVERTAKES_TER', 16: 'ARREST', 17: 'SEX_VIOL', 18: 'DISR_WEAP', 19: 'NON_VIOL_TERRIT_TRANSFER', 20: 'GRENADE', 21: 'HQ_ESTABLISHED', 22: 'SUIC_BOMB', 23: 'AGREEMENT', 24: 'CHEM_WEAP'}\n"
          ]
        }
      ]
    },
    {
      "cell_type": "code",
      "metadata": {
        "id": "yaPe1gYgn7IL"
      },
      "source": [
        ""
      ],
      "execution_count": 23,
      "outputs": []
    },
    {
      "cell_type": "markdown",
      "metadata": {
        "id": "5sESUy_KFLOR"
      },
      "source": [
        "## Event Frequency comparison w/ Original and Augmented Data."
      ]
    },
    {
      "cell_type": "code",
      "metadata": {
        "id": "39IIthC8mwWV",
        "colab": {
          "base_uri": "https://localhost:8080/"
        },
        "outputId": "696b114c-d2da-4f02-fdec-a44edb02cfcc"
      },
      "source": [
        "df.sub_event_type.value_counts()"
      ],
      "execution_count": 24,
      "outputs": [
        {
          "output_type": "execute_result",
          "data": {
            "text/plain": [
              "PEACE_PROTEST                    329399\n",
              "ARMED_CLASH                      239828\n",
              "ATTACK                           132202\n",
              "ART_MISS_ATTACK                   64743\n",
              "MOB_VIOL                          42079\n",
              "VIOL_DEMONSTR                     41003\n",
              "AIR_STRIKE                        34020\n",
              "PROTEST_WITH_INTER                31784\n",
              "REM_EXPLOS                        30620\n",
              "PROPERTY_DISTRUCT                 24315\n",
              "ABDUCT_DISSAP                     14624\n",
              "ARREST                             8668\n",
              "CHANGE_TO_GROUP_ACT                7925\n",
              "DISR_WEAP                          7499\n",
              "GOV_REGAINS_TERIT                  6148\n",
              "OTHER                              5353\n",
              "FORCE_AGAINST_PROTEST              3098\n",
              "GRENADE                            2948\n",
              "NON_STATE_ACTOR_OVERTAKES_TER      2670\n",
              "SEX_VIOL                           2196\n",
              "AGREEMENT                          1460\n",
              "NON_VIOL_TERRIT_TRANSFER            989\n",
              "SUIC_BOMB                           635\n",
              "HQ_ESTABLISHED                      311\n",
              "CHEM_WEAP                            10\n",
              "Name: sub_event_type, dtype: int64"
            ]
          },
          "metadata": {},
          "execution_count": 24
        }
      ]
    },
    {
      "cell_type": "code",
      "metadata": {
        "id": "ZRGllXjAmwTp",
        "colab": {
          "base_uri": "https://localhost:8080/"
        },
        "outputId": "5bbdede3-f09e-41ae-beeb-87b2721aa06c"
      },
      "source": [
        "balanced_df.Labels.value_counts()"
      ],
      "execution_count": 25,
      "outputs": [
        {
          "output_type": "execute_result",
          "data": {
            "text/plain": [
              "REM_EXPLOS                       20000\n",
              "ATTACK                           20000\n",
              "PEACE_PROTEST                    20000\n",
              "PROPERTY_DISTRUCT                20000\n",
              "ART_MISS_ATTACK                  20000\n",
              "ARMED_CLASH                      20000\n",
              "PROTEST_WITH_INTER               20000\n",
              "MOB_VIOL                         20000\n",
              "VIOL_DEMONSTR                    20000\n",
              "AIR_STRIKE                       20000\n",
              "ABDUCT_DISSAP                    14624\n",
              "ARREST                            8668\n",
              "CHANGE_TO_GROUP_ACT               7925\n",
              "DISR_WEAP                         7499\n",
              "FORCE_AGAINST_PROTEST             6196\n",
              "GOV_REGAINS_TERIT                 6148\n",
              "NON_VIOL_TERRIT_TRANSFER          5934\n",
              "GRENADE                           5896\n",
              "OTHER                             5353\n",
              "NON_STATE_ACTOR_OVERTAKES_TER     5340\n",
              "SEX_VIOL                          4392\n",
              "SUIC_BOMB                         3810\n",
              "AGREEMENT                         2920\n",
              "HQ_ESTABLISHED                    1866\n",
              "CHEM_WEAP                           60\n",
              "Name: Labels, dtype: int64"
            ]
          },
          "metadata": {},
          "execution_count": 25
        }
      ]
    },
    {
      "cell_type": "code",
      "metadata": {
        "id": "COm-MZgcmwY7",
        "colab": {
          "base_uri": "https://localhost:8080/",
          "height": 306
        },
        "outputId": "12a345e4-4f76-4f0e-c384-539e43f9c2aa"
      },
      "source": [
        "sns.set_theme(style=\"darkgrid\")\n",
        "x = df['sub_event_type'].value_counts()\n",
        "y = x.index\n",
        "plt.figure(figsize=(10, 5))\n",
        "g = sns.barplot(x=x, y=y)\n",
        "plt.title(\"Event Frequency Distribution [India]\", fontsize=20)\n",
        "plt.ylabel('Events', fontsize= 20)\n",
        "plt.yticks(fontsize=11)\n",
        "plt.xlabel('Frequency', fontsize=20)\n",
        "plt.xticks(fontsize=10)\n",
        "plt.show()"
      ],
      "execution_count": 26,
      "outputs": [
        {
          "output_type": "display_data",
          "data": {
            "image/png": "[encoded data removed]",
            "text/plain": [
              "<Figure size 720x360 with 1 Axes>"
            ]
          },
          "metadata": {}
        }
      ]
    },
    {
      "cell_type": "code",
      "metadata": {
        "id": "I9oHzQwImwbT",
        "colab": {
          "base_uri": "https://localhost:8080/",
          "height": 306
        },
        "outputId": "a93ebbc8-61ed-48c6-b308-f9971948df01"
      },
      "source": [
        "sns.set_theme(style=\"darkgrid\")\n",
        "x = balanced_df.Labels.value_counts()\n",
        "y = x.index\n",
        "plt.figure(figsize=(10, 5))\n",
        "g = sns.barplot(x=x, y=y)\n",
        "plt.title(\"Event Frequency Distribution [India]\", fontsize=20)\n",
        "plt.ylabel('Events', fontsize= 20)\n",
        "plt.yticks(fontsize=11)\n",
        "plt.xlabel('Frequency', fontsize=20)\n",
        "plt.xticks(fontsize=10)\n",
        "plt.show()"
      ],
      "execution_count": 27,
      "outputs": [
        {
          "output_type": "display_data",
          "data": {
            "image/png": "[encoded data removed]",
            "text/plain": [
              "<Figure size 720x360 with 1 Axes>"
            ]
          },
          "metadata": {}
        }
      ]
    },
    {
      "cell_type": "code",
      "metadata": {
        "id": "RioIAAu0umuN"
      },
      "source": [
        "balanced_df['NumLabel'] = balanced_df.Labels.apply(text_to_numerical_category)"
      ],
      "execution_count": 28,
      "outputs": []
    },
    {
      "cell_type": "code",
      "metadata": {
        "id": "vdeadXrgvKBe",
        "colab": {
          "base_uri": "https://localhost:8080/",
          "height": 203
        },
        "outputId": "65cf26bd-cf4a-4761-b711-a236ad36b3ef"
      },
      "source": [
        "balanced_df.head()"
      ],
      "execution_count": 29,
      "outputs": [
        {
          "output_type": "execute_result",
          "data": {
            "text/html": [
              "<div>\n",
              "<style scoped>\n",
              "    .dataframe tbody tr th:only-of-type {\n",
              "        vertical-align: middle;\n",
              "    }\n",
              "\n",
              "    .dataframe tbody tr th {\n",
              "        vertical-align: top;\n",
              "    }\n",
              "\n",
              "    .dataframe thead th {\n",
              "        text-align: right;\n",
              "    }\n",
              "</style>\n",
              "<table border=\"1\" class=\"dataframe\">\n",
              "  <thead>\n",
              "    <tr style=\"text-align: right;\">\n",
              "      <th></th>\n",
              "      <th>Text</th>\n",
              "      <th>Labels</th>\n",
              "      <th>NumLabel</th>\n",
              "    </tr>\n",
              "  </thead>\n",
              "  <tbody>\n",
              "    <tr>\n",
              "      <th>0</th>\n",
              "      <td>the OSCE SMM observed a total of projectilesex...</td>\n",
              "      <td>ART_MISS_ATTACK</td>\n",
              "      <td>0</td>\n",
              "    </tr>\n",
              "    <tr>\n",
              "      <th>1</th>\n",
              "      <td>proHouthi forces reportedly shelled Al Jidham ...</td>\n",
              "      <td>ART_MISS_ATTACK</td>\n",
              "      <td>0</td>\n",
              "    </tr>\n",
              "    <tr>\n",
              "      <th>2</th>\n",
              "      <td>regime forces shelled Sarja town in Idleb coun...</td>\n",
              "      <td>ART_MISS_ATTACK</td>\n",
              "      <td>0</td>\n",
              "    </tr>\n",
              "    <tr>\n",
              "      <th>3</th>\n",
              "      <td>Regime forces shelled Um Jalal and its surroun...</td>\n",
              "      <td>ART_MISS_ATTACK</td>\n",
              "      <td>0</td>\n",
              "    </tr>\n",
              "    <tr>\n",
              "      <th>4</th>\n",
              "      <td>the OSCE SMM observed a total of explosions in...</td>\n",
              "      <td>ART_MISS_ATTACK</td>\n",
              "      <td>0</td>\n",
              "    </tr>\n",
              "  </tbody>\n",
              "</table>\n",
              "</div>"
            ],
            "text/plain": [
              "                                                Text           Labels  NumLabel\n",
              "0  the OSCE SMM observed a total of projectilesex...  ART_MISS_ATTACK         0\n",
              "1  proHouthi forces reportedly shelled Al Jidham ...  ART_MISS_ATTACK         0\n",
              "2  regime forces shelled Sarja town in Idleb coun...  ART_MISS_ATTACK         0\n",
              "3  Regime forces shelled Um Jalal and its surroun...  ART_MISS_ATTACK         0\n",
              "4  the OSCE SMM observed a total of explosions in...  ART_MISS_ATTACK         0"
            ]
          },
          "metadata": {},
          "execution_count": 29
        }
      ]
    },
    {
      "cell_type": "markdown",
      "metadata": {
        "id": "NmmYyLu3y7jk"
      },
      "source": [
        "# RoBERTa"
      ]
    },
    {
      "cell_type": "code",
      "metadata": {
        "id": "nGXO12YR7Pio"
      },
      "source": [
        "max_classes = len(balanced_df.Labels.unique())\n",
        "max_length = 128"
      ],
      "execution_count": 30,
      "outputs": []
    },
    {
      "cell_type": "code",
      "metadata": {
        "id": "LbTDnw_feFL5",
        "colab": {
          "base_uri": "https://localhost:8080/",
          "height": 145,
          "referenced_widgets": [
            "afcc1eb6183a45f387a402ea5ef651bb",
            "0950046fda7840ddac96ee0150c95b39",
            "ba327c83373d4b159395f424f75443a0",
            "2e5ee4bf7c4540e787b2fe9870cd0136",
            "46ab10de38684a0e9a767caf90daabab",
            "3fbbfc044f9a42b59b2db2a1ecd0ed02",
            "0eb055606ac64169a7fc06a7716ad269",
            "c89c92249de447c38c2f07ce9cfd60fe",
            "f4c09149f9a747f297782505236c592a",
            "931947b6ca5a4324987b432b79716f4f",
            "1fbe2876141942ba95c2c61e8b4de6dd",
            "b996c5a79c5d402a95c3ff97dff4fe13",
            "ae5fe2d427fb4601a8fa66105cb23c7a",
            "39a9e71082a242eca09e680bd16ea2ee",
            "aee6a695177345c3b19d112527497438",
            "058f5b469889484f8e08b207c82aed2f",
            "57acb23f26364f1196fdb1cf745a19f8",
            "435dbc0225ef49f0a2bb2971372a3b6b",
            "5f4c2738290b4d96aa5baba7af48275e",
            "afd28617925346e79d92ca8ebac06b99",
            "c59594a9c4f344dea87b9523cecf7d54",
            "885a26e114e54455b27952801538ef40",
            "6f5b079b4f2e4470b6fac5b777610f2f",
            "fc48a333d80d414fa1a91825c0409b12",
            "6197b485666b465e86164a1c4e995eb4",
            "7a9b5ba3ef0f46d1a4af9f59a0f4933f",
            "5333bc8d28b548d2a751c2e51ea504f1",
            "22a647349491450aa9de57d41b064582",
            "c38d41cf13cd47ce8ee056abfeffbb98",
            "7d5dedeb7e3f44158a8fd5885aff418d",
            "bca4e89ab6244c6e84b616e4166a049f",
            "02030603c32842319f95120500098cee",
            "7d4f1206217846208898a43c81e8d33f",
            "8fa1b866216a4a1eadfce5ed44ca010a",
            "f6a86f27a135421da5a25d2e14583245",
            "35df4be2b9de43b6aa1de0034213e294",
            "712903ef38b44c5bb34f4173f865b6a9",
            "b0ec5af9e7504f15bd83f41419f4c3dc",
            "9051e7a2115442579fe62f945fb1fe8c",
            "fa20c33c300148a186f5916b35f1c1b8",
            "9f69e943bab643888e2e5e02835ac396",
            "f9f8a64ec789490c9e5ae1884a8fc434",
            "2cb8b51421fc4e98bccd42b8ac14cf33",
            "954dd44eca754f4db7de6ab2f727d4a2"
          ]
        },
        "outputId": "c82f6139-8e64-4f85-e5df-8329896629ae"
      },
      "source": [
        "from transformers import RobertaTokenizer, TFRobertaForSequenceClassification\n",
        "\n",
        "# Same as before\n",
        "checkpoint = \"roberta-base\"\n",
        "tokenizer = RobertaTokenizer.from_pretrained(checkpoint, max_length=max_length)"
      ],
      "execution_count": 31,
      "outputs": [
        {
          "output_type": "display_data",
          "data": {
            "application/vnd.jupyter.widget-view+json": {
              "model_id": "afcc1eb6183a45f387a402ea5ef651bb",
              "version_minor": 0,
              "version_major": 2
            },
            "text/plain": [
              "Downloading:   0%|          | 0.00/878k [00:00<?, ?B/s]"
            ]
          },
          "metadata": {}
        },
        {
          "output_type": "display_data",
          "data": {
            "application/vnd.jupyter.widget-view+json": {
              "model_id": "b996c5a79c5d402a95c3ff97dff4fe13",
              "version_minor": 0,
              "version_major": 2
            },
            "text/plain": [
              "Downloading:   0%|          | 0.00/446k [00:00<?, ?B/s]"
            ]
          },
          "metadata": {}
        },
        {
          "output_type": "display_data",
          "data": {
            "application/vnd.jupyter.widget-view+json": {
              "model_id": "6f5b079b4f2e4470b6fac5b777610f2f",
              "version_minor": 0,
              "version_major": 2
            },
            "text/plain": [
              "Downloading:   0%|          | 0.00/1.29M [00:00<?, ?B/s]"
            ]
          },
          "metadata": {}
        },
        {
          "output_type": "display_data",
          "data": {
            "application/vnd.jupyter.widget-view+json": {
              "model_id": "8fa1b866216a4a1eadfce5ed44ca010a",
              "version_minor": 0,
              "version_major": 2
            },
            "text/plain": [
              "Downloading:   0%|          | 0.00/481 [00:00<?, ?B/s]"
            ]
          },
          "metadata": {}
        }
      ]
    },
    {
      "cell_type": "markdown",
      "metadata": {
        "id": "29RpcASwkDL3"
      },
      "source": [
        "## Hyperparametrs"
      ]
    },
    {
      "cell_type": "code",
      "metadata": {
        "id": "sJO5JE9vkB9u"
      },
      "source": [
        "from tensorflow.keras.optimizers.schedules import PolynomialDecay\n",
        "\n",
        "EPOCHS = 3\n",
        "loss = tf.keras.losses.CategoricalCrossentropy(from_logits=False)\n",
        "batch_size = 32\n",
        "\n",
        "# num_train_steps =  len((balanced_df.NumLabel) // batch_size) * EPOCHS\n",
        "# lr_scheduler = PolynomialDecay(initial_learning_rate=5e-5,\n",
        "#                                end_learning_rate=0.,\n",
        "#                                decay_steps=num_train_steps\n",
        "#                                )\n",
        "\n",
        "from tensorflow.keras.optimizers import Adam\n",
        "opt = Adam(learning_rate=5e-5)"
      ],
      "execution_count": 32,
      "outputs": []
    },
    {
      "cell_type": "markdown",
      "metadata": {
        "id": "UdjV9VD8Fdbg"
      },
      "source": [
        "## Tokenization"
      ]
    },
    {
      "cell_type": "code",
      "metadata": {
        "id": "M4W8z-AUwM3a"
      },
      "source": [
        "from sklearn.utils import shuffle\n",
        "from sklearn.model_selection import train_test_split\n",
        "result_df = shuffle(balanced_df)"
      ],
      "execution_count": 33,
      "outputs": []
    },
    {
      "cell_type": "code",
      "metadata": {
        "id": "iNE_7jaknf-C",
        "colab": {
          "base_uri": "https://localhost:8080/",
          "height": 417
        },
        "outputId": "7c6549f8-3159-466f-cf81-079b06ac83ec"
      },
      "source": [
        "result_df"
      ],
      "execution_count": 34,
      "outputs": [
        {
          "output_type": "execute_result",
          "data": {
            "text/html": [
              "<div>\n",
              "<style scoped>\n",
              "    .dataframe tbody tr th:only-of-type {\n",
              "        vertical-align: middle;\n",
              "    }\n",
              "\n",
              "    .dataframe tbody tr th {\n",
              "        vertical-align: top;\n",
              "    }\n",
              "\n",
              "    .dataframe thead th {\n",
              "        text-align: right;\n",
              "    }\n",
              "</style>\n",
              "<table border=\"1\" class=\"dataframe\">\n",
              "  <thead>\n",
              "    <tr style=\"text-align: right;\">\n",
              "      <th></th>\n",
              "      <th>Text</th>\n",
              "      <th>Labels</th>\n",
              "      <th>NumLabel</th>\n",
              "    </tr>\n",
              "  </thead>\n",
              "  <tbody>\n",
              "    <tr>\n",
              "      <th>260066</th>\n",
              "      <td>the police diffused a hand grenade found at Ko...</td>\n",
              "      <td>DISR_WEAP</td>\n",
              "      <td>18</td>\n",
              "    </tr>\n",
              "    <tr>\n",
              "      <th>104107</th>\n",
              "      <td>the OSCE SMM observed a total of explosionsbur...</td>\n",
              "      <td>ARMED_CLASH</td>\n",
              "      <td>5</td>\n",
              "    </tr>\n",
              "    <tr>\n",
              "      <th>96616</th>\n",
              "      <td>regime warplanes carried out air raids the tow...</td>\n",
              "      <td>AIR_STRIKE</td>\n",
              "      <td>4</td>\n",
              "    </tr>\n",
              "    <tr>\n",
              "      <th>66388</th>\n",
              "      <td>some assailants attacked one of the teachers t...</td>\n",
              "      <td>ATTACK</td>\n",
              "      <td>3</td>\n",
              "    </tr>\n",
              "    <tr>\n",
              "      <th>111450</th>\n",
              "      <td>in Belford Roxo Rio de Janeiro a shootout took...</td>\n",
              "      <td>ARMED_CLASH</td>\n",
              "      <td>5</td>\n",
              "    </tr>\n",
              "    <tr>\n",
              "      <th>...</th>\n",
              "      <td>...</td>\n",
              "      <td>...</td>\n",
              "      <td>...</td>\n",
              "    </tr>\n",
              "    <tr>\n",
              "      <th>33859</th>\n",
              "      <td>Around  business owners as well as employers a...</td>\n",
              "      <td>PEACE_PROTEST</td>\n",
              "      <td>1</td>\n",
              "    </tr>\n",
              "    <tr>\n",
              "      <th>65339</th>\n",
              "      <td>in Comayaguela  unidentified armed men in a ca...</td>\n",
              "      <td>ATTACK</td>\n",
              "      <td>3</td>\n",
              "    </tr>\n",
              "    <tr>\n",
              "      <th>179338</th>\n",
              "      <td>proHouthi forces claimed to have shot down a S...</td>\n",
              "      <td>PROPERTY_DISTRUCT</td>\n",
              "      <td>9</td>\n",
              "    </tr>\n",
              "    <tr>\n",
              "      <th>256796</th>\n",
              "      <td>As reported August several NAF rebels beat and...</td>\n",
              "      <td>SEX_VIOL</td>\n",
              "      <td>17</td>\n",
              "    </tr>\n",
              "    <tr>\n",
              "      <th>84672</th>\n",
              "      <td>July  regime warplanes carried out airstrikes ...</td>\n",
              "      <td>AIR_STRIKE</td>\n",
              "      <td>4</td>\n",
              "    </tr>\n",
              "  </tbody>\n",
              "</table>\n",
              "<p>286631 rows × 3 columns</p>\n",
              "</div>"
            ],
            "text/plain": [
              "                                                     Text  ... NumLabel\n",
              "260066  the police diffused a hand grenade found at Ko...  ...       18\n",
              "104107  the OSCE SMM observed a total of explosionsbur...  ...        5\n",
              "96616   regime warplanes carried out air raids the tow...  ...        4\n",
              "66388   some assailants attacked one of the teachers t...  ...        3\n",
              "111450  in Belford Roxo Rio de Janeiro a shootout took...  ...        5\n",
              "...                                                   ...  ...      ...\n",
              "33859   Around  business owners as well as employers a...  ...        1\n",
              "65339   in Comayaguela  unidentified armed men in a ca...  ...        3\n",
              "179338  proHouthi forces claimed to have shot down a S...  ...        9\n",
              "256796  As reported August several NAF rebels beat and...  ...       17\n",
              "84672   July  regime warplanes carried out airstrikes ...  ...        4\n",
              "\n",
              "[286631 rows x 3 columns]"
            ]
          },
          "metadata": {},
          "execution_count": 34
        }
      ]
    },
    {
      "cell_type": "code",
      "metadata": {
        "id": "4FExtMgrngbU"
      },
      "source": [
        "# result_df.to_csv('resampled-training-data.csv', index=True)"
      ],
      "execution_count": 35,
      "outputs": []
    },
    {
      "cell_type": "code",
      "metadata": {
        "id": "YppG_1X-pOJf"
      },
      "source": [
        "# result_df = pd.read_csv('/content/drive/MyDrive/Shared-Task-2021/resampled-training-data-ggod.csv', index_col=0)\n",
        "# result_df"
      ],
      "execution_count": 36,
      "outputs": []
    },
    {
      "cell_type": "markdown",
      "metadata": {
        "id": "WXkVWSGleknE"
      },
      "source": [
        "### Train-Test-Split"
      ]
    },
    {
      "cell_type": "code",
      "metadata": {
        "id": "WsCrEBRvy_7f"
      },
      "source": [
        "X_train, X_test, Y_train, Y_test = train_test_split(result_df.Text, result_df.NumLabel, test_size = 0.1, random_state = 42, stratify =result_df.NumLabel)"
      ],
      "execution_count": 37,
      "outputs": []
    },
    {
      "cell_type": "markdown",
      "metadata": {
        "id": "ofAI7IRhY-5U"
      },
      "source": [
        "### Label Encoding"
      ]
    },
    {
      "cell_type": "code",
      "metadata": {
        "id": "cTK-eIcsxFJ4",
        "colab": {
          "base_uri": "https://localhost:8080/"
        },
        "outputId": "db4da182-9091-43f0-955f-7f5e693d5345"
      },
      "source": [
        "max_classes = len(balanced_df.Labels.unique())\n",
        "print(max_classes)"
      ],
      "execution_count": 38,
      "outputs": [
        {
          "output_type": "stream",
          "name": "stdout",
          "text": [
            "25\n"
          ]
        }
      ]
    },
    {
      "cell_type": "code",
      "metadata": {
        "id": "96rMhFvyZDiF",
        "colab": {
          "base_uri": "https://localhost:8080/"
        },
        "outputId": "6b6adf97-22c2-465a-ab44-985452c69255"
      },
      "source": [
        "%%time\n",
        "encoded_labels_train = to_categorical(Y_train, num_classes=max_classes)\n",
        "encoded_labels_test = to_categorical(Y_test, num_classes=max_classes)"
      ],
      "execution_count": 39,
      "outputs": [
        {
          "output_type": "stream",
          "name": "stdout",
          "text": [
            "CPU times: user 11 ms, sys: 0 ns, total: 11 ms\n",
            "Wall time: 10.4 ms\n"
          ]
        }
      ]
    },
    {
      "cell_type": "markdown",
      "metadata": {
        "id": "-I3nP_Pge2bf"
      },
      "source": [
        "### Input-Tokenization"
      ]
    },
    {
      "cell_type": "markdown",
      "metadata": {
        "id": "xUGsPq1LBMjh"
      },
      "source": [
        "#### Defining RoBERTa Tokenizer"
      ]
    },
    {
      "cell_type": "code",
      "metadata": {
        "id": "l8kKl0q5dqLB"
      },
      "source": [
        "def roberta_encode(data,maximum_length) :\n",
        "  input_ids = []\n",
        "  attention_masks = []\n",
        "  \n",
        "\n",
        "  for i in tqdm(range(len(data))):\n",
        "      encoded = tokenizer.encode_plus(\n",
        "        \n",
        "        data[i],\n",
        "        add_special_tokens=True,\n",
        "        max_length=maximum_length,\n",
        "        pad_to_max_length=True,\n",
        "        \n",
        "        return_attention_mask=True,\n",
        "        \n",
        "      )\n",
        "      \n",
        "      input_ids.append(encoded['input_ids'])\n",
        "      attention_masks.append(encoded['attention_mask'])\n",
        "  return np.array(input_ids),np.array(attention_masks)"
      ],
      "execution_count": 40,
      "outputs": []
    },
    {
      "cell_type": "code",
      "metadata": {
        "colab": {
          "base_uri": "https://localhost:8080/"
        },
        "id": "pBWpRyRndqS7",
        "outputId": "966c6303-f431-49ce-c9b6-7f293cbd4173"
      },
      "source": [
        "%%time\n",
        "train_inputs,train_attention_masks = roberta_encode(list(X_train), max_length)"
      ],
      "execution_count": 41,
      "outputs": [
        {
          "output_type": "stream",
          "name": "stderr",
          "text": [
            "  0%|          | 0/257967 [00:00<?, ?it/s]Truncation was not explicitly activated but `max_length` is provided a specific value, please use `truncation=True` to explicitly truncate examples to max length. Defaulting to 'longest_first' truncation strategy. If you encode pairs of sequences (GLUE-style) with the tokenizer you can select this strategy more precisely by providing a specific strategy to `truncation`.\n",
            "/usr/local/lib/python3.7/dist-packages/transformers/tokenization_utils_base.py:2217: FutureWarning: The `pad_to_max_length` argument is deprecated and will be removed in a future version, use `padding=True` or `padding='longest'` to pad to the longest sequence in the batch, or use `padding='max_length'` to pad to a max length. In this case, you can give a specific length with `max_length` (e.g. `max_length=45`) or leave max_length to None to pad to the maximal input size of the model (e.g. 512 for Bert).\n",
            "  FutureWarning,\n",
            "100%|██████████| 257967/257967 [01:40<00:00, 2557.58it/s]\n"
          ]
        },
        {
          "output_type": "stream",
          "name": "stdout",
          "text": [
            "CPU times: user 1min 44s, sys: 1.85 s, total: 1min 46s\n",
            "Wall time: 1min 45s\n"
          ]
        }
      ]
    },
    {
      "cell_type": "code",
      "metadata": {
        "colab": {
          "base_uri": "https://localhost:8080/"
        },
        "id": "Wqq1aZIliQEH",
        "outputId": "1edffc86-1b76-4be9-d7bb-139167b997ee"
      },
      "source": [
        "test_inputs,test_attention_masks = roberta_encode(list(X_test), max_length)"
      ],
      "execution_count": 42,
      "outputs": [
        {
          "output_type": "stream",
          "name": "stderr",
          "text": [
            "  0%|          | 0/28664 [00:00<?, ?it/s]/usr/local/lib/python3.7/dist-packages/transformers/tokenization_utils_base.py:2217: FutureWarning: The `pad_to_max_length` argument is deprecated and will be removed in a future version, use `padding=True` or `padding='longest'` to pad to the longest sequence in the batch, or use `padding='max_length'` to pad to a max length. In this case, you can give a specific length with `max_length` (e.g. `max_length=45`) or leave max_length to None to pad to the maximal input size of the model (e.g. 512 for Bert).\n",
            "  FutureWarning,\n",
            "100%|██████████| 28664/28664 [00:10<00:00, 2731.83it/s]\n"
          ]
        }
      ]
    },
    {
      "cell_type": "code",
      "metadata": {
        "id": "2P-jVk3jcM5x"
      },
      "source": [
        "# train_inputs = tokenizer(list(X_train), padding=True, truncation=True, return_tensors=\"np\")\n",
        "\n",
        "# train_inputs[\"labels\"] = tf.reshape(tf.constant(encoded_labels_train), (len(list(X_train)), max_classes))"
      ],
      "execution_count": 43,
      "outputs": []
    },
    {
      "cell_type": "code",
      "metadata": {
        "colab": {
          "base_uri": "https://localhost:8080/"
        },
        "id": "KqSTLWGNsITm",
        "outputId": "d25a8113-d9e9-426d-cfb3-b3e61899faf3"
      },
      "source": [
        "print(f'Number of Samples in Training Set : {len(X_train)} Number of Samples in Validation Set: {len(X_test)} ')"
      ],
      "execution_count": 44,
      "outputs": [
        {
          "output_type": "stream",
          "name": "stdout",
          "text": [
            "Number of Samples in Training Set : 257967 Number of Samples in Validation Set: 28664 \n"
          ]
        }
      ]
    },
    {
      "cell_type": "code",
      "metadata": {
        "id": "rblMmvixeMLc"
      },
      "source": [
        "# test_inputs = tokenizer(list(X_test), padding=True, truncation=True, return_tensors=\"np\")\n",
        "\n",
        "# test_inputs[\"labels\"] = tf.reshape(tf.constant(encoded_labels_test), (len(list(X_test)), max_classes)) "
      ],
      "execution_count": 45,
      "outputs": []
    },
    {
      "cell_type": "markdown",
      "metadata": {
        "id": "xgMRaqNugD34"
      },
      "source": [
        "### Tensorflow-Input-Pipeline"
      ]
    },
    {
      "cell_type": "code",
      "metadata": {
        "id": "c3tvTGYHe7Ly"
      },
      "source": [
        "train_dataset = tf.data.Dataset.from_tensor_slices(((train_inputs,train_attention_masks), encoded_labels_train)).shuffle(70000).batch(batch_size).prefetch(tf.data.AUTOTUNE)\n",
        "test_dataset = tf.data.Dataset.from_tensor_slices(((test_inputs,test_attention_masks), encoded_labels_test)).shuffle(70000).batch(batch_size).prefetch(tf.data.AUTOTUNE)"
      ],
      "execution_count": 46,
      "outputs": []
    },
    {
      "cell_type": "markdown",
      "metadata": {
        "id": "ad-repjSjD7V"
      },
      "source": [
        "## Custom Callbacks"
      ]
    },
    {
      "cell_type": "code",
      "metadata": {
        "colab": {
          "base_uri": "https://localhost:8080/"
        },
        "id": "lqS4McM3eZg_",
        "outputId": "d03ae760-2add-4e3e-f90b-55f7a7e2d2a6"
      },
      "source": [
        "from tensorflow.keras.callbacks import ModelCheckpoint, EarlyStopping\n",
        "!mkdir checkpoints\n",
        "\n",
        "MyCheckpoint = ModelCheckpoint('RoBERTa-base.h5',\n",
        "                               monitor = 'val_categorical_accuracy',\n",
        "                               verbose = 1,\n",
        "                               save_best_only = False,\n",
        "                               mode='auto',\n",
        "                               save_weights_only = True)\n",
        "\n",
        "MyEarlyStopping = EarlyStopping(patience =1,\n",
        "                                monitor='val_categorical_accuracy',\n",
        "                                restore_best_weights = True,\n",
        "                                verbose = 1)\n",
        "\n",
        "import os\n",
        "os.path.exists('/content/checkpoints')"
      ],
      "execution_count": 47,
      "outputs": [
        {
          "output_type": "execute_result",
          "data": {
            "text/plain": [
              "True"
            ]
          },
          "metadata": {},
          "execution_count": 47
        }
      ]
    },
    {
      "cell_type": "markdown",
      "metadata": {
        "id": "7OwClub9p6qt"
      },
      "source": [
        "## Class Weight Balancing"
      ]
    },
    {
      "cell_type": "code",
      "metadata": {
        "colab": {
          "base_uri": "https://localhost:8080/"
        },
        "id": "9IxTfcr2p_Ct",
        "outputId": "e5829dc4-a5e4-417d-f7ac-c84b406ea464"
      },
      "source": [
        "from sklearn.utils import class_weight\n",
        "class_weights_array = class_weight.compute_class_weight('balanced'\n",
        "                                               ,np.unique(balanced_df.NumLabel)\n",
        "                                               ,balanced_df.NumLabel)\n",
        "\n",
        "class_weights_array"
      ],
      "execution_count": 48,
      "outputs": [
        {
          "output_type": "execute_result",
          "data": {
            "text/plain": [
              "array([  0.573262  ,   0.573262  ,   0.573262  ,   0.573262  ,\n",
              "         0.573262  ,   0.573262  ,   0.573262  ,   0.573262  ,\n",
              "         1.85042608,   0.573262  ,   2.14183449,   0.573262  ,\n",
              "         1.86487313,   0.78400164,   1.44671798,   2.14704869,\n",
              "         1.32270881,   2.6104827 ,   1.52890252,   1.93212673,\n",
              "         1.94457938,   6.14428725,   3.00924934,   3.92645205,\n",
              "       191.08733333])"
            ]
          },
          "metadata": {},
          "execution_count": 48
        }
      ]
    },
    {
      "cell_type": "code",
      "metadata": {
        "colab": {
          "base_uri": "https://localhost:8080/"
        },
        "id": "cX6T25lxp_Gq",
        "outputId": "8e95d3cf-688b-400f-d3e2-cbfef8597cee"
      },
      "source": [
        "class_weights = {i : class_weights_array[i] for i in range(len(class_weights_array))}\n",
        "class_weights"
      ],
      "execution_count": 49,
      "outputs": [
        {
          "output_type": "execute_result",
          "data": {
            "text/plain": [
              "{0: 0.573262,\n",
              " 1: 0.573262,\n",
              " 2: 0.573262,\n",
              " 3: 0.573262,\n",
              " 4: 0.573262,\n",
              " 5: 0.573262,\n",
              " 6: 0.573262,\n",
              " 7: 0.573262,\n",
              " 8: 1.8504260813428017,\n",
              " 9: 0.573262,\n",
              " 10: 2.141834485335326,\n",
              " 11: 0.573262,\n",
              " 12: 1.8648731294729994,\n",
              " 13: 0.7840016411378555,\n",
              " 14: 1.4467179810725552,\n",
              " 15: 2.1470486891385767,\n",
              " 16: 1.322708814028611,\n",
              " 17: 2.6104826958105645,\n",
              " 18: 1.528902520336045,\n",
              " 19: 1.9321267273340075,\n",
              " 20: 1.9445793758480325,\n",
              " 21: 6.144287245444802,\n",
              " 22: 3.009249343832021,\n",
              " 23: 3.9264520547945208,\n",
              " 24: 191.08733333333333}"
            ]
          },
          "metadata": {},
          "execution_count": 49
        }
      ]
    },
    {
      "cell_type": "markdown",
      "metadata": {
        "id": "5EZGnwQUI903"
      },
      "source": [
        "## Building Model"
      ]
    },
    {
      "cell_type": "markdown",
      "metadata": {
        "id": "yfRot3lMVbhd"
      },
      "source": [
        "### Defining Model Metrics"
      ]
    },
    {
      "cell_type": "code",
      "metadata": {
        "id": "gL7Yk_xOVYP4"
      },
      "source": [
        "# !pip install tensorflow_addons\n",
        "# import tensorflow_addons as tfa\n",
        "\n",
        "# macro_f1 = tfa.metrics.F1Score(num_classes=max_classes, average='macro')\n",
        "# micro_f1 = tfa.metrics.F1Score(num_classes=max_classes, average='micro')\n",
        "# weighted_f1 = tfa.metrics.F1Score(num_classes=max_classes, average='weighted')\n",
        "precision = tf.metrics.Precision()\n",
        "recall = tf.metrics.Recall()\n",
        "categorical_accuracry = tf.metrics.CategoricalAccuracy()\n",
        "\n",
        "class F1_metric(tf.keras.metrics.Metric):\n",
        "    def __init__(self, name='f1_score', **kwargs):\n",
        "        super().__init__(name=name, **kwargs)\n",
        "        # Initialize our metric by initializing the two metrics it's based on:\n",
        "        # Precision and Recall\n",
        "        self.precision = tf.keras.metrics.Precision()\n",
        "        self.recall = tf.keras.metrics.Recall()\n",
        "\n",
        "    def update_state(self, y_true, y_pred, sample_weight=None):\n",
        "        # Update our metric by updating the two metrics it's based on\n",
        "        self.precision.update_state(y_true, y_pred, sample_weight)\n",
        "        self.recall.update_state(y_true, y_pred, sample_weight)\n",
        "\n",
        "    def reset_state(self):\n",
        "        self.precision.reset_state()\n",
        "        self.recall.reset_state()\n",
        "\n",
        "    def result(self):\n",
        "        # To get the F1 result, we compute the harmonic mean of the current\n",
        "        # precision and recall\n",
        "        return 2 / ((1 / self.precision.result()) + (1 / self.recall.result())) \n",
        "\n",
        "F1Score = F1_metric()\n",
        "metrics = [categorical_accuracry, F1Score]\n"
      ],
      "execution_count": 50,
      "outputs": []
    },
    {
      "cell_type": "markdown",
      "metadata": {
        "id": "9SScGBGIe6Uc"
      },
      "source": [
        "### Custom Model Creation"
      ]
    },
    {
      "cell_type": "code",
      "metadata": {
        "id": "Qt3tG8g2e5yG"
      },
      "source": [
        "def create_model(roberta_model):\n",
        "  input_ids = tf.keras.Input(shape=(max_length,),dtype='int32')\n",
        "  attention_masks = tf.keras.Input(shape=(max_length,),dtype='int32')\n",
        "  \n",
        "  output = roberta_model([input_ids,attention_masks])\n",
        "  output = output[1]\n",
        "  \n",
        "#   output = tf.keras.layers.Dense(128,activation='relu',)(output)\n",
        "#   output = tf.keras.layers.Dropout(0.2)(output)\n",
        "#   output = tf.keras.layers.BatchNormalization()(output)\n",
        "\n",
        "#   output = tf.keras.layers.Dense(64,activation='relu',)(output)\n",
        "#   output = tf.keras.layers.Dropout(0.2)(output)\n",
        "#   output = tf.keras.layers.BatchNormalization()(output)\n",
        "\n",
        "  output = tf.keras.layers.Dense(32,activation='relu')(output)\n",
        "  output = tf.keras.layers.Dropout(0.2)(output)\n",
        "  \n",
        "  output = tf.keras.layers.Dense(units=max_classes,activation='softmax')(output)\n",
        "  model = tf.keras.models.Model(inputs = [input_ids,attention_masks],outputs = output)\n",
        "  model.compile(optimizer= opt,\n",
        "              loss= loss,\n",
        "              metrics = metrics)\n",
        "  return model"
      ],
      "execution_count": 51,
      "outputs": []
    },
    {
      "cell_type": "markdown",
      "metadata": {
        "id": "uzyrfYpuhDI1"
      },
      "source": [
        "## Model Summary"
      ]
    },
    {
      "cell_type": "code",
      "metadata": {
        "colab": {
          "base_uri": "https://localhost:8080/",
          "height": 506,
          "referenced_widgets": [
            "1d982d34ef714f2295e03fa801f14454",
            "c23a66a9a04d4c72b7d34b46745e1196",
            "ca99c723667c440d906b7280625781cd",
            "58cddea78cea4203ae960f88b61f62b6",
            "6946c74cf02f45f99fa0ada944b42255",
            "51fea8516c824db98c423d96b8fcb79d",
            "790753b6d6ad47c989a65bbb332751fd",
            "42952e3ea20f4cfeb188ba071b4620f8",
            "65cb2c1c6cf04402ac24b708e324c085",
            "c8f0a6ba0b954608a8dd96ef5e9f632a",
            "ce4a53835e4a497f87bfec5e7f194be1"
          ]
        },
        "id": "IoEkHTLig_Y3",
        "outputId": "3c9cfffc-9143-424e-d0c0-674471b7759c"
      },
      "source": [
        "from transformers import TFRobertaModel\n",
        "roberta_model = TFRobertaModel.from_pretrained('roberta-base')\n",
        "\n",
        "model = create_model(roberta_model)\n",
        "# model.layers[2].trainable = False\n",
        "model.summary()"
      ],
      "execution_count": 52,
      "outputs": [
        {
          "output_type": "display_data",
          "data": {
            "application/vnd.jupyter.widget-view+json": {
              "model_id": "1d982d34ef714f2295e03fa801f14454",
              "version_minor": 0,
              "version_major": 2
            },
            "text/plain": [
              "Downloading:   0%|          | 0.00/627M [00:00<?, ?B/s]"
            ]
          },
          "metadata": {}
        },
        {
          "output_type": "stream",
          "name": "stderr",
          "text": [
            "Some layers from the model checkpoint at roberta-base were not used when initializing TFRobertaModel: ['lm_head']\n",
            "- This IS expected if you are initializing TFRobertaModel from the checkpoint of a model trained on another task or with another architecture (e.g. initializing a BertForSequenceClassification model from a BertForPreTraining model).\n",
            "- This IS NOT expected if you are initializing TFRobertaModel from the checkpoint of a model that you expect to be exactly identical (initializing a BertForSequenceClassification model from a BertForSequenceClassification model).\n",
            "All the layers of TFRobertaModel were initialized from the model checkpoint at roberta-base.\n",
            "If your task is similar to the task the model of the checkpoint was trained on, you can already use TFRobertaModel for predictions without further training.\n"
          ]
        },
        {
          "output_type": "stream",
          "name": "stdout",
          "text": [
            "Model: \"model\"\n",
            "__________________________________________________________________________________________________\n",
            "Layer (type)                    Output Shape         Param #     Connected to                     \n",
            "==================================================================================================\n",
            "input_1 (InputLayer)            [(None, 128)]        0                                            \n",
            "__________________________________________________________________________________________________\n",
            "input_2 (InputLayer)            [(None, 128)]        0                                            \n",
            "__________________________________________________________________________________________________\n",
            "tf_roberta_model (TFRobertaMode TFBaseModelOutputWit 124645632   input_1[0][0]                    \n",
            "                                                                 input_2[0][0]                    \n",
            "__________________________________________________________________________________________________\n",
            "dense (Dense)                   (None, 32)           24608       tf_roberta_model[0][1]           \n",
            "__________________________________________________________________________________________________\n",
            "dropout_37 (Dropout)            (None, 32)           0           dense[0][0]                      \n",
            "__________________________________________________________________________________________________\n",
            "dense_1 (Dense)                 (None, 25)           825         dropout_37[0][0]                 \n",
            "==================================================================================================\n",
            "Total params: 124,671,065\n",
            "Trainable params: 124,671,065\n",
            "Non-trainable params: 0\n",
            "__________________________________________________________________________________________________\n"
          ]
        }
      ]
    },
    {
      "cell_type": "markdown",
      "metadata": {
        "id": "RY9z1kOBAtky"
      },
      "source": [
        "## Model Training"
      ]
    },
    {
      "cell_type": "code",
      "metadata": {
        "id": "6OUMHl_3At7R",
        "colab": {
          "base_uri": "https://localhost:8080/",
          "height": 626
        },
        "outputId": "11a618e6-bc1e-4762-d2c8-e3c160a2192c"
      },
      "source": [
        "%%time\n",
        "history = model.fit([train_inputs,train_attention_masks], encoded_labels_train, \n",
        "                    validation_data=([test_inputs, test_attention_masks], encoded_labels_test),\n",
        "                    epochs = EPOCHS,\n",
        "                    batch_size = 32,\n",
        "                    verbose = 1,\n",
        "                    class_weight=class_weights,\n",
        "                    callbacks = [MyCheckpoint, MyEarlyStopping]\n",
        "                    )"
      ],
      "execution_count": 53,
      "outputs": [
        {
          "output_type": "stream",
          "name": "stdout",
          "text": [
            "Epoch 1/3\n",
            "8062/8062 [==============================] - 3936s 487ms/step - loss: 0.6939 - categorical_accuracy: 0.8060 - f1_score: 0.8051 - val_loss: 0.4326 - val_categorical_accuracy: 0.9178 - val_f1_score: 0.8892\n",
            "\n",
            "Epoch 00001: saving model to RoBERTa-base.h5\n",
            "Epoch 2/3\n",
            "6726/8062 [========================>.....] - ETA: 10:26 - loss: 0.4626 - categorical_accuracy: 0.8793 - f1_score: 0.8776"
          ]
        },
        {
          "output_type": "error",
          "ename": "KeyboardInterrupt",
          "evalue": "ignored",
          "traceback": [
            "\u001b[0;31m---------------------------------------------------------------------------\u001b[0m",
            "\u001b[0;31mKeyboardInterrupt\u001b[0m                         Traceback (most recent call last)",
            "\u001b[0;32m<ipython-input-53-d856152b72f3>\u001b[0m in \u001b[0;36m<module>\u001b[0;34m()\u001b[0m\n\u001b[0;32m----> 1\u001b[0;31m \u001b[0mget_ipython\u001b[0m\u001b[0;34m(\u001b[0m\u001b[0;34m)\u001b[0m\u001b[0;34m.\u001b[0m\u001b[0mrun_cell_magic\u001b[0m\u001b[0;34m(\u001b[0m\u001b[0;34m'time'\u001b[0m\u001b[0;34m,\u001b[0m \u001b[0;34m''\u001b[0m\u001b[0;34m,\u001b[0m \u001b[0;34m'history = model.fit([train_inputs,train_attention_masks], encoded_labels_train, \\n                    validation_data=([test_inputs, test_attention_masks], encoded_labels_test),\\n                    epochs = EPOCHS,\\n                    batch_size = 32,\\n                    verbose = 1,\\n                    class_weight=class_weights,\\n                    callbacks = [MyCheckpoint, MyEarlyStopping]\\n                    )'\u001b[0m\u001b[0;34m)\u001b[0m\u001b[0;34m\u001b[0m\u001b[0;34m\u001b[0m\u001b[0m\n\u001b[0m",
            "\u001b[0;32m/usr/local/lib/python3.7/dist-packages/IPython/core/interactiveshell.py\u001b[0m in \u001b[0;36mrun_cell_magic\u001b[0;34m(self, magic_name, line, cell)\u001b[0m\n\u001b[1;32m   2115\u001b[0m             \u001b[0mmagic_arg_s\u001b[0m \u001b[0;34m=\u001b[0m \u001b[0mself\u001b[0m\u001b[0;34m.\u001b[0m\u001b[0mvar_expand\u001b[0m\u001b[0;34m(\u001b[0m\u001b[0mline\u001b[0m\u001b[0;34m,\u001b[0m \u001b[0mstack_depth\u001b[0m\u001b[0;34m)\u001b[0m\u001b[0;34m\u001b[0m\u001b[0;34m\u001b[0m\u001b[0m\n\u001b[1;32m   2116\u001b[0m             \u001b[0;32mwith\u001b[0m \u001b[0mself\u001b[0m\u001b[0;34m.\u001b[0m\u001b[0mbuiltin_trap\u001b[0m\u001b[0;34m:\u001b[0m\u001b[0;34m\u001b[0m\u001b[0;34m\u001b[0m\u001b[0m\n\u001b[0;32m-> 2117\u001b[0;31m                 \u001b[0mresult\u001b[0m \u001b[0;34m=\u001b[0m \u001b[0mfn\u001b[0m\u001b[0;34m(\u001b[0m\u001b[0mmagic_arg_s\u001b[0m\u001b[0;34m,\u001b[0m \u001b[0mcell\u001b[0m\u001b[0;34m)\u001b[0m\u001b[0;34m\u001b[0m\u001b[0;34m\u001b[0m\u001b[0m\n\u001b[0m\u001b[1;32m   2118\u001b[0m             \u001b[0;32mreturn\u001b[0m \u001b[0mresult\u001b[0m\u001b[0;34m\u001b[0m\u001b[0;34m\u001b[0m\u001b[0m\n\u001b[1;32m   2119\u001b[0m \u001b[0;34m\u001b[0m\u001b[0m\n",
            "\u001b[0;32m<decorator-gen-53>\u001b[0m in \u001b[0;36mtime\u001b[0;34m(self, line, cell, local_ns)\u001b[0m\n",
            "\u001b[0;32m/usr/local/lib/python3.7/dist-packages/IPython/core/magic.py\u001b[0m in \u001b[0;36m<lambda>\u001b[0;34m(f, *a, **k)\u001b[0m\n\u001b[1;32m    186\u001b[0m     \u001b[0;31m# but it's overkill for just that one bit of state.\u001b[0m\u001b[0;34m\u001b[0m\u001b[0;34m\u001b[0m\u001b[0;34m\u001b[0m\u001b[0m\n\u001b[1;32m    187\u001b[0m     \u001b[0;32mdef\u001b[0m \u001b[0mmagic_deco\u001b[0m\u001b[0;34m(\u001b[0m\u001b[0marg\u001b[0m\u001b[0;34m)\u001b[0m\u001b[0;34m:\u001b[0m\u001b[0;34m\u001b[0m\u001b[0;34m\u001b[0m\u001b[0m\n\u001b[0;32m--> 188\u001b[0;31m         \u001b[0mcall\u001b[0m \u001b[0;34m=\u001b[0m \u001b[0;32mlambda\u001b[0m \u001b[0mf\u001b[0m\u001b[0;34m,\u001b[0m \u001b[0;34m*\u001b[0m\u001b[0ma\u001b[0m\u001b[0;34m,\u001b[0m \u001b[0;34m**\u001b[0m\u001b[0mk\u001b[0m\u001b[0;34m:\u001b[0m \u001b[0mf\u001b[0m\u001b[0;34m(\u001b[0m\u001b[0;34m*\u001b[0m\u001b[0ma\u001b[0m\u001b[0;34m,\u001b[0m \u001b[0;34m**\u001b[0m\u001b[0mk\u001b[0m\u001b[0;34m)\u001b[0m\u001b[0;34m\u001b[0m\u001b[0;34m\u001b[0m\u001b[0m\n\u001b[0m\u001b[1;32m    189\u001b[0m \u001b[0;34m\u001b[0m\u001b[0m\n\u001b[1;32m    190\u001b[0m         \u001b[0;32mif\u001b[0m \u001b[0mcallable\u001b[0m\u001b[0;34m(\u001b[0m\u001b[0marg\u001b[0m\u001b[0;34m)\u001b[0m\u001b[0;34m:\u001b[0m\u001b[0;34m\u001b[0m\u001b[0;34m\u001b[0m\u001b[0m\n",
            "\u001b[0;32m/usr/local/lib/python3.7/dist-packages/IPython/core/magics/execution.py\u001b[0m in \u001b[0;36mtime\u001b[0;34m(self, line, cell, local_ns)\u001b[0m\n\u001b[1;32m   1191\u001b[0m         \u001b[0;32melse\u001b[0m\u001b[0;34m:\u001b[0m\u001b[0;34m\u001b[0m\u001b[0;34m\u001b[0m\u001b[0m\n\u001b[1;32m   1192\u001b[0m             \u001b[0mst\u001b[0m \u001b[0;34m=\u001b[0m \u001b[0mclock2\u001b[0m\u001b[0;34m(\u001b[0m\u001b[0;34m)\u001b[0m\u001b[0;34m\u001b[0m\u001b[0;34m\u001b[0m\u001b[0m\n\u001b[0;32m-> 1193\u001b[0;31m             \u001b[0mexec\u001b[0m\u001b[0;34m(\u001b[0m\u001b[0mcode\u001b[0m\u001b[0;34m,\u001b[0m \u001b[0mglob\u001b[0m\u001b[0;34m,\u001b[0m \u001b[0mlocal_ns\u001b[0m\u001b[0;34m)\u001b[0m\u001b[0;34m\u001b[0m\u001b[0;34m\u001b[0m\u001b[0m\n\u001b[0m\u001b[1;32m   1194\u001b[0m             \u001b[0mend\u001b[0m \u001b[0;34m=\u001b[0m \u001b[0mclock2\u001b[0m\u001b[0;34m(\u001b[0m\u001b[0;34m)\u001b[0m\u001b[0;34m\u001b[0m\u001b[0;34m\u001b[0m\u001b[0m\n\u001b[1;32m   1195\u001b[0m             \u001b[0mout\u001b[0m \u001b[0;34m=\u001b[0m \u001b[0;32mNone\u001b[0m\u001b[0;34m\u001b[0m\u001b[0;34m\u001b[0m\u001b[0m\n",
            "\u001b[0;32m<timed exec>\u001b[0m in \u001b[0;36m<module>\u001b[0;34m()\u001b[0m\n",
            "\u001b[0;32m/usr/local/lib/python3.7/dist-packages/keras/engine/training.py\u001b[0m in \u001b[0;36mfit\u001b[0;34m(self, x, y, batch_size, epochs, verbose, callbacks, validation_split, validation_data, shuffle, class_weight, sample_weight, initial_epoch, steps_per_epoch, validation_steps, validation_batch_size, validation_freq, max_queue_size, workers, use_multiprocessing)\u001b[0m\n\u001b[1;32m   1187\u001b[0m               \u001b[0mlogs\u001b[0m \u001b[0;34m=\u001b[0m \u001b[0mtmp_logs\u001b[0m  \u001b[0;31m# No error, now safe to assign to logs.\u001b[0m\u001b[0;34m\u001b[0m\u001b[0;34m\u001b[0m\u001b[0m\n\u001b[1;32m   1188\u001b[0m               \u001b[0mend_step\u001b[0m \u001b[0;34m=\u001b[0m \u001b[0mstep\u001b[0m \u001b[0;34m+\u001b[0m \u001b[0mdata_handler\u001b[0m\u001b[0;34m.\u001b[0m\u001b[0mstep_increment\u001b[0m\u001b[0;34m\u001b[0m\u001b[0;34m\u001b[0m\u001b[0m\n\u001b[0;32m-> 1189\u001b[0;31m               \u001b[0mcallbacks\u001b[0m\u001b[0;34m.\u001b[0m\u001b[0mon_train_batch_end\u001b[0m\u001b[0;34m(\u001b[0m\u001b[0mend_step\u001b[0m\u001b[0;34m,\u001b[0m \u001b[0mlogs\u001b[0m\u001b[0;34m)\u001b[0m\u001b[0;34m\u001b[0m\u001b[0;34m\u001b[0m\u001b[0m\n\u001b[0m\u001b[1;32m   1190\u001b[0m               \u001b[0;32mif\u001b[0m \u001b[0mself\u001b[0m\u001b[0;34m.\u001b[0m\u001b[0mstop_training\u001b[0m\u001b[0;34m:\u001b[0m\u001b[0;34m\u001b[0m\u001b[0;34m\u001b[0m\u001b[0m\n\u001b[1;32m   1191\u001b[0m                 \u001b[0;32mbreak\u001b[0m\u001b[0;34m\u001b[0m\u001b[0;34m\u001b[0m\u001b[0m\n",
            "\u001b[0;32m/usr/local/lib/python3.7/dist-packages/keras/callbacks.py\u001b[0m in \u001b[0;36mon_train_batch_end\u001b[0;34m(self, batch, logs)\u001b[0m\n\u001b[1;32m    433\u001b[0m     \"\"\"\n\u001b[1;32m    434\u001b[0m     \u001b[0;32mif\u001b[0m \u001b[0mself\u001b[0m\u001b[0;34m.\u001b[0m\u001b[0m_should_call_train_batch_hooks\u001b[0m\u001b[0;34m:\u001b[0m\u001b[0;34m\u001b[0m\u001b[0;34m\u001b[0m\u001b[0m\n\u001b[0;32m--> 435\u001b[0;31m       \u001b[0mself\u001b[0m\u001b[0;34m.\u001b[0m\u001b[0m_call_batch_hook\u001b[0m\u001b[0;34m(\u001b[0m\u001b[0mModeKeys\u001b[0m\u001b[0;34m.\u001b[0m\u001b[0mTRAIN\u001b[0m\u001b[0;34m,\u001b[0m \u001b[0;34m'end'\u001b[0m\u001b[0;34m,\u001b[0m \u001b[0mbatch\u001b[0m\u001b[0;34m,\u001b[0m \u001b[0mlogs\u001b[0m\u001b[0;34m=\u001b[0m\u001b[0mlogs\u001b[0m\u001b[0;34m)\u001b[0m\u001b[0;34m\u001b[0m\u001b[0;34m\u001b[0m\u001b[0m\n\u001b[0m\u001b[1;32m    436\u001b[0m \u001b[0;34m\u001b[0m\u001b[0m\n\u001b[1;32m    437\u001b[0m   \u001b[0;32mdef\u001b[0m \u001b[0mon_test_batch_begin\u001b[0m\u001b[0;34m(\u001b[0m\u001b[0mself\u001b[0m\u001b[0;34m,\u001b[0m \u001b[0mbatch\u001b[0m\u001b[0;34m,\u001b[0m \u001b[0mlogs\u001b[0m\u001b[0;34m=\u001b[0m\u001b[0;32mNone\u001b[0m\u001b[0;34m)\u001b[0m\u001b[0;34m:\u001b[0m\u001b[0;34m\u001b[0m\u001b[0;34m\u001b[0m\u001b[0m\n",
            "\u001b[0;32m/usr/local/lib/python3.7/dist-packages/keras/callbacks.py\u001b[0m in \u001b[0;36m_call_batch_hook\u001b[0;34m(self, mode, hook, batch, logs)\u001b[0m\n\u001b[1;32m    293\u001b[0m       \u001b[0mself\u001b[0m\u001b[0;34m.\u001b[0m\u001b[0m_call_batch_begin_hook\u001b[0m\u001b[0;34m(\u001b[0m\u001b[0mmode\u001b[0m\u001b[0;34m,\u001b[0m \u001b[0mbatch\u001b[0m\u001b[0;34m,\u001b[0m \u001b[0mlogs\u001b[0m\u001b[0;34m)\u001b[0m\u001b[0;34m\u001b[0m\u001b[0;34m\u001b[0m\u001b[0m\n\u001b[1;32m    294\u001b[0m     \u001b[0;32melif\u001b[0m \u001b[0mhook\u001b[0m \u001b[0;34m==\u001b[0m \u001b[0;34m'end'\u001b[0m\u001b[0;34m:\u001b[0m\u001b[0;34m\u001b[0m\u001b[0;34m\u001b[0m\u001b[0m\n\u001b[0;32m--> 295\u001b[0;31m       \u001b[0mself\u001b[0m\u001b[0;34m.\u001b[0m\u001b[0m_call_batch_end_hook\u001b[0m\u001b[0;34m(\u001b[0m\u001b[0mmode\u001b[0m\u001b[0;34m,\u001b[0m \u001b[0mbatch\u001b[0m\u001b[0;34m,\u001b[0m \u001b[0mlogs\u001b[0m\u001b[0;34m)\u001b[0m\u001b[0;34m\u001b[0m\u001b[0;34m\u001b[0m\u001b[0m\n\u001b[0m\u001b[1;32m    296\u001b[0m     \u001b[0;32melse\u001b[0m\u001b[0;34m:\u001b[0m\u001b[0;34m\u001b[0m\u001b[0;34m\u001b[0m\u001b[0m\n\u001b[1;32m    297\u001b[0m       \u001b[0;32mraise\u001b[0m \u001b[0mValueError\u001b[0m\u001b[0;34m(\u001b[0m\u001b[0;34m'Unrecognized hook: {}'\u001b[0m\u001b[0;34m.\u001b[0m\u001b[0mformat\u001b[0m\u001b[0;34m(\u001b[0m\u001b[0mhook\u001b[0m\u001b[0;34m)\u001b[0m\u001b[0;34m)\u001b[0m\u001b[0;34m\u001b[0m\u001b[0;34m\u001b[0m\u001b[0m\n",
            "\u001b[0;32m/usr/local/lib/python3.7/dist-packages/keras/callbacks.py\u001b[0m in \u001b[0;36m_call_batch_end_hook\u001b[0;34m(self, mode, batch, logs)\u001b[0m\n\u001b[1;32m    313\u001b[0m       \u001b[0mself\u001b[0m\u001b[0;34m.\u001b[0m\u001b[0m_batch_times\u001b[0m\u001b[0;34m.\u001b[0m\u001b[0mappend\u001b[0m\u001b[0;34m(\u001b[0m\u001b[0mbatch_time\u001b[0m\u001b[0;34m)\u001b[0m\u001b[0;34m\u001b[0m\u001b[0;34m\u001b[0m\u001b[0m\n\u001b[1;32m    314\u001b[0m \u001b[0;34m\u001b[0m\u001b[0m\n\u001b[0;32m--> 315\u001b[0;31m     \u001b[0mself\u001b[0m\u001b[0;34m.\u001b[0m\u001b[0m_call_batch_hook_helper\u001b[0m\u001b[0;34m(\u001b[0m\u001b[0mhook_name\u001b[0m\u001b[0;34m,\u001b[0m \u001b[0mbatch\u001b[0m\u001b[0;34m,\u001b[0m \u001b[0mlogs\u001b[0m\u001b[0;34m)\u001b[0m\u001b[0;34m\u001b[0m\u001b[0;34m\u001b[0m\u001b[0m\n\u001b[0m\u001b[1;32m    316\u001b[0m \u001b[0;34m\u001b[0m\u001b[0m\n\u001b[1;32m    317\u001b[0m     \u001b[0;32mif\u001b[0m \u001b[0mlen\u001b[0m\u001b[0;34m(\u001b[0m\u001b[0mself\u001b[0m\u001b[0;34m.\u001b[0m\u001b[0m_batch_times\u001b[0m\u001b[0;34m)\u001b[0m \u001b[0;34m>=\u001b[0m \u001b[0mself\u001b[0m\u001b[0;34m.\u001b[0m\u001b[0m_num_batches_for_timing_check\u001b[0m\u001b[0;34m:\u001b[0m\u001b[0;34m\u001b[0m\u001b[0;34m\u001b[0m\u001b[0m\n",
            "\u001b[0;32m/usr/local/lib/python3.7/dist-packages/keras/callbacks.py\u001b[0m in \u001b[0;36m_call_batch_hook_helper\u001b[0;34m(self, hook_name, batch, logs)\u001b[0m\n\u001b[1;32m    351\u001b[0m     \u001b[0;32mfor\u001b[0m \u001b[0mcallback\u001b[0m \u001b[0;32min\u001b[0m \u001b[0mself\u001b[0m\u001b[0;34m.\u001b[0m\u001b[0mcallbacks\u001b[0m\u001b[0;34m:\u001b[0m\u001b[0;34m\u001b[0m\u001b[0;34m\u001b[0m\u001b[0m\n\u001b[1;32m    352\u001b[0m       \u001b[0mhook\u001b[0m \u001b[0;34m=\u001b[0m \u001b[0mgetattr\u001b[0m\u001b[0;34m(\u001b[0m\u001b[0mcallback\u001b[0m\u001b[0;34m,\u001b[0m \u001b[0mhook_name\u001b[0m\u001b[0;34m)\u001b[0m\u001b[0;34m\u001b[0m\u001b[0;34m\u001b[0m\u001b[0m\n\u001b[0;32m--> 353\u001b[0;31m       \u001b[0mhook\u001b[0m\u001b[0;34m(\u001b[0m\u001b[0mbatch\u001b[0m\u001b[0;34m,\u001b[0m \u001b[0mlogs\u001b[0m\u001b[0;34m)\u001b[0m\u001b[0;34m\u001b[0m\u001b[0;34m\u001b[0m\u001b[0m\n\u001b[0m\u001b[1;32m    354\u001b[0m \u001b[0;34m\u001b[0m\u001b[0m\n\u001b[1;32m    355\u001b[0m     \u001b[0;32mif\u001b[0m \u001b[0mself\u001b[0m\u001b[0;34m.\u001b[0m\u001b[0m_check_timing\u001b[0m\u001b[0;34m:\u001b[0m\u001b[0;34m\u001b[0m\u001b[0;34m\u001b[0m\u001b[0m\n",
            "\u001b[0;32m/usr/local/lib/python3.7/dist-packages/keras/callbacks.py\u001b[0m in \u001b[0;36mon_train_batch_end\u001b[0;34m(self, batch, logs)\u001b[0m\n\u001b[1;32m   1026\u001b[0m \u001b[0;34m\u001b[0m\u001b[0m\n\u001b[1;32m   1027\u001b[0m   \u001b[0;32mdef\u001b[0m \u001b[0mon_train_batch_end\u001b[0m\u001b[0;34m(\u001b[0m\u001b[0mself\u001b[0m\u001b[0;34m,\u001b[0m \u001b[0mbatch\u001b[0m\u001b[0;34m,\u001b[0m \u001b[0mlogs\u001b[0m\u001b[0;34m=\u001b[0m\u001b[0;32mNone\u001b[0m\u001b[0;34m)\u001b[0m\u001b[0;34m:\u001b[0m\u001b[0;34m\u001b[0m\u001b[0;34m\u001b[0m\u001b[0m\n\u001b[0;32m-> 1028\u001b[0;31m     \u001b[0mself\u001b[0m\u001b[0;34m.\u001b[0m\u001b[0m_batch_update_progbar\u001b[0m\u001b[0;34m(\u001b[0m\u001b[0mbatch\u001b[0m\u001b[0;34m,\u001b[0m \u001b[0mlogs\u001b[0m\u001b[0;34m)\u001b[0m\u001b[0;34m\u001b[0m\u001b[0;34m\u001b[0m\u001b[0m\n\u001b[0m\u001b[1;32m   1029\u001b[0m \u001b[0;34m\u001b[0m\u001b[0m\n\u001b[1;32m   1030\u001b[0m   \u001b[0;32mdef\u001b[0m \u001b[0mon_test_batch_end\u001b[0m\u001b[0;34m(\u001b[0m\u001b[0mself\u001b[0m\u001b[0;34m,\u001b[0m \u001b[0mbatch\u001b[0m\u001b[0;34m,\u001b[0m \u001b[0mlogs\u001b[0m\u001b[0;34m=\u001b[0m\u001b[0;32mNone\u001b[0m\u001b[0;34m)\u001b[0m\u001b[0;34m:\u001b[0m\u001b[0;34m\u001b[0m\u001b[0;34m\u001b[0m\u001b[0m\n",
            "\u001b[0;32m/usr/local/lib/python3.7/dist-packages/keras/callbacks.py\u001b[0m in \u001b[0;36m_batch_update_progbar\u001b[0;34m(self, batch, logs)\u001b[0m\n\u001b[1;32m   1098\u001b[0m     \u001b[0;32mif\u001b[0m \u001b[0mself\u001b[0m\u001b[0;34m.\u001b[0m\u001b[0mverbose\u001b[0m \u001b[0;34m==\u001b[0m \u001b[0;36m1\u001b[0m\u001b[0;34m:\u001b[0m\u001b[0;34m\u001b[0m\u001b[0;34m\u001b[0m\u001b[0m\n\u001b[1;32m   1099\u001b[0m       \u001b[0;31m# Only block async when verbose = 1.\u001b[0m\u001b[0;34m\u001b[0m\u001b[0;34m\u001b[0m\u001b[0;34m\u001b[0m\u001b[0m\n\u001b[0;32m-> 1100\u001b[0;31m       \u001b[0mlogs\u001b[0m \u001b[0;34m=\u001b[0m \u001b[0mtf_utils\u001b[0m\u001b[0;34m.\u001b[0m\u001b[0msync_to_numpy_or_python_type\u001b[0m\u001b[0;34m(\u001b[0m\u001b[0mlogs\u001b[0m\u001b[0;34m)\u001b[0m\u001b[0;34m\u001b[0m\u001b[0;34m\u001b[0m\u001b[0m\n\u001b[0m\u001b[1;32m   1101\u001b[0m       \u001b[0mself\u001b[0m\u001b[0;34m.\u001b[0m\u001b[0mprogbar\u001b[0m\u001b[0;34m.\u001b[0m\u001b[0mupdate\u001b[0m\u001b[0;34m(\u001b[0m\u001b[0mself\u001b[0m\u001b[0;34m.\u001b[0m\u001b[0mseen\u001b[0m\u001b[0;34m,\u001b[0m \u001b[0mlist\u001b[0m\u001b[0;34m(\u001b[0m\u001b[0mlogs\u001b[0m\u001b[0;34m.\u001b[0m\u001b[0mitems\u001b[0m\u001b[0;34m(\u001b[0m\u001b[0;34m)\u001b[0m\u001b[0;34m)\u001b[0m\u001b[0;34m,\u001b[0m \u001b[0mfinalize\u001b[0m\u001b[0;34m=\u001b[0m\u001b[0;32mFalse\u001b[0m\u001b[0;34m)\u001b[0m\u001b[0;34m\u001b[0m\u001b[0;34m\u001b[0m\u001b[0m\n\u001b[1;32m   1102\u001b[0m \u001b[0;34m\u001b[0m\u001b[0m\n",
            "\u001b[0;32m/usr/local/lib/python3.7/dist-packages/keras/utils/tf_utils.py\u001b[0m in \u001b[0;36msync_to_numpy_or_python_type\u001b[0;34m(tensors)\u001b[0m\n\u001b[1;32m    514\u001b[0m     \u001b[0;32mreturn\u001b[0m \u001b[0mt\u001b[0m  \u001b[0;31m# Don't turn ragged or sparse tensors to NumPy.\u001b[0m\u001b[0;34m\u001b[0m\u001b[0;34m\u001b[0m\u001b[0m\n\u001b[1;32m    515\u001b[0m \u001b[0;34m\u001b[0m\u001b[0m\n\u001b[0;32m--> 516\u001b[0;31m   \u001b[0;32mreturn\u001b[0m \u001b[0mtf\u001b[0m\u001b[0;34m.\u001b[0m\u001b[0mnest\u001b[0m\u001b[0;34m.\u001b[0m\u001b[0mmap_structure\u001b[0m\u001b[0;34m(\u001b[0m\u001b[0m_to_single_numpy_or_python_type\u001b[0m\u001b[0;34m,\u001b[0m \u001b[0mtensors\u001b[0m\u001b[0;34m)\u001b[0m\u001b[0;34m\u001b[0m\u001b[0;34m\u001b[0m\u001b[0m\n\u001b[0m\u001b[1;32m    517\u001b[0m \u001b[0;34m\u001b[0m\u001b[0m\n\u001b[1;32m    518\u001b[0m \u001b[0;34m\u001b[0m\u001b[0m\n",
            "\u001b[0;32m/usr/local/lib/python3.7/dist-packages/tensorflow/python/util/nest.py\u001b[0m in \u001b[0;36mmap_structure\u001b[0;34m(func, *structure, **kwargs)\u001b[0m\n\u001b[1;32m    867\u001b[0m \u001b[0;34m\u001b[0m\u001b[0m\n\u001b[1;32m    868\u001b[0m   return pack_sequence_as(\n\u001b[0;32m--> 869\u001b[0;31m       \u001b[0mstructure\u001b[0m\u001b[0;34m[\u001b[0m\u001b[0;36m0\u001b[0m\u001b[0;34m]\u001b[0m\u001b[0;34m,\u001b[0m \u001b[0;34m[\u001b[0m\u001b[0mfunc\u001b[0m\u001b[0;34m(\u001b[0m\u001b[0;34m*\u001b[0m\u001b[0mx\u001b[0m\u001b[0;34m)\u001b[0m \u001b[0;32mfor\u001b[0m \u001b[0mx\u001b[0m \u001b[0;32min\u001b[0m \u001b[0mentries\u001b[0m\u001b[0;34m]\u001b[0m\u001b[0;34m,\u001b[0m\u001b[0;34m\u001b[0m\u001b[0;34m\u001b[0m\u001b[0m\n\u001b[0m\u001b[1;32m    870\u001b[0m       expand_composites=expand_composites)\n\u001b[1;32m    871\u001b[0m \u001b[0;34m\u001b[0m\u001b[0m\n",
            "\u001b[0;32m/usr/local/lib/python3.7/dist-packages/tensorflow/python/util/nest.py\u001b[0m in \u001b[0;36m<listcomp>\u001b[0;34m(.0)\u001b[0m\n\u001b[1;32m    867\u001b[0m \u001b[0;34m\u001b[0m\u001b[0m\n\u001b[1;32m    868\u001b[0m   return pack_sequence_as(\n\u001b[0;32m--> 869\u001b[0;31m       \u001b[0mstructure\u001b[0m\u001b[0;34m[\u001b[0m\u001b[0;36m0\u001b[0m\u001b[0;34m]\u001b[0m\u001b[0;34m,\u001b[0m \u001b[0;34m[\u001b[0m\u001b[0mfunc\u001b[0m\u001b[0;34m(\u001b[0m\u001b[0;34m*\u001b[0m\u001b[0mx\u001b[0m\u001b[0;34m)\u001b[0m \u001b[0;32mfor\u001b[0m \u001b[0mx\u001b[0m \u001b[0;32min\u001b[0m \u001b[0mentries\u001b[0m\u001b[0;34m]\u001b[0m\u001b[0;34m,\u001b[0m\u001b[0;34m\u001b[0m\u001b[0;34m\u001b[0m\u001b[0m\n\u001b[0m\u001b[1;32m    870\u001b[0m       expand_composites=expand_composites)\n\u001b[1;32m    871\u001b[0m \u001b[0;34m\u001b[0m\u001b[0m\n",
            "\u001b[0;32m/usr/local/lib/python3.7/dist-packages/keras/utils/tf_utils.py\u001b[0m in \u001b[0;36m_to_single_numpy_or_python_type\u001b[0;34m(t)\u001b[0m\n\u001b[1;32m    510\u001b[0m   \u001b[0;32mdef\u001b[0m \u001b[0m_to_single_numpy_or_python_type\u001b[0m\u001b[0;34m(\u001b[0m\u001b[0mt\u001b[0m\u001b[0;34m)\u001b[0m\u001b[0;34m:\u001b[0m\u001b[0;34m\u001b[0m\u001b[0;34m\u001b[0m\u001b[0m\n\u001b[1;32m    511\u001b[0m     \u001b[0;32mif\u001b[0m \u001b[0misinstance\u001b[0m\u001b[0;34m(\u001b[0m\u001b[0mt\u001b[0m\u001b[0;34m,\u001b[0m \u001b[0mtf\u001b[0m\u001b[0;34m.\u001b[0m\u001b[0mTensor\u001b[0m\u001b[0;34m)\u001b[0m\u001b[0;34m:\u001b[0m\u001b[0;34m\u001b[0m\u001b[0;34m\u001b[0m\u001b[0m\n\u001b[0;32m--> 512\u001b[0;31m       \u001b[0mx\u001b[0m \u001b[0;34m=\u001b[0m \u001b[0mt\u001b[0m\u001b[0;34m.\u001b[0m\u001b[0mnumpy\u001b[0m\u001b[0;34m(\u001b[0m\u001b[0;34m)\u001b[0m\u001b[0;34m\u001b[0m\u001b[0;34m\u001b[0m\u001b[0m\n\u001b[0m\u001b[1;32m    513\u001b[0m       \u001b[0;32mreturn\u001b[0m \u001b[0mx\u001b[0m\u001b[0;34m.\u001b[0m\u001b[0mitem\u001b[0m\u001b[0;34m(\u001b[0m\u001b[0;34m)\u001b[0m \u001b[0;32mif\u001b[0m \u001b[0mnp\u001b[0m\u001b[0;34m.\u001b[0m\u001b[0mndim\u001b[0m\u001b[0;34m(\u001b[0m\u001b[0mx\u001b[0m\u001b[0;34m)\u001b[0m \u001b[0;34m==\u001b[0m \u001b[0;36m0\u001b[0m \u001b[0;32melse\u001b[0m \u001b[0mx\u001b[0m\u001b[0;34m\u001b[0m\u001b[0;34m\u001b[0m\u001b[0m\n\u001b[1;32m    514\u001b[0m     \u001b[0;32mreturn\u001b[0m \u001b[0mt\u001b[0m  \u001b[0;31m# Don't turn ragged or sparse tensors to NumPy.\u001b[0m\u001b[0;34m\u001b[0m\u001b[0;34m\u001b[0m\u001b[0m\n",
            "\u001b[0;32m/usr/local/lib/python3.7/dist-packages/tensorflow/python/framework/ops.py\u001b[0m in \u001b[0;36mnumpy\u001b[0;34m(self)\u001b[0m\n\u001b[1;32m   1092\u001b[0m     \"\"\"\n\u001b[1;32m   1093\u001b[0m     \u001b[0;31m# TODO(slebedev): Consider avoiding a copy for non-CPU or remote tensors.\u001b[0m\u001b[0;34m\u001b[0m\u001b[0;34m\u001b[0m\u001b[0;34m\u001b[0m\u001b[0m\n\u001b[0;32m-> 1094\u001b[0;31m     \u001b[0mmaybe_arr\u001b[0m \u001b[0;34m=\u001b[0m \u001b[0mself\u001b[0m\u001b[0;34m.\u001b[0m\u001b[0m_numpy\u001b[0m\u001b[0;34m(\u001b[0m\u001b[0;34m)\u001b[0m  \u001b[0;31m# pylint: disable=protected-access\u001b[0m\u001b[0;34m\u001b[0m\u001b[0;34m\u001b[0m\u001b[0m\n\u001b[0m\u001b[1;32m   1095\u001b[0m     \u001b[0;32mreturn\u001b[0m \u001b[0mmaybe_arr\u001b[0m\u001b[0;34m.\u001b[0m\u001b[0mcopy\u001b[0m\u001b[0;34m(\u001b[0m\u001b[0;34m)\u001b[0m \u001b[0;32mif\u001b[0m \u001b[0misinstance\u001b[0m\u001b[0;34m(\u001b[0m\u001b[0mmaybe_arr\u001b[0m\u001b[0;34m,\u001b[0m \u001b[0mnp\u001b[0m\u001b[0;34m.\u001b[0m\u001b[0mndarray\u001b[0m\u001b[0;34m)\u001b[0m \u001b[0;32melse\u001b[0m \u001b[0mmaybe_arr\u001b[0m\u001b[0;34m\u001b[0m\u001b[0;34m\u001b[0m\u001b[0m\n\u001b[1;32m   1096\u001b[0m \u001b[0;34m\u001b[0m\u001b[0m\n",
            "\u001b[0;32m/usr/local/lib/python3.7/dist-packages/tensorflow/python/framework/ops.py\u001b[0m in \u001b[0;36m_numpy\u001b[0;34m(self)\u001b[0m\n\u001b[1;32m   1058\u001b[0m   \u001b[0;32mdef\u001b[0m \u001b[0m_numpy\u001b[0m\u001b[0;34m(\u001b[0m\u001b[0mself\u001b[0m\u001b[0;34m)\u001b[0m\u001b[0;34m:\u001b[0m\u001b[0;34m\u001b[0m\u001b[0;34m\u001b[0m\u001b[0m\n\u001b[1;32m   1059\u001b[0m     \u001b[0;32mtry\u001b[0m\u001b[0;34m:\u001b[0m\u001b[0;34m\u001b[0m\u001b[0;34m\u001b[0m\u001b[0m\n\u001b[0;32m-> 1060\u001b[0;31m       \u001b[0;32mreturn\u001b[0m \u001b[0mself\u001b[0m\u001b[0;34m.\u001b[0m\u001b[0m_numpy_internal\u001b[0m\u001b[0;34m(\u001b[0m\u001b[0;34m)\u001b[0m\u001b[0;34m\u001b[0m\u001b[0;34m\u001b[0m\u001b[0m\n\u001b[0m\u001b[1;32m   1061\u001b[0m     \u001b[0;32mexcept\u001b[0m \u001b[0mcore\u001b[0m\u001b[0;34m.\u001b[0m\u001b[0m_NotOkStatusException\u001b[0m \u001b[0;32mas\u001b[0m \u001b[0me\u001b[0m\u001b[0;34m:\u001b[0m  \u001b[0;31m# pylint: disable=protected-access\u001b[0m\u001b[0;34m\u001b[0m\u001b[0;34m\u001b[0m\u001b[0m\n\u001b[1;32m   1062\u001b[0m       \u001b[0msix\u001b[0m\u001b[0;34m.\u001b[0m\u001b[0mraise_from\u001b[0m\u001b[0;34m(\u001b[0m\u001b[0mcore\u001b[0m\u001b[0;34m.\u001b[0m\u001b[0m_status_to_exception\u001b[0m\u001b[0;34m(\u001b[0m\u001b[0me\u001b[0m\u001b[0;34m.\u001b[0m\u001b[0mcode\u001b[0m\u001b[0;34m,\u001b[0m \u001b[0me\u001b[0m\u001b[0;34m.\u001b[0m\u001b[0mmessage\u001b[0m\u001b[0;34m)\u001b[0m\u001b[0;34m,\u001b[0m \u001b[0;32mNone\u001b[0m\u001b[0;34m)\u001b[0m  \u001b[0;31m# pylint: disable=protected-access\u001b[0m\u001b[0;34m\u001b[0m\u001b[0;34m\u001b[0m\u001b[0m\n",
            "\u001b[0;31mKeyboardInterrupt\u001b[0m: "
          ]
        }
      ]
    },
    {
      "cell_type": "code",
      "metadata": {
        "id": "W56LD_Ax6j0B"
      },
      "source": [
        "import matplotlib.pyplot as plt \n",
        "def plot_graphs(history, string):\n",
        "    plt.plot(history.history[string])\n",
        "    plt.plot(history.history['val_'+string])\n",
        "    plt.xlabel(\"Epochs\")\n",
        "    plt.ylabel(string)\n",
        "    plt.legend([string, 'val_'+string])\n",
        "    plt.show()\n",
        "\n",
        "plot_graphs(history, \"categorical_accuracy\")\n",
        "plot_graphs(history, \"f1_score\")\n",
        "plot_graphs(history, 'loss')\n"
      ],
      "execution_count": null,
      "outputs": []
    },
    {
      "cell_type": "code",
      "metadata": {
        "id": "xVqdjR-oJ0lo"
      },
      "source": [
        "# model.save('BERT-Model.h5')"
      ],
      "execution_count": null,
      "outputs": []
    },
    {
      "cell_type": "markdown",
      "metadata": {
        "id": "bfa8IsjVINIp"
      },
      "source": [
        "# Epoch - 2"
      ]
    },
    {
      "cell_type": "code",
      "metadata": {
        "id": "1Utj2CzzAa9d"
      },
      "source": [
        "model.load_weights('/content/RoBERTa-base.h5')"
      ],
      "execution_count": 54,
      "outputs": []
    },
    {
      "cell_type": "code",
      "metadata": {
        "id": "UqtgpdJK4t_0"
      },
      "source": [
        "test_file = pd.read_csv('/content/drive/MyDrive/Shared Task 2021/test-set-with-labels-cleaned.txt', index_col=0)"
      ],
      "execution_count": 55,
      "outputs": []
    },
    {
      "cell_type": "code",
      "metadata": {
        "id": "5o09mjjJ5gPI",
        "colab": {
          "base_uri": "https://localhost:8080/",
          "height": 502
        },
        "outputId": "8bff3b86-37f4-4f15-fcc3-f94df451b3c0"
      },
      "source": [
        "test_file.head()"
      ],
      "execution_count": 56,
      "outputs": [
        {
          "output_type": "execute_result",
          "data": {
            "text/html": [
              "<div>\n",
              "<style scoped>\n",
              "    .dataframe tbody tr th:only-of-type {\n",
              "        vertical-align: middle;\n",
              "    }\n",
              "\n",
              "    .dataframe tbody tr th {\n",
              "        vertical-align: top;\n",
              "    }\n",
              "\n",
              "    .dataframe thead th {\n",
              "        text-align: right;\n",
              "    }\n",
              "</style>\n",
              "<table border=\"1\" class=\"dataframe\">\n",
              "  <thead>\n",
              "    <tr style=\"text-align: right;\">\n",
              "      <th></th>\n",
              "      <th>EventSnippet</th>\n",
              "      <th>SubType</th>\n",
              "      <th>processed</th>\n",
              "      <th>lemmatized</th>\n",
              "    </tr>\n",
              "    <tr>\n",
              "      <th>id</th>\n",
              "      <th></th>\n",
              "      <th></th>\n",
              "      <th></th>\n",
              "      <th></th>\n",
              "    </tr>\n",
              "  </thead>\n",
              "  <tbody>\n",
              "    <tr>\n",
              "      <th>1</th>\n",
              "      <td>The US warplanes pounded the village of Kashka...</td>\n",
              "      <td>AIR_STRIKE</td>\n",
              "      <td>the us warplanes pounded the village of kashka...</td>\n",
              "      <td>u warplane pounded village kashkash southern p...</td>\n",
              "    </tr>\n",
              "    <tr>\n",
              "      <th>3</th>\n",
              "      <td>Officers brutally attacked and injured a peace...</td>\n",
              "      <td>FORCE_AGAINST_PROTEST</td>\n",
              "      <td>officers brutally attacked and injured a peace...</td>\n",
              "      <td>officer brutally attacked injured peaceful stu...</td>\n",
              "    </tr>\n",
              "    <tr>\n",
              "      <th>4</th>\n",
              "      <td>On December 13, ISIS fighters recaptured the v...</td>\n",
              "      <td>NON_STATE_ACTOR_OVERTAKES_TER</td>\n",
              "      <td>isis fighters recaptured the village of kashma...</td>\n",
              "      <td>isi fighter recaptured village kashma syrian a...</td>\n",
              "    </tr>\n",
              "    <tr>\n",
              "      <th>5</th>\n",
              "      <td>Vice-President Mike Pence said Thursday that t...</td>\n",
              "      <td>AGREEMENT</td>\n",
              "      <td>vice-president mike pence said thursday that t...</td>\n",
              "      <td>vice-president mike penny said thursday mainly...</td>\n",
              "    </tr>\n",
              "    <tr>\n",
              "      <th>6</th>\n",
              "      <td>A helicopter on Thursday is said to have dropp...</td>\n",
              "      <td>CHEM_WEAP</td>\n",
              "      <td>a helicopter thursday is said to have dropped ...</td>\n",
              "      <td>helicopter thursday said dropped container tox...</td>\n",
              "    </tr>\n",
              "  </tbody>\n",
              "</table>\n",
              "</div>"
            ],
            "text/plain": [
              "                                         EventSnippet  ...                                         lemmatized\n",
              "id                                                     ...                                                   \n",
              "1   The US warplanes pounded the village of Kashka...  ...  u warplane pounded village kashkash southern p...\n",
              "3   Officers brutally attacked and injured a peace...  ...  officer brutally attacked injured peaceful stu...\n",
              "4   On December 13, ISIS fighters recaptured the v...  ...  isi fighter recaptured village kashma syrian a...\n",
              "5   Vice-President Mike Pence said Thursday that t...  ...  vice-president mike penny said thursday mainly...\n",
              "6   A helicopter on Thursday is said to have dropp...  ...  helicopter thursday said dropped container tox...\n",
              "\n",
              "[5 rows x 4 columns]"
            ]
          },
          "metadata": {},
          "execution_count": 56
        }
      ]
    },
    {
      "cell_type": "markdown",
      "metadata": {
        "id": "UREWiBAZE1-k"
      },
      "source": [
        "## For Cleaned Text"
      ]
    },
    {
      "cell_type": "code",
      "metadata": {
        "id": "bUA_b6LBe8jp",
        "colab": {
          "base_uri": "https://localhost:8080/"
        },
        "outputId": "f2d1000a-c370-4862-aa0d-fcf16e92341d"
      },
      "source": [
        "final_test_inputs, final_test_attention_masks = roberta_encode(list(test_file.processed), max_length)"
      ],
      "execution_count": 57,
      "outputs": [
        {
          "output_type": "stream",
          "name": "stderr",
          "text": [
            "  0%|          | 0/829 [00:00<?, ?it/s]/usr/local/lib/python3.7/dist-packages/transformers/tokenization_utils_base.py:2217: FutureWarning: The `pad_to_max_length` argument is deprecated and will be removed in a future version, use `padding=True` or `padding='longest'` to pad to the longest sequence in the batch, or use `padding='max_length'` to pad to a max length. In this case, you can give a specific length with `max_length` (e.g. `max_length=45`) or leave max_length to None to pad to the maximal input size of the model (e.g. 512 for Bert).\n",
            "  FutureWarning,\n",
            "100%|██████████| 829/829 [00:00<00:00, 1929.22it/s]\n"
          ]
        }
      ]
    },
    {
      "cell_type": "code",
      "metadata": {
        "id": "hUTHeRkL5gWn"
      },
      "source": [
        "y_preds = np.argmax(model.predict([final_test_inputs, final_test_attention_masks]), axis=1)"
      ],
      "execution_count": 58,
      "outputs": []
    },
    {
      "cell_type": "code",
      "metadata": {
        "id": "QBrBVd6S5gdx",
        "colab": {
          "base_uri": "https://localhost:8080/"
        },
        "outputId": "6cc98695-c3f6-4516-f221-8aca0a9222fd"
      },
      "source": [
        "y_preds"
      ],
      "execution_count": 59,
      "outputs": [
        {
          "output_type": "execute_result",
          "data": {
            "text/plain": [
              "array([ 4,  8, 12, 23, 18, 18,  1, 18, 19, 18, 23, 10,  1, 14, 20,  2, 18,\n",
              "        8,  6,  3,  5,  0, 20,  3, 14,  6,  2, 18,  6, 18,  5,  0, 20, 23,\n",
              "       23, 20, 14, 22, 23, 16, 11, 24, 22, 18, 18,  5,  0,  8, 17, 18, 19,\n",
              "        3, 15, 11, 19, 16, 19, 17,  0, 18, 16,  3, 13,  5,  9,  2,  5, 18,\n",
              "        6, 17,  7,  1,  4, 20, 17, 12, 15,  7,  8, 21, 20, 20,  1,  3, 24,\n",
              "        2,  1,  1,  3, 18,  3, 13,  9, 24,  8, 18,  2,  1,  1, 12,  8, 20,\n",
              "       23,  0,  7, 18,  1,  3,  7,  1, 16,  5, 15, 12, 12,  4, 20,  3,  8,\n",
              "       23,  6,  6,  9,  8,  6,  0, 13, 14,  1,  0, 21, 24, 13, 19, 23,  5,\n",
              "       22, 16, 11, 14,  1,  6,  6,  0,  4,  0, 18,  1, 11, 23,  5, 13, 23,\n",
              "       23, 16, 14, 21, 13, 12, 19, 18, 14,  3, 18,  3,  5, 11, 10,  4, 18,\n",
              "       11, 18,  5, 19, 21,  1,  1, 19, 23, 11, 18,  3, 11, 11,  1, 20, 22,\n",
              "        5, 16, 20, 10,  3, 22, 19,  6, 22,  8, 20, 14,  5, 18, 22, 22, 22,\n",
              "        8, 11, 17,  3, 15, 20, 19,  7,  1, 12, 15, 16,  7,  7, 17,  3,  1,\n",
              "        1,  1,  5,  5, 22,  5, 16, 23, 19, 24,  1,  0,  1,  1,  4, 22, 13,\n",
              "        1,  8,  7, 17, 20,  0, 23, 24,  3,  2,  7, 14, 17, 18, 16,  1, 18,\n",
              "        1,  3,  8,  1, 18, 13,  8,  8,  0,  1,  2, 19, 19, 20,  2,  0,  5,\n",
              "       22, 11, 17, 23,  5,  5,  1, 16, 20, 23, 15,  3, 23, 17,  5,  7, 15,\n",
              "       20,  0, 22,  3,  4,  0,  5, 21,  1, 23,  8, 14,  2, 16,  2,  1, 10,\n",
              "        5, 18,  4,  4,  0, 22,  1, 20, 18, 13,  9,  5, 18, 14, 23,  3, 20,\n",
              "       11, 23,  5,  0, 24,  3,  6, 22,  7, 19, 14, 13, 11, 12,  4, 15, 22,\n",
              "        1,  5,  9, 18, 18, 18, 14,  7,  6,  8,  5, 18, 21, 11, 10, 18, 11,\n",
              "        2, 10,  6, 16, 22,  2, 12, 16, 22,  2,  3, 18,  9,  6,  7, 22,  6,\n",
              "       13,  4,  2,  2, 23,  8,  1,  9, 14,  7,  1, 22,  3, 12, 18, 12,  7,\n",
              "       23,  5, 17,  0, 13,  8, 11,  9, 24,  0,  0,  1, 16, 20, 16,  0,  3,\n",
              "        5, 18,  9, 20, 22,  9, 16, 18, 17,  7,  4, 12, 10, 16, 12, 22, 20,\n",
              "        0, 20,  5, 17, 20, 22, 18, 16, 19,  0,  7,  0, 20, 18, 18, 19,  5,\n",
              "       23,  3, 23,  1,  4,  1, 14, 16, 11,  7,  1,  8,  5,  1, 24,  9,  0,\n",
              "        5,  1, 18, 18, 14,  7, 22, 23,  3,  7,  7, 19, 17,  4,  4, 21,  6,\n",
              "        3,  8,  5, 14, 11,  5, 18, 18, 20, 17,  0, 21, 21,  6, 18, 17,  5,\n",
              "       18,  7, 19,  3, 21, 10, 15,  1, 23, 13, 15, 18,  4, 11, 23,  1, 20,\n",
              "        7, 19, 12,  4,  6, 20, 15,  5, 22, 24,  7, 11, 19, 22, 18,  0,  1,\n",
              "       21, 18, 14, 17, 18, 15, 17,  5,  3, 14, 20, 22,  1,  9, 17,  3, 15,\n",
              "       20, 19, 19,  0,  3, 11, 13, 10, 11,  8, 20, 24,  2,  2,  3,  1, 22,\n",
              "       19,  8,  0, 18, 22, 19,  4, 23, 18, 12,  5,  9, 14, 21,  4, 22,  9,\n",
              "       10,  8,  7,  3, 18,  2,  3,  1,  5,  1, 14,  0, 21, 18,  9, 10,  3,\n",
              "       18, 19, 14, 21,  8, 22, 15,  8, 14,  3,  2, 19, 19,  1,  5, 23,  4,\n",
              "       20,  1, 23, 17, 20,  4,  2, 14, 15, 18, 18,  4, 16, 16, 14,  8, 22,\n",
              "       21,  1, 23,  0, 15, 22,  6,  5, 18, 22, 17, 22, 22,  5, 16, 22, 19,\n",
              "       12, 20,  4, 19, 23,  4, 21, 18, 21, 17, 20,  5,  3, 19, 22, 23,  8,\n",
              "       16, 22, 20, 12, 12, 22, 11, 18, 18, 11, 21, 20, 11,  0,  3, 18, 18,\n",
              "        5,  5, 19, 19,  1,  7, 20,  9, 11, 23, 19,  1, 19,  1, 11, 10,  1,\n",
              "        1,  5, 15,  9, 22,  1,  7,  1,  0, 11, 16, 13, 20,  5, 19, 18, 14,\n",
              "       16,  5,  5,  6,  4, 22, 19, 18, 17, 12, 20, 11,  8,  1, 14,  5,  8,\n",
              "        3, 20,  8, 19, 14, 18, 14, 11,  5,  8,  0,  1, 17,  3,  0, 19, 12,\n",
              "       12,  0,  1,  8, 22,  5, 11, 18,  4, 19, 13,  2,  7, 20,  5, 16, 13,\n",
              "        3,  5, 18,  6, 12,  9,  5,  2,  5,  7,  3, 10, 17,  3,  2,  5, 23,\n",
              "       21,  5, 11, 18,  5, 16,  0, 19, 18, 19,  4,  3,  0,  2, 16, 22, 20,\n",
              "        5, 11, 14, 14,  5,  2,  1,  1, 12, 16,  2, 23,  5, 11,  0,  1, 16,\n",
              "       17, 21,  4,  1, 13, 11, 20, 17, 13,  1,  5, 13, 15])"
            ]
          },
          "metadata": {},
          "execution_count": 59
        }
      ]
    },
    {
      "cell_type": "code",
      "metadata": {
        "id": "E8xBCXs45gja"
      },
      "source": [
        "test_file['pred-labels-cleaned'] = y_preds"
      ],
      "execution_count": 60,
      "outputs": []
    },
    {
      "cell_type": "code",
      "metadata": {
        "id": "vwNUIHoe86O6",
        "colab": {
          "base_uri": "https://localhost:8080/",
          "height": 654
        },
        "outputId": "e5a8b911-0835-4907-943d-f2ecbcf0885d"
      },
      "source": [
        "test_file.head()"
      ],
      "execution_count": 61,
      "outputs": [
        {
          "output_type": "execute_result",
          "data": {
            "text/html": [
              "<div>\n",
              "<style scoped>\n",
              "    .dataframe tbody tr th:only-of-type {\n",
              "        vertical-align: middle;\n",
              "    }\n",
              "\n",
              "    .dataframe tbody tr th {\n",
              "        vertical-align: top;\n",
              "    }\n",
              "\n",
              "    .dataframe thead th {\n",
              "        text-align: right;\n",
              "    }\n",
              "</style>\n",
              "<table border=\"1\" class=\"dataframe\">\n",
              "  <thead>\n",
              "    <tr style=\"text-align: right;\">\n",
              "      <th></th>\n",
              "      <th>EventSnippet</th>\n",
              "      <th>SubType</th>\n",
              "      <th>processed</th>\n",
              "      <th>lemmatized</th>\n",
              "      <th>pred-labels-cleaned</th>\n",
              "    </tr>\n",
              "    <tr>\n",
              "      <th>id</th>\n",
              "      <th></th>\n",
              "      <th></th>\n",
              "      <th></th>\n",
              "      <th></th>\n",
              "      <th></th>\n",
              "    </tr>\n",
              "  </thead>\n",
              "  <tbody>\n",
              "    <tr>\n",
              "      <th>1</th>\n",
              "      <td>The US warplanes pounded the village of Kashka...</td>\n",
              "      <td>AIR_STRIKE</td>\n",
              "      <td>the us warplanes pounded the village of kashka...</td>\n",
              "      <td>u warplane pounded village kashkash southern p...</td>\n",
              "      <td>4</td>\n",
              "    </tr>\n",
              "    <tr>\n",
              "      <th>3</th>\n",
              "      <td>Officers brutally attacked and injured a peace...</td>\n",
              "      <td>FORCE_AGAINST_PROTEST</td>\n",
              "      <td>officers brutally attacked and injured a peace...</td>\n",
              "      <td>officer brutally attacked injured peaceful stu...</td>\n",
              "      <td>8</td>\n",
              "    </tr>\n",
              "    <tr>\n",
              "      <th>4</th>\n",
              "      <td>On December 13, ISIS fighters recaptured the v...</td>\n",
              "      <td>NON_STATE_ACTOR_OVERTAKES_TER</td>\n",
              "      <td>isis fighters recaptured the village of kashma...</td>\n",
              "      <td>isi fighter recaptured village kashma syrian a...</td>\n",
              "      <td>12</td>\n",
              "    </tr>\n",
              "    <tr>\n",
              "      <th>5</th>\n",
              "      <td>Vice-President Mike Pence said Thursday that t...</td>\n",
              "      <td>AGREEMENT</td>\n",
              "      <td>vice-president mike pence said thursday that t...</td>\n",
              "      <td>vice-president mike penny said thursday mainly...</td>\n",
              "      <td>23</td>\n",
              "    </tr>\n",
              "    <tr>\n",
              "      <th>6</th>\n",
              "      <td>A helicopter on Thursday is said to have dropp...</td>\n",
              "      <td>CHEM_WEAP</td>\n",
              "      <td>a helicopter thursday is said to have dropped ...</td>\n",
              "      <td>helicopter thursday said dropped container tox...</td>\n",
              "      <td>18</td>\n",
              "    </tr>\n",
              "  </tbody>\n",
              "</table>\n",
              "</div>"
            ],
            "text/plain": [
              "                                         EventSnippet  ... pred-labels-cleaned\n",
              "id                                                     ...                    \n",
              "1   The US warplanes pounded the village of Kashka...  ...                   4\n",
              "3   Officers brutally attacked and injured a peace...  ...                   8\n",
              "4   On December 13, ISIS fighters recaptured the v...  ...                  12\n",
              "5   Vice-President Mike Pence said Thursday that t...  ...                  23\n",
              "6   A helicopter on Thursday is said to have dropp...  ...                  18\n",
              "\n",
              "[5 rows x 5 columns]"
            ]
          },
          "metadata": {},
          "execution_count": 61
        }
      ]
    },
    {
      "cell_type": "code",
      "metadata": {
        "id": "8ncNYlVZ88xZ"
      },
      "source": [
        "def num_to_text_labels(num):\n",
        "    text = event_types_dict_inverse[num]\n",
        "    return text\n",
        "\n",
        "test_file['text-labels-cleaned'] = test_file['pred-labels-cleaned'].apply(num_to_text_labels)"
      ],
      "execution_count": 62,
      "outputs": []
    },
    {
      "cell_type": "code",
      "metadata": {
        "id": "Dq7ieqbkBxVY",
        "colab": {
          "base_uri": "https://localhost:8080/",
          "height": 707
        },
        "outputId": "4b30ec46-f3cc-4237-e04b-24cb3411aa88"
      },
      "source": [
        "test_file.head()"
      ],
      "execution_count": 63,
      "outputs": [
        {
          "output_type": "execute_result",
          "data": {
            "text/html": [
              "<div>\n",
              "<style scoped>\n",
              "    .dataframe tbody tr th:only-of-type {\n",
              "        vertical-align: middle;\n",
              "    }\n",
              "\n",
              "    .dataframe tbody tr th {\n",
              "        vertical-align: top;\n",
              "    }\n",
              "\n",
              "    .dataframe thead th {\n",
              "        text-align: right;\n",
              "    }\n",
              "</style>\n",
              "<table border=\"1\" class=\"dataframe\">\n",
              "  <thead>\n",
              "    <tr style=\"text-align: right;\">\n",
              "      <th></th>\n",
              "      <th>EventSnippet</th>\n",
              "      <th>SubType</th>\n",
              "      <th>processed</th>\n",
              "      <th>lemmatized</th>\n",
              "      <th>pred-labels-cleaned</th>\n",
              "      <th>text-labels-cleaned</th>\n",
              "    </tr>\n",
              "    <tr>\n",
              "      <th>id</th>\n",
              "      <th></th>\n",
              "      <th></th>\n",
              "      <th></th>\n",
              "      <th></th>\n",
              "      <th></th>\n",
              "      <th></th>\n",
              "    </tr>\n",
              "  </thead>\n",
              "  <tbody>\n",
              "    <tr>\n",
              "      <th>1</th>\n",
              "      <td>The US warplanes pounded the village of Kashka...</td>\n",
              "      <td>AIR_STRIKE</td>\n",
              "      <td>the us warplanes pounded the village of kashka...</td>\n",
              "      <td>u warplane pounded village kashkash southern p...</td>\n",
              "      <td>4</td>\n",
              "      <td>AIR_STRIKE</td>\n",
              "    </tr>\n",
              "    <tr>\n",
              "      <th>3</th>\n",
              "      <td>Officers brutally attacked and injured a peace...</td>\n",
              "      <td>FORCE_AGAINST_PROTEST</td>\n",
              "      <td>officers brutally attacked and injured a peace...</td>\n",
              "      <td>officer brutally attacked injured peaceful stu...</td>\n",
              "      <td>8</td>\n",
              "      <td>FORCE_AGAINST_PROTEST</td>\n",
              "    </tr>\n",
              "    <tr>\n",
              "      <th>4</th>\n",
              "      <td>On December 13, ISIS fighters recaptured the v...</td>\n",
              "      <td>NON_STATE_ACTOR_OVERTAKES_TER</td>\n",
              "      <td>isis fighters recaptured the village of kashma...</td>\n",
              "      <td>isi fighter recaptured village kashma syrian a...</td>\n",
              "      <td>12</td>\n",
              "      <td>GOV_REGAINS_TERIT</td>\n",
              "    </tr>\n",
              "    <tr>\n",
              "      <th>5</th>\n",
              "      <td>Vice-President Mike Pence said Thursday that t...</td>\n",
              "      <td>AGREEMENT</td>\n",
              "      <td>vice-president mike pence said thursday that t...</td>\n",
              "      <td>vice-president mike penny said thursday mainly...</td>\n",
              "      <td>23</td>\n",
              "      <td>AGREEMENT</td>\n",
              "    </tr>\n",
              "    <tr>\n",
              "      <th>6</th>\n",
              "      <td>A helicopter on Thursday is said to have dropp...</td>\n",
              "      <td>CHEM_WEAP</td>\n",
              "      <td>a helicopter thursday is said to have dropped ...</td>\n",
              "      <td>helicopter thursday said dropped container tox...</td>\n",
              "      <td>18</td>\n",
              "      <td>DISR_WEAP</td>\n",
              "    </tr>\n",
              "  </tbody>\n",
              "</table>\n",
              "</div>"
            ],
            "text/plain": [
              "                                         EventSnippet  ...    text-labels-cleaned\n",
              "id                                                     ...                       \n",
              "1   The US warplanes pounded the village of Kashka...  ...             AIR_STRIKE\n",
              "3   Officers brutally attacked and injured a peace...  ...  FORCE_AGAINST_PROTEST\n",
              "4   On December 13, ISIS fighters recaptured the v...  ...      GOV_REGAINS_TERIT\n",
              "5   Vice-President Mike Pence said Thursday that t...  ...              AGREEMENT\n",
              "6   A helicopter on Thursday is said to have dropp...  ...              DISR_WEAP\n",
              "\n",
              "[5 rows x 6 columns]"
            ]
          },
          "metadata": {},
          "execution_count": 63
        }
      ]
    },
    {
      "cell_type": "code",
      "metadata": {
        "id": "oWAP5tcxHdy7",
        "colab": {
          "base_uri": "https://localhost:8080/"
        },
        "outputId": "04ae8da0-bb01-4324-e46f-037d10224ca9"
      },
      "source": [
        "\n",
        "from sklearn.metrics import classification_report\n",
        "\n",
        "print(classification_report(y_true= list(test_file.SubType), y_pred= list(test_file['text-labels-cleaned'])))"
      ],
      "execution_count": 64,
      "outputs": [
        {
          "output_type": "stream",
          "name": "stdout",
          "text": [
            "                               precision    recall  f1-score   support\n",
            "\n",
            "                ABDUCT_DISSAP       0.85      0.85      0.85        20\n",
            "                    AGREEMENT       0.86      1.00      0.93        31\n",
            "                   AIR_STRIKE       0.93      0.72      0.81        36\n",
            "                  ARMED_CLASH       0.84      0.79      0.81        66\n",
            "                       ARREST       0.87      0.79      0.83        34\n",
            "              ART_MISS_ATTACK       0.72      0.78      0.75        36\n",
            "                       ATTACK       0.55      0.89      0.68        27\n",
            "          CHANGE_TO_GROUP_ACT       0.77      0.80      0.79        30\n",
            "                    CHEM_WEAP       0.09      0.03      0.04        37\n",
            "                    DISR_WEAP       0.77      0.93      0.84        58\n",
            "        FORCE_AGAINST_PROTEST       0.50      0.70      0.58        23\n",
            "            GOV_REGAINS_TERIT       0.74      0.45      0.56        38\n",
            "                      GRENADE       1.00      0.92      0.96        48\n",
            "               HQ_ESTABLISHED       0.90      0.82      0.86        22\n",
            "                     MOB_VIOL       0.52      0.65      0.58        17\n",
            "NON_STATE_ACTOR_OVERTAKES_TER       0.50      0.38      0.43        24\n",
            "     NON_VIOL_TERRIT_TRANSFER       0.37      0.71      0.48        21\n",
            "                        OTHER       0.38      0.62      0.48         8\n",
            "                PEACE_PROTEST       0.77      0.89      0.83        57\n",
            "            PROPERTY_DISTRUCT       0.61      0.52      0.56        21\n",
            "           PROTEST_WITH_INTER       0.55      0.73      0.63        22\n",
            "                   REM_EXPLOS       0.91      0.89      0.90        36\n",
            "                     SEX_VIOL       0.81      0.96      0.88        23\n",
            "                    SUIC_BOMB       0.91      0.98      0.94        41\n",
            "                VIOL_DEMONSTR       0.73      0.36      0.48        53\n",
            "\n",
            "                     accuracy                           0.74       829\n",
            "                    macro avg       0.70      0.73      0.70       829\n",
            "                 weighted avg       0.74      0.74      0.72       829\n",
            "\n"
          ]
        }
      ]
    },
    {
      "cell_type": "code",
      "metadata": {
        "id": "r8dUzphqATjq",
        "colab": {
          "base_uri": "https://localhost:8080/",
          "height": 717
        },
        "outputId": "b43859c4-0a7f-4305-cea4-6eccafaa9ec2"
      },
      "source": [
        "from sklearn.metrics import confusion_matrix\n",
        "conf_mat = confusion_matrix(list(test_file.SubType), list(test_file['text-labels-cleaned']))\n",
        "fig, ax = plt.subplots(figsize=(10,10))\n",
        "sns.heatmap(conf_mat, annot=True, fmt='d',\n",
        "            xticklabels=set(test_file.SubType), yticklabels=set(test_file.SubType))\n",
        "plt.ylabel('Actual')\n",
        "plt.xlabel('Predicted')\n",
        "plt.title('RoBERTa-base-resampled-cleaned-allTrainable-Cleaned-e2')\n",
        "plt.show()"
      ],
      "execution_count": 65,
      "outputs": [
        {
          "output_type": "display_data",
          "data": {
            "image/png": "[encoded data removed]",
            "text/plain": [
              "<Figure size 720x720 with 2 Axes>"
            ]
          },
          "metadata": {}
        }
      ]
    },
    {
      "cell_type": "code",
      "metadata": {
        "id": "7AQfu4IRE-Gr"
      },
      "source": [
        ""
      ],
      "execution_count": 65,
      "outputs": []
    },
    {
      "cell_type": "markdown",
      "metadata": {
        "id": "LGN6NOBEE-We"
      },
      "source": [
        "## For lemmatized Text"
      ]
    },
    {
      "cell_type": "code",
      "metadata": {
        "id": "42_lQ8qhE-We",
        "colab": {
          "base_uri": "https://localhost:8080/"
        },
        "outputId": "6b90ba74-858f-4495-b4ef-45fd24951f39"
      },
      "source": [
        "final_test_inputs, final_test_attention_masks = roberta_encode(list(test_file.lemmatized), max_length)"
      ],
      "execution_count": 66,
      "outputs": [
        {
          "output_type": "stream",
          "name": "stderr",
          "text": [
            "  0%|          | 0/829 [00:00<?, ?it/s]/usr/local/lib/python3.7/dist-packages/transformers/tokenization_utils_base.py:2217: FutureWarning: The `pad_to_max_length` argument is deprecated and will be removed in a future version, use `padding=True` or `padding='longest'` to pad to the longest sequence in the batch, or use `padding='max_length'` to pad to a max length. In this case, you can give a specific length with `max_length` (e.g. `max_length=45`) or leave max_length to None to pad to the maximal input size of the model (e.g. 512 for Bert).\n",
            "  FutureWarning,\n",
            "100%|██████████| 829/829 [00:00<00:00, 2664.89it/s]\n"
          ]
        }
      ]
    },
    {
      "cell_type": "code",
      "metadata": {
        "id": "ngjLfhuiE-We"
      },
      "source": [
        "y_preds = np.argmax(model.predict([final_test_inputs, final_test_attention_masks]), axis=1)"
      ],
      "execution_count": 67,
      "outputs": []
    },
    {
      "cell_type": "code",
      "metadata": {
        "id": "3Yc1ljJ8E-Wf",
        "colab": {
          "base_uri": "https://localhost:8080/"
        },
        "outputId": "9358318a-b4bd-4a36-dc56-dd1972adeec4"
      },
      "source": [
        "y_preds"
      ],
      "execution_count": 68,
      "outputs": [
        {
          "output_type": "execute_result",
          "data": {
            "text/plain": [
              "array([ 4,  8, 12, 23,  9, 18,  1, 12, 12, 18, 23,  3,  1, 14, 20,  2, 18,\n",
              "        8,  6,  3,  5,  0, 20,  3, 23,  6,  7, 18,  6, 18,  5,  0, 20, 21,\n",
              "       23, 20, 10, 22, 23, 16, 11,  0, 22, 18, 18,  5,  0,  8, 17, 18, 19,\n",
              "        3,  5, 11, 19, 16, 19, 17,  0, 18, 16,  3, 13,  5,  9,  8,  5, 18,\n",
              "        6, 17,  7,  1,  4, 20, 17, 12, 15,  1,  8, 21, 20, 20,  1,  3,  0,\n",
              "        6,  8,  7,  3, 18,  3, 13,  9,  0,  8, 18,  2,  1,  7, 12,  8, 20,\n",
              "       23,  0, 10, 18,  1,  3,  7,  2, 16,  3,  3, 12, 15,  4, 20,  3,  8,\n",
              "       23,  9,  9, 11,  8,  6,  0, 13, 19,  1,  0, 21,  0, 13, 19, 23,  3,\n",
              "        5, 16, 11, 14,  1,  6,  6,  0,  4,  0,  9,  1,  3, 23,  5, 13, 23,\n",
              "       23,  7, 14, 21, 13, 19, 19, 18, 14,  3, 18,  3,  0, 11, 21,  4, 18,\n",
              "       11, 18,  5, 15, 21,  1,  7, 18, 23, 11, 18,  3, 11, 11,  1, 20, 22,\n",
              "        5, 16, 20, 23,  3, 22, 19, 16, 22,  8, 20,  4, 22, 18, 22, 22, 22,\n",
              "        7, 11, 17,  4,  5, 20, 12,  7,  1, 12, 15, 16,  7,  8, 17,  3,  1,\n",
              "        1,  1,  3,  5, 22,  3, 16, 23, 12,  0, 23,  0,  2,  1,  4, 22, 13,\n",
              "        1,  8,  7, 17, 20,  0, 23, 24,  3,  2,  7,  9, 17, 18, 16,  1, 18,\n",
              "        1,  3,  7,  1, 18,  9,  8,  8, 20,  1,  9, 19, 10, 20,  2,  0,  3,\n",
              "       22, 11, 17,  4,  5,  5,  1, 16, 20, 23, 15,  3, 23,  3,  5,  7, 15,\n",
              "       20,  0, 22,  3,  4,  0,  5, 21,  1, 23,  8, 14,  2, 16,  2,  1, 10,\n",
              "        5, 18, 11,  4,  0, 22,  1, 20, 18,  3,  9,  5, 18, 14, 23,  3, 20,\n",
              "        9, 23,  5,  0,  0,  3,  9, 22,  7, 19, 14, 13, 11, 15,  4, 15, 22,\n",
              "        1,  3,  6, 18, 18, 18,  9,  7,  3,  8,  5,  9, 21, 11,  3, 18, 11,\n",
              "        2, 10,  6, 16, 22,  7, 19, 13, 22,  8,  3,  9,  9,  6,  7, 22,  6,\n",
              "        3,  0,  2,  2, 23,  8,  1,  9, 14,  7,  1, 22,  0, 12,  9, 12,  7,\n",
              "       23,  5, 17,  0, 13,  8, 11, 18, 23,  0,  0,  1, 16, 20, 16,  0,  3,\n",
              "       15, 18,  9, 20, 22, 11, 16, 18, 17,  7,  4, 15,  9, 16, 12, 22,  3,\n",
              "        0, 20,  0, 17, 20, 22, 18, 16, 19,  0,  7,  0, 20, 18, 18, 19,  4,\n",
              "       23,  8, 23,  1,  4,  1, 14, 16, 11,  7,  1,  8,  5,  1,  4, 21,  0,\n",
              "       22,  7, 18, 18, 14,  7, 22, 23,  3,  7,  7, 19, 17,  4,  4, 14,  6,\n",
              "        3,  8,  5, 14, 11,  5, 18, 18, 20, 17,  0, 21, 21,  6, 18, 17,  5,\n",
              "       18,  7, 19,  3, 21,  9,  5,  1, 23, 13, 15, 18,  9, 11, 23,  1, 20,\n",
              "       16, 19, 12,  4,  6, 20,  4,  5, 22,  4,  7, 11, 19, 22, 18,  0,  1,\n",
              "       21, 18, 21, 17, 18, 15, 17,  5, 22, 10, 20, 22,  7,  9, 17,  3, 15,\n",
              "       20, 19, 19,  0,  3, 11, 13, 19, 11,  8, 20,  0,  2, 21,  3,  1, 22,\n",
              "       19,  8,  0, 18, 22, 19,  4, 23,  9, 12,  5,  9, 14, 21,  5, 22,  9,\n",
              "        5,  8,  7,  3, 18,  2,  3, 16,  5,  1, 14,  0, 21, 18,  3, 10,  3,\n",
              "       18, 19, 14, 21,  8, 22, 19,  8, 14,  3,  2, 19, 19,  1,  3, 23,  4,\n",
              "       20,  1, 23, 17, 20,  4,  8, 21,  3, 18, 18,  4, 16, 16, 14,  8, 22,\n",
              "       21,  2, 23,  0, 15, 22,  6,  5, 18, 22, 17, 22, 23,  5,  3, 11, 21,\n",
              "       19, 20,  4, 19, 23,  4, 21, 18, 21, 17, 20, 15,  3, 12, 22, 23,  8,\n",
              "       16, 22, 20, 19, 12, 22, 11, 24, 18, 11, 21, 20, 11,  0,  3, 18, 18,\n",
              "        5,  5, 19, 19,  1,  7, 20,  1, 11, 23, 19,  1, 19,  1, 22, 19,  8,\n",
              "        1,  5, 15,  9, 22,  1,  7,  2,  0, 11, 13,  3, 20, 15, 19, 18, 10,\n",
              "       16, 18,  5,  6,  4, 22, 19, 18, 17, 12, 20, 11,  8,  1, 19,  5,  8,\n",
              "        3, 20,  8, 19, 14, 18, 14, 11,  3,  2,  0,  1, 17,  3,  0, 12, 12,\n",
              "       19,  0,  1, 20, 22,  3, 18, 18,  4, 19, 13,  2,  8, 20,  5, 16, 13,\n",
              "        3,  5, 18,  6, 19,  9,  5,  7,  5,  7,  3, 10, 22,  3,  2,  5, 23,\n",
              "       21,  5, 11, 18,  3, 16,  0, 19, 18, 19,  3,  3,  0, 22, 16, 22,  8,\n",
              "        5, 11,  4, 14,  3,  1,  1,  1, 12, 16,  2, 23,  5, 11,  0,  7, 16,\n",
              "       17, 21,  4,  1, 13, 11, 20, 17, 13,  1,  5, 13, 19])"
            ]
          },
          "metadata": {},
          "execution_count": 68
        }
      ]
    },
    {
      "cell_type": "code",
      "metadata": {
        "id": "cd7lJAnNE-Wf"
      },
      "source": [
        "test_file['pred-labels-lemmatized'] = y_preds"
      ],
      "execution_count": 69,
      "outputs": []
    },
    {
      "cell_type": "code",
      "metadata": {
        "id": "9ye1xFtZE-Wf",
        "colab": {
          "base_uri": "https://localhost:8080/",
          "height": 707
        },
        "outputId": "460d6d5d-080b-4a5a-dfaa-f5084e19b1c5"
      },
      "source": [
        "test_file.head()"
      ],
      "execution_count": 70,
      "outputs": [
        {
          "output_type": "execute_result",
          "data": {
            "text/html": [
              "<div>\n",
              "<style scoped>\n",
              "    .dataframe tbody tr th:only-of-type {\n",
              "        vertical-align: middle;\n",
              "    }\n",
              "\n",
              "    .dataframe tbody tr th {\n",
              "        vertical-align: top;\n",
              "    }\n",
              "\n",
              "    .dataframe thead th {\n",
              "        text-align: right;\n",
              "    }\n",
              "</style>\n",
              "<table border=\"1\" class=\"dataframe\">\n",
              "  <thead>\n",
              "    <tr style=\"text-align: right;\">\n",
              "      <th></th>\n",
              "      <th>EventSnippet</th>\n",
              "      <th>SubType</th>\n",
              "      <th>processed</th>\n",
              "      <th>lemmatized</th>\n",
              "      <th>pred-labels-cleaned</th>\n",
              "      <th>text-labels-cleaned</th>\n",
              "      <th>pred-labels-lemmatized</th>\n",
              "    </tr>\n",
              "    <tr>\n",
              "      <th>id</th>\n",
              "      <th></th>\n",
              "      <th></th>\n",
              "      <th></th>\n",
              "      <th></th>\n",
              "      <th></th>\n",
              "      <th></th>\n",
              "      <th></th>\n",
              "    </tr>\n",
              "  </thead>\n",
              "  <tbody>\n",
              "    <tr>\n",
              "      <th>1</th>\n",
              "      <td>The US warplanes pounded the village of Kashka...</td>\n",
              "      <td>AIR_STRIKE</td>\n",
              "      <td>the us warplanes pounded the village of kashka...</td>\n",
              "      <td>u warplane pounded village kashkash southern p...</td>\n",
              "      <td>4</td>\n",
              "      <td>AIR_STRIKE</td>\n",
              "      <td>4</td>\n",
              "    </tr>\n",
              "    <tr>\n",
              "      <th>3</th>\n",
              "      <td>Officers brutally attacked and injured a peace...</td>\n",
              "      <td>FORCE_AGAINST_PROTEST</td>\n",
              "      <td>officers brutally attacked and injured a peace...</td>\n",
              "      <td>officer brutally attacked injured peaceful stu...</td>\n",
              "      <td>8</td>\n",
              "      <td>FORCE_AGAINST_PROTEST</td>\n",
              "      <td>8</td>\n",
              "    </tr>\n",
              "    <tr>\n",
              "      <th>4</th>\n",
              "      <td>On December 13, ISIS fighters recaptured the v...</td>\n",
              "      <td>NON_STATE_ACTOR_OVERTAKES_TER</td>\n",
              "      <td>isis fighters recaptured the village of kashma...</td>\n",
              "      <td>isi fighter recaptured village kashma syrian a...</td>\n",
              "      <td>12</td>\n",
              "      <td>GOV_REGAINS_TERIT</td>\n",
              "      <td>12</td>\n",
              "    </tr>\n",
              "    <tr>\n",
              "      <th>5</th>\n",
              "      <td>Vice-President Mike Pence said Thursday that t...</td>\n",
              "      <td>AGREEMENT</td>\n",
              "      <td>vice-president mike pence said thursday that t...</td>\n",
              "      <td>vice-president mike penny said thursday mainly...</td>\n",
              "      <td>23</td>\n",
              "      <td>AGREEMENT</td>\n",
              "      <td>23</td>\n",
              "    </tr>\n",
              "    <tr>\n",
              "      <th>6</th>\n",
              "      <td>A helicopter on Thursday is said to have dropp...</td>\n",
              "      <td>CHEM_WEAP</td>\n",
              "      <td>a helicopter thursday is said to have dropped ...</td>\n",
              "      <td>helicopter thursday said dropped container tox...</td>\n",
              "      <td>18</td>\n",
              "      <td>DISR_WEAP</td>\n",
              "      <td>9</td>\n",
              "    </tr>\n",
              "  </tbody>\n",
              "</table>\n",
              "</div>"
            ],
            "text/plain": [
              "                                         EventSnippet  ... pred-labels-lemmatized\n",
              "id                                                     ...                       \n",
              "1   The US warplanes pounded the village of Kashka...  ...                      4\n",
              "3   Officers brutally attacked and injured a peace...  ...                      8\n",
              "4   On December 13, ISIS fighters recaptured the v...  ...                     12\n",
              "5   Vice-President Mike Pence said Thursday that t...  ...                     23\n",
              "6   A helicopter on Thursday is said to have dropp...  ...                      9\n",
              "\n",
              "[5 rows x 7 columns]"
            ]
          },
          "metadata": {},
          "execution_count": 70
        }
      ]
    },
    {
      "cell_type": "code",
      "metadata": {
        "id": "LJy7ydQME-Wf"
      },
      "source": [
        "def num_to_text_labels(num):\n",
        "    text = event_types_dict_inverse[num]\n",
        "    return text\n",
        "\n",
        "test_file['text-labels-lemmatized'] = test_file['pred-labels-lemmatized'].apply(num_to_text_labels)"
      ],
      "execution_count": 71,
      "outputs": []
    },
    {
      "cell_type": "code",
      "metadata": {
        "id": "RKc6DC6eE-Wf",
        "colab": {
          "base_uri": "https://localhost:8080/",
          "height": 707
        },
        "outputId": "1a6e2be6-7e45-4e63-e6ff-3bdf661a3614"
      },
      "source": [
        "test_file.head()"
      ],
      "execution_count": 72,
      "outputs": [
        {
          "output_type": "execute_result",
          "data": {
            "text/html": [
              "<div>\n",
              "<style scoped>\n",
              "    .dataframe tbody tr th:only-of-type {\n",
              "        vertical-align: middle;\n",
              "    }\n",
              "\n",
              "    .dataframe tbody tr th {\n",
              "        vertical-align: top;\n",
              "    }\n",
              "\n",
              "    .dataframe thead th {\n",
              "        text-align: right;\n",
              "    }\n",
              "</style>\n",
              "<table border=\"1\" class=\"dataframe\">\n",
              "  <thead>\n",
              "    <tr style=\"text-align: right;\">\n",
              "      <th></th>\n",
              "      <th>EventSnippet</th>\n",
              "      <th>SubType</th>\n",
              "      <th>processed</th>\n",
              "      <th>lemmatized</th>\n",
              "      <th>pred-labels-cleaned</th>\n",
              "      <th>text-labels-cleaned</th>\n",
              "      <th>pred-labels-lemmatized</th>\n",
              "      <th>text-labels-lemmatized</th>\n",
              "    </tr>\n",
              "    <tr>\n",
              "      <th>id</th>\n",
              "      <th></th>\n",
              "      <th></th>\n",
              "      <th></th>\n",
              "      <th></th>\n",
              "      <th></th>\n",
              "      <th></th>\n",
              "      <th></th>\n",
              "      <th></th>\n",
              "    </tr>\n",
              "  </thead>\n",
              "  <tbody>\n",
              "    <tr>\n",
              "      <th>1</th>\n",
              "      <td>The US warplanes pounded the village of Kashka...</td>\n",
              "      <td>AIR_STRIKE</td>\n",
              "      <td>the us warplanes pounded the village of kashka...</td>\n",
              "      <td>u warplane pounded village kashkash southern p...</td>\n",
              "      <td>4</td>\n",
              "      <td>AIR_STRIKE</td>\n",
              "      <td>4</td>\n",
              "      <td>AIR_STRIKE</td>\n",
              "    </tr>\n",
              "    <tr>\n",
              "      <th>3</th>\n",
              "      <td>Officers brutally attacked and injured a peace...</td>\n",
              "      <td>FORCE_AGAINST_PROTEST</td>\n",
              "      <td>officers brutally attacked and injured a peace...</td>\n",
              "      <td>officer brutally attacked injured peaceful stu...</td>\n",
              "      <td>8</td>\n",
              "      <td>FORCE_AGAINST_PROTEST</td>\n",
              "      <td>8</td>\n",
              "      <td>FORCE_AGAINST_PROTEST</td>\n",
              "    </tr>\n",
              "    <tr>\n",
              "      <th>4</th>\n",
              "      <td>On December 13, ISIS fighters recaptured the v...</td>\n",
              "      <td>NON_STATE_ACTOR_OVERTAKES_TER</td>\n",
              "      <td>isis fighters recaptured the village of kashma...</td>\n",
              "      <td>isi fighter recaptured village kashma syrian a...</td>\n",
              "      <td>12</td>\n",
              "      <td>GOV_REGAINS_TERIT</td>\n",
              "      <td>12</td>\n",
              "      <td>GOV_REGAINS_TERIT</td>\n",
              "    </tr>\n",
              "    <tr>\n",
              "      <th>5</th>\n",
              "      <td>Vice-President Mike Pence said Thursday that t...</td>\n",
              "      <td>AGREEMENT</td>\n",
              "      <td>vice-president mike pence said thursday that t...</td>\n",
              "      <td>vice-president mike penny said thursday mainly...</td>\n",
              "      <td>23</td>\n",
              "      <td>AGREEMENT</td>\n",
              "      <td>23</td>\n",
              "      <td>AGREEMENT</td>\n",
              "    </tr>\n",
              "    <tr>\n",
              "      <th>6</th>\n",
              "      <td>A helicopter on Thursday is said to have dropp...</td>\n",
              "      <td>CHEM_WEAP</td>\n",
              "      <td>a helicopter thursday is said to have dropped ...</td>\n",
              "      <td>helicopter thursday said dropped container tox...</td>\n",
              "      <td>18</td>\n",
              "      <td>DISR_WEAP</td>\n",
              "      <td>9</td>\n",
              "      <td>PROPERTY_DISTRUCT</td>\n",
              "    </tr>\n",
              "  </tbody>\n",
              "</table>\n",
              "</div>"
            ],
            "text/plain": [
              "                                         EventSnippet  ... text-labels-lemmatized\n",
              "id                                                     ...                       \n",
              "1   The US warplanes pounded the village of Kashka...  ...             AIR_STRIKE\n",
              "3   Officers brutally attacked and injured a peace...  ...  FORCE_AGAINST_PROTEST\n",
              "4   On December 13, ISIS fighters recaptured the v...  ...      GOV_REGAINS_TERIT\n",
              "5   Vice-President Mike Pence said Thursday that t...  ...              AGREEMENT\n",
              "6   A helicopter on Thursday is said to have dropp...  ...      PROPERTY_DISTRUCT\n",
              "\n",
              "[5 rows x 8 columns]"
            ]
          },
          "metadata": {},
          "execution_count": 72
        }
      ]
    },
    {
      "cell_type": "code",
      "metadata": {
        "id": "9f0GFxGzE-Wf"
      },
      "source": [
        "test_file.to_csv('results-roberta-Untrained-base-resampled-cleaned-epoch-2.csv', index=True)"
      ],
      "execution_count": 73,
      "outputs": []
    },
    {
      "cell_type": "code",
      "metadata": {
        "id": "9hyaxd3qE-Wf",
        "colab": {
          "base_uri": "https://localhost:8080/"
        },
        "outputId": "17b3e067-003c-4bd7-bcb0-b521c16adab7"
      },
      "source": [
        "\n",
        "from sklearn.metrics import classification_report\n",
        "\n",
        "print(classification_report(y_true= list(test_file.SubType), y_pred= list(test_file['text-labels-lemmatized'])))"
      ],
      "execution_count": 74,
      "outputs": [
        {
          "output_type": "stream",
          "name": "stdout",
          "text": [
            "                               precision    recall  f1-score   support\n",
            "\n",
            "                ABDUCT_DISSAP       0.78      0.70      0.74        20\n",
            "                    AGREEMENT       0.77      0.97      0.86        31\n",
            "                   AIR_STRIKE       0.74      0.64      0.69        36\n",
            "                  ARMED_CLASH       0.88      0.64      0.74        66\n",
            "                       ARREST       0.83      0.74      0.78        34\n",
            "              ART_MISS_ATTACK       0.65      0.89      0.75        36\n",
            "                       ATTACK       0.37      0.89      0.52        27\n",
            "          CHANGE_TO_GROUP_ACT       0.85      0.57      0.68        30\n",
            "                    CHEM_WEAP       0.50      0.03      0.05        37\n",
            "                    DISR_WEAP       0.79      0.90      0.84        58\n",
            "        FORCE_AGAINST_PROTEST       0.49      0.78      0.60        23\n",
            "            GOV_REGAINS_TERIT       0.65      0.34      0.45        38\n",
            "                      GRENADE       0.98      0.90      0.93        48\n",
            "               HQ_ESTABLISHED       0.69      0.82      0.75        22\n",
            "                     MOB_VIOL       0.56      0.59      0.57        17\n",
            "NON_STATE_ACTOR_OVERTAKES_TER       0.47      0.33      0.39        24\n",
            "     NON_VIOL_TERRIT_TRANSFER       0.34      0.71      0.46        21\n",
            "                        OTHER       0.22      0.25      0.24         8\n",
            "                PEACE_PROTEST       0.80      0.77      0.79        57\n",
            "            PROPERTY_DISTRUCT       0.43      0.57      0.49        21\n",
            "           PROTEST_WITH_INTER       0.47      0.77      0.59        22\n",
            "                   REM_EXPLOS       0.83      0.81      0.82        36\n",
            "                     SEX_VIOL       0.88      0.96      0.92        23\n",
            "                    SUIC_BOMB       0.83      0.95      0.89        41\n",
            "                VIOL_DEMONSTR       0.80      0.30      0.44        53\n",
            "\n",
            "                     accuracy                           0.68       829\n",
            "                    macro avg       0.66      0.67      0.64       829\n",
            "                 weighted avg       0.72      0.68      0.67       829\n",
            "\n"
          ]
        }
      ]
    },
    {
      "cell_type": "code",
      "metadata": {
        "id": "DpqgUVE0E-Wg",
        "colab": {
          "base_uri": "https://localhost:8080/",
          "height": 717
        },
        "outputId": "67172e0b-17b8-47dc-e80a-108d676e1ba1"
      },
      "source": [
        "from sklearn.metrics import confusion_matrix\n",
        "conf_mat = confusion_matrix( list(test_file.SubType), list(test_file['text-labels-lemmatized']))\n",
        "fig, ax = plt.subplots(figsize=(10,10))\n",
        "sns.heatmap(conf_mat, annot=True, fmt='d',\n",
        "            xticklabels=set(test_file.SubType), yticklabels=set(test_file.SubType))\n",
        "plt.ylabel('Actual')\n",
        "plt.xlabel('Predicted')\n",
        "plt.title('RoBERTa-base-resampled-cleaned-allTrainable-Lemmatized-e2')\n",
        "plt.show()"
      ],
      "execution_count": 75,
      "outputs": [
        {
          "output_type": "display_data",
          "data": {
            "image/png": "[encoded data removed]",
            "text/plain": [
              "<Figure size 720x720 with 2 Axes>"
            ]
          },
          "metadata": {}
        }
      ]
    },
    {
      "cell_type": "code",
      "metadata": {
        "id": "htjTSdwYGwbm"
      },
      "source": [
        ""
      ],
      "execution_count": 75,
      "outputs": []
    },
    {
      "cell_type": "code",
      "metadata": {
        "id": "mH4q9uGRItWh"
      },
      "source": [
        ""
      ],
      "execution_count": 75,
      "outputs": []
    },
    {
      "cell_type": "code",
      "metadata": {
        "id": "TKcUP364IzU2"
      },
      "source": [
        ""
      ],
      "execution_count": 75,
      "outputs": []
    },
    {
      "cell_type": "code",
      "metadata": {
        "id": "x964cQTkIwYZ"
      },
      "source": [
        ""
      ],
      "execution_count": 75,
      "outputs": []
    },
    {
      "cell_type": "markdown",
      "metadata": {
        "id": "-Dt8GZYPI2X-"
      },
      "source": [
        "# Epoch - 1"
      ]
    },
    {
      "cell_type": "code",
      "metadata": {
        "id": "pmYHR0luY0oU"
      },
      "source": [
        "model.load_weights('/content/RoBERTa-base.h5')"
      ],
      "execution_count": 76,
      "outputs": []
    },
    {
      "cell_type": "code",
      "metadata": {
        "id": "Pi7z78dGI2X_"
      },
      "source": [
        "test_file = pd.read_csv('/content/drive/MyDrive/Shared Task 2021/test-set-with-labels-cleaned.txt', index_col=0)"
      ],
      "execution_count": null,
      "outputs": []
    },
    {
      "cell_type": "code",
      "metadata": {
        "id": "DUyp-pN_I2X_"
      },
      "source": [
        "test_file.head()"
      ],
      "execution_count": null,
      "outputs": []
    },
    {
      "cell_type": "markdown",
      "metadata": {
        "id": "kdrr8NT1I2X_"
      },
      "source": [
        "## For Cleaned Text"
      ]
    },
    {
      "cell_type": "code",
      "metadata": {
        "id": "sr_DI4ZmI2YA"
      },
      "source": [
        "final_test_inputs, final_test_attention_masks = roberta_encode(list(test_file.processed), max_length)"
      ],
      "execution_count": null,
      "outputs": []
    },
    {
      "cell_type": "code",
      "metadata": {
        "id": "VuRAW9o7I2YB"
      },
      "source": [
        "y_preds = np.argmax(model.predict([final_test_inputs, final_test_attention_masks]), axis=1)"
      ],
      "execution_count": null,
      "outputs": []
    },
    {
      "cell_type": "code",
      "metadata": {
        "id": "SgU-__bcI2YB"
      },
      "source": [
        "y_preds"
      ],
      "execution_count": null,
      "outputs": []
    },
    {
      "cell_type": "code",
      "metadata": {
        "id": "C2jEPYsfI2YB"
      },
      "source": [
        "test_file['pred-labels-cleaned'] = y_preds"
      ],
      "execution_count": null,
      "outputs": []
    },
    {
      "cell_type": "code",
      "metadata": {
        "id": "QVbd80bvI2YB"
      },
      "source": [
        "test_file.head()"
      ],
      "execution_count": null,
      "outputs": []
    },
    {
      "cell_type": "code",
      "metadata": {
        "id": "1MK4z7MzI2YB"
      },
      "source": [
        "def num_to_text_labels(num):\n",
        "    text = event_types_dict_inverse[num]\n",
        "    return text\n",
        "\n",
        "test_file['text-labels-cleaned'] = test_file['pred-labels-cleaned'].apply(num_to_text_labels)"
      ],
      "execution_count": null,
      "outputs": []
    },
    {
      "cell_type": "code",
      "metadata": {
        "id": "FNo9KNZHI2YB"
      },
      "source": [
        "test_file.head()"
      ],
      "execution_count": null,
      "outputs": []
    },
    {
      "cell_type": "markdown",
      "metadata": {
        "id": "ypuegdJmJv_E"
      },
      "source": [
        "### **classification_report**"
      ]
    },
    {
      "cell_type": "code",
      "metadata": {
        "id": "WOsfPi-CI2YB"
      },
      "source": [
        "\n",
        "from sklearn.metrics import classification_report\n",
        "\n",
        "print(classification_report(y_true= list(test_file.SubType), y_pred= list(test_file['text-labels-cleaned'])))"
      ],
      "execution_count": null,
      "outputs": []
    },
    {
      "cell_type": "code",
      "metadata": {
        "id": "xmGbDcSdI2YC"
      },
      "source": [
        "from sklearn.metrics import confusion_matrix\n",
        "conf_mat = confusion_matrix(list(test_file.SubType), list(test_file['text-labels-cleaned']))\n",
        "fig, ax = plt.subplots(figsize=(10,10))\n",
        "sns.heatmap(conf_mat, annot=True, fmt='d',\n",
        "            xticklabels=set(test_file.SubType), yticklabels=set(test_file.SubType))\n",
        "plt.ylabel('Actual')\n",
        "plt.xlabel('Predicted')\n",
        "plt.title('RoBERTa-base-resampled-cleaned-allTrainable-Cleaned-e1')\n",
        "plt.show()"
      ],
      "execution_count": null,
      "outputs": []
    },
    {
      "cell_type": "code",
      "metadata": {
        "id": "doBZpPz8I2YC"
      },
      "source": [
        ""
      ],
      "execution_count": null,
      "outputs": []
    },
    {
      "cell_type": "markdown",
      "metadata": {
        "id": "-mTSWsOvI2YC"
      },
      "source": [
        "## For lemmatized Text"
      ]
    },
    {
      "cell_type": "code",
      "metadata": {
        "id": "SVz4JDRcI2YC"
      },
      "source": [
        "final_test_inputs, final_test_attention_masks = roberta_encode(list(test_file.lemmatized), max_length)"
      ],
      "execution_count": null,
      "outputs": []
    },
    {
      "cell_type": "code",
      "metadata": {
        "id": "lToIqaMFI2YC"
      },
      "source": [
        "y_preds = np.argmax(model.predict([final_test_inputs, final_test_attention_masks]), axis=1)"
      ],
      "execution_count": null,
      "outputs": []
    },
    {
      "cell_type": "code",
      "metadata": {
        "id": "nY8FQnQmI2YC"
      },
      "source": [
        "y_preds"
      ],
      "execution_count": null,
      "outputs": []
    },
    {
      "cell_type": "code",
      "metadata": {
        "id": "0Sp2zIQ-I2YC"
      },
      "source": [
        "test_file['pred-labels-lemmatized'] = y_preds"
      ],
      "execution_count": null,
      "outputs": []
    },
    {
      "cell_type": "code",
      "metadata": {
        "id": "5BaUO4W1I2YD"
      },
      "source": [
        "test_file.head()"
      ],
      "execution_count": null,
      "outputs": []
    },
    {
      "cell_type": "code",
      "metadata": {
        "id": "GNJFbDJKI2YD"
      },
      "source": [
        "def num_to_text_labels(num):\n",
        "    text = event_types_dict_inverse[num]\n",
        "    return text\n",
        "\n",
        "test_file['text-labels-lemmatized'] = test_file['pred-labels-lemmatized'].apply(num_to_text_labels)"
      ],
      "execution_count": null,
      "outputs": []
    },
    {
      "cell_type": "code",
      "metadata": {
        "id": "_ka8JhJuI2YD"
      },
      "source": [
        "test_file.head()"
      ],
      "execution_count": null,
      "outputs": []
    },
    {
      "cell_type": "code",
      "metadata": {
        "id": "JzEusuKeI2YD"
      },
      "source": [
        "test_file.to_csv('results-roberta-Untrained-base-resampled-cleaned-epoch-1.csv', index=True)"
      ],
      "execution_count": null,
      "outputs": []
    },
    {
      "cell_type": "markdown",
      "metadata": {
        "id": "GpuskYVLJ6l8"
      },
      "source": [
        "### **classification_report**"
      ]
    },
    {
      "cell_type": "code",
      "metadata": {
        "id": "xFt2hZAuI2YE"
      },
      "source": [
        "\n",
        "from sklearn.metrics import classification_report\n",
        "\n",
        "print(classification_report(y_true= list(test_file.SubType), y_pred= list(test_file['text-labels-lemmatized'])))"
      ],
      "execution_count": null,
      "outputs": []
    },
    {
      "cell_type": "code",
      "metadata": {
        "id": "cHVPFe2xI2YE"
      },
      "source": [
        "from sklearn.metrics import confusion_matrix\n",
        "conf_mat = confusion_matrix( list(test_file.SubType), list(test_file['text-labels-lemmatized']))\n",
        "fig, ax = plt.subplots(figsize=(10,10))\n",
        "sns.heatmap(conf_mat, annot=True, fmt='d',\n",
        "            xticklabels=set(test_file.SubType), yticklabels=set(test_file.SubType))\n",
        "plt.ylabel('Actual')\n",
        "plt.xlabel('Predicted')\n",
        "plt.title('RoBERTa-base-resampled-cleaned-allTrainable-Lemmatized-e1')\n",
        "plt.show()"
      ],
      "execution_count": null,
      "outputs": []
    },
    {
      "cell_type": "code",
      "metadata": {
        "id": "f_7PKMKlI2YE"
      },
      "source": [
        ""
      ],
      "execution_count": null,
      "outputs": []
    },
    {
      "cell_type": "code",
      "metadata": {
        "id": "Mu0loB1xI2YE"
      },
      "source": [
        ""
      ],
      "execution_count": null,
      "outputs": []
    },
    {
      "cell_type": "code",
      "metadata": {
        "id": "CntcEJekI2YE"
      },
      "source": [
        ""
      ],
      "execution_count": null,
      "outputs": []
    }
  ]
}