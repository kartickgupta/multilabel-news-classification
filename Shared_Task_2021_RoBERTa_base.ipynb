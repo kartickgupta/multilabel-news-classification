{
  "nbformat": 4,
  "nbformat_minor": 0,
  "metadata": {
    "colab": {
      "name": "Shared-Task-2021-RoBERTa-base.ipynb",
      "provenance": [],
      "collapsed_sections": [],
      "toc_visible": true,
      "authorship_tag": "ABX9TyP1vjiELkwic54AGqHy/CUd",
      "include_colab_link": true
    },
    "kernelspec": {
      "display_name": "Python 3",
      "name": "python3"
    },
    "language_info": {
      "name": "python"
    }
  },
  "cells": [
    {
      "cell_type": "markdown",
      "metadata": {
        "id": "view-in-github",
        "colab_type": "text"
      },
      "source": [
        "<a href=\"https://colab.research.google.com/github/kartickgupta/shared-task-2021/blob/main/Shared_Task_2021_RoBERTa_base.ipynb\" target=\"_parent\"><img src=\"https://colab.research.google.com/assets/colab-badge.svg\" alt=\"Open In Colab\"/></a>"
      ]
    },
    {
      "cell_type": "code",
      "metadata": {
        "colab": {
          "base_uri": "https://localhost:8080/"
        },
        "id": "VzaW6O_8g-qK",
        "outputId": "ab1c5a5d-6833-490b-e974-b73d3720959c"
      },
      "source": [
        "gpu_info = !nvidia-smi\n",
        "gpu_info = '\\n'.join(gpu_info)\n",
        "if gpu_info.find('failed') >= 0:\n",
        "  print('Not connected to a GPU')\n",
        "else:\n",
        "  print(gpu_info)"
      ],
      "execution_count": null,
      "outputs": [
        {
          "output_type": "stream",
          "name": "stdout",
          "text": [
            "Fri Oct  1 07:20:01 2021       \n",
            "+-----------------------------------------------------------------------------+\n",
            "| NVIDIA-SMI 470.63.01    Driver Version: 460.32.03    CUDA Version: 11.2     |\n",
            "|-------------------------------+----------------------+----------------------+\n",
            "| GPU  Name        Persistence-M| Bus-Id        Disp.A | Volatile Uncorr. ECC |\n",
            "| Fan  Temp  Perf  Pwr:Usage/Cap|         Memory-Usage | GPU-Util  Compute M. |\n",
            "|                               |                      |               MIG M. |\n",
            "|===============================+======================+======================|\n",
            "|   0  Tesla P100-PCIE...  Off  | 00000000:00:04.0 Off |                    0 |\n",
            "| N/A   66C    P0    46W / 250W |  15855MiB / 16280MiB |      0%      Default |\n",
            "|                               |                      |                  N/A |\n",
            "+-------------------------------+----------------------+----------------------+\n",
            "                                                                               \n",
            "+-----------------------------------------------------------------------------+\n",
            "| Processes:                                                                  |\n",
            "|  GPU   GI   CI        PID   Type   Process name                  GPU Memory |\n",
            "|        ID   ID                                                   Usage      |\n",
            "|=============================================================================|\n",
            "|  No running processes found                                                 |\n",
            "+-----------------------------------------------------------------------------+\n"
          ]
        }
      ]
    },
    {
      "cell_type": "code",
      "metadata": {
        "colab": {
          "base_uri": "https://localhost:8080/"
        },
        "id": "VFEymR8P3uaS",
        "outputId": "794e0dd5-fe3d-4df4-c1b7-6185c87ceb1f"
      },
      "source": [
        "!pip install textaugment\n",
        "import nltk\n",
        "nltk.download('all')"
      ],
      "execution_count": null,
      "outputs": [
        {
          "output_type": "stream",
          "name": "stdout",
          "text": [
            "Requirement already satisfied: textaugment in /usr/local/lib/python3.7/dist-packages (1.3.4)\n",
            "Requirement already satisfied: textblob in /usr/local/lib/python3.7/dist-packages (from textaugment) (0.15.3)\n",
            "Requirement already satisfied: gensim in /usr/local/lib/python3.7/dist-packages (from textaugment) (3.6.0)\n",
            "Requirement already satisfied: googletrans in /usr/local/lib/python3.7/dist-packages (from textaugment) (3.0.0)\n",
            "Requirement already satisfied: numpy in /usr/local/lib/python3.7/dist-packages (from textaugment) (1.19.5)\n",
            "Requirement already satisfied: nltk in /usr/local/lib/python3.7/dist-packages (from textaugment) (3.2.5)\n",
            "Requirement already satisfied: six>=1.5.0 in /usr/local/lib/python3.7/dist-packages (from gensim->textaugment) (1.15.0)\n",
            "Requirement already satisfied: smart-open>=1.2.1 in /usr/local/lib/python3.7/dist-packages (from gensim->textaugment) (5.2.1)\n",
            "Requirement already satisfied: scipy>=0.18.1 in /usr/local/lib/python3.7/dist-packages (from gensim->textaugment) (1.4.1)\n",
            "Requirement already satisfied: httpx==0.13.3 in /usr/local/lib/python3.7/dist-packages (from googletrans->textaugment) (0.13.3)\n",
            "Requirement already satisfied: certifi in /usr/local/lib/python3.7/dist-packages (from httpx==0.13.3->googletrans->textaugment) (2021.5.30)\n",
            "Requirement already satisfied: hstspreload in /usr/local/lib/python3.7/dist-packages (from httpx==0.13.3->googletrans->textaugment) (2021.10.1)\n",
            "Requirement already satisfied: rfc3986<2,>=1.3 in /usr/local/lib/python3.7/dist-packages (from httpx==0.13.3->googletrans->textaugment) (1.5.0)\n",
            "Requirement already satisfied: httpcore==0.9.* in /usr/local/lib/python3.7/dist-packages (from httpx==0.13.3->googletrans->textaugment) (0.9.1)\n",
            "Requirement already satisfied: sniffio in /usr/local/lib/python3.7/dist-packages (from httpx==0.13.3->googletrans->textaugment) (1.2.0)\n",
            "Requirement already satisfied: chardet==3.* in /usr/local/lib/python3.7/dist-packages (from httpx==0.13.3->googletrans->textaugment) (3.0.4)\n",
            "Requirement already satisfied: idna==2.* in /usr/local/lib/python3.7/dist-packages (from httpx==0.13.3->googletrans->textaugment) (2.10)\n",
            "Requirement already satisfied: h2==3.* in /usr/local/lib/python3.7/dist-packages (from httpcore==0.9.*->httpx==0.13.3->googletrans->textaugment) (3.2.0)\n",
            "Requirement already satisfied: h11<0.10,>=0.8 in /usr/local/lib/python3.7/dist-packages (from httpcore==0.9.*->httpx==0.13.3->googletrans->textaugment) (0.9.0)\n",
            "Requirement already satisfied: hyperframe<6,>=5.2.0 in /usr/local/lib/python3.7/dist-packages (from h2==3.*->httpcore==0.9.*->httpx==0.13.3->googletrans->textaugment) (5.2.0)\n",
            "Requirement already satisfied: hpack<4,>=3.0 in /usr/local/lib/python3.7/dist-packages (from h2==3.*->httpcore==0.9.*->httpx==0.13.3->googletrans->textaugment) (3.0.0)\n",
            "[nltk_data] Downloading collection 'all'\n",
            "[nltk_data]    | \n",
            "[nltk_data]    | Downloading package abc to /root/nltk_data...\n",
            "[nltk_data]    |   Package abc is already up-to-date!\n",
            "[nltk_data]    | Downloading package alpino to /root/nltk_data...\n",
            "[nltk_data]    |   Package alpino is already up-to-date!\n",
            "[nltk_data]    | Downloading package biocreative_ppi to\n",
            "[nltk_data]    |     /root/nltk_data...\n",
            "[nltk_data]    |   Package biocreative_ppi is already up-to-date!\n",
            "[nltk_data]    | Downloading package brown to /root/nltk_data...\n",
            "[nltk_data]    |   Package brown is already up-to-date!\n",
            "[nltk_data]    | Downloading package brown_tei to /root/nltk_data...\n",
            "[nltk_data]    |   Package brown_tei is already up-to-date!\n",
            "[nltk_data]    | Downloading package cess_cat to /root/nltk_data...\n",
            "[nltk_data]    |   Package cess_cat is already up-to-date!\n",
            "[nltk_data]    | Downloading package cess_esp to /root/nltk_data...\n",
            "[nltk_data]    |   Package cess_esp is already up-to-date!\n",
            "[nltk_data]    | Downloading package chat80 to /root/nltk_data...\n",
            "[nltk_data]    |   Package chat80 is already up-to-date!\n",
            "[nltk_data]    | Downloading package city_database to\n",
            "[nltk_data]    |     /root/nltk_data...\n",
            "[nltk_data]    |   Package city_database is already up-to-date!\n",
            "[nltk_data]    | Downloading package cmudict to /root/nltk_data...\n",
            "[nltk_data]    |   Package cmudict is already up-to-date!\n",
            "[nltk_data]    | Downloading package comparative_sentences to\n",
            "[nltk_data]    |     /root/nltk_data...\n",
            "[nltk_data]    |   Package comparative_sentences is already up-to-\n",
            "[nltk_data]    |       date!\n",
            "[nltk_data]    | Downloading package comtrans to /root/nltk_data...\n",
            "[nltk_data]    |   Package comtrans is already up-to-date!\n",
            "[nltk_data]    | Downloading package conll2000 to /root/nltk_data...\n",
            "[nltk_data]    |   Package conll2000 is already up-to-date!\n",
            "[nltk_data]    | Downloading package conll2002 to /root/nltk_data...\n",
            "[nltk_data]    |   Package conll2002 is already up-to-date!\n",
            "[nltk_data]    | Downloading package conll2007 to /root/nltk_data...\n",
            "[nltk_data]    |   Package conll2007 is already up-to-date!\n",
            "[nltk_data]    | Downloading package crubadan to /root/nltk_data...\n",
            "[nltk_data]    |   Package crubadan is already up-to-date!\n",
            "[nltk_data]    | Downloading package dependency_treebank to\n",
            "[nltk_data]    |     /root/nltk_data...\n",
            "[nltk_data]    |   Package dependency_treebank is already up-to-date!\n",
            "[nltk_data]    | Downloading package dolch to /root/nltk_data...\n",
            "[nltk_data]    |   Package dolch is already up-to-date!\n",
            "[nltk_data]    | Downloading package europarl_raw to\n",
            "[nltk_data]    |     /root/nltk_data...\n",
            "[nltk_data]    |   Package europarl_raw is already up-to-date!\n",
            "[nltk_data]    | Downloading package floresta to /root/nltk_data...\n",
            "[nltk_data]    |   Package floresta is already up-to-date!\n",
            "[nltk_data]    | Downloading package framenet_v15 to\n",
            "[nltk_data]    |     /root/nltk_data...\n",
            "[nltk_data]    |   Package framenet_v15 is already up-to-date!\n",
            "[nltk_data]    | Downloading package framenet_v17 to\n",
            "[nltk_data]    |     /root/nltk_data...\n",
            "[nltk_data]    |   Package framenet_v17 is already up-to-date!\n",
            "[nltk_data]    | Downloading package gazetteers to /root/nltk_data...\n",
            "[nltk_data]    |   Package gazetteers is already up-to-date!\n",
            "[nltk_data]    | Downloading package genesis to /root/nltk_data...\n",
            "[nltk_data]    |   Package genesis is already up-to-date!\n",
            "[nltk_data]    | Downloading package gutenberg to /root/nltk_data...\n",
            "[nltk_data]    |   Package gutenberg is already up-to-date!\n",
            "[nltk_data]    | Downloading package ieer to /root/nltk_data...\n",
            "[nltk_data]    |   Package ieer is already up-to-date!\n",
            "[nltk_data]    | Downloading package inaugural to /root/nltk_data...\n",
            "[nltk_data]    |   Package inaugural is already up-to-date!\n",
            "[nltk_data]    | Downloading package indian to /root/nltk_data...\n",
            "[nltk_data]    |   Package indian is already up-to-date!\n",
            "[nltk_data]    | Downloading package jeita to /root/nltk_data...\n",
            "[nltk_data]    |   Package jeita is already up-to-date!\n",
            "[nltk_data]    | Downloading package kimmo to /root/nltk_data...\n",
            "[nltk_data]    |   Package kimmo is already up-to-date!\n",
            "[nltk_data]    | Downloading package knbc to /root/nltk_data...\n",
            "[nltk_data]    |   Package knbc is already up-to-date!\n",
            "[nltk_data]    | Downloading package lin_thesaurus to\n",
            "[nltk_data]    |     /root/nltk_data...\n",
            "[nltk_data]    |   Package lin_thesaurus is already up-to-date!\n",
            "[nltk_data]    | Downloading package mac_morpho to /root/nltk_data...\n",
            "[nltk_data]    |   Package mac_morpho is already up-to-date!\n",
            "[nltk_data]    | Downloading package machado to /root/nltk_data...\n",
            "[nltk_data]    |   Package machado is already up-to-date!\n",
            "[nltk_data]    | Downloading package masc_tagged to /root/nltk_data...\n",
            "[nltk_data]    |   Package masc_tagged is already up-to-date!\n",
            "[nltk_data]    | Downloading package moses_sample to\n",
            "[nltk_data]    |     /root/nltk_data...\n",
            "[nltk_data]    |   Package moses_sample is already up-to-date!\n",
            "[nltk_data]    | Downloading package movie_reviews to\n",
            "[nltk_data]    |     /root/nltk_data...\n",
            "[nltk_data]    |   Package movie_reviews is already up-to-date!\n",
            "[nltk_data]    | Downloading package names to /root/nltk_data...\n",
            "[nltk_data]    |   Package names is already up-to-date!\n",
            "[nltk_data]    | Downloading package nombank.1.0 to /root/nltk_data...\n",
            "[nltk_data]    |   Package nombank.1.0 is already up-to-date!\n",
            "[nltk_data]    | Downloading package nps_chat to /root/nltk_data...\n",
            "[nltk_data]    |   Package nps_chat is already up-to-date!\n",
            "[nltk_data]    | Downloading package omw to /root/nltk_data...\n",
            "[nltk_data]    |   Package omw is already up-to-date!\n",
            "[nltk_data]    | Downloading package opinion_lexicon to\n",
            "[nltk_data]    |     /root/nltk_data...\n",
            "[nltk_data]    |   Package opinion_lexicon is already up-to-date!\n",
            "[nltk_data]    | Downloading package paradigms to /root/nltk_data...\n",
            "[nltk_data]    |   Package paradigms is already up-to-date!\n",
            "[nltk_data]    | Downloading package pil to /root/nltk_data...\n",
            "[nltk_data]    |   Package pil is already up-to-date!\n",
            "[nltk_data]    | Downloading package pl196x to /root/nltk_data...\n",
            "[nltk_data]    |   Package pl196x is already up-to-date!\n",
            "[nltk_data]    | Downloading package ppattach to /root/nltk_data...\n",
            "[nltk_data]    |   Package ppattach is already up-to-date!\n",
            "[nltk_data]    | Downloading package problem_reports to\n",
            "[nltk_data]    |     /root/nltk_data...\n",
            "[nltk_data]    |   Package problem_reports is already up-to-date!\n",
            "[nltk_data]    | Downloading package propbank to /root/nltk_data...\n",
            "[nltk_data]    |   Package propbank is already up-to-date!\n",
            "[nltk_data]    | Downloading package ptb to /root/nltk_data...\n",
            "[nltk_data]    |   Package ptb is already up-to-date!\n",
            "[nltk_data]    | Downloading package product_reviews_1 to\n",
            "[nltk_data]    |     /root/nltk_data...\n",
            "[nltk_data]    |   Package product_reviews_1 is already up-to-date!\n",
            "[nltk_data]    | Downloading package product_reviews_2 to\n",
            "[nltk_data]    |     /root/nltk_data...\n",
            "[nltk_data]    |   Package product_reviews_2 is already up-to-date!\n",
            "[nltk_data]    | Downloading package pros_cons to /root/nltk_data...\n",
            "[nltk_data]    |   Package pros_cons is already up-to-date!\n",
            "[nltk_data]    | Downloading package qc to /root/nltk_data...\n",
            "[nltk_data]    |   Package qc is already up-to-date!\n",
            "[nltk_data]    | Downloading package reuters to /root/nltk_data...\n",
            "[nltk_data]    |   Package reuters is already up-to-date!\n",
            "[nltk_data]    | Downloading package rte to /root/nltk_data...\n",
            "[nltk_data]    |   Package rte is already up-to-date!\n",
            "[nltk_data]    | Downloading package semcor to /root/nltk_data...\n",
            "[nltk_data]    |   Package semcor is already up-to-date!\n",
            "[nltk_data]    | Downloading package senseval to /root/nltk_data...\n",
            "[nltk_data]    |   Package senseval is already up-to-date!\n",
            "[nltk_data]    | Downloading package sentiwordnet to\n",
            "[nltk_data]    |     /root/nltk_data...\n",
            "[nltk_data]    |   Package sentiwordnet is already up-to-date!\n",
            "[nltk_data]    | Downloading package sentence_polarity to\n",
            "[nltk_data]    |     /root/nltk_data...\n",
            "[nltk_data]    |   Package sentence_polarity is already up-to-date!\n",
            "[nltk_data]    | Downloading package shakespeare to /root/nltk_data...\n",
            "[nltk_data]    |   Package shakespeare is already up-to-date!\n",
            "[nltk_data]    | Downloading package sinica_treebank to\n",
            "[nltk_data]    |     /root/nltk_data...\n",
            "[nltk_data]    |   Package sinica_treebank is already up-to-date!\n",
            "[nltk_data]    | Downloading package smultron to /root/nltk_data...\n",
            "[nltk_data]    |   Package smultron is already up-to-date!\n",
            "[nltk_data]    | Downloading package state_union to /root/nltk_data...\n",
            "[nltk_data]    |   Package state_union is already up-to-date!\n",
            "[nltk_data]    | Downloading package stopwords to /root/nltk_data...\n",
            "[nltk_data]    |   Package stopwords is already up-to-date!\n",
            "[nltk_data]    | Downloading package subjectivity to\n",
            "[nltk_data]    |     /root/nltk_data...\n",
            "[nltk_data]    |   Package subjectivity is already up-to-date!\n",
            "[nltk_data]    | Downloading package swadesh to /root/nltk_data...\n",
            "[nltk_data]    |   Package swadesh is already up-to-date!\n",
            "[nltk_data]    | Downloading package switchboard to /root/nltk_data...\n",
            "[nltk_data]    |   Package switchboard is already up-to-date!\n",
            "[nltk_data]    | Downloading package timit to /root/nltk_data...\n",
            "[nltk_data]    |   Package timit is already up-to-date!\n",
            "[nltk_data]    | Downloading package toolbox to /root/nltk_data...\n",
            "[nltk_data]    |   Package toolbox is already up-to-date!\n",
            "[nltk_data]    | Downloading package treebank to /root/nltk_data...\n",
            "[nltk_data]    |   Package treebank is already up-to-date!\n",
            "[nltk_data]    | Downloading package twitter_samples to\n",
            "[nltk_data]    |     /root/nltk_data...\n",
            "[nltk_data]    |   Package twitter_samples is already up-to-date!\n",
            "[nltk_data]    | Downloading package udhr to /root/nltk_data...\n",
            "[nltk_data]    |   Package udhr is already up-to-date!\n",
            "[nltk_data]    | Downloading package udhr2 to /root/nltk_data...\n",
            "[nltk_data]    |   Package udhr2 is already up-to-date!\n",
            "[nltk_data]    | Downloading package unicode_samples to\n",
            "[nltk_data]    |     /root/nltk_data...\n",
            "[nltk_data]    |   Package unicode_samples is already up-to-date!\n",
            "[nltk_data]    | Downloading package universal_treebanks_v20 to\n",
            "[nltk_data]    |     /root/nltk_data...\n",
            "[nltk_data]    |   Package universal_treebanks_v20 is already up-to-\n",
            "[nltk_data]    |       date!\n",
            "[nltk_data]    | Downloading package verbnet to /root/nltk_data...\n",
            "[nltk_data]    |   Package verbnet is already up-to-date!\n",
            "[nltk_data]    | Downloading package verbnet3 to /root/nltk_data...\n",
            "[nltk_data]    |   Package verbnet3 is already up-to-date!\n",
            "[nltk_data]    | Downloading package webtext to /root/nltk_data...\n",
            "[nltk_data]    |   Package webtext is already up-to-date!\n",
            "[nltk_data]    | Downloading package wordnet to /root/nltk_data...\n",
            "[nltk_data]    |   Package wordnet is already up-to-date!\n",
            "[nltk_data]    | Downloading package wordnet_ic to /root/nltk_data...\n",
            "[nltk_data]    |   Package wordnet_ic is already up-to-date!\n",
            "[nltk_data]    | Downloading package words to /root/nltk_data...\n",
            "[nltk_data]    |   Package words is already up-to-date!\n",
            "[nltk_data]    | Downloading package ycoe to /root/nltk_data...\n",
            "[nltk_data]    |   Package ycoe is already up-to-date!\n",
            "[nltk_data]    | Downloading package rslp to /root/nltk_data...\n",
            "[nltk_data]    |   Package rslp is already up-to-date!\n",
            "[nltk_data]    | Downloading package maxent_treebank_pos_tagger to\n",
            "[nltk_data]    |     /root/nltk_data...\n",
            "[nltk_data]    |   Package maxent_treebank_pos_tagger is already up-\n",
            "[nltk_data]    |       to-date!\n",
            "[nltk_data]    | Downloading package universal_tagset to\n",
            "[nltk_data]    |     /root/nltk_data...\n",
            "[nltk_data]    |   Package universal_tagset is already up-to-date!\n",
            "[nltk_data]    | Downloading package maxent_ne_chunker to\n",
            "[nltk_data]    |     /root/nltk_data...\n",
            "[nltk_data]    |   Package maxent_ne_chunker is already up-to-date!\n",
            "[nltk_data]    | Downloading package punkt to /root/nltk_data...\n",
            "[nltk_data]    |   Package punkt is already up-to-date!\n",
            "[nltk_data]    | Downloading package book_grammars to\n",
            "[nltk_data]    |     /root/nltk_data...\n",
            "[nltk_data]    |   Package book_grammars is already up-to-date!\n",
            "[nltk_data]    | Downloading package sample_grammars to\n",
            "[nltk_data]    |     /root/nltk_data...\n",
            "[nltk_data]    |   Package sample_grammars is already up-to-date!\n",
            "[nltk_data]    | Downloading package spanish_grammars to\n",
            "[nltk_data]    |     /root/nltk_data...\n",
            "[nltk_data]    |   Package spanish_grammars is already up-to-date!\n",
            "[nltk_data]    | Downloading package basque_grammars to\n",
            "[nltk_data]    |     /root/nltk_data...\n",
            "[nltk_data]    |   Package basque_grammars is already up-to-date!\n",
            "[nltk_data]    | Downloading package large_grammars to\n",
            "[nltk_data]    |     /root/nltk_data...\n",
            "[nltk_data]    |   Package large_grammars is already up-to-date!\n",
            "[nltk_data]    | Downloading package tagsets to /root/nltk_data...\n",
            "[nltk_data]    |   Package tagsets is already up-to-date!\n",
            "[nltk_data]    | Downloading package snowball_data to\n",
            "[nltk_data]    |     /root/nltk_data...\n",
            "[nltk_data]    |   Package snowball_data is already up-to-date!\n",
            "[nltk_data]    | Downloading package bllip_wsj_no_aux to\n",
            "[nltk_data]    |     /root/nltk_data...\n",
            "[nltk_data]    |   Package bllip_wsj_no_aux is already up-to-date!\n",
            "[nltk_data]    | Downloading package word2vec_sample to\n",
            "[nltk_data]    |     /root/nltk_data...\n",
            "[nltk_data]    |   Package word2vec_sample is already up-to-date!\n",
            "[nltk_data]    | Downloading package panlex_swadesh to\n",
            "[nltk_data]    |     /root/nltk_data...\n",
            "[nltk_data]    |   Package panlex_swadesh is already up-to-date!\n",
            "[nltk_data]    | Downloading package mte_teip5 to /root/nltk_data...\n",
            "[nltk_data]    |   Package mte_teip5 is already up-to-date!\n",
            "[nltk_data]    | Downloading package averaged_perceptron_tagger to\n",
            "[nltk_data]    |     /root/nltk_data...\n",
            "[nltk_data]    |   Package averaged_perceptron_tagger is already up-\n",
            "[nltk_data]    |       to-date!\n",
            "[nltk_data]    | Downloading package averaged_perceptron_tagger_ru to\n",
            "[nltk_data]    |     /root/nltk_data...\n",
            "[nltk_data]    |   Package averaged_perceptron_tagger_ru is already\n",
            "[nltk_data]    |       up-to-date!\n",
            "[nltk_data]    | Downloading package perluniprops to\n",
            "[nltk_data]    |     /root/nltk_data...\n",
            "[nltk_data]    |   Package perluniprops is already up-to-date!\n",
            "[nltk_data]    | Downloading package nonbreaking_prefixes to\n",
            "[nltk_data]    |     /root/nltk_data...\n",
            "[nltk_data]    |   Package nonbreaking_prefixes is already up-to-date!\n",
            "[nltk_data]    | Downloading package vader_lexicon to\n",
            "[nltk_data]    |     /root/nltk_data...\n",
            "[nltk_data]    |   Package vader_lexicon is already up-to-date!\n",
            "[nltk_data]    | Downloading package porter_test to /root/nltk_data...\n",
            "[nltk_data]    |   Package porter_test is already up-to-date!\n",
            "[nltk_data]    | Downloading package wmt15_eval to /root/nltk_data...\n",
            "[nltk_data]    |   Package wmt15_eval is already up-to-date!\n",
            "[nltk_data]    | Downloading package mwa_ppdb to /root/nltk_data...\n",
            "[nltk_data]    |   Package mwa_ppdb is already up-to-date!\n",
            "[nltk_data]    | \n",
            "[nltk_data]  Done downloading collection all\n"
          ]
        },
        {
          "output_type": "execute_result",
          "data": {
            "text/plain": [
              "True"
            ]
          },
          "metadata": {},
          "execution_count": 85
        }
      ]
    },
    {
      "cell_type": "code",
      "metadata": {
        "colab": {
          "base_uri": "https://localhost:8080/"
        },
        "id": "lU-HJJC7tvSE",
        "outputId": "7f7c3c9f-b0bf-42c6-b91a-2ffb1c4810ff"
      },
      "source": [
        "import pandas as pd\n",
        "import numpy as np\n",
        "import tensorflow as tf\n",
        "from tensorflow.keras.preprocessing.text import Tokenizer\n",
        "from tensorflow.keras.layers import Embedding, Dense, Dropout, Bidirectional, LSTM\n",
        "from tensorflow.keras.preprocessing.sequence import pad_sequences\n",
        "from tensorflow.keras.utils import to_categorical\n",
        "from google.colab import drive\n",
        "from textaugment import Wordnet, EDA, word2vec, Translate\n",
        "from nltk import WordNetLemmatizer\n",
        "from nltk.corpus import stopwords\n",
        "import gensim\n",
        "import re\n",
        "import matplotlib.pyplot as plt\n",
        "import seaborn as sns\n",
        "!pip3 install tensorflow_text\n",
        "import tensorflow_text\n",
        "!pip install -q tf-models-official\n",
        "!pip install -q -U tensorflow-text\n",
        "from tensorflow_text.tools.wordpiece_vocab import bert_vocab_from_dataset as bert_vocab\n",
        "import tensorflow_hub as hub\n",
        "import tensorflow_text as tf_text\n",
        "from tqdm import tqdm"
      ],
      "execution_count": null,
      "outputs": [
        {
          "output_type": "stream",
          "name": "stdout",
          "text": [
            "Requirement already satisfied: tensorflow_text in /usr/local/lib/python3.7/dist-packages (2.6.0)\n",
            "Requirement already satisfied: tensorflow-hub>=0.8.0 in /usr/local/lib/python3.7/dist-packages (from tensorflow_text) (0.12.0)\n",
            "Requirement already satisfied: tensorflow<2.7,>=2.6.0 in /usr/local/lib/python3.7/dist-packages (from tensorflow_text) (2.6.0)\n",
            "Requirement already satisfied: wheel~=0.35 in /usr/local/lib/python3.7/dist-packages (from tensorflow<2.7,>=2.6.0->tensorflow_text) (0.37.0)\n",
            "Requirement already satisfied: typing-extensions~=3.7.4 in /usr/local/lib/python3.7/dist-packages (from tensorflow<2.7,>=2.6.0->tensorflow_text) (3.7.4.3)\n",
            "Requirement already satisfied: opt-einsum~=3.3.0 in /usr/local/lib/python3.7/dist-packages (from tensorflow<2.7,>=2.6.0->tensorflow_text) (3.3.0)\n",
            "Requirement already satisfied: flatbuffers~=1.12.0 in /usr/local/lib/python3.7/dist-packages (from tensorflow<2.7,>=2.6.0->tensorflow_text) (1.12)\n",
            "Requirement already satisfied: astunparse~=1.6.3 in /usr/local/lib/python3.7/dist-packages (from tensorflow<2.7,>=2.6.0->tensorflow_text) (1.6.3)\n",
            "Requirement already satisfied: tensorflow-estimator~=2.6 in /usr/local/lib/python3.7/dist-packages (from tensorflow<2.7,>=2.6.0->tensorflow_text) (2.6.0)\n",
            "Requirement already satisfied: protobuf>=3.9.2 in /usr/local/lib/python3.7/dist-packages (from tensorflow<2.7,>=2.6.0->tensorflow_text) (3.17.3)\n",
            "Requirement already satisfied: tensorboard~=2.6 in /usr/local/lib/python3.7/dist-packages (from tensorflow<2.7,>=2.6.0->tensorflow_text) (2.6.0)\n",
            "Requirement already satisfied: keras-preprocessing~=1.1.2 in /usr/local/lib/python3.7/dist-packages (from tensorflow<2.7,>=2.6.0->tensorflow_text) (1.1.2)\n",
            "Requirement already satisfied: six~=1.15.0 in /usr/local/lib/python3.7/dist-packages (from tensorflow<2.7,>=2.6.0->tensorflow_text) (1.15.0)\n",
            "Requirement already satisfied: gast==0.4.0 in /usr/local/lib/python3.7/dist-packages (from tensorflow<2.7,>=2.6.0->tensorflow_text) (0.4.0)\n",
            "Requirement already satisfied: numpy~=1.19.2 in /usr/local/lib/python3.7/dist-packages (from tensorflow<2.7,>=2.6.0->tensorflow_text) (1.19.5)\n",
            "Requirement already satisfied: termcolor~=1.1.0 in /usr/local/lib/python3.7/dist-packages (from tensorflow<2.7,>=2.6.0->tensorflow_text) (1.1.0)\n",
            "Requirement already satisfied: google-pasta~=0.2 in /usr/local/lib/python3.7/dist-packages (from tensorflow<2.7,>=2.6.0->tensorflow_text) (0.2.0)\n",
            "Requirement already satisfied: wrapt~=1.12.1 in /usr/local/lib/python3.7/dist-packages (from tensorflow<2.7,>=2.6.0->tensorflow_text) (1.12.1)\n",
            "Requirement already satisfied: clang~=5.0 in /usr/local/lib/python3.7/dist-packages (from tensorflow<2.7,>=2.6.0->tensorflow_text) (5.0)\n",
            "Requirement already satisfied: keras~=2.6 in /usr/local/lib/python3.7/dist-packages (from tensorflow<2.7,>=2.6.0->tensorflow_text) (2.6.0)\n",
            "Requirement already satisfied: absl-py~=0.10 in /usr/local/lib/python3.7/dist-packages (from tensorflow<2.7,>=2.6.0->tensorflow_text) (0.12.0)\n",
            "Requirement already satisfied: h5py~=3.1.0 in /usr/local/lib/python3.7/dist-packages (from tensorflow<2.7,>=2.6.0->tensorflow_text) (3.1.0)\n",
            "Requirement already satisfied: grpcio<2.0,>=1.37.0 in /usr/local/lib/python3.7/dist-packages (from tensorflow<2.7,>=2.6.0->tensorflow_text) (1.40.0)\n",
            "Requirement already satisfied: cached-property in /usr/local/lib/python3.7/dist-packages (from h5py~=3.1.0->tensorflow<2.7,>=2.6.0->tensorflow_text) (1.5.2)\n",
            "Requirement already satisfied: markdown>=2.6.8 in /usr/local/lib/python3.7/dist-packages (from tensorboard~=2.6->tensorflow<2.7,>=2.6.0->tensorflow_text) (3.3.4)\n",
            "Requirement already satisfied: tensorboard-data-server<0.7.0,>=0.6.0 in /usr/local/lib/python3.7/dist-packages (from tensorboard~=2.6->tensorflow<2.7,>=2.6.0->tensorflow_text) (0.6.1)\n",
            "Requirement already satisfied: werkzeug>=0.11.15 in /usr/local/lib/python3.7/dist-packages (from tensorboard~=2.6->tensorflow<2.7,>=2.6.0->tensorflow_text) (1.0.1)\n",
            "Requirement already satisfied: tensorboard-plugin-wit>=1.6.0 in /usr/local/lib/python3.7/dist-packages (from tensorboard~=2.6->tensorflow<2.7,>=2.6.0->tensorflow_text) (1.8.0)\n",
            "Requirement already satisfied: requests<3,>=2.21.0 in /usr/local/lib/python3.7/dist-packages (from tensorboard~=2.6->tensorflow<2.7,>=2.6.0->tensorflow_text) (2.23.0)\n",
            "Requirement already satisfied: setuptools>=41.0.0 in /usr/local/lib/python3.7/dist-packages (from tensorboard~=2.6->tensorflow<2.7,>=2.6.0->tensorflow_text) (57.4.0)\n",
            "Requirement already satisfied: google-auth-oauthlib<0.5,>=0.4.1 in /usr/local/lib/python3.7/dist-packages (from tensorboard~=2.6->tensorflow<2.7,>=2.6.0->tensorflow_text) (0.4.6)\n",
            "Requirement already satisfied: google-auth<2,>=1.6.3 in /usr/local/lib/python3.7/dist-packages (from tensorboard~=2.6->tensorflow<2.7,>=2.6.0->tensorflow_text) (1.35.0)\n",
            "Requirement already satisfied: pyasn1-modules>=0.2.1 in /usr/local/lib/python3.7/dist-packages (from google-auth<2,>=1.6.3->tensorboard~=2.6->tensorflow<2.7,>=2.6.0->tensorflow_text) (0.2.8)\n",
            "Requirement already satisfied: rsa<5,>=3.1.4 in /usr/local/lib/python3.7/dist-packages (from google-auth<2,>=1.6.3->tensorboard~=2.6->tensorflow<2.7,>=2.6.0->tensorflow_text) (4.7.2)\n",
            "Requirement already satisfied: cachetools<5.0,>=2.0.0 in /usr/local/lib/python3.7/dist-packages (from google-auth<2,>=1.6.3->tensorboard~=2.6->tensorflow<2.7,>=2.6.0->tensorflow_text) (4.2.2)\n",
            "Requirement already satisfied: requests-oauthlib>=0.7.0 in /usr/local/lib/python3.7/dist-packages (from google-auth-oauthlib<0.5,>=0.4.1->tensorboard~=2.6->tensorflow<2.7,>=2.6.0->tensorflow_text) (1.3.0)\n",
            "Requirement already satisfied: importlib-metadata in /usr/local/lib/python3.7/dist-packages (from markdown>=2.6.8->tensorboard~=2.6->tensorflow<2.7,>=2.6.0->tensorflow_text) (4.8.1)\n",
            "Requirement already satisfied: pyasn1<0.5.0,>=0.4.6 in /usr/local/lib/python3.7/dist-packages (from pyasn1-modules>=0.2.1->google-auth<2,>=1.6.3->tensorboard~=2.6->tensorflow<2.7,>=2.6.0->tensorflow_text) (0.4.8)\n",
            "Requirement already satisfied: idna<3,>=2.5 in /usr/local/lib/python3.7/dist-packages (from requests<3,>=2.21.0->tensorboard~=2.6->tensorflow<2.7,>=2.6.0->tensorflow_text) (2.10)\n",
            "Requirement already satisfied: urllib3!=1.25.0,!=1.25.1,<1.26,>=1.21.1 in /usr/local/lib/python3.7/dist-packages (from requests<3,>=2.21.0->tensorboard~=2.6->tensorflow<2.7,>=2.6.0->tensorflow_text) (1.24.3)\n",
            "Requirement already satisfied: certifi>=2017.4.17 in /usr/local/lib/python3.7/dist-packages (from requests<3,>=2.21.0->tensorboard~=2.6->tensorflow<2.7,>=2.6.0->tensorflow_text) (2021.5.30)\n",
            "Requirement already satisfied: chardet<4,>=3.0.2 in /usr/local/lib/python3.7/dist-packages (from requests<3,>=2.21.0->tensorboard~=2.6->tensorflow<2.7,>=2.6.0->tensorflow_text) (3.0.4)\n",
            "Requirement already satisfied: oauthlib>=3.0.0 in /usr/local/lib/python3.7/dist-packages (from requests-oauthlib>=0.7.0->google-auth-oauthlib<0.5,>=0.4.1->tensorboard~=2.6->tensorflow<2.7,>=2.6.0->tensorflow_text) (3.1.1)\n",
            "Requirement already satisfied: zipp>=0.5 in /usr/local/lib/python3.7/dist-packages (from importlib-metadata->markdown>=2.6.8->tensorboard~=2.6->tensorflow<2.7,>=2.6.0->tensorflow_text) (3.5.0)\n"
          ]
        }
      ]
    },
    {
      "cell_type": "code",
      "metadata": {
        "colab": {
          "base_uri": "https://localhost:8080/"
        },
        "id": "4bBJN1FUeRop",
        "outputId": "1c577c44-b5b4-4d1f-ba0f-8f54b3117b2b"
      },
      "source": [
        "!pip3 install transformers"
      ],
      "execution_count": null,
      "outputs": [
        {
          "output_type": "stream",
          "name": "stdout",
          "text": [
            "Requirement already satisfied: transformers in /usr/local/lib/python3.7/dist-packages (4.11.2)\n",
            "Requirement already satisfied: huggingface-hub>=0.0.17 in /usr/local/lib/python3.7/dist-packages (from transformers) (0.0.17)\n",
            "Requirement already satisfied: regex!=2019.12.17 in /usr/local/lib/python3.7/dist-packages (from transformers) (2019.12.20)\n",
            "Requirement already satisfied: tokenizers<0.11,>=0.10.1 in /usr/local/lib/python3.7/dist-packages (from transformers) (0.10.3)\n",
            "Requirement already satisfied: requests in /usr/local/lib/python3.7/dist-packages (from transformers) (2.23.0)\n",
            "Requirement already satisfied: tqdm>=4.27 in /usr/local/lib/python3.7/dist-packages (from transformers) (4.62.3)\n",
            "Requirement already satisfied: pyyaml>=5.1 in /usr/local/lib/python3.7/dist-packages (from transformers) (5.4.1)\n",
            "Requirement already satisfied: importlib-metadata in /usr/local/lib/python3.7/dist-packages (from transformers) (4.8.1)\n",
            "Requirement already satisfied: packaging>=20.0 in /usr/local/lib/python3.7/dist-packages (from transformers) (21.0)\n",
            "Requirement already satisfied: filelock in /usr/local/lib/python3.7/dist-packages (from transformers) (3.0.12)\n",
            "Requirement already satisfied: sacremoses in /usr/local/lib/python3.7/dist-packages (from transformers) (0.0.46)\n",
            "Requirement already satisfied: numpy>=1.17 in /usr/local/lib/python3.7/dist-packages (from transformers) (1.19.5)\n",
            "Requirement already satisfied: typing-extensions in /usr/local/lib/python3.7/dist-packages (from huggingface-hub>=0.0.17->transformers) (3.7.4.3)\n",
            "Requirement already satisfied: pyparsing>=2.0.2 in /usr/local/lib/python3.7/dist-packages (from packaging>=20.0->transformers) (2.4.7)\n",
            "Requirement already satisfied: zipp>=0.5 in /usr/local/lib/python3.7/dist-packages (from importlib-metadata->transformers) (3.5.0)\n",
            "Requirement already satisfied: certifi>=2017.4.17 in /usr/local/lib/python3.7/dist-packages (from requests->transformers) (2021.5.30)\n",
            "Requirement already satisfied: chardet<4,>=3.0.2 in /usr/local/lib/python3.7/dist-packages (from requests->transformers) (3.0.4)\n",
            "Requirement already satisfied: idna<3,>=2.5 in /usr/local/lib/python3.7/dist-packages (from requests->transformers) (2.10)\n",
            "Requirement already satisfied: urllib3!=1.25.0,!=1.25.1,<1.26,>=1.21.1 in /usr/local/lib/python3.7/dist-packages (from requests->transformers) (1.24.3)\n",
            "Requirement already satisfied: six in /usr/local/lib/python3.7/dist-packages (from sacremoses->transformers) (1.15.0)\n",
            "Requirement already satisfied: joblib in /usr/local/lib/python3.7/dist-packages (from sacremoses->transformers) (1.0.1)\n",
            "Requirement already satisfied: click in /usr/local/lib/python3.7/dist-packages (from sacremoses->transformers) (7.1.2)\n"
          ]
        }
      ]
    },
    {
      "cell_type": "code",
      "metadata": {
        "id": "qtU3_grlvTrh",
        "colab": {
          "base_uri": "https://localhost:8080/"
        },
        "outputId": "e5b997ea-b054-4193-a2cd-107d8ec69e99"
      },
      "source": [
        "drive.mount('/content/drive')"
      ],
      "execution_count": null,
      "outputs": [
        {
          "output_type": "stream",
          "name": "stdout",
          "text": [
            "Drive already mounted at /content/drive; to attempt to forcibly remount, call drive.mount(\"/content/drive\", force_remount=True).\n"
          ]
        }
      ]
    },
    {
      "cell_type": "code",
      "metadata": {
        "id": "nCCsVGbfvnq6",
        "colab": {
          "base_uri": "https://localhost:8080/",
          "height": 678
        },
        "outputId": "2166b6ca-a8c8-4a89-e177-f26052f4ae15"
      },
      "source": [
        "with open('/content/drive/MyDrive/Shared-Task-2021/global-headline-only.csv', 'r') as f:\n",
        "    df = pd.read_csv(f)\n",
        "\n",
        "df.head()"
      ],
      "execution_count": null,
      "outputs": [
        {
          "output_type": "execute_result",
          "data": {
            "text/html": [
              "<div>\n",
              "<style scoped>\n",
              "    .dataframe tbody tr th:only-of-type {\n",
              "        vertical-align: middle;\n",
              "    }\n",
              "\n",
              "    .dataframe tbody tr th {\n",
              "        vertical-align: top;\n",
              "    }\n",
              "\n",
              "    .dataframe thead th {\n",
              "        text-align: right;\n",
              "    }\n",
              "</style>\n",
              "<table border=\"1\" class=\"dataframe\">\n",
              "  <thead>\n",
              "    <tr style=\"text-align: right;\">\n",
              "      <th></th>\n",
              "      <th>data_id</th>\n",
              "      <th>event_date</th>\n",
              "      <th>year</th>\n",
              "      <th>event_type</th>\n",
              "      <th>sub_event_type</th>\n",
              "      <th>region</th>\n",
              "      <th>country</th>\n",
              "      <th>location</th>\n",
              "      <th>notes</th>\n",
              "      <th>cleaned</th>\n",
              "      <th>lemmatized</th>\n",
              "      <th>stemmed</th>\n",
              "    </tr>\n",
              "  </thead>\n",
              "  <tbody>\n",
              "    <tr>\n",
              "      <th>0</th>\n",
              "      <td>8378880</td>\n",
              "      <td>09-07-2021</td>\n",
              "      <td>2021</td>\n",
              "      <td>Explosions/Remote violence</td>\n",
              "      <td>Shelling/artillery/missile attack</td>\n",
              "      <td>Middle East</td>\n",
              "      <td>Syria</td>\n",
              "      <td>Arnaba</td>\n",
              "      <td>On 9 July 2021, regime forces shelled Arnaba t...</td>\n",
              "      <td>regime forces shelled Arnaba town in Idleb cou...</td>\n",
              "      <td>regime force shelled arnaba town idleb country...</td>\n",
              "      <td>regim forc shell arnaba town idleb countrysid ...</td>\n",
              "    </tr>\n",
              "    <tr>\n",
              "      <th>1</th>\n",
              "      <td>8378881</td>\n",
              "      <td>09-07-2021</td>\n",
              "      <td>2021</td>\n",
              "      <td>Explosions/Remote violence</td>\n",
              "      <td>Shelling/artillery/missile attack</td>\n",
              "      <td>Middle East</td>\n",
              "      <td>Syria</td>\n",
              "      <td>Balyun</td>\n",
              "      <td>On 9 July 2021, regime forces shelled Balyun t...</td>\n",
              "      <td>regime forces shelled Balyun town and its vici...</td>\n",
              "      <td>regime force shelled balyun town vicinity idle...</td>\n",
              "      <td>regim forc shell balyun town vicin idleb count...</td>\n",
              "    </tr>\n",
              "    <tr>\n",
              "      <th>2</th>\n",
              "      <td>8381441</td>\n",
              "      <td>09-07-2021</td>\n",
              "      <td>2021</td>\n",
              "      <td>Protests</td>\n",
              "      <td>Peaceful protest</td>\n",
              "      <td>East Asia</td>\n",
              "      <td>South Korea</td>\n",
              "      <td>Jinju</td>\n",
              "      <td>On 9 July 2021, local veterans' organizations,...</td>\n",
              "      <td>local veterans organizations including the Kor...</td>\n",
              "      <td>local veteran organization including korean wa...</td>\n",
              "      <td>local veteran organ includ korean war veteran ...</td>\n",
              "    </tr>\n",
              "    <tr>\n",
              "      <th>3</th>\n",
              "      <td>8383746</td>\n",
              "      <td>09-07-2021</td>\n",
              "      <td>2021</td>\n",
              "      <td>Riots</td>\n",
              "      <td>Violent demonstration</td>\n",
              "      <td>South Asia</td>\n",
              "      <td>Pakistan</td>\n",
              "      <td>Larkana</td>\n",
              "      <td>On 9 July 2021, prisoners held a demonstration...</td>\n",
              "      <td>prisoners held a demonstration and set wood an...</td>\n",
              "      <td>prisoner held demonstration set wood clothes f...</td>\n",
              "      <td>prison held demonstr set wood cloth fire larka...</td>\n",
              "    </tr>\n",
              "    <tr>\n",
              "      <th>4</th>\n",
              "      <td>8381699</td>\n",
              "      <td>09-07-2021</td>\n",
              "      <td>2021</td>\n",
              "      <td>Violence against civilians</td>\n",
              "      <td>Attack</td>\n",
              "      <td>Southeast Asia</td>\n",
              "      <td>Myanmar</td>\n",
              "      <td>Hpa Yar Gyi</td>\n",
              "      <td>On 9 July 2021, in Hpa Yar Gyi village (Thongw...</td>\n",
              "      <td>in Hpa Yar Gyi village  the village administra...</td>\n",
              "      <td>hpa yar gyi village village administrator shot...</td>\n",
              "      <td>hpa yar gyi villag villag administr shot three...</td>\n",
              "    </tr>\n",
              "  </tbody>\n",
              "</table>\n",
              "</div>"
            ],
            "text/plain": [
              "   data_id  ...                                            stemmed\n",
              "0  8378880  ...  regim forc shell arnaba town idleb countrysid ...\n",
              "1  8378881  ...  regim forc shell balyun town vicin idleb count...\n",
              "2  8381441  ...  local veteran organ includ korean war veteran ...\n",
              "3  8383746  ...  prison held demonstr set wood cloth fire larka...\n",
              "4  8381699  ...  hpa yar gyi villag villag administr shot three...\n",
              "\n",
              "[5 rows x 12 columns]"
            ]
          },
          "metadata": {},
          "execution_count": 89
        }
      ]
    },
    {
      "cell_type": "code",
      "metadata": {
        "id": "Z9hmpvR2so-h",
        "colab": {
          "base_uri": "https://localhost:8080/"
        },
        "outputId": "fa6abe99-9b5d-468c-a40c-7070df5c1d29"
      },
      "source": [
        "df.sub_event_type.value_counts()"
      ],
      "execution_count": null,
      "outputs": [
        {
          "output_type": "execute_result",
          "data": {
            "text/plain": [
              "Peaceful protest                       329399\n",
              "Armed clash                            239828\n",
              "Attack                                 132202\n",
              "Shelling/artillery/missile attack       64743\n",
              "Mob violence                            42079\n",
              "Violent demonstration                   41003\n",
              "Air/drone strike                        34020\n",
              "Protest with intervention               31784\n",
              "Remote explosive/landmine/IED           30620\n",
              "Looting/property destruction            24315\n",
              "Abduction/forced disappearance          14624\n",
              "Arrests                                  8668\n",
              "Change to group/activity                 7925\n",
              "Disrupted weapons use                    7499\n",
              "Government regains territory             6148\n",
              "Other                                    5353\n",
              "Excessive force against protesters       3098\n",
              "Grenade                                  2948\n",
              "Non-state actor overtakes territory      2670\n",
              "Sexual violence                          2196\n",
              "Agreement                                1460\n",
              "Non-violent transfer of territory         989\n",
              "Suicide bomb                              635\n",
              "Headquarters or base established          311\n",
              "Chemical weapon                            10\n",
              "Name: sub_event_type, dtype: int64"
            ]
          },
          "metadata": {},
          "execution_count": 90
        }
      ]
    },
    {
      "cell_type": "code",
      "metadata": {
        "id": "zySeKLkT4ACP",
        "colab": {
          "base_uri": "https://localhost:8080/"
        },
        "outputId": "fbc2586c-2e95-4ff7-e171-1ac583495891"
      },
      "source": [
        "df.drop_duplicates(['lemmatized']).sub_event_type.value_counts()"
      ],
      "execution_count": null,
      "outputs": [
        {
          "output_type": "execute_result",
          "data": {
            "text/plain": [
              "Peaceful protest                       305383\n",
              "Armed clash                             96231\n",
              "Attack                                  65363\n",
              "Shelling/artillery/missile attack       33279\n",
              "Violent demonstration                   24574\n",
              "Mob violence                            21098\n",
              "Air/drone strike                        18620\n",
              "Remote explosive/landmine/IED           16110\n",
              "Protest with intervention               15003\n",
              "Looting/property destruction            12036\n",
              "Abduction/forced disappearance           7214\n",
              "Change to group/activity                 7098\n",
              "Arrests                                  4238\n",
              "Disrupted weapons use                    3866\n",
              "Other                                    3698\n",
              "Government regains territory             2424\n",
              "Grenade                                  1530\n",
              "Excessive force against protesters       1520\n",
              "Non-state actor overtakes territory      1198\n",
              "Sexual violence                          1027\n",
              "Agreement                                 692\n",
              "Non-violent transfer of territory         512\n",
              "Suicide bomb                              319\n",
              "Headquarters or base established          291\n",
              "Chemical weapon                             4\n",
              "Name: sub_event_type, dtype: int64"
            ]
          },
          "metadata": {},
          "execution_count": 91
        }
      ]
    },
    {
      "cell_type": "code",
      "metadata": {
        "id": "5Mu6hGFlp_JQ",
        "colab": {
          "base_uri": "https://localhost:8080/"
        },
        "outputId": "7824af8e-082f-435d-914d-12adae012ac0"
      },
      "source": [
        "event_types_dict = {}\n",
        "for num, name in enumerate(list(df['sub_event_type'].unique())):\n",
        "    event_types_dict[name] = num\n",
        "    # print(name, \" : \", num)\n",
        "\n",
        "event_types_dict\n",
        "\n",
        "event_types_dict_inverse = {k:v for v,k in event_types_dict.items()}\n",
        "print(event_types_dict)\n",
        "print( event_types_dict_inverse)"
      ],
      "execution_count": null,
      "outputs": [
        {
          "output_type": "stream",
          "name": "stdout",
          "text": [
            "{'Shelling/artillery/missile attack': 0, 'Peaceful protest': 1, 'Violent demonstration': 2, 'Attack': 3, 'Air/drone strike': 4, 'Armed clash': 5, 'Mob violence': 6, 'Protest with intervention': 7, 'Excessive force against protesters': 8, 'Looting/property destruction': 9, 'Other': 10, 'Remote explosive/landmine/IED': 11, 'Government regains territory': 12, 'Abduction/forced disappearance': 13, 'Change to group/activity': 14, 'Non-state actor overtakes territory': 15, 'Arrests': 16, 'Sexual violence': 17, 'Disrupted weapons use': 18, 'Non-violent transfer of territory': 19, 'Grenade': 20, 'Headquarters or base established': 21, 'Suicide bomb': 22, 'Agreement': 23, 'Chemical weapon': 24}\n",
            "{0: 'Shelling/artillery/missile attack', 1: 'Peaceful protest', 2: 'Violent demonstration', 3: 'Attack', 4: 'Air/drone strike', 5: 'Armed clash', 6: 'Mob violence', 7: 'Protest with intervention', 8: 'Excessive force against protesters', 9: 'Looting/property destruction', 10: 'Other', 11: 'Remote explosive/landmine/IED', 12: 'Government regains territory', 13: 'Abduction/forced disappearance', 14: 'Change to group/activity', 15: 'Non-state actor overtakes territory', 16: 'Arrests', 17: 'Sexual violence', 18: 'Disrupted weapons use', 19: 'Non-violent transfer of territory', 20: 'Grenade', 21: 'Headquarters or base established', 22: 'Suicide bomb', 23: 'Agreement', 24: 'Chemical weapon'}\n"
          ]
        }
      ]
    },
    {
      "cell_type": "code",
      "metadata": {
        "id": "WKaL1cqk7EB3",
        "colab": {
          "base_uri": "https://localhost:8080/"
        },
        "outputId": "d1955484-4a60-4d51-d447-5cee29fd7f18"
      },
      "source": [
        "def text_to_numerical_category(name):\n",
        "    num = event_types_dict[name]\n",
        "    return num\n",
        "\n",
        "print(text_to_numerical_category('Peaceful protest'))\n",
        "df['labels'] = df['sub_event_type'].apply(text_to_numerical_category)"
      ],
      "execution_count": null,
      "outputs": [
        {
          "output_type": "stream",
          "name": "stdout",
          "text": [
            "1\n"
          ]
        }
      ]
    },
    {
      "cell_type": "code",
      "metadata": {
        "id": "s3PF6Hlh8Lc6"
      },
      "source": [
        "df.drop(columns=['data_id', 'event_date', 'year','event_type','region','country', 'location',\t'notes','cleaned', 'stemmed'\t], inplace=True)"
      ],
      "execution_count": null,
      "outputs": []
    },
    {
      "cell_type": "code",
      "metadata": {
        "id": "TRVDMv0_Rb1-",
        "colab": {
          "base_uri": "https://localhost:8080/",
          "height": 206
        },
        "outputId": "d9123bda-eadb-4249-da0c-20ca817966df"
      },
      "source": [
        "df.head()"
      ],
      "execution_count": null,
      "outputs": [
        {
          "output_type": "execute_result",
          "data": {
            "text/html": [
              "<div>\n",
              "<style scoped>\n",
              "    .dataframe tbody tr th:only-of-type {\n",
              "        vertical-align: middle;\n",
              "    }\n",
              "\n",
              "    .dataframe tbody tr th {\n",
              "        vertical-align: top;\n",
              "    }\n",
              "\n",
              "    .dataframe thead th {\n",
              "        text-align: right;\n",
              "    }\n",
              "</style>\n",
              "<table border=\"1\" class=\"dataframe\">\n",
              "  <thead>\n",
              "    <tr style=\"text-align: right;\">\n",
              "      <th></th>\n",
              "      <th>sub_event_type</th>\n",
              "      <th>lemmatized</th>\n",
              "      <th>labels</th>\n",
              "    </tr>\n",
              "  </thead>\n",
              "  <tbody>\n",
              "    <tr>\n",
              "      <th>0</th>\n",
              "      <td>Shelling/artillery/missile attack</td>\n",
              "      <td>regime force shelled arnaba town idleb country...</td>\n",
              "      <td>0</td>\n",
              "    </tr>\n",
              "    <tr>\n",
              "      <th>1</th>\n",
              "      <td>Shelling/artillery/missile attack</td>\n",
              "      <td>regime force shelled balyun town vicinity idle...</td>\n",
              "      <td>0</td>\n",
              "    </tr>\n",
              "    <tr>\n",
              "      <th>2</th>\n",
              "      <td>Peaceful protest</td>\n",
              "      <td>local veteran organization including korean wa...</td>\n",
              "      <td>1</td>\n",
              "    </tr>\n",
              "    <tr>\n",
              "      <th>3</th>\n",
              "      <td>Violent demonstration</td>\n",
              "      <td>prisoner held demonstration set wood clothes f...</td>\n",
              "      <td>2</td>\n",
              "    </tr>\n",
              "    <tr>\n",
              "      <th>4</th>\n",
              "      <td>Attack</td>\n",
              "      <td>hpa yar gyi village village administrator shot...</td>\n",
              "      <td>3</td>\n",
              "    </tr>\n",
              "  </tbody>\n",
              "</table>\n",
              "</div>"
            ],
            "text/plain": [
              "                      sub_event_type  ... labels\n",
              "0  Shelling/artillery/missile attack  ...      0\n",
              "1  Shelling/artillery/missile attack  ...      0\n",
              "2                   Peaceful protest  ...      1\n",
              "3              Violent demonstration  ...      2\n",
              "4                             Attack  ...      3\n",
              "\n",
              "[5 rows x 3 columns]"
            ]
          },
          "metadata": {},
          "execution_count": 95
        }
      ]
    },
    {
      "cell_type": "markdown",
      "metadata": {
        "id": "RWuVG1ftDdQ0"
      },
      "source": [
        "## Handling Imbalanced Dataset"
      ]
    },
    {
      "cell_type": "code",
      "metadata": {
        "id": "Lss93xr7hmse"
      },
      "source": [
        "from sklearn.utils import shuffle\n",
        "\n",
        "lemm = []\n",
        "labels = []\n",
        "THRESH_1 = 20000\n",
        "THRESH_2 = 10000\n",
        "THRESH_3 = 1000\n",
        "\n",
        "for group in df.sub_event_type.unique():\n",
        "    # Having More Than 20K\n",
        "    if len(df.groupby('sub_event_type').get_group(group).lemmatized.unique()) > THRESH_1:\n",
        "        lemm += (list(shuffle(df.groupby('sub_event_type').get_group(group).lemmatized.unique()))[:THRESH_1])\n",
        "        labels += ([group]*THRESH_1)\n",
        "     # Having Unique b/w 20K and 10K - Take top 20K from all\n",
        "    elif len(df.groupby('sub_event_type').get_group(group).lemmatized.unique()) < THRESH_1 and len(df.groupby('sub_event_type').get_group(group).lemmatized.unique()) > THRESH_2:\n",
        "       lemm += (list(shuffle(df.groupby('sub_event_type').get_group(group).lemmatized))[:THRESH_1])\n",
        "       labels += ([group]*THRESH_1)\n",
        "    # Having b/w 20K and 5K - take all\n",
        "    elif len(df.groupby('sub_event_type').get_group(group).lemmatized) < 20000 and len(df.groupby('sub_event_type').get_group(group).lemmatized) > 5000:\n",
        "       lemm += list(shuffle(df.groupby('sub_event_type').get_group(group).lemmatized))\n",
        "       labels += ([group]*len(list(shuffle(df.groupby('sub_event_type').get_group(group).lemmatized))))\n",
        "     # Having Less Than 1K - Multipy by 6\n",
        "    elif len(df.groupby('sub_event_type').get_group(group).lemmatized) < THRESH_3:\n",
        "        for i in range(6):\n",
        "            lemm += list(shuffle(df.groupby('sub_event_type').get_group(group).lemmatized))\n",
        "            labels += ([group]*len(list(shuffle(df.groupby('sub_event_type').get_group(group).lemmatized))))\n",
        "    # Remaining - Multiply by 2\n",
        "    else:\n",
        "         for i in range(2):\n",
        "            lemm += list(shuffle(df.groupby('sub_event_type').get_group(group).lemmatized))\n",
        "            labels += ([group]*len(list(shuffle(df.groupby('sub_event_type').get_group(group).lemmatized))))\n"
      ],
      "execution_count": null,
      "outputs": []
    },
    {
      "cell_type": "code",
      "metadata": {
        "id": "dJpBVPnohm4s",
        "colab": {
          "base_uri": "https://localhost:8080/"
        },
        "outputId": "3c4a87be-4b48-42c5-9318-970a73f4c134"
      },
      "source": [
        "len(lemm)"
      ],
      "execution_count": null,
      "outputs": [
        {
          "output_type": "execute_result",
          "data": {
            "text/plain": [
              "286631"
            ]
          },
          "metadata": {},
          "execution_count": 97
        }
      ]
    },
    {
      "cell_type": "code",
      "metadata": {
        "id": "YTcq-Gdlhm7P",
        "colab": {
          "base_uri": "https://localhost:8080/"
        },
        "outputId": "d34fe5da-d0ab-4a49-b100-17183cdb6300"
      },
      "source": [
        "len(labels)"
      ],
      "execution_count": null,
      "outputs": [
        {
          "output_type": "execute_result",
          "data": {
            "text/plain": [
              "286631"
            ]
          },
          "metadata": {},
          "execution_count": 98
        }
      ]
    },
    {
      "cell_type": "code",
      "metadata": {
        "id": "RpdqzhBLhnAW"
      },
      "source": [
        "balanced_df = pd.DataFrame({'Text' : lemm, 'Labels': labels})"
      ],
      "execution_count": null,
      "outputs": []
    },
    {
      "cell_type": "code",
      "metadata": {
        "id": "hZlHU6-rhnFl",
        "colab": {
          "base_uri": "https://localhost:8080/",
          "height": 206
        },
        "outputId": "a47c940d-3778-48b5-c1df-4f80109c8873"
      },
      "source": [
        "balanced_df.head()"
      ],
      "execution_count": null,
      "outputs": [
        {
          "output_type": "execute_result",
          "data": {
            "text/html": [
              "<div>\n",
              "<style scoped>\n",
              "    .dataframe tbody tr th:only-of-type {\n",
              "        vertical-align: middle;\n",
              "    }\n",
              "\n",
              "    .dataframe tbody tr th {\n",
              "        vertical-align: top;\n",
              "    }\n",
              "\n",
              "    .dataframe thead th {\n",
              "        text-align: right;\n",
              "    }\n",
              "</style>\n",
              "<table border=\"1\" class=\"dataframe\">\n",
              "  <thead>\n",
              "    <tr style=\"text-align: right;\">\n",
              "      <th></th>\n",
              "      <th>Text</th>\n",
              "      <th>Labels</th>\n",
              "    </tr>\n",
              "  </thead>\n",
              "  <tbody>\n",
              "    <tr>\n",
              "      <th>0</th>\n",
              "      <td>prohouthi force reportedly fired mm machine gu...</td>\n",
              "      <td>Shelling/artillery/missile attack</td>\n",
              "    </tr>\n",
              "    <tr>\n",
              "      <th>1</th>\n",
              "      <td>prohouthi force claimed destroyed military veh...</td>\n",
              "      <td>Shelling/artillery/missile attack</td>\n",
              "    </tr>\n",
              "    <tr>\n",
              "      <th>2</th>\n",
              "      <td>prohadi force assistance saudiled coalition re...</td>\n",
              "      <td>Shelling/artillery/missile attack</td>\n",
              "    </tr>\n",
              "    <tr>\n",
              "      <th>3</th>\n",
              "      <td>january osce smm observed total explosionsburs...</td>\n",
              "      <td>Shelling/artillery/missile attack</td>\n",
              "    </tr>\n",
              "    <tr>\n",
              "      <th>4</th>\n",
              "      <td>prohouthi force reportedly shelled alqardayn v...</td>\n",
              "      <td>Shelling/artillery/missile attack</td>\n",
              "    </tr>\n",
              "  </tbody>\n",
              "</table>\n",
              "</div>"
            ],
            "text/plain": [
              "                                                Text                             Labels\n",
              "0  prohouthi force reportedly fired mm machine gu...  Shelling/artillery/missile attack\n",
              "1  prohouthi force claimed destroyed military veh...  Shelling/artillery/missile attack\n",
              "2  prohadi force assistance saudiled coalition re...  Shelling/artillery/missile attack\n",
              "3  january osce smm observed total explosionsburs...  Shelling/artillery/missile attack\n",
              "4  prohouthi force reportedly shelled alqardayn v...  Shelling/artillery/missile attack"
            ]
          },
          "metadata": {},
          "execution_count": 100
        }
      ]
    },
    {
      "cell_type": "code",
      "metadata": {
        "id": "zt0sCfi7n7BF",
        "colab": {
          "base_uri": "https://localhost:8080/"
        },
        "outputId": "fcc32350-2a0a-4e62-d797-d150d7c93c5f"
      },
      "source": [
        "event_types_dict_new = {}\n",
        "for num, name in enumerate(list(balanced_df.Labels.unique())):\n",
        "    event_types_dict_new[name] = num\n",
        "    # print(name, \" : \", num)\n",
        "\n",
        "event_types_dict_new\n",
        "\n",
        "event_types_dict_inverse_new = {k:v for v,k in event_types_dict_new.items()}\n",
        "print(event_types_dict_new)\n",
        "print( event_types_dict_inverse_new)"
      ],
      "execution_count": null,
      "outputs": [
        {
          "output_type": "stream",
          "name": "stdout",
          "text": [
            "{'Shelling/artillery/missile attack': 0, 'Peaceful protest': 1, 'Violent demonstration': 2, 'Attack': 3, 'Air/drone strike': 4, 'Armed clash': 5, 'Mob violence': 6, 'Protest with intervention': 7, 'Excessive force against protesters': 8, 'Looting/property destruction': 9, 'Other': 10, 'Remote explosive/landmine/IED': 11, 'Government regains territory': 12, 'Abduction/forced disappearance': 13, 'Change to group/activity': 14, 'Non-state actor overtakes territory': 15, 'Arrests': 16, 'Sexual violence': 17, 'Disrupted weapons use': 18, 'Non-violent transfer of territory': 19, 'Grenade': 20, 'Headquarters or base established': 21, 'Suicide bomb': 22, 'Agreement': 23, 'Chemical weapon': 24}\n",
            "{0: 'Shelling/artillery/missile attack', 1: 'Peaceful protest', 2: 'Violent demonstration', 3: 'Attack', 4: 'Air/drone strike', 5: 'Armed clash', 6: 'Mob violence', 7: 'Protest with intervention', 8: 'Excessive force against protesters', 9: 'Looting/property destruction', 10: 'Other', 11: 'Remote explosive/landmine/IED', 12: 'Government regains territory', 13: 'Abduction/forced disappearance', 14: 'Change to group/activity', 15: 'Non-state actor overtakes territory', 16: 'Arrests', 17: 'Sexual violence', 18: 'Disrupted weapons use', 19: 'Non-violent transfer of territory', 20: 'Grenade', 21: 'Headquarters or base established', 22: 'Suicide bomb', 23: 'Agreement', 24: 'Chemical weapon'}\n"
          ]
        }
      ]
    },
    {
      "cell_type": "code",
      "metadata": {
        "id": "yaPe1gYgn7IL"
      },
      "source": [
        ""
      ],
      "execution_count": null,
      "outputs": []
    },
    {
      "cell_type": "markdown",
      "metadata": {
        "id": "5sESUy_KFLOR"
      },
      "source": [
        "## Event Frequency comparison w/ Original and Augmented Data."
      ]
    },
    {
      "cell_type": "code",
      "metadata": {
        "id": "39IIthC8mwWV",
        "colab": {
          "base_uri": "https://localhost:8080/"
        },
        "outputId": "661e2088-cd23-4f46-8dd6-680d8ce04284"
      },
      "source": [
        "df.sub_event_type.value_counts()"
      ],
      "execution_count": null,
      "outputs": [
        {
          "output_type": "execute_result",
          "data": {
            "text/plain": [
              "Peaceful protest                       329399\n",
              "Armed clash                            239828\n",
              "Attack                                 132202\n",
              "Shelling/artillery/missile attack       64743\n",
              "Mob violence                            42079\n",
              "Violent demonstration                   41003\n",
              "Air/drone strike                        34020\n",
              "Protest with intervention               31784\n",
              "Remote explosive/landmine/IED           30620\n",
              "Looting/property destruction            24315\n",
              "Abduction/forced disappearance          14624\n",
              "Arrests                                  8668\n",
              "Change to group/activity                 7925\n",
              "Disrupted weapons use                    7499\n",
              "Government regains territory             6148\n",
              "Other                                    5353\n",
              "Excessive force against protesters       3098\n",
              "Grenade                                  2948\n",
              "Non-state actor overtakes territory      2670\n",
              "Sexual violence                          2196\n",
              "Agreement                                1460\n",
              "Non-violent transfer of territory         989\n",
              "Suicide bomb                              635\n",
              "Headquarters or base established          311\n",
              "Chemical weapon                            10\n",
              "Name: sub_event_type, dtype: int64"
            ]
          },
          "metadata": {},
          "execution_count": 102
        }
      ]
    },
    {
      "cell_type": "code",
      "metadata": {
        "id": "ZRGllXjAmwTp",
        "colab": {
          "base_uri": "https://localhost:8080/"
        },
        "outputId": "7a5ded0e-0749-41c9-def6-754c6d9a1b97"
      },
      "source": [
        "balanced_df.Labels.value_counts()"
      ],
      "execution_count": null,
      "outputs": [
        {
          "output_type": "execute_result",
          "data": {
            "text/plain": [
              "Looting/property destruction           20000\n",
              "Attack                                 20000\n",
              "Remote explosive/landmine/IED          20000\n",
              "Violent demonstration                  20000\n",
              "Armed clash                            20000\n",
              "Air/drone strike                       20000\n",
              "Shelling/artillery/missile attack      20000\n",
              "Protest with intervention              20000\n",
              "Peaceful protest                       20000\n",
              "Mob violence                           20000\n",
              "Abduction/forced disappearance         14624\n",
              "Arrests                                 8668\n",
              "Change to group/activity                7925\n",
              "Disrupted weapons use                   7499\n",
              "Excessive force against protesters      6196\n",
              "Government regains territory            6148\n",
              "Non-violent transfer of territory       5934\n",
              "Grenade                                 5896\n",
              "Other                                   5353\n",
              "Non-state actor overtakes territory     5340\n",
              "Sexual violence                         4392\n",
              "Suicide bomb                            3810\n",
              "Agreement                               2920\n",
              "Headquarters or base established        1866\n",
              "Chemical weapon                           60\n",
              "Name: Labels, dtype: int64"
            ]
          },
          "metadata": {},
          "execution_count": 103
        }
      ]
    },
    {
      "cell_type": "code",
      "metadata": {
        "id": "COm-MZgcmwY7",
        "colab": {
          "base_uri": "https://localhost:8080/",
          "height": 310
        },
        "outputId": "63bece1e-1809-4395-d98e-8bb7809223b1"
      },
      "source": [
        "sns.set_theme(style=\"darkgrid\")\n",
        "x = df['sub_event_type'].value_counts()\n",
        "y = x.index\n",
        "plt.figure(figsize=(10, 5))\n",
        "g = sns.barplot(x=x, y=y)\n",
        "plt.title(\"Event Frequency Distribution [India]\", fontsize=20)\n",
        "plt.ylabel('Events', fontsize= 20)\n",
        "plt.yticks(fontsize=11)\n",
        "plt.xlabel('Frequency', fontsize=20)\n",
        "plt.xticks(fontsize=10)\n",
        "plt.show()"
      ],
      "execution_count": null,
      "outputs": [
        {
          "output_type": "display_data",
          "data": {
            "image/png": "[encoded data removed]",
            "text/plain": [
              "<Figure size 720x360 with 1 Axes>"
            ]
          },
          "metadata": {}
        }
      ]
    },
    {
      "cell_type": "code",
      "metadata": {
        "id": "I9oHzQwImwbT",
        "colab": {
          "base_uri": "https://localhost:8080/",
          "height": 310
        },
        "outputId": "af8ff4a9-38aa-43fb-b563-b74d8ece8fb0"
      },
      "source": [
        "sns.set_theme(style=\"darkgrid\")\n",
        "x = balanced_df.Labels.value_counts()\n",
        "y = x.index\n",
        "plt.figure(figsize=(10, 5))\n",
        "g = sns.barplot(x=x, y=y)\n",
        "plt.title(\"Event Frequency Distribution [India]\", fontsize=20)\n",
        "plt.ylabel('Events', fontsize= 20)\n",
        "plt.yticks(fontsize=11)\n",
        "plt.xlabel('Frequency', fontsize=20)\n",
        "plt.xticks(fontsize=10)\n",
        "plt.show()"
      ],
      "execution_count": null,
      "outputs": [
        {
          "output_type": "display_data",
          "data": {
            "image/png": "[encoded data removed]",
            "text/plain": [
              "<Figure size 720x360 with 1 Axes>"
            ]
          },
          "metadata": {}
        }
      ]
    },
    {
      "cell_type": "code",
      "metadata": {
        "id": "RioIAAu0umuN"
      },
      "source": [
        "balanced_df['NumLabel'] = balanced_df.Labels.apply(text_to_numerical_category)"
      ],
      "execution_count": null,
      "outputs": []
    },
    {
      "cell_type": "code",
      "metadata": {
        "id": "vdeadXrgvKBe",
        "colab": {
          "base_uri": "https://localhost:8080/",
          "height": 206
        },
        "outputId": "b11381ba-0ba1-43a5-98bf-acf8b4423e6b"
      },
      "source": [
        "balanced_df.head()"
      ],
      "execution_count": null,
      "outputs": [
        {
          "output_type": "execute_result",
          "data": {
            "text/html": [
              "<div>\n",
              "<style scoped>\n",
              "    .dataframe tbody tr th:only-of-type {\n",
              "        vertical-align: middle;\n",
              "    }\n",
              "\n",
              "    .dataframe tbody tr th {\n",
              "        vertical-align: top;\n",
              "    }\n",
              "\n",
              "    .dataframe thead th {\n",
              "        text-align: right;\n",
              "    }\n",
              "</style>\n",
              "<table border=\"1\" class=\"dataframe\">\n",
              "  <thead>\n",
              "    <tr style=\"text-align: right;\">\n",
              "      <th></th>\n",
              "      <th>Text</th>\n",
              "      <th>Labels</th>\n",
              "      <th>NumLabel</th>\n",
              "    </tr>\n",
              "  </thead>\n",
              "  <tbody>\n",
              "    <tr>\n",
              "      <th>0</th>\n",
              "      <td>prohouthi force reportedly fired mm machine gu...</td>\n",
              "      <td>Shelling/artillery/missile attack</td>\n",
              "      <td>0</td>\n",
              "    </tr>\n",
              "    <tr>\n",
              "      <th>1</th>\n",
              "      <td>prohouthi force claimed destroyed military veh...</td>\n",
              "      <td>Shelling/artillery/missile attack</td>\n",
              "      <td>0</td>\n",
              "    </tr>\n",
              "    <tr>\n",
              "      <th>2</th>\n",
              "      <td>prohadi force assistance saudiled coalition re...</td>\n",
              "      <td>Shelling/artillery/missile attack</td>\n",
              "      <td>0</td>\n",
              "    </tr>\n",
              "    <tr>\n",
              "      <th>3</th>\n",
              "      <td>january osce smm observed total explosionsburs...</td>\n",
              "      <td>Shelling/artillery/missile attack</td>\n",
              "      <td>0</td>\n",
              "    </tr>\n",
              "    <tr>\n",
              "      <th>4</th>\n",
              "      <td>prohouthi force reportedly shelled alqardayn v...</td>\n",
              "      <td>Shelling/artillery/missile attack</td>\n",
              "      <td>0</td>\n",
              "    </tr>\n",
              "  </tbody>\n",
              "</table>\n",
              "</div>"
            ],
            "text/plain": [
              "                                                Text  ... NumLabel\n",
              "0  prohouthi force reportedly fired mm machine gu...  ...        0\n",
              "1  prohouthi force claimed destroyed military veh...  ...        0\n",
              "2  prohadi force assistance saudiled coalition re...  ...        0\n",
              "3  january osce smm observed total explosionsburs...  ...        0\n",
              "4  prohouthi force reportedly shelled alqardayn v...  ...        0\n",
              "\n",
              "[5 rows x 3 columns]"
            ]
          },
          "metadata": {},
          "execution_count": 107
        }
      ]
    },
    {
      "cell_type": "markdown",
      "metadata": {
        "id": "NmmYyLu3y7jk"
      },
      "source": [
        "# RoBERTa"
      ]
    },
    {
      "cell_type": "code",
      "metadata": {
        "id": "nGXO12YR7Pio"
      },
      "source": [
        "max_classes = len(balanced_df.Labels.unique())\n",
        "max_length = 128"
      ],
      "execution_count": null,
      "outputs": []
    },
    {
      "cell_type": "code",
      "metadata": {
        "id": "LbTDnw_feFL5"
      },
      "source": [
        "from transformers import RobertaTokenizer, TFRobertaForSequenceClassification\n",
        "\n",
        "# Same as before\n",
        "checkpoint = \"roberta-base\"\n",
        "tokenizer = RobertaTokenizer.from_pretrained(checkpoint, max_length=max_length)"
      ],
      "execution_count": null,
      "outputs": []
    },
    {
      "cell_type": "markdown",
      "metadata": {
        "id": "29RpcASwkDL3"
      },
      "source": [
        "## Hyperparametrs"
      ]
    },
    {
      "cell_type": "code",
      "metadata": {
        "id": "sJO5JE9vkB9u"
      },
      "source": [
        "from tensorflow.keras.optimizers.schedules import PolynomialDecay\n",
        "\n",
        "EPOCHS = 3\n",
        "loss = tf.keras.losses.CategoricalCrossentropy(from_logits=False)\n",
        "batch_size = 32\n",
        "\n",
        "num_train_steps =  len((balanced_df.NumLabel) // batch_size) * EPOCHS\n",
        "lr_scheduler = PolynomialDecay(initial_learning_rate=5e-5,\n",
        "                               end_learning_rate=0.,\n",
        "                               decay_steps=num_train_steps\n",
        "                               )\n",
        "\n",
        "from tensorflow.keras.optimizers import Adam\n",
        "opt = Adam(learning_rate=lr_scheduler)"
      ],
      "execution_count": null,
      "outputs": []
    },
    {
      "cell_type": "markdown",
      "metadata": {
        "id": "UdjV9VD8Fdbg"
      },
      "source": [
        "## Tokenization"
      ]
    },
    {
      "cell_type": "code",
      "metadata": {
        "id": "M4W8z-AUwM3a"
      },
      "source": [
        "from sklearn.utils import shuffle\n",
        "from sklearn.model_selection import train_test_split\n",
        "result_df = shuffle(balanced_df)"
      ],
      "execution_count": null,
      "outputs": []
    },
    {
      "cell_type": "code",
      "metadata": {
        "colab": {
          "base_uri": "https://localhost:8080/",
          "height": 545
        },
        "id": "iNE_7jaknf-C",
        "outputId": "f600e870-0c99-4f66-f5b2-65cd147ddc09"
      },
      "source": [
        "result_df"
      ],
      "execution_count": null,
      "outputs": [
        {
          "output_type": "execute_result",
          "data": {
            "text/html": [
              "<div>\n",
              "<style scoped>\n",
              "    .dataframe tbody tr th:only-of-type {\n",
              "        vertical-align: middle;\n",
              "    }\n",
              "\n",
              "    .dataframe tbody tr th {\n",
              "        vertical-align: top;\n",
              "    }\n",
              "\n",
              "    .dataframe thead th {\n",
              "        text-align: right;\n",
              "    }\n",
              "</style>\n",
              "<table border=\"1\" class=\"dataframe\">\n",
              "  <thead>\n",
              "    <tr style=\"text-align: right;\">\n",
              "      <th></th>\n",
              "      <th>Text</th>\n",
              "      <th>Labels</th>\n",
              "      <th>NumLabel</th>\n",
              "    </tr>\n",
              "  </thead>\n",
              "  <tbody>\n",
              "    <tr>\n",
              "      <th>88258</th>\n",
              "      <td>turkish warplane conducted airstrikes tal bayd...</td>\n",
              "      <td>Air/drone strike</td>\n",
              "      <td>4</td>\n",
              "    </tr>\n",
              "    <tr>\n",
              "      <th>164239</th>\n",
              "      <td>large group protester gathered mong kok yau ts...</td>\n",
              "      <td>Excessive force against protesters</td>\n",
              "      <td>8</td>\n",
              "    </tr>\n",
              "    <tr>\n",
              "      <th>209407</th>\n",
              "      <td>august houthiplanted ied reportedly detonated ...</td>\n",
              "      <td>Remote explosive/landmine/IED</td>\n",
              "      <td>11</td>\n",
              "    </tr>\n",
              "    <tr>\n",
              "      <th>43996</th>\n",
              "      <td>people demonstrated police violence marched lo...</td>\n",
              "      <td>Violent demonstration</td>\n",
              "      <td>2</td>\n",
              "    </tr>\n",
              "    <tr>\n",
              "      <th>12166</th>\n",
              "      <td>november osce smm observed total explosion inv...</td>\n",
              "      <td>Shelling/artillery/missile attack</td>\n",
              "      <td>0</td>\n",
              "    </tr>\n",
              "    <tr>\n",
              "      <th>...</th>\n",
              "      <td>...</td>\n",
              "      <td>...</td>\n",
              "      <td>...</td>\n",
              "    </tr>\n",
              "    <tr>\n",
              "      <th>210894</th>\n",
              "      <td>ied planted unknown armed group exploded behin...</td>\n",
              "      <td>Remote explosive/landmine/IED</td>\n",
              "      <td>11</td>\n",
              "    </tr>\n",
              "    <tr>\n",
              "      <th>23678</th>\n",
              "      <td>hpa yar ngar su village win yaw area villager ...</td>\n",
              "      <td>Peaceful protest</td>\n",
              "      <td>1</td>\n",
              "    </tr>\n",
              "    <tr>\n",
              "      <th>157584</th>\n",
              "      <td>people baltimore bloc marched baltimore black ...</td>\n",
              "      <td>Protest with intervention</td>\n",
              "      <td>7</td>\n",
              "    </tr>\n",
              "    <tr>\n",
              "      <th>199435</th>\n",
              "      <td>three civilian one family injured unidentified...</td>\n",
              "      <td>Remote explosive/landmine/IED</td>\n",
              "      <td>11</td>\n",
              "    </tr>\n",
              "    <tr>\n",
              "      <th>146915</th>\n",
              "      <td>several thousand people took part protest vlad...</td>\n",
              "      <td>Protest with intervention</td>\n",
              "      <td>7</td>\n",
              "    </tr>\n",
              "  </tbody>\n",
              "</table>\n",
              "<p>286631 rows × 3 columns</p>\n",
              "</div>"
            ],
            "text/plain": [
              "                                                     Text  ... NumLabel\n",
              "88258   turkish warplane conducted airstrikes tal bayd...  ...        4\n",
              "164239  large group protester gathered mong kok yau ts...  ...        8\n",
              "209407  august houthiplanted ied reportedly detonated ...  ...       11\n",
              "43996   people demonstrated police violence marched lo...  ...        2\n",
              "12166   november osce smm observed total explosion inv...  ...        0\n",
              "...                                                   ...  ...      ...\n",
              "210894  ied planted unknown armed group exploded behin...  ...       11\n",
              "23678   hpa yar ngar su village win yaw area villager ...  ...        1\n",
              "157584  people baltimore bloc marched baltimore black ...  ...        7\n",
              "199435  three civilian one family injured unidentified...  ...       11\n",
              "146915  several thousand people took part protest vlad...  ...        7\n",
              "\n",
              "[286631 rows x 3 columns]"
            ]
          },
          "metadata": {},
          "execution_count": 112
        }
      ]
    },
    {
      "cell_type": "code",
      "metadata": {
        "id": "4FExtMgrngbU"
      },
      "source": [
        "# result_df.to_csv('resampled-training-data.csv', index=True)"
      ],
      "execution_count": null,
      "outputs": []
    },
    {
      "cell_type": "code",
      "metadata": {
        "id": "YppG_1X-pOJf"
      },
      "source": [
        "result_df = pd.read_csv('/content/drive/MyDrive/Shared-Task-2021/resampled-training-data-ggod.csv', index_col=0)\n",
        "# result_df"
      ],
      "execution_count": null,
      "outputs": []
    },
    {
      "cell_type": "markdown",
      "metadata": {
        "id": "WXkVWSGleknE"
      },
      "source": [
        "### Train-Test-Split"
      ]
    },
    {
      "cell_type": "code",
      "metadata": {
        "id": "WsCrEBRvy_7f"
      },
      "source": [
        "X_train, X_test, Y_train, Y_test = train_test_split(result_df.Text, result_df.NumLabel, test_size = 0.1, random_state = 42, stratify =result_df.NumLabel)"
      ],
      "execution_count": null,
      "outputs": []
    },
    {
      "cell_type": "markdown",
      "metadata": {
        "id": "ofAI7IRhY-5U"
      },
      "source": [
        "### Label Encoding"
      ]
    },
    {
      "cell_type": "code",
      "metadata": {
        "id": "cTK-eIcsxFJ4",
        "colab": {
          "base_uri": "https://localhost:8080/"
        },
        "outputId": "d8b444f5-b356-406f-ef58-9575bd7caafa"
      },
      "source": [
        "max_classes = len(balanced_df.Labels.unique())\n",
        "print(max_classes)"
      ],
      "execution_count": null,
      "outputs": [
        {
          "output_type": "stream",
          "name": "stdout",
          "text": [
            "25\n"
          ]
        }
      ]
    },
    {
      "cell_type": "code",
      "metadata": {
        "colab": {
          "base_uri": "https://localhost:8080/"
        },
        "id": "96rMhFvyZDiF",
        "outputId": "b39fc9ff-bfe9-45ba-ee67-ffb3f12a8ae4"
      },
      "source": [
        "%%time\n",
        "encoded_labels_train = to_categorical(Y_train, num_classes=max_classes)\n",
        "encoded_labels_test = to_categorical(Y_test, num_classes=max_classes)"
      ],
      "execution_count": null,
      "outputs": [
        {
          "output_type": "stream",
          "name": "stdout",
          "text": [
            "CPU times: user 14.1 ms, sys: 1.72 ms, total: 15.8 ms\n",
            "Wall time: 14.6 ms\n"
          ]
        }
      ]
    },
    {
      "cell_type": "markdown",
      "metadata": {
        "id": "-I3nP_Pge2bf"
      },
      "source": [
        "### Input-Tokenization"
      ]
    },
    {
      "cell_type": "code",
      "metadata": {
        "id": "l8kKl0q5dqLB"
      },
      "source": [
        "def roberta_encode(data,maximum_length) :\n",
        "  input_ids = []\n",
        "  attention_masks = []\n",
        "  \n",
        "\n",
        "  for i in tqdm(range(len(data))):\n",
        "      encoded = tokenizer.encode_plus(\n",
        "        \n",
        "        data[i],\n",
        "        add_special_tokens=True,\n",
        "        max_length=maximum_length,\n",
        "        pad_to_max_length=True,\n",
        "        \n",
        "        return_attention_mask=True,\n",
        "        \n",
        "      )\n",
        "      \n",
        "      input_ids.append(encoded['input_ids'])\n",
        "      attention_masks.append(encoded['attention_mask'])\n",
        "  return np.array(input_ids),np.array(attention_masks)"
      ],
      "execution_count": null,
      "outputs": []
    },
    {
      "cell_type": "code",
      "metadata": {
        "colab": {
          "base_uri": "https://localhost:8080/"
        },
        "id": "pBWpRyRndqS7",
        "outputId": "4b580b81-e3b1-4f00-ffc9-eaf96fab3aba"
      },
      "source": [
        "%%time\n",
        "train_inputs,train_attention_masks = roberta_encode(list(X_train), max_length)"
      ],
      "execution_count": null,
      "outputs": [
        {
          "output_type": "stream",
          "name": "stderr",
          "text": [
            "  0%|          | 0/257967 [00:00<?, ?it/s]Truncation was not explicitly activated but `max_length` is provided a specific value, please use `truncation=True` to explicitly truncate examples to max length. Defaulting to 'longest_first' truncation strategy. If you encode pairs of sequences (GLUE-style) with the tokenizer you can select this strategy more precisely by providing a specific strategy to `truncation`.\n",
            "/usr/local/lib/python3.7/dist-packages/transformers/tokenization_utils_base.py:2217: FutureWarning: The `pad_to_max_length` argument is deprecated and will be removed in a future version, use `padding=True` or `padding='longest'` to pad to the longest sequence in the batch, or use `padding='max_length'` to pad to a max length. In this case, you can give a specific length with `max_length` (e.g. `max_length=45`) or leave max_length to None to pad to the maximal input size of the model (e.g. 512 for Bert).\n",
            "  FutureWarning,\n",
            "100%|██████████| 257967/257967 [02:33<00:00, 1681.12it/s]\n"
          ]
        },
        {
          "output_type": "stream",
          "name": "stdout",
          "text": [
            "CPU times: user 2min, sys: 2.58 s, total: 2min 2s\n",
            "Wall time: 2min 39s\n"
          ]
        }
      ]
    },
    {
      "cell_type": "code",
      "metadata": {
        "colab": {
          "base_uri": "https://localhost:8080/"
        },
        "id": "Wqq1aZIliQEH",
        "outputId": "6b055717-db43-4068-fc19-ebb12066b138"
      },
      "source": [
        "test_inputs,test_attention_masks = roberta_encode(list(X_test), max_length)"
      ],
      "execution_count": null,
      "outputs": [
        {
          "output_type": "stream",
          "name": "stderr",
          "text": [
            "  0%|          | 0/28664 [00:00<?, ?it/s]/usr/local/lib/python3.7/dist-packages/transformers/tokenization_utils_base.py:2217: FutureWarning: The `pad_to_max_length` argument is deprecated and will be removed in a future version, use `padding=True` or `padding='longest'` to pad to the longest sequence in the batch, or use `padding='max_length'` to pad to a max length. In this case, you can give a specific length with `max_length` (e.g. `max_length=45`) or leave max_length to None to pad to the maximal input size of the model (e.g. 512 for Bert).\n",
            "  FutureWarning,\n",
            "100%|██████████| 28664/28664 [00:12<00:00, 2361.52it/s]\n"
          ]
        }
      ]
    },
    {
      "cell_type": "code",
      "metadata": {
        "id": "2P-jVk3jcM5x"
      },
      "source": [
        "# train_inputs = tokenizer(list(X_train), padding=True, truncation=True, return_tensors=\"np\")\n",
        "\n",
        "# train_inputs[\"labels\"] = tf.reshape(tf.constant(encoded_labels_train), (len(list(X_train)), max_classes))"
      ],
      "execution_count": null,
      "outputs": []
    },
    {
      "cell_type": "code",
      "metadata": {
        "colab": {
          "base_uri": "https://localhost:8080/"
        },
        "id": "KqSTLWGNsITm",
        "outputId": "a779d712-6478-4792-bce1-e64100b64566"
      },
      "source": [
        "len(X_train), len(X_test)"
      ],
      "execution_count": null,
      "outputs": [
        {
          "output_type": "execute_result",
          "data": {
            "text/plain": [
              "(257967, 28664)"
            ]
          },
          "metadata": {},
          "execution_count": 122
        }
      ]
    },
    {
      "cell_type": "code",
      "metadata": {
        "id": "rblMmvixeMLc"
      },
      "source": [
        "# test_inputs = tokenizer(list(X_test), padding=True, truncation=True, return_tensors=\"np\")\n",
        "\n",
        "# test_inputs[\"labels\"] = tf.reshape(tf.constant(encoded_labels_test), (len(list(X_test)), max_classes)) "
      ],
      "execution_count": null,
      "outputs": []
    },
    {
      "cell_type": "markdown",
      "metadata": {
        "id": "xgMRaqNugD34"
      },
      "source": [
        "### Tensorflow-Input-Pipeline"
      ]
    },
    {
      "cell_type": "code",
      "metadata": {
        "id": "c3tvTGYHe7Ly"
      },
      "source": [
        "train_dataset = tf.data.Dataset.from_tensor_slices(((train_inputs,train_attention_masks), encoded_labels_train)).shuffle(70000).batch(batch_size).prefetch(tf.data.AUTOTUNE)\n",
        "test_dataset = tf.data.Dataset.from_tensor_slices(((test_inputs,test_attention_masks), encoded_labels_test)).shuffle(70000).batch(batch_size).prefetch(tf.data.AUTOTUNE)"
      ],
      "execution_count": null,
      "outputs": []
    },
    {
      "cell_type": "markdown",
      "metadata": {
        "id": "ad-repjSjD7V"
      },
      "source": [
        "## Custom Callbacks"
      ]
    },
    {
      "cell_type": "code",
      "metadata": {
        "colab": {
          "base_uri": "https://localhost:8080/"
        },
        "id": "lqS4McM3eZg_",
        "outputId": "29717dce-59da-4e8a-fbbc-99fc9404d67f"
      },
      "source": [
        "from tensorflow.keras.callbacks import ModelCheckpoint, EarlyStopping\n",
        "!mkdir checkpoints\n",
        "\n",
        "MyCheckpoint = ModelCheckpoint('RoBERTa-base.h5',\n",
        "                               monitor = 'val_categorical_accuracy',\n",
        "                               verbose = 1,\n",
        "                               save_best_only = True,\n",
        "                               mode='auto',\n",
        "                               save_weights_only = True)\n",
        "\n",
        "MyEarlyStopping = EarlyStopping(patience =1,\n",
        "                                monitor='val_categorical_accuracy',\n",
        "                                restore_best_weights = True,\n",
        "                                verbose = 1)\n",
        "\n",
        "import os\n",
        "os.path.exists('/content/checkpoints')"
      ],
      "execution_count": null,
      "outputs": [
        {
          "output_type": "stream",
          "name": "stdout",
          "text": [
            "mkdir: cannot create directory ‘checkpoints’: File exists\n"
          ]
        },
        {
          "output_type": "execute_result",
          "data": {
            "text/plain": [
              "True"
            ]
          },
          "metadata": {},
          "execution_count": 125
        }
      ]
    },
    {
      "cell_type": "markdown",
      "metadata": {
        "id": "7OwClub9p6qt"
      },
      "source": [
        "## Class Weight Balancing"
      ]
    },
    {
      "cell_type": "code",
      "metadata": {
        "colab": {
          "base_uri": "https://localhost:8080/"
        },
        "id": "9IxTfcr2p_Ct",
        "outputId": "25389266-3960-4b76-ba15-243f81ea90d6"
      },
      "source": [
        "from sklearn.utils import class_weight\n",
        "class_weights_array = class_weight.compute_class_weight('balanced'\n",
        "                                               ,np.unique(balanced_df.NumLabel)\n",
        "                                               ,balanced_df.NumLabel)\n",
        "\n",
        "class_weights_array"
      ],
      "execution_count": null,
      "outputs": [
        {
          "output_type": "execute_result",
          "data": {
            "text/plain": [
              "array([  0.573262  ,   0.573262  ,   0.573262  ,   0.573262  ,\n",
              "         0.573262  ,   0.573262  ,   0.573262  ,   0.573262  ,\n",
              "         1.85042608,   0.573262  ,   2.14183449,   0.573262  ,\n",
              "         1.86487313,   0.78400164,   1.44671798,   2.14704869,\n",
              "         1.32270881,   2.6104827 ,   1.52890252,   1.93212673,\n",
              "         1.94457938,   6.14428725,   3.00924934,   3.92645205,\n",
              "       191.08733333])"
            ]
          },
          "metadata": {},
          "execution_count": 126
        }
      ]
    },
    {
      "cell_type": "code",
      "metadata": {
        "colab": {
          "base_uri": "https://localhost:8080/"
        },
        "id": "cX6T25lxp_Gq",
        "outputId": "5e53f5bf-ce13-4160-ce7f-0d0d0fc9e4dc"
      },
      "source": [
        "class_weights = {i : class_weights_array[i] for i in range(len(class_weights_array))}\n",
        "class_weights"
      ],
      "execution_count": null,
      "outputs": [
        {
          "output_type": "execute_result",
          "data": {
            "text/plain": [
              "{0: 0.573262,\n",
              " 1: 0.573262,\n",
              " 2: 0.573262,\n",
              " 3: 0.573262,\n",
              " 4: 0.573262,\n",
              " 5: 0.573262,\n",
              " 6: 0.573262,\n",
              " 7: 0.573262,\n",
              " 8: 1.8504260813428017,\n",
              " 9: 0.573262,\n",
              " 10: 2.141834485335326,\n",
              " 11: 0.573262,\n",
              " 12: 1.8648731294729994,\n",
              " 13: 0.7840016411378555,\n",
              " 14: 1.4467179810725552,\n",
              " 15: 2.1470486891385767,\n",
              " 16: 1.322708814028611,\n",
              " 17: 2.6104826958105645,\n",
              " 18: 1.528902520336045,\n",
              " 19: 1.9321267273340075,\n",
              " 20: 1.9445793758480325,\n",
              " 21: 6.144287245444802,\n",
              " 22: 3.009249343832021,\n",
              " 23: 3.9264520547945208,\n",
              " 24: 191.08733333333333}"
            ]
          },
          "metadata": {},
          "execution_count": 127
        }
      ]
    },
    {
      "cell_type": "markdown",
      "metadata": {
        "id": "5EZGnwQUI903"
      },
      "source": [
        "## Building Model"
      ]
    },
    {
      "cell_type": "markdown",
      "metadata": {
        "id": "yfRot3lMVbhd"
      },
      "source": [
        "### Defining Model Metrics"
      ]
    },
    {
      "cell_type": "code",
      "metadata": {
        "id": "gL7Yk_xOVYP4"
      },
      "source": [
        "# !pip install tensorflow_addons\n",
        "import tensorflow_addons as tfa\n",
        "\n",
        "macro_f1 = tfa.metrics.F1Score(num_classes=max_classes, average='macro')\n",
        "micro_f1 = tfa.metrics.F1Score(num_classes=max_classes, average='micro')\n",
        "weighted_f1 = tfa.metrics.F1Score(num_classes=max_classes, average='weighted')\n",
        "precision = tf.metrics.Precision()\n",
        "recall = tf.metrics.Recall()\n",
        "categorical_accuracry = tf.metrics.CategoricalAccuracy()\n",
        "\n",
        "class F1_metric(tf.keras.metrics.Metric):\n",
        "    def __init__(self, name='f1_score', **kwargs):\n",
        "        super().__init__(name=name, **kwargs)\n",
        "        # Initialize our metric by initializing the two metrics it's based on:\n",
        "        # Precision and Recall\n",
        "        self.precision = tf.keras.metrics.Precision()\n",
        "        self.recall = tf.keras.metrics.Recall()\n",
        "\n",
        "    def update_state(self, y_true, y_pred, sample_weight=None):\n",
        "        # Update our metric by updating the two metrics it's based on\n",
        "        self.precision.update_state(y_true, y_pred, sample_weight)\n",
        "        self.recall.update_state(y_true, y_pred, sample_weight)\n",
        "\n",
        "    def reset_state(self):\n",
        "        self.precision.reset_state()\n",
        "        self.recall.reset_state()\n",
        "\n",
        "    def result(self):\n",
        "        # To get the F1 result, we compute the harmonic mean of the current\n",
        "        # precision and recall\n",
        "        return 2 / ((1 / self.precision.result()) + (1 / self.recall.result())) \n",
        "\n",
        "F1Score = F1_metric()\n",
        "metrics = [categorical_accuracry, F1Score]\n"
      ],
      "execution_count": null,
      "outputs": []
    },
    {
      "cell_type": "markdown",
      "metadata": {
        "id": "9SScGBGIe6Uc"
      },
      "source": [
        "### Custom Model Creation"
      ]
    },
    {
      "cell_type": "code",
      "metadata": {
        "id": "Qt3tG8g2e5yG"
      },
      "source": [
        "def create_model(roberta_model):\n",
        "  input_ids = tf.keras.Input(shape=(max_length,),dtype='int32')\n",
        "  attention_masks = tf.keras.Input(shape=(max_length,),dtype='int32')\n",
        "  \n",
        "  output = roberta_model([input_ids,attention_masks])\n",
        "  output = output[1]\n",
        "  output = tf.keras.layers.Dense(32,activation='relu')(output)\n",
        "  output = tf.keras.layers.Dropout(0.2)(output)\n",
        "\n",
        "  output = tf.keras.layers.Dense(units=max_classes,activation='softmax')(output)\n",
        "  model = tf.keras.models.Model(inputs = [input_ids,attention_masks],outputs = output)\n",
        "  model.compile(optimizer= opt,\n",
        "              loss= loss,\n",
        "              metrics = metrics)\n",
        "  return model"
      ],
      "execution_count": null,
      "outputs": []
    },
    {
      "cell_type": "markdown",
      "metadata": {
        "id": "uzyrfYpuhDI1"
      },
      "source": [
        "## Model Summary"
      ]
    },
    {
      "cell_type": "code",
      "metadata": {
        "colab": {
          "base_uri": "https://localhost:8080/"
        },
        "id": "IoEkHTLig_Y3",
        "outputId": "b625a55e-a90c-4702-913f-65247d0acce3"
      },
      "source": [
        "from transformers import TFRobertaModel\n",
        "roberta_model = TFRobertaModel.from_pretrained('roberta-base')\n",
        "\n",
        "model = create_model(roberta_model)\n",
        "model.summary()"
      ],
      "execution_count": null,
      "outputs": [
        {
          "output_type": "stream",
          "name": "stderr",
          "text": [
            "Some layers from the model checkpoint at roberta-base were not used when initializing TFRobertaModel: ['lm_head']\n",
            "- This IS expected if you are initializing TFRobertaModel from the checkpoint of a model trained on another task or with another architecture (e.g. initializing a BertForSequenceClassification model from a BertForPreTraining model).\n",
            "- This IS NOT expected if you are initializing TFRobertaModel from the checkpoint of a model that you expect to be exactly identical (initializing a BertForSequenceClassification model from a BertForSequenceClassification model).\n",
            "All the layers of TFRobertaModel were initialized from the model checkpoint at roberta-base.\n",
            "If your task is similar to the task the model of the checkpoint was trained on, you can already use TFRobertaModel for predictions without further training.\n"
          ]
        },
        {
          "output_type": "stream",
          "name": "stdout",
          "text": [
            "Model: \"model_3\"\n",
            "__________________________________________________________________________________________________\n",
            "Layer (type)                    Output Shape         Param #     Connected to                     \n",
            "==================================================================================================\n",
            "input_7 (InputLayer)            [(None, 128)]        0                                            \n",
            "__________________________________________________________________________________________________\n",
            "input_8 (InputLayer)            [(None, 128)]        0                                            \n",
            "__________________________________________________________________________________________________\n",
            "tf_roberta_model_3 (TFRobertaMo TFBaseModelOutputWit 124645632   input_7[0][0]                    \n",
            "                                                                 input_8[0][0]                    \n",
            "__________________________________________________________________________________________________\n",
            "dense_6 (Dense)                 (None, 32)           24608       tf_roberta_model_3[0][1]         \n",
            "__________________________________________________________________________________________________\n",
            "dropout_151 (Dropout)           (None, 32)           0           dense_6[0][0]                    \n",
            "__________________________________________________________________________________________________\n",
            "dense_7 (Dense)                 (None, 25)           825         dropout_151[0][0]                \n",
            "==================================================================================================\n",
            "Total params: 124,671,065\n",
            "Trainable params: 124,671,065\n",
            "Non-trainable params: 0\n",
            "__________________________________________________________________________________________________\n"
          ]
        }
      ]
    },
    {
      "cell_type": "markdown",
      "metadata": {
        "id": "RY9z1kOBAtky"
      },
      "source": [
        "## Model Training"
      ]
    },
    {
      "cell_type": "code",
      "metadata": {
        "colab": {
          "base_uri": "https://localhost:8080/"
        },
        "id": "6OUMHl_3At7R",
        "outputId": "a64ab2ed-c875-4757-f88f-330e4c1e1a31"
      },
      "source": [
        "%%time\n",
        "history = model.fit([train_inputs,train_attention_masks], encoded_labels_train, \n",
        "                    validation_data=([test_inputs, test_attention_masks], encoded_labels_test),\n",
        "                    epochs = EPOCHS,\n",
        "                    batch_size = batch_size,\n",
        "                    verbose = 1,\n",
        "                    class_weight=class_weights,\n",
        "                    callbacks = [MyCheckpoint, MyEarlyStopping]\n",
        "                    )"
      ],
      "execution_count": null,
      "outputs": [
        {
          "output_type": "stream",
          "name": "stdout",
          "text": [
            "Epoch 1/3\n",
            "8062/8062 [==============================] - 4102s 506ms/step - loss: 0.9153 - categorical_accuracy: 0.7533 - f1_score: 0.7492 - val_loss: 0.4424 - val_categorical_accuracy: 0.8923 - val_f1_score: 0.8939\n",
            "\n",
            "Epoch 00001: val_categorical_accuracy improved from -inf to 0.89234, saving model to RoBERTa-base.h5\n",
            "Epoch 2/3\n",
            "8062/8062 [==============================] - 4074s 505ms/step - loss: 0.4927 - categorical_accuracy: 0.8789 - f1_score: 0.8767 - val_loss: 0.3644 - val_categorical_accuracy: 0.9134 - val_f1_score: 0.9137\n",
            "\n",
            "Epoch 00002: val_categorical_accuracy improved from 0.89234 to 0.91341, saving model to RoBERTa-base.h5\n",
            "Epoch 3/3\n",
            "8062/8062 [==============================] - 4072s 505ms/step - loss: 0.3891 - categorical_accuracy: 0.9022 - f1_score: 0.9009 - val_loss: 0.9131 - val_categorical_accuracy: 0.8140 - val_f1_score: 0.8235\n",
            "\n",
            "Epoch 00003: val_categorical_accuracy did not improve from 0.91341\n",
            "Restoring model weights from the end of the best epoch.\n",
            "Epoch 00003: early stopping\n",
            "CPU times: user 1h 33min 21s, sys: 20min 59s, total: 1h 54min 20s\n",
            "Wall time: 3h 24min 13s\n"
          ]
        }
      ]
    },
    {
      "cell_type": "code",
      "metadata": {
        "id": "W56LD_Ax6j0B",
        "colab": {
          "base_uri": "https://localhost:8080/",
          "height": 823
        },
        "outputId": "2335de5e-3008-42a5-c34b-8dd84555d9e9"
      },
      "source": [
        "import matplotlib.pyplot as plt \n",
        "def plot_graphs(history, string):\n",
        "    plt.plot(history.history[string])\n",
        "    plt.plot(history.history['val_'+string])\n",
        "    plt.xlabel(\"Epochs\")\n",
        "    plt.ylabel(string)\n",
        "    plt.legend([string, 'val_'+string])\n",
        "    plt.show()\n",
        "\n",
        "plot_graphs(history, \"categorical_accuracy\")\n",
        "plot_graphs(history, \"f1_score\")\n",
        "plot_graphs(history, 'loss')\n"
      ],
      "execution_count": null,
      "outputs": [
        {
          "output_type": "display_data",
          "data": {
            "image/png": "[encoded data removed]",
            "text/plain": [
              "<Figure size 432x288 with 1 Axes>"
            ]
          },
          "metadata": {}
        },
        {
          "output_type": "display_data",
          "data": {
            "image/png": "[encoded data removed]",
            "text/plain": [
              "<Figure size 432x288 with 1 Axes>"
            ]
          },
          "metadata": {}
        },
        {
          "output_type": "display_data",
          "data": {
            "image/png": "[encoded data removed]",
            "text/plain": [
              "<Figure size 432x288 with 1 Axes>"
            ]
          },
          "metadata": {}
        }
      ]
    },
    {
      "cell_type": "code",
      "metadata": {
        "id": "xVqdjR-oJ0lo"
      },
      "source": [
        "model.save('BERT-Model.h5')"
      ],
      "execution_count": null,
      "outputs": []
    },
    {
      "cell_type": "code",
      "metadata": {
        "id": "UqtgpdJK4t_0"
      },
      "source": [
        "test_file = pd.read_csv('/content/test_file_with labels.txt', sep='\\t')"
      ],
      "execution_count": null,
      "outputs": []
    },
    {
      "cell_type": "code",
      "metadata": {
        "id": "5o09mjjJ5gPI",
        "colab": {
          "base_uri": "https://localhost:8080/",
          "height": 206
        },
        "outputId": "48632977-8456-44cb-90d3-b489a89bc00f"
      },
      "source": [
        "test_file.head()"
      ],
      "execution_count": null,
      "outputs": [
        {
          "output_type": "execute_result",
          "data": {
            "text/html": [
              "<div>\n",
              "<style scoped>\n",
              "    .dataframe tbody tr th:only-of-type {\n",
              "        vertical-align: middle;\n",
              "    }\n",
              "\n",
              "    .dataframe tbody tr th {\n",
              "        vertical-align: top;\n",
              "    }\n",
              "\n",
              "    .dataframe thead th {\n",
              "        text-align: right;\n",
              "    }\n",
              "</style>\n",
              "<table border=\"1\" class=\"dataframe\">\n",
              "  <thead>\n",
              "    <tr style=\"text-align: right;\">\n",
              "      <th></th>\n",
              "      <th>id</th>\n",
              "      <th>EventSnippet</th>\n",
              "      <th>SubType</th>\n",
              "    </tr>\n",
              "  </thead>\n",
              "  <tbody>\n",
              "    <tr>\n",
              "      <th>0</th>\n",
              "      <td>1</td>\n",
              "      <td>The US warplanes pounded the village of Kashka...</td>\n",
              "      <td>AIR_STRIKE</td>\n",
              "    </tr>\n",
              "    <tr>\n",
              "      <th>1</th>\n",
              "      <td>2</td>\n",
              "      <td>After a five-week drop of Covid-19 cases in Pu...</td>\n",
              "      <td>NATURAL_DISASTER</td>\n",
              "    </tr>\n",
              "    <tr>\n",
              "      <th>2</th>\n",
              "      <td>3</td>\n",
              "      <td>Officers brutally attacked and injured a peace...</td>\n",
              "      <td>FORCE_AGAINST_PROTEST</td>\n",
              "    </tr>\n",
              "    <tr>\n",
              "      <th>3</th>\n",
              "      <td>4</td>\n",
              "      <td>On December 13, ISIS fighters recaptured the v...</td>\n",
              "      <td>NON_STATE_ACTOR_OVERTAKES_TER</td>\n",
              "    </tr>\n",
              "    <tr>\n",
              "      <th>4</th>\n",
              "      <td>5</td>\n",
              "      <td>Vice-President Mike Pence said Thursday that t...</td>\n",
              "      <td>AGREEMENT</td>\n",
              "    </tr>\n",
              "  </tbody>\n",
              "</table>\n",
              "</div>"
            ],
            "text/plain": [
              "   id  ...                        SubType\n",
              "0   1  ...                     AIR_STRIKE\n",
              "1   2  ...               NATURAL_DISASTER\n",
              "2   3  ...          FORCE_AGAINST_PROTEST\n",
              "3   4  ...  NON_STATE_ACTOR_OVERTAKES_TER\n",
              "4   5  ...                      AGREEMENT\n",
              "\n",
              "[5 rows x 3 columns]"
            ]
          },
          "metadata": {},
          "execution_count": 137
        }
      ]
    },
    {
      "cell_type": "code",
      "metadata": {
        "id": "NYPZ0vhTp-3l"
      },
      "source": [
        "# Remove Excess [Size:: ] from EoS\n",
        "def remove_size(text):\n",
        "\tresult = re.search(\"\\[size\", text)\n",
        "\tif result is not None:\n",
        "\t\ttext = text[:result.start()]\n",
        "\treturn text.strip()\n",
        "\n",
        "months = ['january', 'jan', 'feb', 'mar', 'apr', 'aug', 'sept', 'oct', 'nov', 'dec', 'feburary', 'february', 'march', 'april', 'may', 'june', 'july', 'august', 'september', 'october', 'november', 'december', 'on']\n",
        "def remove_months(text):\n",
        "    text = text.split()\n",
        "    text = [word for word in text if word.lower() not in set(months)]\n",
        "    text = ' '.join(text)\n",
        "    return text\n",
        "\n",
        "def remove_nums(text):\n",
        "    result = re.sub(r'[0-9+]', '', text)\n",
        "    return result\n",
        "\n",
        "def remove_comma(text):\n",
        "    result = re.sub(r',', '', text)\n",
        "    return result\n"
      ],
      "execution_count": null,
      "outputs": []
    },
    {
      "cell_type": "code",
      "metadata": {
        "id": "i_-nY0ktM08D"
      },
      "source": [
        "def text_cleaning(text):\n",
        "    text = remove_size(text)\n",
        "    text = remove_nums(text)\n",
        "    text = remove_months(text)\n",
        "    text = remove_comma(text)\n",
        "    return text.strip().lower()\n",
        "\n",
        "test_file['processed'] = test_file['EventSnippet'].apply(text_cleaning)"
      ],
      "execution_count": null,
      "outputs": []
    },
    {
      "cell_type": "code",
      "metadata": {
        "id": "nJtF0V3t7tTY",
        "colab": {
          "base_uri": "https://localhost:8080/"
        },
        "outputId": "e545da81-3185-4153-b644-d76532b2acae"
      },
      "source": [
        "lemmatizer = WordNetLemmatizer()\n",
        "from nltk import word_tokenize, WordNetLemmatizer\n",
        "from nltk.corpus import stopwords\n",
        "nltk.download('stopwords')\n",
        "def lemmatizing_headlines(text):\n",
        "    tokens = word_tokenize(text.lower())\n",
        "    tokens = [lemmatizer.lemmatize(word) for word in tokens if word not in set(stopwords.words('english'))]\n",
        "    return ' '.join(tokens).strip()\n",
        "\n",
        "test_file['processed'] = test_file['processed'].apply(lemmatizing_headlines)"
      ],
      "execution_count": null,
      "outputs": [
        {
          "output_type": "stream",
          "name": "stdout",
          "text": [
            "[nltk_data] Downloading package stopwords to /root/nltk_data...\n",
            "[nltk_data]   Package stopwords is already up-to-date!\n"
          ]
        }
      ]
    },
    {
      "cell_type": "code",
      "metadata": {
        "id": "QcMYPA8Y5gSt",
        "colab": {
          "base_uri": "https://localhost:8080/",
          "height": 362
        },
        "outputId": "36abddca-180f-40dc-d317-0a26b1260849"
      },
      "source": [
        "test_file.head()"
      ],
      "execution_count": null,
      "outputs": [
        {
          "output_type": "execute_result",
          "data": {
            "text/html": [
              "<div>\n",
              "<style scoped>\n",
              "    .dataframe tbody tr th:only-of-type {\n",
              "        vertical-align: middle;\n",
              "    }\n",
              "\n",
              "    .dataframe tbody tr th {\n",
              "        vertical-align: top;\n",
              "    }\n",
              "\n",
              "    .dataframe thead th {\n",
              "        text-align: right;\n",
              "    }\n",
              "</style>\n",
              "<table border=\"1\" class=\"dataframe\">\n",
              "  <thead>\n",
              "    <tr style=\"text-align: right;\">\n",
              "      <th></th>\n",
              "      <th>id</th>\n",
              "      <th>EventSnippet</th>\n",
              "      <th>SubType</th>\n",
              "      <th>processed</th>\n",
              "    </tr>\n",
              "  </thead>\n",
              "  <tbody>\n",
              "    <tr>\n",
              "      <th>0</th>\n",
              "      <td>1</td>\n",
              "      <td>The US warplanes pounded the village of Kashka...</td>\n",
              "      <td>AIR_STRIKE</td>\n",
              "      <td>u warplane pounded village kashkash southern p...</td>\n",
              "    </tr>\n",
              "    <tr>\n",
              "      <th>1</th>\n",
              "      <td>2</td>\n",
              "      <td>After a five-week drop of Covid-19 cases in Pu...</td>\n",
              "      <td>NATURAL_DISASTER</td>\n",
              "      <td>five-week drop covid- case punjab number peopl...</td>\n",
              "    </tr>\n",
              "    <tr>\n",
              "      <th>2</th>\n",
              "      <td>3</td>\n",
              "      <td>Officers brutally attacked and injured a peace...</td>\n",
              "      <td>FORCE_AGAINST_PROTEST</td>\n",
              "      <td>officer brutally attacked injured peaceful stu...</td>\n",
              "    </tr>\n",
              "    <tr>\n",
              "      <th>3</th>\n",
              "      <td>4</td>\n",
              "      <td>On December 13, ISIS fighters recaptured the v...</td>\n",
              "      <td>NON_STATE_ACTOR_OVERTAKES_TER</td>\n",
              "      <td>isi fighter recaptured village kashma syrian a...</td>\n",
              "    </tr>\n",
              "    <tr>\n",
              "      <th>4</th>\n",
              "      <td>5</td>\n",
              "      <td>Vice-President Mike Pence said Thursday that t...</td>\n",
              "      <td>AGREEMENT</td>\n",
              "      <td>vice-president mike penny said thursday mainly...</td>\n",
              "    </tr>\n",
              "  </tbody>\n",
              "</table>\n",
              "</div>"
            ],
            "text/plain": [
              "   id  ...                                          processed\n",
              "0   1  ...  u warplane pounded village kashkash southern p...\n",
              "1   2  ...  five-week drop covid- case punjab number peopl...\n",
              "2   3  ...  officer brutally attacked injured peaceful stu...\n",
              "3   4  ...  isi fighter recaptured village kashma syrian a...\n",
              "4   5  ...  vice-president mike penny said thursday mainly...\n",
              "\n",
              "[5 rows x 4 columns]"
            ]
          },
          "metadata": {},
          "execution_count": 141
        }
      ]
    },
    {
      "cell_type": "code",
      "metadata": {
        "colab": {
          "base_uri": "https://localhost:8080/"
        },
        "id": "bUA_b6LBe8jp",
        "outputId": "813d033a-2026-4277-eaf8-5e7728366e10"
      },
      "source": [
        "final_test_inputs, final_test_attention_masks = roberta_encode(list(test_file.processed), max_length)"
      ],
      "execution_count": null,
      "outputs": [
        {
          "output_type": "stream",
          "name": "stderr",
          "text": [
            "  0%|          | 0/1019 [00:00<?, ?it/s]/usr/local/lib/python3.7/dist-packages/transformers/tokenization_utils_base.py:2217: FutureWarning: The `pad_to_max_length` argument is deprecated and will be removed in a future version, use `padding=True` or `padding='longest'` to pad to the longest sequence in the batch, or use `padding='max_length'` to pad to a max length. In this case, you can give a specific length with `max_length` (e.g. `max_length=45`) or leave max_length to None to pad to the maximal input size of the model (e.g. 512 for Bert).\n",
            "  FutureWarning,\n",
            "100%|██████████| 1019/1019 [00:00<00:00, 1920.13it/s]\n"
          ]
        }
      ]
    },
    {
      "cell_type": "code",
      "metadata": {
        "id": "hUTHeRkL5gWn"
      },
      "source": [
        "y_preds = np.argmax(model.predict([final_test_inputs, final_test_attention_masks]), axis=1)"
      ],
      "execution_count": null,
      "outputs": []
    },
    {
      "cell_type": "code",
      "metadata": {
        "id": "QBrBVd6S5gdx",
        "colab": {
          "base_uri": "https://localhost:8080/"
        },
        "outputId": "28d6c9f0-9c26-431e-aad4-98dc92736b47"
      },
      "source": [
        "y_preds"
      ],
      "execution_count": null,
      "outputs": [
        {
          "output_type": "execute_result",
          "data": {
            "text/plain": [
              "array([ 4, 10,  8, ...,  5, 13, 15])"
            ]
          },
          "metadata": {},
          "execution_count": 146
        }
      ]
    },
    {
      "cell_type": "code",
      "metadata": {
        "id": "E8xBCXs45gja"
      },
      "source": [
        "test_file['pred-labels'] = y_preds"
      ],
      "execution_count": null,
      "outputs": []
    },
    {
      "cell_type": "code",
      "metadata": {
        "id": "vwNUIHoe86O6",
        "colab": {
          "base_uri": "https://localhost:8080/",
          "height": 449
        },
        "outputId": "8632756a-7f23-42f7-b82e-96505dd34cd9"
      },
      "source": [
        "test_file.head()"
      ],
      "execution_count": null,
      "outputs": [
        {
          "output_type": "execute_result",
          "data": {
            "text/html": [
              "<div>\n",
              "<style scoped>\n",
              "    .dataframe tbody tr th:only-of-type {\n",
              "        vertical-align: middle;\n",
              "    }\n",
              "\n",
              "    .dataframe tbody tr th {\n",
              "        vertical-align: top;\n",
              "    }\n",
              "\n",
              "    .dataframe thead th {\n",
              "        text-align: right;\n",
              "    }\n",
              "</style>\n",
              "<table border=\"1\" class=\"dataframe\">\n",
              "  <thead>\n",
              "    <tr style=\"text-align: right;\">\n",
              "      <th></th>\n",
              "      <th>id</th>\n",
              "      <th>EventSnippet</th>\n",
              "      <th>SubType</th>\n",
              "      <th>processed</th>\n",
              "      <th>pred-labels</th>\n",
              "    </tr>\n",
              "  </thead>\n",
              "  <tbody>\n",
              "    <tr>\n",
              "      <th>0</th>\n",
              "      <td>1</td>\n",
              "      <td>The US warplanes pounded the village of Kashka...</td>\n",
              "      <td>AIR_STRIKE</td>\n",
              "      <td>u warplane pounded village kashkash southern p...</td>\n",
              "      <td>4</td>\n",
              "    </tr>\n",
              "    <tr>\n",
              "      <th>1</th>\n",
              "      <td>2</td>\n",
              "      <td>After a five-week drop of Covid-19 cases in Pu...</td>\n",
              "      <td>NATURAL_DISASTER</td>\n",
              "      <td>five-week drop covid- case punjab number peopl...</td>\n",
              "      <td>10</td>\n",
              "    </tr>\n",
              "    <tr>\n",
              "      <th>2</th>\n",
              "      <td>3</td>\n",
              "      <td>Officers brutally attacked and injured a peace...</td>\n",
              "      <td>FORCE_AGAINST_PROTEST</td>\n",
              "      <td>officer brutally attacked injured peaceful stu...</td>\n",
              "      <td>8</td>\n",
              "    </tr>\n",
              "    <tr>\n",
              "      <th>3</th>\n",
              "      <td>4</td>\n",
              "      <td>On December 13, ISIS fighters recaptured the v...</td>\n",
              "      <td>NON_STATE_ACTOR_OVERTAKES_TER</td>\n",
              "      <td>isi fighter recaptured village kashma syrian a...</td>\n",
              "      <td>15</td>\n",
              "    </tr>\n",
              "    <tr>\n",
              "      <th>4</th>\n",
              "      <td>5</td>\n",
              "      <td>Vice-President Mike Pence said Thursday that t...</td>\n",
              "      <td>AGREEMENT</td>\n",
              "      <td>vice-president mike penny said thursday mainly...</td>\n",
              "      <td>23</td>\n",
              "    </tr>\n",
              "  </tbody>\n",
              "</table>\n",
              "</div>"
            ],
            "text/plain": [
              "   id  ... pred-labels\n",
              "0   1  ...           4\n",
              "1   2  ...          10\n",
              "2   3  ...           8\n",
              "3   4  ...          15\n",
              "4   5  ...          23\n",
              "\n",
              "[5 rows x 5 columns]"
            ]
          },
          "metadata": {},
          "execution_count": 148
        }
      ]
    },
    {
      "cell_type": "code",
      "metadata": {
        "id": "8ncNYlVZ88xZ"
      },
      "source": [
        "def num_to_text_labels(num):\n",
        "    text = event_types_dict_inverse[num]\n",
        "    return text\n",
        "\n",
        "test_file['text-labels'] = test_file['pred-labels'].apply(num_to_text_labels)"
      ],
      "execution_count": null,
      "outputs": []
    },
    {
      "cell_type": "code",
      "metadata": {
        "id": "t7sHoDO39SyD"
      },
      "source": [
        "correct_format = ['ABDUCT_DISSAP',\n",
        "'AGREEMENT',\n",
        "'AIR_STRIKE',\n",
        "'ARMED_CLASH',\n",
        "'ARREST',\n",
        "'ART_MISS_ATTACK',\n",
        "'ATTACK',\n",
        "'CHANGE_TO_GROUP_ACT',\n",
        "'CHEM_WEAP',\n",
        "'DISR_WEAP',\n",
        "'FORCE_AGAINST_PROTEST',\n",
        "'GOV_REGAINS_TERIT',\n",
        "'GRENADE',\n",
        "'HQ_ESTABLISHED',\n",
        "'MOB_VIOL',\n",
        "'NON_STATE_ACTOR_OVERTAKES_TER',\n",
        "'NON_VIOL_TERRIT_TRANSFER',\n",
        "'OTHER',\n",
        "'PEACE_PROTEST',\n",
        "'PROPERTY_DISTRUCT',\n",
        "'PROTEST_WITH_INTER',\n",
        "'REM_EXPLOS',\n",
        "'SEX_VIOL',\n",
        "'SUIC_BOMB',\n",
        "'VIOL_DEMONSTR']"
      ],
      "execution_count": null,
      "outputs": []
    },
    {
      "cell_type": "code",
      "metadata": {
        "id": "LLd-mAd996SJ"
      },
      "source": [
        "dict_list = list(event_types_dict.keys())"
      ],
      "execution_count": null,
      "outputs": []
    },
    {
      "cell_type": "code",
      "metadata": {
        "id": "s2RFOLY8-YK6"
      },
      "source": [
        "dict_list\n",
        "\n",
        "correct_format_dict = {'Abduction/forced disappearance':'ABDUCT_DISSAP',\n",
        "                       'Agreement': 'AGREEMENT',\n",
        "                        'Air/drone strike' : 'AIR_STRIKE',\n",
        "                         'Armed clash' : 'ARMED_CLASH',\n",
        "                       'Arrests' : 'ARREST',\n",
        "                       'Attack' : 'ATTACK',\n",
        "                       'Change to group/activity' : 'CHANGE_TO_GROUP_ACT',\n",
        "                       'Chemical weapon' : 'CHEM_WEAP',\n",
        "                       'Disrupted weapons use' : 'DISR_WEAP',\n",
        "                       'Excessive force against protesters' : 'FORCE_AGAINST_PROTEST',\n",
        "                       'Government regains territory' : 'GOV_REGAINS_TERIT',\n",
        "                       'Grenade' : 'GRENADE',\n",
        "                        'Headquarters or base established' : 'HQ_ESTABLISHED',\n",
        "                       'Looting/property destruction' : 'PROPERTY_DISTRUCT',\n",
        "                       'Mob violence' : 'MOB_VIOL',\n",
        "                       'Non-state actor overtakes territory' : 'NON_STATE_ACTOR_OVERTAKES_TER',\n",
        "                       'Non-violent transfer of territory' : 'NON_VIOL_TERRIT_TRANSFER',\n",
        "                       'Other' : 'OTHER',\n",
        "                        'Peaceful protest' : 'PEACE_PROTEST',\n",
        "                       'Protest with intervention' : 'PROTEST_WITH_INTER',\n",
        "                       'Remote explosive/landmine/IED' : 'REM_EXPLOS',\n",
        "                       'Sexual violence' : 'SEX_VIOL',\n",
        "                       'Shelling/artillery/missile attack' : 'ART_MISS_ATTACK',\n",
        "                       'Suicide bomb' : 'SUIC_BOMB',\n",
        "                        'Violent demonstration' : 'VIOL_DEMONSTR'\n",
        "                       }"
      ],
      "execution_count": null,
      "outputs": []
    },
    {
      "cell_type": "code",
      "metadata": {
        "id": "YP9LGH-M-naJ",
        "colab": {
          "base_uri": "https://localhost:8080/"
        },
        "outputId": "144785d2-c3dc-42bf-f076-fd66d26159fb"
      },
      "source": [
        "correct_format_dict"
      ],
      "execution_count": null,
      "outputs": [
        {
          "output_type": "execute_result",
          "data": {
            "text/plain": [
              "{'Abduction/forced disappearance': 'ABDUCT_DISSAP',\n",
              " 'Agreement': 'AGREEMENT',\n",
              " 'Air/drone strike': 'AIR_STRIKE',\n",
              " 'Armed clash': 'ARMED_CLASH',\n",
              " 'Arrests': 'ARREST',\n",
              " 'Attack': 'ATTACK',\n",
              " 'Change to group/activity': 'CHANGE_TO_GROUP_ACT',\n",
              " 'Chemical weapon': 'CHEM_WEAP',\n",
              " 'Disrupted weapons use': 'DISR_WEAP',\n",
              " 'Excessive force against protesters': 'FORCE_AGAINST_PROTEST',\n",
              " 'Government regains territory': 'GOV_REGAINS_TERIT',\n",
              " 'Grenade': 'GRENADE',\n",
              " 'Headquarters or base established': 'HQ_ESTABLISHED',\n",
              " 'Looting/property destruction': 'PROPERTY_DISTRUCT',\n",
              " 'Mob violence': 'MOB_VIOL',\n",
              " 'Non-state actor overtakes territory': 'NON_STATE_ACTOR_OVERTAKES_TER',\n",
              " 'Non-violent transfer of territory': 'NON_VIOL_TERRIT_TRANSFER',\n",
              " 'Other': 'OTHER',\n",
              " 'Peaceful protest': 'PEACE_PROTEST',\n",
              " 'Protest with intervention': 'PROTEST_WITH_INTER',\n",
              " 'Remote explosive/landmine/IED': 'REM_EXPLOS',\n",
              " 'Sexual violence': 'SEX_VIOL',\n",
              " 'Shelling/artillery/missile attack': 'ART_MISS_ATTACK',\n",
              " 'Suicide bomb': 'SUIC_BOMB',\n",
              " 'Violent demonstration': 'VIOL_DEMONSTR'}"
            ]
          },
          "metadata": {},
          "execution_count": 153
        }
      ]
    },
    {
      "cell_type": "code",
      "metadata": {
        "id": "dc1nqcY1-zeJ"
      },
      "source": [
        "def correct_format(text):\n",
        "    correct_label = correct_format_dict[text]\n",
        "    return correct_label\n",
        "\n",
        "test_file['correct-labels'] = test_file['text-labels'].apply(correct_format)"
      ],
      "execution_count": null,
      "outputs": []
    },
    {
      "cell_type": "code",
      "metadata": {
        "id": "Dq7ieqbkBxVY",
        "colab": {
          "base_uri": "https://localhost:8080/",
          "height": 660
        },
        "outputId": "e0a5ef8b-f28e-4781-f7b3-abe9aa123bfa"
      },
      "source": [
        "test_file.head()"
      ],
      "execution_count": null,
      "outputs": [
        {
          "output_type": "execute_result",
          "data": {
            "text/html": [
              "<div>\n",
              "<style scoped>\n",
              "    .dataframe tbody tr th:only-of-type {\n",
              "        vertical-align: middle;\n",
              "    }\n",
              "\n",
              "    .dataframe tbody tr th {\n",
              "        vertical-align: top;\n",
              "    }\n",
              "\n",
              "    .dataframe thead th {\n",
              "        text-align: right;\n",
              "    }\n",
              "</style>\n",
              "<table border=\"1\" class=\"dataframe\">\n",
              "  <thead>\n",
              "    <tr style=\"text-align: right;\">\n",
              "      <th></th>\n",
              "      <th>id</th>\n",
              "      <th>EventSnippet</th>\n",
              "      <th>SubType</th>\n",
              "      <th>processed</th>\n",
              "      <th>pred-labels</th>\n",
              "      <th>text-labels</th>\n",
              "      <th>correct-labels</th>\n",
              "    </tr>\n",
              "  </thead>\n",
              "  <tbody>\n",
              "    <tr>\n",
              "      <th>0</th>\n",
              "      <td>1</td>\n",
              "      <td>The US warplanes pounded the village of Kashka...</td>\n",
              "      <td>AIR_STRIKE</td>\n",
              "      <td>u warplane pounded village kashkash southern p...</td>\n",
              "      <td>4</td>\n",
              "      <td>Air/drone strike</td>\n",
              "      <td>AIR_STRIKE</td>\n",
              "    </tr>\n",
              "    <tr>\n",
              "      <th>1</th>\n",
              "      <td>2</td>\n",
              "      <td>After a five-week drop of Covid-19 cases in Pu...</td>\n",
              "      <td>NATURAL_DISASTER</td>\n",
              "      <td>five-week drop covid- case punjab number peopl...</td>\n",
              "      <td>10</td>\n",
              "      <td>Other</td>\n",
              "      <td>OTHER</td>\n",
              "    </tr>\n",
              "    <tr>\n",
              "      <th>2</th>\n",
              "      <td>3</td>\n",
              "      <td>Officers brutally attacked and injured a peace...</td>\n",
              "      <td>FORCE_AGAINST_PROTEST</td>\n",
              "      <td>officer brutally attacked injured peaceful stu...</td>\n",
              "      <td>8</td>\n",
              "      <td>Excessive force against protesters</td>\n",
              "      <td>FORCE_AGAINST_PROTEST</td>\n",
              "    </tr>\n",
              "    <tr>\n",
              "      <th>3</th>\n",
              "      <td>4</td>\n",
              "      <td>On December 13, ISIS fighters recaptured the v...</td>\n",
              "      <td>NON_STATE_ACTOR_OVERTAKES_TER</td>\n",
              "      <td>isi fighter recaptured village kashma syrian a...</td>\n",
              "      <td>15</td>\n",
              "      <td>Non-state actor overtakes territory</td>\n",
              "      <td>NON_STATE_ACTOR_OVERTAKES_TER</td>\n",
              "    </tr>\n",
              "    <tr>\n",
              "      <th>4</th>\n",
              "      <td>5</td>\n",
              "      <td>Vice-President Mike Pence said Thursday that t...</td>\n",
              "      <td>AGREEMENT</td>\n",
              "      <td>vice-president mike penny said thursday mainly...</td>\n",
              "      <td>23</td>\n",
              "      <td>Agreement</td>\n",
              "      <td>AGREEMENT</td>\n",
              "    </tr>\n",
              "  </tbody>\n",
              "</table>\n",
              "</div>"
            ],
            "text/plain": [
              "   id  ...                 correct-labels\n",
              "0   1  ...                     AIR_STRIKE\n",
              "1   2  ...                          OTHER\n",
              "2   3  ...          FORCE_AGAINST_PROTEST\n",
              "3   4  ...  NON_STATE_ACTOR_OVERTAKES_TER\n",
              "4   5  ...                      AGREEMENT\n",
              "\n",
              "[5 rows x 7 columns]"
            ]
          },
          "metadata": {},
          "execution_count": 155
        }
      ]
    },
    {
      "cell_type": "code",
      "metadata": {
        "id": "HFsNrcUyCXTo"
      },
      "source": [
        "test_file.to_csv('final.txt', sep='\\t', index=False)"
      ],
      "execution_count": null,
      "outputs": []
    },
    {
      "cell_type": "code",
      "metadata": {
        "id": "mYJXvXfQCu9w"
      },
      "source": [
        "trrr = pd.read_csv('final.tsv', sep='\\t')"
      ],
      "execution_count": null,
      "outputs": []
    },
    {
      "cell_type": "code",
      "metadata": {
        "id": "veIiCpY3C6X4"
      },
      "source": [
        "trrr.head()"
      ],
      "execution_count": null,
      "outputs": []
    },
    {
      "cell_type": "code",
      "metadata": {
        "id": "oWAP5tcxHdy7",
        "colab": {
          "base_uri": "https://localhost:8080/"
        },
        "outputId": "515ca537-a595-485c-fb8a-a8a99d8c398b"
      },
      "source": [
        "from sklearn.metrics import classification_report\n",
        "\n",
        "print(classification_report(y_true= list(test_file.SubType), y_pred= list(test_file['correct-labels'])))"
      ],
      "execution_count": null,
      "outputs": [
        {
          "output_type": "stream",
          "name": "stdout",
          "text": [
            "                               precision    recall  f1-score   support\n",
            "\n",
            "                ABDUCT_DISSAP       0.57      0.85      0.68        20\n",
            "                    AGREEMENT       1.00      0.74      0.85        31\n",
            "                   AIR_STRIKE       0.86      0.67      0.75        36\n",
            "                  ARMED_CLASH       0.76      0.64      0.69        66\n",
            "                       ARREST       0.76      0.65      0.70        34\n",
            "              ART_MISS_ATTACK       0.60      0.89      0.72        36\n",
            "                       ATTACK       0.50      0.81      0.62        27\n",
            "                       ATTRIB       0.00      0.00      0.00        28\n",
            "          CHANGE_TO_GROUP_ACT       0.49      0.60      0.54        30\n",
            "                    CHEM_WEAP       0.00      0.00      0.00        37\n",
            "                        DIPLO       0.00      0.00      0.00        44\n",
            "                    DISR_WEAP       0.92      0.79      0.85        58\n",
            "        FORCE_AGAINST_PROTEST       0.38      0.61      0.47        23\n",
            "            GOV_REGAINS_TERIT       0.33      0.05      0.09        38\n",
            "                      GRENADE       0.75      0.94      0.83        48\n",
            "               HQ_ESTABLISHED       0.76      1.00      0.86        22\n",
            "            MAN_MADE_DISASTER       0.00      0.00      0.00        52\n",
            "                     MOB_VIOL       0.23      0.82      0.36        17\n",
            "             NATURAL_DISASTER       0.00      0.00      0.00        37\n",
            "NON_STATE_ACTOR_OVERTAKES_TER       0.23      0.42      0.30        24\n",
            "     NON_VIOL_TERRIT_TRANSFER       0.33      0.86      0.47        21\n",
            "                    ORG_CRIME       0.00      0.00      0.00        29\n",
            "                        OTHER       0.05      0.62      0.09         8\n",
            "                PEACE_PROTEST       0.78      0.74      0.76        57\n",
            "            PROPERTY_DISTRUCT       0.18      0.33      0.24        21\n",
            "           PROTEST_WITH_INTER       0.52      0.73      0.60        22\n",
            "                   REM_EXPLOS       0.58      0.81      0.67        36\n",
            "                     SEX_VIOL       0.94      0.74      0.83        23\n",
            "                    SUIC_BOMB       0.88      0.93      0.90        41\n",
            "                VIOL_DEMONSTR       0.70      0.49      0.58        53\n",
            "\n",
            "                     accuracy                           0.54      1019\n",
            "                    macro avg       0.47      0.56      0.48      1019\n",
            "                 weighted avg       0.51      0.54      0.50      1019\n",
            "\n"
          ]
        },
        {
          "output_type": "stream",
          "name": "stderr",
          "text": [
            "/usr/local/lib/python3.7/dist-packages/sklearn/metrics/_classification.py:1272: UndefinedMetricWarning: Precision and F-score are ill-defined and being set to 0.0 in labels with no predicted samples. Use `zero_division` parameter to control this behavior.\n",
            "  _warn_prf(average, modifier, msg_start, len(result))\n"
          ]
        }
      ]
    }
  ]
}